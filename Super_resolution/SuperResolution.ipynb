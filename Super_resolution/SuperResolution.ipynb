{
 "cells": [
  {
   "cell_type": "code",
   "execution_count": 1,
   "id": "be62da22",
   "metadata": {},
   "outputs": [
    {
     "data": {
      "text/plain": [
       "'\\n!wget http://vis-www.cs.umass.edu/lfw/lfw-deepfunneled.tgz\\n!tar xf lfw-deepfunneled.tgz\\n!mkdir lfw-deepfunneled/train\\n!mkdir lfw-deepfunneled/test\\n!mv lfw-deepfunneled/[A-W]* lfw-deepfunneled/train\\n!mv lfw-deepfunneled/[X-Z]* lfw-deepfunneled/test\\n'"
      ]
     },
     "execution_count": 1,
     "metadata": {},
     "output_type": "execute_result"
    }
   ],
   "source": [
    "\"\"\"\n",
    "!wget http://vis-www.cs.umass.edu/lfw/lfw-deepfunneled.tgz\n",
    "!tar xf lfw-deepfunneled.tgz\n",
    "!mkdir lfw-deepfunneled/train\n",
    "!mkdir lfw-deepfunneled/test\n",
    "!mv lfw-deepfunneled/[A-W]* lfw-deepfunneled/train\n",
    "!mv lfw-deepfunneled/[X-Z]* lfw-deepfunneled/test\n",
    "\"\"\""
   ]
  },
  {
   "cell_type": "code",
   "execution_count": 2,
   "id": "45a30ffd",
   "metadata": {},
   "outputs": [],
   "source": [
    "import torch\n",
    "from torch import nn,optim\n",
    "from torch.utils.data import Dataset,TensorDataset,DataLoader\n",
    "import tqdm\n",
    "\n",
    "import numpy as np\n",
    "\n",
    "from torchvision.datasets import ImageFolder\n",
    "from torchvision import transforms\n",
    "from torchvision.utils import save_image\n",
    "import time\n",
    "import math"
   ]
  },
  {
   "cell_type": "code",
   "execution_count": 3,
   "id": "d09ec5eb",
   "metadata": {},
   "outputs": [],
   "source": [
    "#ダウンサイズ用のイメージフォルダクラス\n",
    "class DownSizedPairImageFolder(ImageFolder):\n",
    "    def __init__(self,root,transform=None,large_size = 128,small_size = 32,**kwds):\n",
    "        super().__init__(root,transform = transform, **kwds)\n",
    "        self.large_resizer = transforms.Resize(large_size)\n",
    "        self.small_resizer = transforms.Resize(small_size)\n",
    "\n",
    "    def __getitem__(self,index):\n",
    "        path,_=self.imgs[index]\n",
    "        img=self.loader(path)\n",
    "\n",
    "        large_img=self.large_resizer(img)\n",
    "        small_img=self.small_resizer(img)\n",
    "\n",
    "        if self.transform is not None:\n",
    "            large_img=self.transform(large_img)\n",
    "            small_img=self.transform(small_img)\n",
    "\n",
    "        return small_img, large_img"
   ]
  },
  {
   "cell_type": "code",
   "execution_count": 4,
   "id": "c8b5b097",
   "metadata": {},
   "outputs": [],
   "source": [
    "#データローダーの準備\n",
    "train_data=DownSizedPairImageFolder(\"./lfw-deepfunneled/train\", transform = transforms.ToTensor())\n",
    "    \n",
    "test_data=DownSizedPairImageFolder(\"./lfw-deepfunneled/test\", transform = transforms.ToTensor())        \n",
    "\n",
    "batch_size=32\n",
    "train_loader=DataLoader(train_data,batch_size = batch_size,shuffle = True, num_workers = 4)\n",
    "test_loader=DataLoader(test_data,batch_size = batch_size,shuffle = True, num_workers = 4)"
   ]
  },
  {
   "cell_type": "code",
   "execution_count": 5,
   "id": "3347b841",
   "metadata": {},
   "outputs": [],
   "source": [
    "net=nn.Sequential(\n",
    "    nn.Conv2d(3,256,4,stride=2,padding=1),\n",
    "    nn.ReLU(),\n",
    "    nn.BatchNorm2d(256),\n",
    "    nn.Conv2d(256,512,4,stride=2,padding=1),\n",
    "    nn.ReLU(),\n",
    "    nn.BatchNorm2d(512),\n",
    "    nn.ConvTranspose2d(512,256,4,stride=2,padding=1),\n",
    "    nn.ReLU(),\n",
    "    nn.BatchNorm2d(256),\n",
    "    nn.ConvTranspose2d(256,128,4,stride=2,padding=1),\n",
    "    nn.ReLU(),\n",
    "    nn.BatchNorm2d(128),\n",
    "    nn.ConvTranspose2d(128,64,4,stride=2,padding=1),\n",
    "    nn.ReLU(),\n",
    "    nn.BatchNorm2d(64),\n",
    "    nn.ConvTranspose2d(64,3,4,stride=2,padding=1)\n",
    "    )"
   ]
  },
  {
   "cell_type": "code",
   "execution_count": 6,
   "id": "a5ce5ef0",
   "metadata": {},
   "outputs": [],
   "source": [
    "dev=\"cuda:0\"\n",
    "net.to(dev)\n",
    "\n",
    "def psnr(mse,max_v = 1.0):\n",
    "    return 10*math.log10(max_v**2/mse)"
   ]
  },
  {
   "cell_type": "code",
   "execution_count": 7,
   "id": "c56c9592",
   "metadata": {},
   "outputs": [],
   "source": [
    "def eval_net(net,data_loader,device = dev):\n",
    "    net.eval()\n",
    "    ys = []\n",
    "    ypreds = []\n",
    "    for x,y in data_loader:\n",
    "        x = x.to(device)\n",
    "        y = y.to(device)\n",
    "        with torch.no_grad():\n",
    "            y_pred = net(x)\n",
    "        ys.append(y)\n",
    "        ypreds.append(y_pred)\n",
    "    ys = torch.cat(ys)\n",
    "    ypreds = torch.cat(ypreds)\n",
    "    score = nn.functional.mse_loss(ypreds,ys).item()\n",
    "    return score"
   ]
  },
  {
   "cell_type": "code",
   "execution_count": 8,
   "id": "0e0d1edb",
   "metadata": {},
   "outputs": [],
   "source": [
    "import os\n",
    "if not os.path.exists(\"resolution-data\"):\n",
    "    os.mkdir(\"resolution-data\")\n",
    "\n",
    "#from PIL import Image\n",
    "#import glob    \n",
    "random_test_loader = DataLoader(test_data,batch_size = 4, shuffle = 4)\n",
    "it = iter(random_test_loader)\n",
    "x,y = next(it)\n",
    "\n",
    "\n",
    "def train_net(net,train_loader,test_loader,optimizer_cls = optim.Adam,loss_fn = nn.MSELoss(),n_iter = 10,device = dev):\n",
    "    train_losses = []\n",
    "    train_acc = []\n",
    "    val_acc = []\n",
    "    optimizer = optimizer_cls(net.parameters())\n",
    "    for epoch in range(n_iter):\n",
    "        running_loss = 0.0\n",
    "        net.train()\n",
    "        n=0\n",
    "        score=0\n",
    "        for i , (xx,yy) in tqdm.tqdm(enumerate(train_loader),total=len(train_loader)):\n",
    "            xx = xx.to(device)\n",
    "            yy = yy.to(device)\n",
    "            y_pred = net(xx)\n",
    "            loss = loss_fn(y_pred,yy)\n",
    "            optimizer.zero_grad()\n",
    "            loss.backward()\n",
    "            optimizer.step()\n",
    "            running_loss += loss.item()\n",
    "            n += len(xx)\n",
    "        train_losses.append(running_loss/len(train_loader))\n",
    "        val_acc.append(eval_net(net,test_loader,device))\n",
    "        print(epoch,train_losses[-1],psnr(train_losses[-1]),psnr(val_acc[-1]),flush=True)\n",
    "        \"\"\"\n",
    "        yp = net(x.to(dev)).to(\"cpu\")\n",
    "        save_image(torch.cat([y,yp],0), f'./resolution-data/{epoch}.jpg', nrow = 4)\n",
    "        \"\"\""
   ]
  },
  {
   "cell_type": "code",
   "execution_count": 9,
   "id": "cef7b1d9",
   "metadata": {},
   "outputs": [
    {
     "name": "stderr",
     "output_type": "stream",
     "text": [
      "100%|██████████| 409/409 [00:09<00:00, 42.26it/s]\n"
     ]
    },
    {
     "name": "stdout",
     "output_type": "stream",
     "text": [
      "0 0.04507972321798683 13.460187591137311 21.004050743272327\n"
     ]
    },
    {
     "name": "stderr",
     "output_type": "stream",
     "text": [
      "100%|██████████| 409/409 [00:09<00:00, 42.11it/s]\n"
     ]
    },
    {
     "name": "stdout",
     "output_type": "stream",
     "text": [
      "1 0.005329560779358436 22.73308580647135 23.540606817573067\n"
     ]
    },
    {
     "name": "stderr",
     "output_type": "stream",
     "text": [
      "100%|██████████| 409/409 [00:09<00:00, 42.45it/s]\n"
     ]
    },
    {
     "name": "stdout",
     "output_type": "stream",
     "text": [
      "2 0.004018978975157648 23.958842657653925 24.422237570796533\n"
     ]
    },
    {
     "name": "stderr",
     "output_type": "stream",
     "text": [
      "100%|██████████| 409/409 [00:09<00:00, 42.10it/s]\n"
     ]
    },
    {
     "name": "stdout",
     "output_type": "stream",
     "text": [
      "3 0.00345408890913252 24.61666487773572 25.512737846621768\n"
     ]
    },
    {
     "name": "stderr",
     "output_type": "stream",
     "text": [
      "100%|██████████| 409/409 [00:09<00:00, 42.10it/s]\n"
     ]
    },
    {
     "name": "stdout",
     "output_type": "stream",
     "text": [
      "4 0.0032383495222203305 24.896762786896613 25.960164557959263\n"
     ]
    },
    {
     "name": "stderr",
     "output_type": "stream",
     "text": [
      "100%|██████████| 409/409 [00:09<00:00, 41.89it/s]\n"
     ]
    },
    {
     "name": "stdout",
     "output_type": "stream",
     "text": [
      "5 0.002989008495570468 25.244728505766005 25.79718299721562\n"
     ]
    },
    {
     "name": "stderr",
     "output_type": "stream",
     "text": [
      "100%|██████████| 409/409 [00:09<00:00, 41.55it/s]\n"
     ]
    },
    {
     "name": "stdout",
     "output_type": "stream",
     "text": [
      "6 0.002877220074238579 25.410269183070817 25.700847238034772\n"
     ]
    },
    {
     "name": "stderr",
     "output_type": "stream",
     "text": [
      "100%|██████████| 409/409 [00:09<00:00, 41.58it/s]\n"
     ]
    },
    {
     "name": "stdout",
     "output_type": "stream",
     "text": [
      "7 0.0028052504725462795 25.520283558023642 25.688415407346987\n"
     ]
    },
    {
     "name": "stderr",
     "output_type": "stream",
     "text": [
      "100%|██████████| 409/409 [00:09<00:00, 41.65it/s]\n"
     ]
    },
    {
     "name": "stdout",
     "output_type": "stream",
     "text": [
      "8 0.002684663395422413 25.711101586328265 26.44840638280737\n"
     ]
    },
    {
     "name": "stderr",
     "output_type": "stream",
     "text": [
      "100%|██████████| 409/409 [00:09<00:00, 41.53it/s]\n"
     ]
    },
    {
     "name": "stdout",
     "output_type": "stream",
     "text": [
      "9 0.002657028075938357 25.75603856519086 26.114822450045352\n"
     ]
    },
    {
     "data": {
      "text/plain": [
       "\"\\nfiles = sorted(glob.glob('./resolution-data/*.jpg'))  \\nimages = list(map(lambda file : Image.open(file) , files))\\nimages[0].save('Super_resolving_process.gif' , save_all = True , append_images = images[1:] , duration = 400 , loop = 0)\\n\""
      ]
     },
     "execution_count": 9,
     "metadata": {},
     "output_type": "execute_result"
    }
   ],
   "source": [
    "train_net(net,train_loader,test_loader,device = dev)\n",
    "\n",
    "bl_recon = nn.functional.interpolate(x,128,mode = \"bilinear\", align_corners = True)\n",
    "yp = net(x.to(dev)).to(\"cpu\")\n",
    "\n",
    "save_image(torch.cat([y,bl_recon,yp],0),\"upscale.jpg\",nrow = 4)\n",
    "\"\"\"\n",
    "files = sorted(glob.glob('./resolution-data/*.jpg'))  \n",
    "images = list(map(lambda file : Image.open(file) , files))\n",
    "images[0].save('Super_resolving_process.gif' , save_all = True , append_images = images[1:] , duration = 400 , loop = 0)\n",
    "\"\"\""
   ]
  }
 ],
 "metadata": {
  "kernelspec": {
   "display_name": "Python 3",
   "language": "python",
   "name": "python3"
  },
  "language_info": {
   "codemirror_mode": {
    "name": "ipython",
    "version": 3
   },
   "file_extension": ".py",
   "mimetype": "text/x-python",
   "name": "python",
   "nbconvert_exporter": "python",
   "pygments_lexer": "ipython3",
   "version": "3.8.3"
  }
 },
 "nbformat": 4,
 "nbformat_minor": 5
}

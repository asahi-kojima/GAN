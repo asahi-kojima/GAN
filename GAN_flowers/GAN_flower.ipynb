{
 "cells": [
  {
   "cell_type": "code",
   "execution_count": 1,
   "id": "e1cf8d87-f772-447b-a039-8a3b62d6ba88",
   "metadata": {},
   "outputs": [],
   "source": [
    "import torch\n",
    "from torch import nn,optim\n",
    "from torch.utils.data import Dataset,TensorDataset,DataLoader\n",
    "import tqdm\n",
    "\n",
    "import numpy as np\n",
    "\n",
    "from torchvision.datasets import ImageFolder\n",
    "from torchvision import transforms\n",
    "from torchvision.utils import save_image\n",
    "import time"
   ]
  },
  {
   "cell_type": "markdown",
   "id": "45538953-b14f-450a-b720-a7395b81c9bd",
   "metadata": {},
   "source": [
    "### imageの準備"
   ]
  },
  {
   "cell_type": "code",
   "execution_count": 2,
   "id": "a1b477d5-7972-4bab-8d46-86cfa603f4ad",
   "metadata": {},
   "outputs": [
    {
     "name": "stdout",
     "output_type": "stream",
     "text": [
      "--2021-06-19 20:50:52--  http://www.robots.ox.ac.uk/~vgg/data/flowers/102/102flowers.tgz\n",
      "www.robots.ox.ac.uk (www.robots.ox.ac.uk) をDNSに問いあわせています... 129.67.94.2\n",
      "www.robots.ox.ac.uk (www.robots.ox.ac.uk)|129.67.94.2|:80 に接続しています... 接続しました。\n",
      "HTTP による接続要求を送信しました、応答を待っています... 301 Moved Permanently\n",
      "場所: https://www.robots.ox.ac.uk/~vgg/data/flowers/102/102flowers.tgz [続く]\n",
      "--2021-06-19 20:50:53--  https://www.robots.ox.ac.uk/~vgg/data/flowers/102/102flowers.tgz\n",
      "www.robots.ox.ac.uk (www.robots.ox.ac.uk)|129.67.94.2|:443 に接続しています... 接続しました。\n",
      "HTTP による接続要求を送信しました、応答を待っています... 200 OK\n",
      "長さ: 344862509 (329M) [application/x-gzip]\n",
      "`102flowers.tgz' に保存中\n",
      "\n",
      "102flowers.tgz      100%[===================>] 328.89M  3.91MB/s    in 1m 59s  \n",
      "\n",
      "2021-06-19 20:52:52 (2.77 MB/s) - `102flowers.tgz' へ保存完了 [344862509/344862509]\n",
      "\n"
     ]
    }
   ],
   "source": [
    "!wget http://www.robots.ox.ac.uk/~vgg/data/flowers/102/102flowers.tgz\n",
    "!tar xf 102flowers.tgz\n",
    "!mkdir oxford-102\n",
    "!mkdir oxford-102/jpg\n",
    "!mv jpg/*.jpg oxford-102/jpg"
   ]
  },
  {
   "cell_type": "code",
   "execution_count": 3,
   "id": "cc077f52-9e57-45fb-80c4-e4144ba49665",
   "metadata": {},
   "outputs": [],
   "source": [
    "img_data = ImageFolder(\"./oxford-102/\",\n",
    "                     transform=transforms.Compose([transforms.Resize(80),transforms.CenterCrop(64),transforms.ToTensor()]))\n",
    "batch_size = 64\n",
    "img_loader = DataLoader(img_data,batch_size = batch_size, shuffle = True)"
   ]
  },
  {
   "cell_type": "markdown",
   "id": "b115f28e-3857-4b1e-b3f1-90fe02ecf272",
   "metadata": {
    "tags": []
   },
   "source": [
    "### GnetとDnetの定義"
   ]
  },
  {
   "cell_type": "code",
   "execution_count": 4,
   "id": "d6f0ddd1-c995-4813-8930-15aa42d7bedb",
   "metadata": {},
   "outputs": [],
   "source": [
    "nz = 100\n",
    "ngf = 32\n",
    "\n",
    "class GNet(nn.Module):\n",
    "    def __init__(self):\n",
    "        super().__init__()\n",
    "        self.main = nn.Sequential(\n",
    "            nn.ConvTranspose2d(nz,ngf*8,4,1,0,bias=False),\n",
    "            nn.BatchNorm2d(ngf*8),\n",
    "            nn.ReLU(inplace=True),\n",
    "            nn.ConvTranspose2d(ngf*8,ngf*4,4,2,1,bias=False),\n",
    "            nn.BatchNorm2d(ngf*4),\n",
    "            nn.ReLU(inplace=True),\n",
    "            nn.ConvTranspose2d(ngf*4,ngf*2,4,2,1,bias=False),\n",
    "            nn.BatchNorm2d(ngf*2),\n",
    "            nn.ReLU(inplace=True),\n",
    "            nn.ConvTranspose2d(ngf*2,ngf*1,4,2,1,bias=False),\n",
    "            nn.BatchNorm2d(ngf*1),\n",
    "            nn.ReLU(inplace=True),\n",
    "            nn.ConvTranspose2d(ngf*1,3,4,2,1,bias=True),\n",
    "            nn.Tanh()\n",
    "            )\n",
    "\n",
    "    def forward(self,x):\n",
    "        out = self.main(x)\n",
    "        return out"
   ]
  },
  {
   "cell_type": "code",
   "execution_count": 5,
   "id": "5d042fdc-262d-4fc2-96f6-fde8d6767eb4",
   "metadata": {},
   "outputs": [],
   "source": [
    "ndf=32\n",
    "\n",
    "class DNet(nn.Module):\n",
    "    def __init__(self):\n",
    "        super().__init__()\n",
    "        self.main = nn.Sequential(\n",
    "            nn.Conv2d(3,ndf,4,2,1,bias=False),\n",
    "            nn.LeakyReLU(0.2,inplace=True),\n",
    "            nn.Conv2d(ndf,ndf*2,4,2,1,bias=False),\n",
    "            nn.BatchNorm2d(ndf*2),\n",
    "            nn.LeakyReLU(0.2,inplace=True),\n",
    "            nn.Conv2d(ndf*2,ndf*4,4,2,1,bias=False),\n",
    "            nn.BatchNorm2d(ndf*4),\n",
    "            nn.LeakyReLU(0.2,inplace=True),\n",
    "            nn.Conv2d(ndf*4,ndf*8,4,2,1,bias=False),\n",
    "            nn.BatchNorm2d(ndf*8),\n",
    "            nn.LeakyReLU(0.2,inplace=True),\n",
    "            nn.Conv2d(ndf*8,1,4,1,0,bias=True)\n",
    "            )\n",
    "\n",
    "    def forward(self,x):\n",
    "        out = self.main(x)\n",
    "        return out.squeeze()"
   ]
  },
  {
   "cell_type": "code",
   "execution_count": 6,
   "id": "830b5741-8f24-4dec-ab8b-65ed7b905dcd",
   "metadata": {},
   "outputs": [],
   "source": [
    "d = DNet().to(\"cuda:0\")\n",
    "g = GNet().to(\"cuda:0\")\n",
    "\n",
    "opt_d = optim.Adam(d.parameters(),lr=0.0002,betas=(0.5,0.999))\n",
    "opt_g = optim.Adam(g.parameters(),lr=0.0002,betas=(0.5,0.999))\n",
    "\n",
    "ones = torch.ones(batch_size).to(\"cuda:0\")\n",
    "zeros = torch.zeros(batch_size).to(\"cuda:0\")\n",
    "\n",
    "loss_f = nn.BCEWithLogitsLoss()\n",
    "\n",
    "fixed_z = torch.randn(batch_size,nz,1,1).to(\"cuda:0\")\n",
    "gif_z = torch.randn(1,nz,1,1).to(\"cuda:0\")"
   ]
  },
  {
   "cell_type": "markdown",
   "id": "9490ca48-2b15-4552-98d9-5c21fd7c4672",
   "metadata": {},
   "source": [
    "### 訓練関数の定義"
   ]
  },
  {
   "cell_type": "code",
   "execution_count": 7,
   "id": "fb6b3bbd-8375-433f-af8c-a28680dbe385",
   "metadata": {},
   "outputs": [],
   "source": [
    "from statistics import mean\n",
    "\n",
    "def train_dcgan(g,d,opt_g,opt_d,loader):\n",
    "    log_loss_g = []\n",
    "    log_loss_d = []\n",
    "    \n",
    "    for real_img , _ in tqdm.tqdm(loader):\n",
    "        batch_len = len(real_img)\n",
    "        real_img = real_img.to(\"cuda:0\")\n",
    "        z = torch.randn(batch_len,nz,1,1).to(\"cuda:0\")\n",
    "        #------------------------------------------------------------------------------------------------------------------\n",
    "        fake_img = g(z)                                                         #フェイクイメージの作成\n",
    "        fake_img_tensor = fake_img.detach()                  #フェイクイメージを計算グラフから分離\n",
    "        out = d.forward(fake_img)                                      #フェイクイメージの判定\n",
    "        loss_g = loss_f(out, ones[:batch_len])                 #フェイク画像の損失計算 as 本物\n",
    "        log_loss_g.append(loss_g.item())                        #\n",
    "        d.zero_grad() , g.zero_grad()                               #勾配初期化\n",
    "        loss_g.backward()                                                  #生成機の逆伝搬\n",
    "        opt_g.step()                                                           #生成機の更新\n",
    "        #------------------------------------------------------------------------------------------------------------------\n",
    "        real_out = d.forward(real_img)                                       #本物画像の判定\n",
    "        loss_d_real = loss_f(real_out,ones[:batch_len])         #本物画像の損失計算\n",
    "\n",
    "        fake_img = fake_img_tensor                                          #\n",
    "        fake_out = d.forward(fake_img_tensor)                      #\n",
    "        loss_d_fake = loss_f(fake_out, zeros[:batch_len])    #フェイク画像の損失計算 as フェイク\n",
    "\n",
    "        loss_d = loss_d_real + loss_d_fake\n",
    "        log_loss_d.append(loss_d.item())\n",
    "        d.zero_grad(),g.zero_grad()                                         #勾配初期化\n",
    "        loss_d.backward()                                                          #判別機の逆伝搬\n",
    "        opt_d.step()                                                                   #判別機の更新\n",
    "        #------------------------------------------------------------------------------------------------------------------\n",
    "    return mean(log_loss_g),mean(log_loss_d)"
   ]
  },
  {
   "cell_type": "markdown",
   "id": "16d5f3ae-fa76-4064-9a36-471510531db2",
   "metadata": {},
   "source": [
    "### 訓練開始"
   ]
  },
  {
   "cell_type": "code",
   "execution_count": 8,
   "id": "8d2f7585-ce94-4f0d-87e6-36626bdd625d",
   "metadata": {},
   "outputs": [],
   "source": [
    "import os\n",
    "if not os.path.exists(\"data\"):\n",
    "    os.mkdir(\"data\")"
   ]
  },
  {
   "cell_type": "code",
   "execution_count": 9,
   "id": "9dcb1e2d-58c2-411c-bca8-9987906203cf",
   "metadata": {},
   "outputs": [
    {
     "name": "stderr",
     "output_type": "stream",
     "text": [
      "  0%|          | 0/128 [00:00<?, ?it/s]"
     ]
    },
    {
     "name": "stdout",
     "output_type": "stream",
     "text": [
      "current epoch :  0\n"
     ]
    },
    {
     "name": "stderr",
     "output_type": "stream",
     "text": [
      "100%|██████████| 128/128 [00:37<00:00,  3.43it/s]\n",
      "  0%|          | 0/128 [00:00<?, ?it/s]"
     ]
    },
    {
     "name": "stdout",
     "output_type": "stream",
     "text": [
      "runtime =  37.36971068382263 sec\n",
      "expected remaining time =  3699 sec : 61 minute\n",
      "current epoch :  1\n"
     ]
    },
    {
     "name": "stderr",
     "output_type": "stream",
     "text": [
      "100%|██████████| 128/128 [00:37<00:00,  3.38it/s]\n",
      "  0%|          | 0/128 [00:00<?, ?it/s]"
     ]
    },
    {
     "name": "stdout",
     "output_type": "stream",
     "text": [
      "runtime =  37.92663860321045 sec\n",
      "expected remaining time =  3689 sec : 61 minute\n",
      "current epoch :  2\n"
     ]
    },
    {
     "name": "stderr",
     "output_type": "stream",
     "text": [
      "100%|██████████| 128/128 [00:35<00:00,  3.58it/s]\n",
      "  0%|          | 0/128 [00:00<?, ?it/s]"
     ]
    },
    {
     "name": "stdout",
     "output_type": "stream",
     "text": [
      "runtime =  35.72350478172302 sec\n",
      "expected remaining time =  3589 sec : 59 minute\n",
      "current epoch :  3\n"
     ]
    },
    {
     "name": "stderr",
     "output_type": "stream",
     "text": [
      "100%|██████████| 128/128 [00:36<00:00,  3.53it/s]\n",
      "  0%|          | 0/128 [00:00<?, ?it/s]"
     ]
    },
    {
     "name": "stdout",
     "output_type": "stream",
     "text": [
      "runtime =  36.26357650756836 sec\n",
      "expected remaining time =  3534 sec : 58 minute\n",
      "current epoch :  4\n"
     ]
    },
    {
     "name": "stderr",
     "output_type": "stream",
     "text": [
      "100%|██████████| 128/128 [00:36<00:00,  3.55it/s]\n",
      "  0%|          | 0/128 [00:00<?, ?it/s]"
     ]
    },
    {
     "name": "stdout",
     "output_type": "stream",
     "text": [
      "runtime =  36.060893058776855 sec\n",
      "expected remaining time =  3483 sec : 58 minute\n",
      "current epoch :  5\n"
     ]
    },
    {
     "name": "stderr",
     "output_type": "stream",
     "text": [
      "100%|██████████| 128/128 [00:37<00:00,  3.46it/s]\n",
      "  0%|          | 0/128 [00:00<?, ?it/s]"
     ]
    },
    {
     "name": "stdout",
     "output_type": "stream",
     "text": [
      "runtime =  37.045934438705444 sec\n",
      "expected remaining time =  3452 sec : 57 minute\n",
      "current epoch :  6\n"
     ]
    },
    {
     "name": "stderr",
     "output_type": "stream",
     "text": [
      "100%|██████████| 128/128 [00:37<00:00,  3.43it/s]\n",
      "  0%|          | 0/128 [00:00<?, ?it/s]"
     ]
    },
    {
     "name": "stdout",
     "output_type": "stream",
     "text": [
      "runtime =  37.273250102996826 sec\n",
      "expected remaining time =  3423 sec : 57 minute\n",
      "current epoch :  7\n"
     ]
    },
    {
     "name": "stderr",
     "output_type": "stream",
     "text": [
      "100%|██████████| 128/128 [00:36<00:00,  3.52it/s]\n",
      "  0%|          | 0/128 [00:00<?, ?it/s]"
     ]
    },
    {
     "name": "stdout",
     "output_type": "stream",
     "text": [
      "runtime =  36.3851273059845 sec\n",
      "expected remaining time =  3381 sec : 56 minute\n",
      "current epoch :  8\n"
     ]
    },
    {
     "name": "stderr",
     "output_type": "stream",
     "text": [
      "100%|██████████| 128/128 [00:36<00:00,  3.54it/s]\n",
      "  0%|          | 0/128 [00:00<?, ?it/s]"
     ]
    },
    {
     "name": "stdout",
     "output_type": "stream",
     "text": [
      "runtime =  36.18702054023743 sec\n",
      "expected remaining time =  3339 sec : 55 minute\n",
      "current epoch :  9\n"
     ]
    },
    {
     "name": "stderr",
     "output_type": "stream",
     "text": [
      "100%|██████████| 128/128 [00:37<00:00,  3.43it/s]\n",
      "  0%|          | 0/128 [00:00<?, ?it/s]"
     ]
    },
    {
     "name": "stdout",
     "output_type": "stream",
     "text": [
      "runtime =  37.343868255615234 sec\n",
      "expected remaining time =  3308 sec : 55 minute\n",
      "current epoch :  10\n"
     ]
    },
    {
     "name": "stderr",
     "output_type": "stream",
     "text": [
      "100%|██████████| 128/128 [00:36<00:00,  3.52it/s]\n",
      "  0%|          | 0/128 [00:00<?, ?it/s]"
     ]
    },
    {
     "name": "stdout",
     "output_type": "stream",
     "text": [
      "runtime =  36.38776421546936 sec\n",
      "expected remaining time =  3268 sec : 54 minute\n",
      "current epoch :  11\n"
     ]
    },
    {
     "name": "stderr",
     "output_type": "stream",
     "text": [
      "100%|██████████| 128/128 [00:36<00:00,  3.55it/s]\n",
      "  0%|          | 0/128 [00:00<?, ?it/s]"
     ]
    },
    {
     "name": "stdout",
     "output_type": "stream",
     "text": [
      "runtime =  36.01759338378906 sec\n",
      "expected remaining time =  3226 sec : 53 minute\n",
      "current epoch :  12\n"
     ]
    },
    {
     "name": "stderr",
     "output_type": "stream",
     "text": [
      "100%|██████████| 128/128 [00:35<00:00,  3.57it/s]\n",
      "  0%|          | 0/128 [00:00<?, ?it/s]"
     ]
    },
    {
     "name": "stdout",
     "output_type": "stream",
     "text": [
      "runtime =  35.8302845954895 sec\n",
      "expected remaining time =  3184 sec : 53 minute\n",
      "current epoch :  13\n"
     ]
    },
    {
     "name": "stderr",
     "output_type": "stream",
     "text": [
      "100%|██████████| 128/128 [00:36<00:00,  3.52it/s]\n",
      "  0%|          | 0/128 [00:00<?, ?it/s]"
     ]
    },
    {
     "name": "stdout",
     "output_type": "stream",
     "text": [
      "runtime =  36.32743525505066 sec\n",
      "expected remaining time =  3146 sec : 52 minute\n",
      "current epoch :  14\n"
     ]
    },
    {
     "name": "stderr",
     "output_type": "stream",
     "text": [
      "100%|██████████| 128/128 [00:36<00:00,  3.51it/s]\n",
      "  0%|          | 0/128 [00:00<?, ?it/s]"
     ]
    },
    {
     "name": "stdout",
     "output_type": "stream",
     "text": [
      "runtime =  36.4555401802063 sec\n",
      "expected remaining time =  3108 sec : 51 minute\n",
      "current epoch :  15\n"
     ]
    },
    {
     "name": "stderr",
     "output_type": "stream",
     "text": [
      "100%|██████████| 128/128 [00:35<00:00,  3.58it/s]\n",
      "  0%|          | 0/128 [00:00<?, ?it/s]"
     ]
    },
    {
     "name": "stdout",
     "output_type": "stream",
     "text": [
      "runtime =  35.73229265213013 sec\n",
      "expected remaining time =  3067 sec : 51 minute\n",
      "current epoch :  16\n"
     ]
    },
    {
     "name": "stderr",
     "output_type": "stream",
     "text": [
      "100%|██████████| 128/128 [00:36<00:00,  3.53it/s]\n",
      "  0%|          | 0/128 [00:00<?, ?it/s]"
     ]
    },
    {
     "name": "stdout",
     "output_type": "stream",
     "text": [
      "runtime =  36.24258780479431 sec\n",
      "expected remaining time =  3029 sec : 50 minute\n",
      "current epoch :  17\n"
     ]
    },
    {
     "name": "stderr",
     "output_type": "stream",
     "text": [
      "100%|██████████| 128/128 [00:36<00:00,  3.53it/s]\n",
      "  0%|          | 0/128 [00:00<?, ?it/s]"
     ]
    },
    {
     "name": "stdout",
     "output_type": "stream",
     "text": [
      "runtime =  36.2565062046051 sec\n",
      "expected remaining time =  2992 sec : 49 minute\n",
      "current epoch :  18\n"
     ]
    },
    {
     "name": "stderr",
     "output_type": "stream",
     "text": [
      "100%|██████████| 128/128 [00:35<00:00,  3.56it/s]\n",
      "  0%|          | 0/128 [00:00<?, ?it/s]"
     ]
    },
    {
     "name": "stdout",
     "output_type": "stream",
     "text": [
      "runtime =  35.943251609802246 sec\n",
      "expected remaining time =  2953 sec : 49 minute\n",
      "current epoch :  19\n"
     ]
    },
    {
     "name": "stderr",
     "output_type": "stream",
     "text": [
      "100%|██████████| 128/128 [00:36<00:00,  3.51it/s]\n",
      "  0%|          | 0/128 [00:00<?, ?it/s]"
     ]
    },
    {
     "name": "stdout",
     "output_type": "stream",
     "text": [
      "runtime =  36.45733284950256 sec\n",
      "expected remaining time =  2916 sec : 48 minute\n",
      "current epoch :  20\n"
     ]
    },
    {
     "name": "stderr",
     "output_type": "stream",
     "text": [
      "100%|██████████| 128/128 [00:36<00:00,  3.54it/s]\n",
      "  0%|          | 0/128 [00:00<?, ?it/s]"
     ]
    },
    {
     "name": "stdout",
     "output_type": "stream",
     "text": [
      "runtime =  36.20377802848816 sec\n",
      "expected remaining time =  2879 sec : 47 minute\n",
      "current epoch :  21\n"
     ]
    },
    {
     "name": "stderr",
     "output_type": "stream",
     "text": [
      "100%|██████████| 128/128 [00:36<00:00,  3.54it/s]\n",
      "  0%|          | 0/128 [00:00<?, ?it/s]"
     ]
    },
    {
     "name": "stdout",
     "output_type": "stream",
     "text": [
      "runtime =  36.13517451286316 sec\n",
      "expected remaining time =  2841 sec : 47 minute\n",
      "current epoch :  22\n"
     ]
    },
    {
     "name": "stderr",
     "output_type": "stream",
     "text": [
      "100%|██████████| 128/128 [00:35<00:00,  3.59it/s]\n",
      "  0%|          | 0/128 [00:00<?, ?it/s]"
     ]
    },
    {
     "name": "stdout",
     "output_type": "stream",
     "text": [
      "runtime =  35.66684579849243 sec\n",
      "expected remaining time =  2802 sec : 46 minute\n",
      "current epoch :  23\n"
     ]
    },
    {
     "name": "stderr",
     "output_type": "stream",
     "text": [
      "100%|██████████| 128/128 [00:36<00:00,  3.49it/s]\n",
      "  0%|          | 0/128 [00:00<?, ?it/s]"
     ]
    },
    {
     "name": "stdout",
     "output_type": "stream",
     "text": [
      "runtime =  36.72897005081177 sec\n",
      "expected remaining time =  2767 sec : 46 minute\n",
      "current epoch :  24\n"
     ]
    },
    {
     "name": "stderr",
     "output_type": "stream",
     "text": [
      "100%|██████████| 128/128 [00:36<00:00,  3.49it/s]\n",
      "  0%|          | 0/128 [00:00<?, ?it/s]"
     ]
    },
    {
     "name": "stdout",
     "output_type": "stream",
     "text": [
      "runtime =  36.6962616443634 sec\n",
      "expected remaining time =  2731 sec : 45 minute\n",
      "current epoch :  25\n"
     ]
    },
    {
     "name": "stderr",
     "output_type": "stream",
     "text": [
      "100%|██████████| 128/128 [00:35<00:00,  3.61it/s]\n",
      "  0%|          | 0/128 [00:00<?, ?it/s]"
     ]
    },
    {
     "name": "stdout",
     "output_type": "stream",
     "text": [
      "runtime =  35.49510645866394 sec\n",
      "expected remaining time =  2692 sec : 44 minute\n",
      "current epoch :  26\n"
     ]
    },
    {
     "name": "stderr",
     "output_type": "stream",
     "text": [
      "100%|██████████| 128/128 [00:35<00:00,  3.60it/s]\n",
      "  0%|          | 0/128 [00:00<?, ?it/s]"
     ]
    },
    {
     "name": "stdout",
     "output_type": "stream",
     "text": [
      "runtime =  35.572407245635986 sec\n",
      "expected remaining time =  2654 sec : 44 minute\n",
      "current epoch :  27\n"
     ]
    },
    {
     "name": "stderr",
     "output_type": "stream",
     "text": [
      "100%|██████████| 128/128 [00:36<00:00,  3.55it/s]\n",
      "  0%|          | 0/128 [00:00<?, ?it/s]"
     ]
    },
    {
     "name": "stdout",
     "output_type": "stream",
     "text": [
      "runtime =  36.07331395149231 sec\n",
      "expected remaining time =  2617 sec : 43 minute\n",
      "current epoch :  28\n"
     ]
    },
    {
     "name": "stderr",
     "output_type": "stream",
     "text": [
      "100%|██████████| 128/128 [00:35<00:00,  3.58it/s]\n",
      "  0%|          | 0/128 [00:00<?, ?it/s]"
     ]
    },
    {
     "name": "stdout",
     "output_type": "stream",
     "text": [
      "runtime =  35.75035238265991 sec\n",
      "expected remaining time =  2579 sec : 42 minute\n",
      "current epoch :  29\n"
     ]
    },
    {
     "name": "stderr",
     "output_type": "stream",
     "text": [
      "100%|██████████| 128/128 [00:35<00:00,  3.59it/s]\n",
      "  0%|          | 0/128 [00:00<?, ?it/s]"
     ]
    },
    {
     "name": "stdout",
     "output_type": "stream",
     "text": [
      "runtime =  35.64692258834839 sec\n",
      "expected remaining time =  2541 sec : 42 minute\n",
      "current epoch :  30\n"
     ]
    },
    {
     "name": "stderr",
     "output_type": "stream",
     "text": [
      "100%|██████████| 128/128 [00:35<00:00,  3.60it/s]\n",
      "  0%|          | 0/128 [00:00<?, ?it/s]"
     ]
    },
    {
     "name": "stdout",
     "output_type": "stream",
     "text": [
      "runtime =  35.521844148635864 sec\n",
      "expected remaining time =  2503 sec : 41 minute\n",
      "current epoch :  31\n"
     ]
    },
    {
     "name": "stderr",
     "output_type": "stream",
     "text": [
      "100%|██████████| 128/128 [00:36<00:00,  3.55it/s]\n",
      "  0%|          | 0/128 [00:00<?, ?it/s]"
     ]
    },
    {
     "name": "stdout",
     "output_type": "stream",
     "text": [
      "runtime =  36.10213541984558 sec\n",
      "expected remaining time =  2466 sec : 41 minute\n",
      "current epoch :  32\n"
     ]
    },
    {
     "name": "stderr",
     "output_type": "stream",
     "text": [
      "100%|██████████| 128/128 [00:35<00:00,  3.61it/s]\n",
      "  0%|          | 0/128 [00:00<?, ?it/s]"
     ]
    },
    {
     "name": "stdout",
     "output_type": "stream",
     "text": [
      "runtime =  35.41687345504761 sec\n",
      "expected remaining time =  2428 sec : 40 minute\n",
      "current epoch :  33\n"
     ]
    },
    {
     "name": "stderr",
     "output_type": "stream",
     "text": [
      "100%|██████████| 128/128 [00:36<00:00,  3.56it/s]\n",
      "  0%|          | 0/128 [00:00<?, ?it/s]"
     ]
    },
    {
     "name": "stdout",
     "output_type": "stream",
     "text": [
      "runtime =  36.00398635864258 sec\n",
      "expected remaining time =  2392 sec : 39 minute\n",
      "current epoch :  34\n"
     ]
    },
    {
     "name": "stderr",
     "output_type": "stream",
     "text": [
      "100%|██████████| 128/128 [00:36<00:00,  3.53it/s]\n",
      "  0%|          | 0/128 [00:00<?, ?it/s]"
     ]
    },
    {
     "name": "stdout",
     "output_type": "stream",
     "text": [
      "runtime =  36.25629925727844 sec\n",
      "expected remaining time =  2355 sec : 39 minute\n",
      "current epoch :  35\n"
     ]
    },
    {
     "name": "stderr",
     "output_type": "stream",
     "text": [
      "100%|██████████| 128/128 [00:34<00:00,  3.68it/s]\n",
      "  0%|          | 0/128 [00:00<?, ?it/s]"
     ]
    },
    {
     "name": "stdout",
     "output_type": "stream",
     "text": [
      "runtime =  34.81378388404846 sec\n",
      "expected remaining time =  2317 sec : 38 minute\n",
      "current epoch :  36\n"
     ]
    },
    {
     "name": "stderr",
     "output_type": "stream",
     "text": [
      "100%|██████████| 128/128 [00:34<00:00,  3.66it/s]\n",
      "  0%|          | 0/128 [00:00<?, ?it/s]"
     ]
    },
    {
     "name": "stdout",
     "output_type": "stream",
     "text": [
      "runtime =  34.97992539405823 sec\n",
      "expected remaining time =  2278 sec : 37 minute\n",
      "current epoch :  37\n"
     ]
    },
    {
     "name": "stderr",
     "output_type": "stream",
     "text": [
      "100%|██████████| 128/128 [00:34<00:00,  3.68it/s]\n",
      "  0%|          | 0/128 [00:00<?, ?it/s]"
     ]
    },
    {
     "name": "stdout",
     "output_type": "stream",
     "text": [
      "runtime =  34.82485914230347 sec\n",
      "expected remaining time =  2240 sec : 37 minute\n",
      "current epoch :  38\n"
     ]
    },
    {
     "name": "stderr",
     "output_type": "stream",
     "text": [
      "100%|██████████| 128/128 [00:35<00:00,  3.60it/s]\n",
      "  0%|          | 0/128 [00:00<?, ?it/s]"
     ]
    },
    {
     "name": "stdout",
     "output_type": "stream",
     "text": [
      "runtime =  35.518890619277954 sec\n",
      "expected remaining time =  2203 sec : 36 minute\n",
      "current epoch :  39\n"
     ]
    },
    {
     "name": "stderr",
     "output_type": "stream",
     "text": [
      "100%|██████████| 128/128 [00:34<00:00,  3.68it/s]\n",
      "  0%|          | 0/128 [00:00<?, ?it/s]"
     ]
    },
    {
     "name": "stdout",
     "output_type": "stream",
     "text": [
      "runtime =  34.81501293182373 sec\n",
      "expected remaining time =  2165 sec : 36 minute\n",
      "current epoch :  40\n"
     ]
    },
    {
     "name": "stderr",
     "output_type": "stream",
     "text": [
      "100%|██████████| 128/128 [00:35<00:00,  3.65it/s]\n",
      "  0%|          | 0/128 [00:00<?, ?it/s]"
     ]
    },
    {
     "name": "stdout",
     "output_type": "stream",
     "text": [
      "runtime =  35.0863401889801 sec\n",
      "expected remaining time =  2127 sec : 35 minute\n",
      "current epoch :  41\n"
     ]
    },
    {
     "name": "stderr",
     "output_type": "stream",
     "text": [
      "100%|██████████| 128/128 [00:35<00:00,  3.58it/s]\n",
      "  0%|          | 0/128 [00:00<?, ?it/s]"
     ]
    },
    {
     "name": "stdout",
     "output_type": "stream",
     "text": [
      "runtime =  35.73845648765564 sec\n",
      "expected remaining time =  2091 sec : 34 minute\n",
      "current epoch :  42\n"
     ]
    },
    {
     "name": "stderr",
     "output_type": "stream",
     "text": [
      "100%|██████████| 128/128 [00:35<00:00,  3.63it/s]\n",
      "  0%|          | 0/128 [00:00<?, ?it/s]"
     ]
    },
    {
     "name": "stdout",
     "output_type": "stream",
     "text": [
      "runtime =  35.22118282318115 sec\n",
      "expected remaining time =  2053 sec : 34 minute\n",
      "current epoch :  43\n"
     ]
    },
    {
     "name": "stderr",
     "output_type": "stream",
     "text": [
      "100%|██████████| 128/128 [00:35<00:00,  3.59it/s]\n",
      "  0%|          | 0/128 [00:00<?, ?it/s]"
     ]
    },
    {
     "name": "stdout",
     "output_type": "stream",
     "text": [
      "runtime =  35.63171052932739 sec\n",
      "expected remaining time =  2017 sec : 33 minute\n",
      "current epoch :  44\n"
     ]
    },
    {
     "name": "stderr",
     "output_type": "stream",
     "text": [
      "100%|██████████| 128/128 [00:35<00:00,  3.64it/s]\n",
      "  0%|          | 0/128 [00:00<?, ?it/s]"
     ]
    },
    {
     "name": "stdout",
     "output_type": "stream",
     "text": [
      "runtime =  35.18188834190369 sec\n",
      "expected remaining time =  1980 sec : 33 minute\n",
      "current epoch :  45\n"
     ]
    },
    {
     "name": "stderr",
     "output_type": "stream",
     "text": [
      "100%|██████████| 128/128 [00:35<00:00,  3.63it/s]\n",
      "  0%|          | 0/128 [00:00<?, ?it/s]"
     ]
    },
    {
     "name": "stdout",
     "output_type": "stream",
     "text": [
      "runtime =  35.2365083694458 sec\n",
      "expected remaining time =  1943 sec : 32 minute\n",
      "current epoch :  46\n"
     ]
    },
    {
     "name": "stderr",
     "output_type": "stream",
     "text": [
      "100%|██████████| 128/128 [00:35<00:00,  3.65it/s]\n",
      "  0%|          | 0/128 [00:00<?, ?it/s]"
     ]
    },
    {
     "name": "stdout",
     "output_type": "stream",
     "text": [
      "runtime =  35.06802201271057 sec\n",
      "expected remaining time =  1906 sec : 31 minute\n",
      "current epoch :  47\n"
     ]
    },
    {
     "name": "stderr",
     "output_type": "stream",
     "text": [
      "100%|██████████| 128/128 [00:34<00:00,  3.67it/s]\n",
      "  0%|          | 0/128 [00:00<?, ?it/s]"
     ]
    },
    {
     "name": "stdout",
     "output_type": "stream",
     "text": [
      "runtime =  34.9152889251709 sec\n",
      "expected remaining time =  1869 sec : 31 minute\n",
      "current epoch :  48\n"
     ]
    },
    {
     "name": "stderr",
     "output_type": "stream",
     "text": [
      "100%|██████████| 128/128 [00:35<00:00,  3.63it/s]\n",
      "  0%|          | 0/128 [00:00<?, ?it/s]"
     ]
    },
    {
     "name": "stdout",
     "output_type": "stream",
     "text": [
      "runtime =  35.3026978969574 sec\n",
      "expected remaining time =  1832 sec : 30 minute\n",
      "current epoch :  49\n"
     ]
    },
    {
     "name": "stderr",
     "output_type": "stream",
     "text": [
      "100%|██████████| 128/128 [00:35<00:00,  3.62it/s]\n",
      "  0%|          | 0/128 [00:00<?, ?it/s]"
     ]
    },
    {
     "name": "stdout",
     "output_type": "stream",
     "text": [
      "runtime =  35.40547323226929 sec\n",
      "expected remaining time =  1796 sec : 29 minute\n",
      "current epoch :  50\n"
     ]
    },
    {
     "name": "stderr",
     "output_type": "stream",
     "text": [
      "100%|██████████| 128/128 [00:35<00:00,  3.57it/s]\n",
      "  0%|          | 0/128 [00:00<?, ?it/s]"
     ]
    },
    {
     "name": "stdout",
     "output_type": "stream",
     "text": [
      "runtime =  35.854756116867065 sec\n",
      "expected remaining time =  1760 sec : 29 minute\n",
      "current epoch :  51\n"
     ]
    },
    {
     "name": "stderr",
     "output_type": "stream",
     "text": [
      "100%|██████████| 128/128 [00:35<00:00,  3.65it/s]\n",
      "  0%|          | 0/128 [00:00<?, ?it/s]"
     ]
    },
    {
     "name": "stdout",
     "output_type": "stream",
     "text": [
      "runtime =  35.04261875152588 sec\n",
      "expected remaining time =  1723 sec : 28 minute\n",
      "current epoch :  52\n"
     ]
    },
    {
     "name": "stderr",
     "output_type": "stream",
     "text": [
      "100%|██████████| 128/128 [00:34<00:00,  3.66it/s]\n",
      "  0%|          | 0/128 [00:00<?, ?it/s]"
     ]
    },
    {
     "name": "stdout",
     "output_type": "stream",
     "text": [
      "runtime =  34.93696618080139 sec\n",
      "expected remaining time =  1686 sec : 28 minute\n",
      "current epoch :  53\n"
     ]
    },
    {
     "name": "stderr",
     "output_type": "stream",
     "text": [
      "100%|██████████| 128/128 [00:34<00:00,  3.68it/s]\n",
      "  0%|          | 0/128 [00:00<?, ?it/s]"
     ]
    },
    {
     "name": "stdout",
     "output_type": "stream",
     "text": [
      "runtime =  34.83149576187134 sec\n",
      "expected remaining time =  1649 sec : 27 minute\n",
      "current epoch :  54\n"
     ]
    },
    {
     "name": "stderr",
     "output_type": "stream",
     "text": [
      "100%|██████████| 128/128 [00:35<00:00,  3.65it/s]\n",
      "  0%|          | 0/128 [00:00<?, ?it/s]"
     ]
    },
    {
     "name": "stdout",
     "output_type": "stream",
     "text": [
      "runtime =  35.028517961502075 sec\n",
      "expected remaining time =  1613 sec : 26 minute\n",
      "current epoch :  55\n"
     ]
    },
    {
     "name": "stderr",
     "output_type": "stream",
     "text": [
      "100%|██████████| 128/128 [00:35<00:00,  3.61it/s]\n",
      "  0%|          | 0/128 [00:00<?, ?it/s]"
     ]
    },
    {
     "name": "stdout",
     "output_type": "stream",
     "text": [
      "runtime =  35.420984983444214 sec\n",
      "expected remaining time =  1577 sec : 26 minute\n",
      "current epoch :  56\n"
     ]
    },
    {
     "name": "stderr",
     "output_type": "stream",
     "text": [
      "100%|██████████| 128/128 [00:35<00:00,  3.65it/s]\n",
      "  0%|          | 0/128 [00:00<?, ?it/s]"
     ]
    },
    {
     "name": "stdout",
     "output_type": "stream",
     "text": [
      "runtime =  35.086291790008545 sec\n",
      "expected remaining time =  1540 sec : 25 minute\n",
      "current epoch :  57\n"
     ]
    },
    {
     "name": "stderr",
     "output_type": "stream",
     "text": [
      "100%|██████████| 128/128 [00:35<00:00,  3.63it/s]\n",
      "  0%|          | 0/128 [00:00<?, ?it/s]"
     ]
    },
    {
     "name": "stdout",
     "output_type": "stream",
     "text": [
      "runtime =  35.27678036689758 sec\n",
      "expected remaining time =  1504 sec : 25 minute\n",
      "current epoch :  58\n"
     ]
    },
    {
     "name": "stderr",
     "output_type": "stream",
     "text": [
      "100%|██████████| 128/128 [00:35<00:00,  3.62it/s]\n",
      "  0%|          | 0/128 [00:00<?, ?it/s]"
     ]
    },
    {
     "name": "stdout",
     "output_type": "stream",
     "text": [
      "runtime =  35.36851906776428 sec\n",
      "expected remaining time =  1468 sec : 24 minute\n",
      "current epoch :  59\n"
     ]
    },
    {
     "name": "stderr",
     "output_type": "stream",
     "text": [
      "100%|██████████| 128/128 [00:34<00:00,  3.66it/s]\n",
      "  0%|          | 0/128 [00:00<?, ?it/s]"
     ]
    },
    {
     "name": "stdout",
     "output_type": "stream",
     "text": [
      "runtime =  34.95296788215637 sec\n",
      "expected remaining time =  1432 sec : 23 minute\n",
      "current epoch :  60\n"
     ]
    },
    {
     "name": "stderr",
     "output_type": "stream",
     "text": [
      "100%|██████████| 128/128 [00:35<00:00,  3.61it/s]\n",
      "  0%|          | 0/128 [00:00<?, ?it/s]"
     ]
    },
    {
     "name": "stdout",
     "output_type": "stream",
     "text": [
      "runtime =  35.42753338813782 sec\n",
      "expected remaining time =  1395 sec : 23 minute\n",
      "current epoch :  61\n"
     ]
    },
    {
     "name": "stderr",
     "output_type": "stream",
     "text": [
      "100%|██████████| 128/128 [00:34<00:00,  3.68it/s]\n",
      "  0%|          | 0/128 [00:00<?, ?it/s]"
     ]
    },
    {
     "name": "stdout",
     "output_type": "stream",
     "text": [
      "runtime =  34.763328075408936 sec\n",
      "expected remaining time =  1359 sec : 22 minute\n",
      "current epoch :  62\n"
     ]
    },
    {
     "name": "stderr",
     "output_type": "stream",
     "text": [
      "100%|██████████| 128/128 [00:35<00:00,  3.65it/s]\n",
      "  0%|          | 0/128 [00:00<?, ?it/s]"
     ]
    },
    {
     "name": "stdout",
     "output_type": "stream",
     "text": [
      "runtime =  35.071699142456055 sec\n",
      "expected remaining time =  1323 sec : 22 minute\n",
      "current epoch :  63\n"
     ]
    },
    {
     "name": "stderr",
     "output_type": "stream",
     "text": [
      "100%|██████████| 128/128 [00:34<00:00,  3.66it/s]\n",
      "  0%|          | 0/128 [00:00<?, ?it/s]"
     ]
    },
    {
     "name": "stdout",
     "output_type": "stream",
     "text": [
      "runtime =  34.97962498664856 sec\n",
      "expected remaining time =  1287 sec : 21 minute\n",
      "current epoch :  64\n"
     ]
    },
    {
     "name": "stderr",
     "output_type": "stream",
     "text": [
      "100%|██████████| 128/128 [00:34<00:00,  3.68it/s]\n",
      "  0%|          | 0/128 [00:00<?, ?it/s]"
     ]
    },
    {
     "name": "stdout",
     "output_type": "stream",
     "text": [
      "runtime =  34.81537079811096 sec\n",
      "expected remaining time =  1250 sec : 20 minute\n",
      "current epoch :  65\n"
     ]
    },
    {
     "name": "stderr",
     "output_type": "stream",
     "text": [
      "100%|██████████| 128/128 [00:35<00:00,  3.60it/s]\n",
      "  0%|          | 0/128 [00:00<?, ?it/s]"
     ]
    },
    {
     "name": "stdout",
     "output_type": "stream",
     "text": [
      "runtime =  35.55657458305359 sec\n",
      "expected remaining time =  1215 sec : 20 minute\n",
      "current epoch :  66\n"
     ]
    },
    {
     "name": "stderr",
     "output_type": "stream",
     "text": [
      "100%|██████████| 128/128 [00:35<00:00,  3.59it/s]\n",
      "  0%|          | 0/128 [00:00<?, ?it/s]"
     ]
    },
    {
     "name": "stdout",
     "output_type": "stream",
     "text": [
      "runtime =  35.6887264251709 sec\n",
      "expected remaining time =  1179 sec : 19 minute\n",
      "current epoch :  67\n"
     ]
    },
    {
     "name": "stderr",
     "output_type": "stream",
     "text": [
      "100%|██████████| 128/128 [00:35<00:00,  3.62it/s]\n",
      "  0%|          | 0/128 [00:00<?, ?it/s]"
     ]
    },
    {
     "name": "stdout",
     "output_type": "stream",
     "text": [
      "runtime =  35.321096897125244 sec\n",
      "expected remaining time =  1143 sec : 19 minute\n",
      "current epoch :  68\n"
     ]
    },
    {
     "name": "stderr",
     "output_type": "stream",
     "text": [
      "100%|██████████| 128/128 [00:35<00:00,  3.64it/s]\n",
      "  0%|          | 0/128 [00:00<?, ?it/s]"
     ]
    },
    {
     "name": "stdout",
     "output_type": "stream",
     "text": [
      "runtime =  35.19117450714111 sec\n",
      "expected remaining time =  1107 sec : 18 minute\n",
      "current epoch :  69\n"
     ]
    },
    {
     "name": "stderr",
     "output_type": "stream",
     "text": [
      "100%|██████████| 128/128 [00:35<00:00,  3.66it/s]\n",
      "  0%|          | 0/128 [00:00<?, ?it/s]"
     ]
    },
    {
     "name": "stdout",
     "output_type": "stream",
     "text": [
      "runtime =  35.01248097419739 sec\n",
      "expected remaining time =  1071 sec : 17 minute\n",
      "current epoch :  70\n"
     ]
    },
    {
     "name": "stderr",
     "output_type": "stream",
     "text": [
      "100%|██████████| 128/128 [00:35<00:00,  3.64it/s]\n",
      "  0%|          | 0/128 [00:00<?, ?it/s]"
     ]
    },
    {
     "name": "stdout",
     "output_type": "stream",
     "text": [
      "runtime =  35.189335346221924 sec\n",
      "expected remaining time =  1035 sec : 17 minute\n",
      "current epoch :  71\n"
     ]
    },
    {
     "name": "stderr",
     "output_type": "stream",
     "text": [
      "100%|██████████| 128/128 [00:34<00:00,  3.68it/s]\n",
      "  0%|          | 0/128 [00:00<?, ?it/s]"
     ]
    },
    {
     "name": "stdout",
     "output_type": "stream",
     "text": [
      "runtime =  34.76372003555298 sec\n",
      "expected remaining time =  999 sec : 16 minute\n",
      "current epoch :  72\n"
     ]
    },
    {
     "name": "stderr",
     "output_type": "stream",
     "text": [
      "100%|██████████| 128/128 [00:35<00:00,  3.61it/s]\n",
      "  0%|          | 0/128 [00:00<?, ?it/s]"
     ]
    },
    {
     "name": "stdout",
     "output_type": "stream",
     "text": [
      "runtime =  35.46126079559326 sec\n",
      "expected remaining time =  963 sec : 16 minute\n",
      "current epoch :  73\n"
     ]
    },
    {
     "name": "stderr",
     "output_type": "stream",
     "text": [
      "100%|██████████| 128/128 [00:35<00:00,  3.60it/s]\n",
      "  0%|          | 0/128 [00:00<?, ?it/s]"
     ]
    },
    {
     "name": "stdout",
     "output_type": "stream",
     "text": [
      "runtime =  35.59149122238159 sec\n",
      "expected remaining time =  927 sec : 15 minute\n",
      "current epoch :  74\n"
     ]
    },
    {
     "name": "stderr",
     "output_type": "stream",
     "text": [
      "100%|██████████| 128/128 [00:35<00:00,  3.56it/s]\n",
      "  0%|          | 0/128 [00:00<?, ?it/s]"
     ]
    },
    {
     "name": "stdout",
     "output_type": "stream",
     "text": [
      "runtime =  35.93706655502319 sec\n",
      "expected remaining time =  892 sec : 14 minute\n",
      "current epoch :  75\n"
     ]
    },
    {
     "name": "stderr",
     "output_type": "stream",
     "text": [
      "100%|██████████| 128/128 [00:35<00:00,  3.65it/s]\n",
      "  0%|          | 0/128 [00:00<?, ?it/s]"
     ]
    },
    {
     "name": "stdout",
     "output_type": "stream",
     "text": [
      "runtime =  35.09974765777588 sec\n",
      "expected remaining time =  856 sec : 14 minute\n",
      "current epoch :  76\n"
     ]
    },
    {
     "name": "stderr",
     "output_type": "stream",
     "text": [
      "100%|██████████| 128/128 [00:34<00:00,  3.70it/s]\n",
      "  0%|          | 0/128 [00:00<?, ?it/s]"
     ]
    },
    {
     "name": "stdout",
     "output_type": "stream",
     "text": [
      "runtime =  34.603326082229614 sec\n",
      "expected remaining time =  820 sec : 13 minute\n",
      "current epoch :  77\n"
     ]
    },
    {
     "name": "stderr",
     "output_type": "stream",
     "text": [
      "100%|██████████| 128/128 [00:36<00:00,  3.51it/s]\n",
      "  0%|          | 0/128 [00:00<?, ?it/s]"
     ]
    },
    {
     "name": "stdout",
     "output_type": "stream",
     "text": [
      "runtime =  36.48861289024353 sec\n",
      "expected remaining time =  784 sec : 13 minute\n",
      "current epoch :  78\n"
     ]
    },
    {
     "name": "stderr",
     "output_type": "stream",
     "text": [
      "100%|██████████| 128/128 [00:34<00:00,  3.68it/s]\n",
      "  0%|          | 0/128 [00:00<?, ?it/s]"
     ]
    },
    {
     "name": "stdout",
     "output_type": "stream",
     "text": [
      "runtime =  34.78630495071411 sec\n",
      "expected remaining time =  749 sec : 12 minute\n",
      "current epoch :  79\n"
     ]
    },
    {
     "name": "stderr",
     "output_type": "stream",
     "text": [
      "100%|██████████| 128/128 [00:35<00:00,  3.60it/s]\n",
      "  0%|          | 0/128 [00:00<?, ?it/s]"
     ]
    },
    {
     "name": "stdout",
     "output_type": "stream",
     "text": [
      "runtime =  35.565383195877075 sec\n",
      "expected remaining time =  713 sec : 11 minute\n",
      "current epoch :  80\n"
     ]
    },
    {
     "name": "stderr",
     "output_type": "stream",
     "text": [
      "100%|██████████| 128/128 [00:35<00:00,  3.65it/s]\n",
      "  0%|          | 0/128 [00:00<?, ?it/s]"
     ]
    },
    {
     "name": "stdout",
     "output_type": "stream",
     "text": [
      "runtime =  35.09140110015869 sec\n",
      "expected remaining time =  677 sec : 11 minute\n",
      "current epoch :  81\n"
     ]
    },
    {
     "name": "stderr",
     "output_type": "stream",
     "text": [
      "100%|██████████| 128/128 [00:34<00:00,  3.68it/s]\n",
      "  0%|          | 0/128 [00:00<?, ?it/s]"
     ]
    },
    {
     "name": "stdout",
     "output_type": "stream",
     "text": [
      "runtime =  34.82973122596741 sec\n",
      "expected remaining time =  641 sec : 10 minute\n",
      "current epoch :  82\n"
     ]
    },
    {
     "name": "stderr",
     "output_type": "stream",
     "text": [
      "100%|██████████| 128/128 [00:35<00:00,  3.57it/s]\n",
      "  0%|          | 0/128 [00:00<?, ?it/s]"
     ]
    },
    {
     "name": "stdout",
     "output_type": "stream",
     "text": [
      "runtime =  35.86584115028381 sec\n",
      "expected remaining time =  606 sec : 10 minute\n",
      "current epoch :  83\n"
     ]
    },
    {
     "name": "stderr",
     "output_type": "stream",
     "text": [
      "100%|██████████| 128/128 [00:34<00:00,  3.69it/s]\n",
      "  0%|          | 0/128 [00:00<?, ?it/s]"
     ]
    },
    {
     "name": "stdout",
     "output_type": "stream",
     "text": [
      "runtime =  34.66543412208557 sec\n",
      "expected remaining time =  570 sec : 9 minute\n",
      "current epoch :  84\n"
     ]
    },
    {
     "name": "stderr",
     "output_type": "stream",
     "text": [
      "100%|██████████| 128/128 [00:35<00:00,  3.64it/s]\n",
      "  0%|          | 0/128 [00:00<?, ?it/s]"
     ]
    },
    {
     "name": "stdout",
     "output_type": "stream",
     "text": [
      "runtime =  35.20461869239807 sec\n",
      "expected remaining time =  534 sec : 8 minute\n",
      "current epoch :  85\n"
     ]
    },
    {
     "name": "stderr",
     "output_type": "stream",
     "text": [
      "100%|██████████| 128/128 [00:34<00:00,  3.66it/s]\n",
      "  0%|          | 0/128 [00:00<?, ?it/s]"
     ]
    },
    {
     "name": "stdout",
     "output_type": "stream",
     "text": [
      "runtime =  34.991904497146606 sec\n",
      "expected remaining time =  498 sec : 8 minute\n",
      "current epoch :  86\n"
     ]
    },
    {
     "name": "stderr",
     "output_type": "stream",
     "text": [
      "100%|██████████| 128/128 [00:35<00:00,  3.60it/s]\n",
      "  0%|          | 0/128 [00:00<?, ?it/s]"
     ]
    },
    {
     "name": "stdout",
     "output_type": "stream",
     "text": [
      "runtime =  35.50809717178345 sec\n",
      "expected remaining time =  463 sec : 7 minute\n",
      "current epoch :  87\n"
     ]
    },
    {
     "name": "stderr",
     "output_type": "stream",
     "text": [
      "100%|██████████| 128/128 [00:34<00:00,  3.66it/s]\n",
      "  0%|          | 0/128 [00:00<?, ?it/s]"
     ]
    },
    {
     "name": "stdout",
     "output_type": "stream",
     "text": [
      "runtime =  34.92996430397034 sec\n",
      "expected remaining time =  427 sec : 7 minute\n",
      "current epoch :  88\n"
     ]
    },
    {
     "name": "stderr",
     "output_type": "stream",
     "text": [
      "100%|██████████| 128/128 [00:34<00:00,  3.68it/s]\n",
      "  0%|          | 0/128 [00:00<?, ?it/s]"
     ]
    },
    {
     "name": "stdout",
     "output_type": "stream",
     "text": [
      "runtime =  34.819786071777344 sec\n",
      "expected remaining time =  391 sec : 6 minute\n",
      "current epoch :  89\n"
     ]
    },
    {
     "name": "stderr",
     "output_type": "stream",
     "text": [
      "100%|██████████| 128/128 [00:35<00:00,  3.59it/s]\n",
      "  0%|          | 0/128 [00:00<?, ?it/s]"
     ]
    },
    {
     "name": "stdout",
     "output_type": "stream",
     "text": [
      "runtime =  35.61784338951111 sec\n",
      "expected remaining time =  356 sec : 5 minute\n",
      "current epoch :  90\n"
     ]
    },
    {
     "name": "stderr",
     "output_type": "stream",
     "text": [
      "100%|██████████| 128/128 [00:34<00:00,  3.69it/s]\n",
      "  0%|          | 0/128 [00:00<?, ?it/s]"
     ]
    },
    {
     "name": "stdout",
     "output_type": "stream",
     "text": [
      "runtime =  34.65653109550476 sec\n",
      "expected remaining time =  320 sec : 5 minute\n",
      "current epoch :  91\n"
     ]
    },
    {
     "name": "stderr",
     "output_type": "stream",
     "text": [
      "100%|██████████| 128/128 [00:35<00:00,  3.65it/s]\n",
      "  0%|          | 0/128 [00:00<?, ?it/s]"
     ]
    },
    {
     "name": "stdout",
     "output_type": "stream",
     "text": [
      "runtime =  35.11116361618042 sec\n",
      "expected remaining time =  284 sec : 4 minute\n",
      "current epoch :  92\n"
     ]
    },
    {
     "name": "stderr",
     "output_type": "stream",
     "text": [
      "100%|██████████| 128/128 [00:35<00:00,  3.58it/s]\n",
      "  0%|          | 0/128 [00:00<?, ?it/s]"
     ]
    },
    {
     "name": "stdout",
     "output_type": "stream",
     "text": [
      "runtime =  35.710744857788086 sec\n",
      "expected remaining time =  249 sec : 4 minute\n",
      "current epoch :  93\n"
     ]
    },
    {
     "name": "stderr",
     "output_type": "stream",
     "text": [
      "100%|██████████| 128/128 [00:34<00:00,  3.67it/s]\n",
      "  0%|          | 0/128 [00:00<?, ?it/s]"
     ]
    },
    {
     "name": "stdout",
     "output_type": "stream",
     "text": [
      "runtime =  34.880021810531616 sec\n",
      "expected remaining time =  213 sec : 3 minute\n",
      "current epoch :  94\n"
     ]
    },
    {
     "name": "stderr",
     "output_type": "stream",
     "text": [
      "100%|██████████| 128/128 [00:35<00:00,  3.61it/s]\n",
      "  0%|          | 0/128 [00:00<?, ?it/s]"
     ]
    },
    {
     "name": "stdout",
     "output_type": "stream",
     "text": [
      "runtime =  35.41955518722534 sec\n",
      "expected remaining time =  177 sec : 2 minute\n",
      "current epoch :  95\n"
     ]
    },
    {
     "name": "stderr",
     "output_type": "stream",
     "text": [
      "100%|██████████| 128/128 [00:35<00:00,  3.65it/s]\n",
      "  0%|          | 0/128 [00:00<?, ?it/s]"
     ]
    },
    {
     "name": "stdout",
     "output_type": "stream",
     "text": [
      "runtime =  35.11717081069946 sec\n",
      "expected remaining time =  142 sec : 2 minute\n",
      "current epoch :  96\n"
     ]
    },
    {
     "name": "stderr",
     "output_type": "stream",
     "text": [
      "100%|██████████| 128/128 [00:35<00:00,  3.56it/s]\n",
      "  0%|          | 0/128 [00:00<?, ?it/s]"
     ]
    },
    {
     "name": "stdout",
     "output_type": "stream",
     "text": [
      "runtime =  35.965627670288086 sec\n",
      "expected remaining time =  106 sec : 1 minute\n",
      "current epoch :  97\n"
     ]
    },
    {
     "name": "stderr",
     "output_type": "stream",
     "text": [
      "100%|██████████| 128/128 [00:35<00:00,  3.60it/s]\n",
      "  0%|          | 0/128 [00:00<?, ?it/s]"
     ]
    },
    {
     "name": "stdout",
     "output_type": "stream",
     "text": [
      "runtime =  35.56173825263977 sec\n",
      "expected remaining time =  71 sec : 1 minute\n",
      "current epoch :  98\n"
     ]
    },
    {
     "name": "stderr",
     "output_type": "stream",
     "text": [
      "100%|██████████| 128/128 [00:35<00:00,  3.62it/s]\n",
      "  0%|          | 0/128 [00:00<?, ?it/s]"
     ]
    },
    {
     "name": "stdout",
     "output_type": "stream",
     "text": [
      "runtime =  35.350773334503174 sec\n",
      "expected remaining time =  35 sec : 0 minute\n",
      "current epoch :  99\n"
     ]
    },
    {
     "name": "stderr",
     "output_type": "stream",
     "text": [
      "100%|██████████| 128/128 [00:35<00:00,  3.58it/s]\n"
     ]
    },
    {
     "name": "stdout",
     "output_type": "stream",
     "text": [
      "runtime =  35.73525428771973 sec\n",
      "expected remaining time =  0 sec : 0 minute\n"
     ]
    }
   ],
   "source": [
    "from PIL import Image\n",
    "import glob\n",
    "\n",
    "total_time=0.0\n",
    "average_time=0.0\n",
    "iter_epoch=100\n",
    "\n",
    "gif_data = []\n",
    "\n",
    "for epoch in range(iter_epoch):\n",
    "    t_start=time.time()\n",
    "    print(\"current epoch : \",epoch)\n",
    "    train_dcgan(g,d,opt_g,opt_d,img_loader)\n",
    "    t_finish=time.time()\n",
    "    total_time+=t_finish-t_start\n",
    "    average_time=total_time/(epoch+1)\n",
    "    print(\"runtime = \",t_finish-t_start,\"sec\")\n",
    "    print(\"expected remaining time = \",int(average_time*(iter_epoch-(epoch+1))),\"sec\",\":\",int(average_time*(iter_epoch-(epoch+1))/60),\"minute\")\n",
    "    gif_data.append(g(gif_z))\n",
    "    if epoch%1==0:\n",
    "        torch.save(g.state_dict(),\"./data/g_{:03d}.prm\".format(epoch),pickle_protocol=4)\n",
    "        torch.save(d.state_dict(),\"./data/d_{:03d}.prm\".format(epoch),pickle_protocol=4)\n",
    "        generated_img=g(fixed_z)\n",
    "        save_image(generated_img,\"./data/{:03d}.jpg\".format(epoch))\n",
    "        \n",
    "\n",
    "\n",
    "files = sorted(glob.glob('./data/*.jpg'))  \n",
    "images = list(map(lambda file : Image.open(file) , files))\n",
    "images[0].save('generating_process.gif' , save_all = True , append_images = images[1:] , duration = 200 , loop = 0)"
   ]
  },
  {
   "cell_type": "code",
   "execution_count": null,
   "id": "e6c01e03",
   "metadata": {},
   "outputs": [],
   "source": []
  },
  {
   "cell_type": "code",
   "execution_count": null,
   "id": "0158f127",
   "metadata": {},
   "outputs": [],
   "source": []
  }
 ],
 "metadata": {
  "kernelspec": {
   "display_name": "Python 3",
   "language": "python",
   "name": "python3"
  },
  "language_info": {
   "codemirror_mode": {
    "name": "ipython",
    "version": 3
   },
   "file_extension": ".py",
   "mimetype": "text/x-python",
   "name": "python",
   "nbconvert_exporter": "python",
   "pygments_lexer": "ipython3",
   "version": "3.7.10"
  }
 },
 "nbformat": 4,
 "nbformat_minor": 5
}

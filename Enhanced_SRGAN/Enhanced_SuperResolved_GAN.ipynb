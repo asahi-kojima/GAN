{
 "cells": [
  {
   "cell_type": "code",
   "execution_count": 1,
   "id": "9ba3d72b",
   "metadata": {},
   "outputs": [],
   "source": [
    "import os\n",
    "import numpy as np\n",
    "from PIL import Image\n",
    "import torch\n",
    "import torch.nn as nn\n",
    "import torch.nn.functional as F\n",
    "from torch.utils.data import Dataset\n",
    "from torchvision.models import vgg19\n",
    "import torchvision.transforms as transforms\n",
    "import os.path as osp\n",
    "from glob import glob\n",
    "import shutil\n",
    "from tqdm import tqdm\n",
    "\n",
    "import cv2\n",
    "import matplotlib.pyplot as plt\n",
    "import pandas as pd\n",
    "import numpy as np\n",
    "\n",
    "from sklearn.model_selection import train_test_split\n",
    "\n",
    "import sys\n",
    "import json\n",
    "import random\n",
    "\n",
    "from torch import optim\n",
    "from torch.utils.data import DataLoader\n",
    "from torch.autograd import Variable\n",
    "from torchvision.utils import save_image"
   ]
  },
  {
   "cell_type": "code",
   "execution_count": 2,
   "id": "5e6faaee",
   "metadata": {},
   "outputs": [
    {
     "data": {
      "text/plain": [
       "'\\nディレクトリ 構成\\nroot\\n    | - input\\n    |        | - annotation\\n    |        | - cat_face\\n    |                   | - demo\\n    |                   | - test\\n    |                   | - train\\n    |        | - images\\n    |                   | - cat\\n    |\\n    | - outputs\\n\\n'"
      ]
     },
     "execution_count": 2,
     "metadata": {},
     "output_type": "execute_result"
    }
   ],
   "source": [
    "\"\"\"\n",
    "ディレクトリ 構成\n",
    "root\n",
    "    | - input\n",
    "    |        | - annotation\n",
    "    |        | - cat_face\n",
    "    |                   | - demo\n",
    "    |                   | - test\n",
    "    |                   | - train\n",
    "    |        | - images\n",
    "    |                   | - cat\n",
    "    |\n",
    "    | - outputs\n",
    "\n",
    "\"\"\"\n",
    "#"
   ]
  },
  {
   "cell_type": "markdown",
   "id": "346661db",
   "metadata": {},
   "source": [
    "# データのダウンロード"
   ]
  },
  {
   "cell_type": "code",
   "execution_count": 3,
   "id": "412bc447",
   "metadata": {},
   "outputs": [
    {
     "name": "stdout",
     "output_type": "stream",
     "text": [
      "--2021-06-29 17:37:00--  http://www.robots.ox.ac.uk/~vgg/data/flowers/102/102flowers.tgz\n",
      "www.robots.ox.ac.uk (www.robots.ox.ac.uk) をDNSに問いあわせています... 129.67.94.2\n",
      "www.robots.ox.ac.uk (www.robots.ox.ac.uk)|129.67.94.2|:80 に接続しています... 接続しました。\n",
      "HTTP による接続要求を送信しました、応答を待っています... 301 Moved Permanently\n",
      "場所: https://www.robots.ox.ac.uk/~vgg/data/flowers/102/102flowers.tgz [続く]\n",
      "--2021-06-29 17:37:01--  https://www.robots.ox.ac.uk/~vgg/data/flowers/102/102flowers.tgz\n",
      "www.robots.ox.ac.uk (www.robots.ox.ac.uk)|129.67.94.2|:443 に接続しています... 接続しました。\n",
      "HTTP による接続要求を送信しました、応答を待っています... 200 OK\n",
      "長さ: 344862509 (329M) [application/x-gzip]\n",
      "`102flowers.tgz.1' に保存中\n",
      "\n",
      "102flowers.tgz.1    100%[===================>] 328.89M  16.8MB/s    in 20s     \n",
      "\n",
      "2021-06-29 17:37:21 (16.5 MB/s) - `102flowers.tgz.1' へ保存完了 [344862509/344862509]\n",
      "\n",
      "mkdir: ディレクトリ `oxford-102' を作成できません: ファイルが存在します\n",
      "mkdir: ディレクトリ `oxford-102-train' を作成できません: ファイルが存在します\n",
      "mkdir: ディレクトリ `oxford-102-test' を作成できません: ファイルが存在します\n",
      "mkdir: ディレクトリ `params' を作成できません: ファイルが存在します\n",
      "mkdir: ディレクトリ `oxford-102/jpg' を作成できません: ファイルが存在します\n"
     ]
    }
   ],
   "source": [
    "!wget http://www.robots.ox.ac.uk/~vgg/data/flowers/102/102flowers.tgz\n",
    "!tar xf 102flowers.tgz\n",
    "!mkdir oxford-102\n",
    "!mkdir oxford-102-train\n",
    "!mkdir oxford-102-test\n",
    "!mkdir params\n",
    "!mkdir oxford-102/jpg\n",
    "!mv jpg/*.jpg oxford-102/jpg\n",
    "!cp ./oxford-102/jpg/image_0000[1-5].jpg ./oxford-102-test/"
   ]
  },
  {
   "cell_type": "code",
   "execution_count": 4,
   "id": "2e334c19",
   "metadata": {},
   "outputs": [
    {
     "name": "stdout",
     "output_type": "stream",
     "text": [
      "mkdir: ディレクトリ `./output' を作成できません: ファイルが存在します\r\n"
     ]
    }
   ],
   "source": [
    "#パスの定義\n",
    "image_dir = \"./oxford-102/jpg/\"\n",
    "train_dir = \"./oxford-102-train\"\n",
    "test_dir = \"./oxford-102-test\"\n",
    "weight_save_dir = \"./params/\"\n",
    "param_save_path = osp.join(\"./params/\", 'param.json')\n",
    "!mkdir ./output\n",
    "image_test_save_dir = \"./output\""
   ]
  },
  {
   "cell_type": "markdown",
   "id": "00784cd0",
   "metadata": {},
   "source": [
    "# データの加工"
   ]
  },
  {
   "cell_type": "code",
   "execution_count": 5,
   "id": "e9d3cbe9",
   "metadata": {},
   "outputs": [
    {
     "name": "stderr",
     "output_type": "stream",
     "text": [
      "100%|██████████| 8188/8188 [00:50<00:00, 161.51it/s]\n"
     ]
    }
   ],
   "source": [
    "random_crop_times = 4\n",
    "hr_const = 256\n",
    "# クロップする画像のサイズ\n",
    "crop_size = (hr_const, hr_const)\n",
    "\n",
    "def random_crop(image, crop_size):\n",
    "    h, w, _ = image.shape\n",
    "\n",
    "    top = np.random.randint(0, h - crop_size[0])\n",
    "    left = np.random.randint(0, w - crop_size[1])\n",
    "\n",
    "    bottom = top + crop_size[0]\n",
    "    right = left + crop_size[1]\n",
    "\n",
    "    image = image[top:bottom, left:right, :]\n",
    "    return image\n",
    "\n",
    "# 学習に用いる画像\n",
    "lst = [ \"image_{:05}\".format(i) for i in range(1,8189)]\n",
    "cropped_image_save_path = \"./oxford-102-train\"\n",
    "\n",
    "for item in tqdm(lst, total=len(lst)):\n",
    "    image_name = '{}.jpg'.format(item)\n",
    "    image_path = osp.join(image_dir, image_name)\n",
    "    image = cv2.imread(image_path)\n",
    "    h, w, _ = image.shape\n",
    "    # 画像のサイズが小さい時は対象から除外する。\n",
    "    if (h < crop_size[0]) | (w < crop_size[1]):\n",
    "        print('{} size is invalid. h: {},  w: {}'.format(image_name, h, w))\n",
    "        continue\n",
    "    #ランダムクロップ分だけ作る\n",
    "    for num in range(random_crop_times):\n",
    "        cropped_image = random_crop(image, crop_size=crop_size)\n",
    "        image_save_name = '{}_{:03}.jpg'.format(item, num)\n",
    "        cropped_image_save_path = osp.join(train_dir, image_save_name)\n",
    "        os.makedirs(osp.dirname(cropped_image_save_path), exist_ok=True)\n",
    "        cv2.imwrite(cropped_image_save_path, cropped_image)"
   ]
  },
  {
   "cell_type": "markdown",
   "id": "718b31bc",
   "metadata": {},
   "source": [
    "# テスト用とデモ用の画像を専用のディレクトリに移しておく。"
   ]
  },
  {
   "cell_type": "code",
   "execution_count": 6,
   "id": "b42901fc",
   "metadata": {},
   "outputs": [],
   "source": [
    "mean = np.array([0.485, 0.456, 0.406])\n",
    "std = np.array([0.229, 0.224, 0.225])"
   ]
  },
  {
   "cell_type": "code",
   "execution_count": 7,
   "id": "bca81af5",
   "metadata": {},
   "outputs": [],
   "source": [
    "class ImageDataset(Dataset):\n",
    "    \"\"\"\n",
    "    学習のためのDatasetクラス\n",
    "    低解像度と高解像度の両者を提供する。\n",
    "    \"\"\"\n",
    "    def __init__(self, dataset_dir, hr_shape):\n",
    "        hr_height, hr_width = hr_shape\n",
    "        \n",
    "        # 低解像度の画像を取得するための処理\n",
    "        self.lr_transform = transforms.Compose([\n",
    "            transforms.Resize((hr_height // 4, hr_height // 4), Image.BICUBIC),\n",
    "            transforms.ToTensor(),\n",
    "            transforms.Normalize(mean, std)])\n",
    "\n",
    "        # 高像度の画像を取得するための処理\n",
    "        self.hr_transform = transforms.Compose([\n",
    "            transforms.Resize((hr_height, hr_height), Image.BICUBIC),\n",
    "            transforms.ToTensor(),\n",
    "            transforms.Normalize(mean, std)])\n",
    "        \n",
    "        self.files = sorted(glob(osp.join(dataset_dir, '*')))\n",
    "    \n",
    "    def __getitem__(self, index):\n",
    "        img = Image.open(self.files[index % len(self.files)])\n",
    "        img_lr = self.lr_transform(img)\n",
    "        img_hr = self.hr_transform(img)\n",
    "        \n",
    "        return {'lr': img_lr, 'hr': img_hr}\n",
    "    \n",
    "    def __len__(self):\n",
    "        return len(self.files)"
   ]
  },
  {
   "cell_type": "code",
   "execution_count": 8,
   "id": "89d6a7b3",
   "metadata": {},
   "outputs": [],
   "source": [
    "class TestImageDataset(Dataset):\n",
    "    def __init__(self, dataset_dir):\n",
    "        self.hr_transform = transforms.Compose([transforms.ToTensor(),transforms.Normalize(mean, std)])\n",
    "        self.files = sorted(glob(osp.join(dataset_dir, '*')))\n",
    "    \n",
    "    def lr_transform(self, img, img_size):\n",
    "        img_width, img_height = img_size\n",
    "        self.__lr_transform = transforms.Compose([\n",
    "            transforms.Resize((img_height // 4, \n",
    "                               img_width // 4), \n",
    "                               Image.BICUBIC),\n",
    "            transforms.ToTensor(),\n",
    "            transforms.Normalize(mean, std)])\n",
    "        img = self.__lr_transform(img)\n",
    "        return img\n",
    "            \n",
    "    def __getitem__(self, index):\n",
    "        img = Image.open(self.files[index % len(self.files)])\n",
    "        img_size = img.size\n",
    "        img_lr = self.lr_transform(img, img_size)\n",
    "        img_hr = self.hr_transform(img)        \n",
    "        return {'lr': img_lr, 'hr': img_hr}\n",
    "    \n",
    "    def __len__(self):\n",
    "        return len(self.files)"
   ]
  },
  {
   "cell_type": "markdown",
   "id": "20dc7b16",
   "metadata": {},
   "source": [
    "# 生成器の準備"
   ]
  },
  {
   "cell_type": "code",
   "execution_count": 9,
   "id": "b52bed1c",
   "metadata": {},
   "outputs": [],
   "source": [
    "class DenseResidualBlock(nn.Module):\n",
    "    def __init__(self, filters, res_scale = 0.2):\n",
    "        super().__init__()\n",
    "        self.res_scale = res_scale\n",
    "        \n",
    "        def block(in_features, non_linearity = True):\n",
    "            layers = [nn.Conv2d(in_features, filters, 3, 1, 1, bias = True)]\n",
    "            if non_linearity:\n",
    "                layers += [nn.LeakyReLU()]\n",
    "            return nn.Sequential(*layers)\n",
    "    \n",
    "        self.b1 = block(in_features = 1 * filters)\n",
    "        self.b2 = block(in_features = 2 * filters)\n",
    "        self.b3 = block(in_features = 3 * filters)\n",
    "        self.b4 = block(in_features = 4 * filters)\n",
    "        self.b5 = block(in_features = 5 * filters, non_linearity = False)\n",
    "        self.blocks = [self.b1, self.b2, self.b3, self.b4, self.b5]\n",
    "    \n",
    "    def forward(self, x):\n",
    "        inputs = x\n",
    "        for block in self.blocks:\n",
    "            out = block(inputs)\n",
    "            inputs = torch.cat([inputs, out], dim = 1)\n",
    "        return out.mul(self.res_scale) + x"
   ]
  },
  {
   "cell_type": "code",
   "execution_count": 10,
   "id": "8f7a1c9f",
   "metadata": {},
   "outputs": [],
   "source": [
    "# サイズの確認\n",
    "#x = torch.randn(10, 64, 5, 5)\n",
    "#D = DenseResidualBlock(filters = 64)\n",
    "#D(x).shape"
   ]
  },
  {
   "cell_type": "code",
   "execution_count": 11,
   "id": "09b154d7",
   "metadata": {},
   "outputs": [],
   "source": [
    "class ResidualInResidualDenseBlock(nn.Module):\n",
    "    def __init__(self, filters, res_scale=0.2):\n",
    "        super().__init__()\n",
    "        self.res_scale = res_scale\n",
    "        self.dense_blocks = nn.Sequential(\n",
    "            DenseResidualBlock(filters), \n",
    "            DenseResidualBlock(filters), \n",
    "            DenseResidualBlock(filters)\n",
    "        )\n",
    "    \n",
    "    def forward(self, x):\n",
    "        return self.dense_blocks(x).mul(self.res_scale) + x"
   ]
  },
  {
   "cell_type": "code",
   "execution_count": 12,
   "id": "6730f657",
   "metadata": {},
   "outputs": [],
   "source": [
    "# サイズの確認\n",
    "#DD = ResidualInResidualDenseBlock(filters = 64)\n",
    "#DD(x).shape"
   ]
  },
  {
   "cell_type": "code",
   "execution_count": 13,
   "id": "a2da86ed",
   "metadata": {},
   "outputs": [],
   "source": [
    "\"\"\"\n",
    "層の構造\n",
    "\n",
    "Conv2D\n",
    "RinRD-Block\n",
    "     .\n",
    "     .\n",
    "RinRD-Block\n",
    "Conv2D\n",
    "|---------------|\n",
    "|Conve2D     |\n",
    "|LeaklyReLU |\n",
    "|Pixelshuffle |\n",
    "|---------------|\n",
    "     .\n",
    "     .\n",
    "|---------------|\n",
    "|Conve2D     |\n",
    "|LeaklyReLU |\n",
    "|Pixelshuffle |\n",
    "|---------------|\n",
    "Conv2D\n",
    "LeaklyReLU\n",
    "Conv2D\n",
    "\"\"\"\n",
    "\n",
    "class GeneratorRRDB(nn.Module):\n",
    "    def __init__(self, channels, filters = 64, num_res_blocks = 16, num_upsample = 2):\n",
    "        super().__init__()\n",
    "        \n",
    "        self.conv1 = nn.Conv2d(channels, filters, kernel_size = 3, stride = 1, padding = 1)\n",
    "        self.res_blocks = nn.Sequential(*[ResidualInResidualDenseBlock(filters)  for _ in range(num_res_blocks)])\n",
    "        self.conv2 = nn.Conv2d(filters, filters, kernel_size = 3, stride = 1, padding = 1)\n",
    "        \n",
    "        upsample_layers = []\n",
    "        \n",
    "        for _ in range(num_upsample):\n",
    "            upsample_layers += [\n",
    "                nn.Conv2d(filters, filters * 4, kernel_size = 3, stride = 1, padding = 1),\n",
    "                nn.LeakyReLU(),\n",
    "                nn.PixelShuffle(upscale_factor = 2),\n",
    "            ]\n",
    "        self.upsampling = nn.Sequential(*upsample_layers)\n",
    "        self.conv3 = nn.Sequential(\n",
    "            nn.Conv2d(filters, filters, kernel_size = 3, stride = 1, padding = 1),\n",
    "            nn.LeakyReLU(),\n",
    "            nn.Conv2d(filters, channels, kernel_size = 3, stride = 1, padding = 1),\n",
    "        )\n",
    "    \n",
    "    def forward(self, x):\n",
    "        out1 = self.conv1(x)\n",
    "        #print(1,out1.shape)\n",
    "        out = self.res_blocks(out1)\n",
    "        #print(2,out.shape)\n",
    "        out2 = self.conv2(out)\n",
    "        #print(3,out2.shape)\n",
    "        out = torch.add(out1, out2)\n",
    "        #print(4,out.shape)\n",
    "        out = self.upsampling(out)\n",
    "        #print(5,out.shape)\n",
    "        out = self.conv3(out)\n",
    "        #print(6,out.shape)\n",
    "        return out"
   ]
  },
  {
   "cell_type": "code",
   "execution_count": 14,
   "id": "e35a7c83",
   "metadata": {},
   "outputs": [],
   "source": [
    "# サイズの確認\n",
    "# ex : (10,3,32,32) --> (10, 3, 128, 128)\n",
    "#y = torch.randn(10,3,32,32)\n",
    "#DDD = GeneratorRRDB(3, filters = 64, num_res_blocks = 23)\n",
    "#DDD(y).shape"
   ]
  },
  {
   "cell_type": "markdown",
   "id": "189af5db",
   "metadata": {},
   "source": [
    "# 特徴量抽出器"
   ]
  },
  {
   "cell_type": "code",
   "execution_count": 15,
   "id": "ca14bf67",
   "metadata": {},
   "outputs": [],
   "source": [
    "class FeatureExtractor(nn.Module):\n",
    "    \"\"\"\n",
    "    vgg19を応用した特徴量抽出器\n",
    "    \"\"\"\n",
    "    def __init__(self):\n",
    "        super().__init__()\n",
    "        vgg19_model = vgg19(pretrained = True)\n",
    "        self.vgg19_54 = nn.Sequential(*list(vgg19_model.features.children())[:35])\n",
    "\n",
    "    def forward(self, x):\n",
    "        return self.vgg19_54(x)"
   ]
  },
  {
   "cell_type": "code",
   "execution_count": 16,
   "id": "dcad4c16",
   "metadata": {},
   "outputs": [],
   "source": [
    "# サイズ確認用\n",
    "# ex : (10, 3, 128, 128) --> (10, 512, 8,8)\n",
    "#y = torch.randn(10,3,32,32)\n",
    "#FE = FeatureExtractor()\n",
    "#FE(y).shape"
   ]
  },
  {
   "cell_type": "markdown",
   "id": "6779dcb7",
   "metadata": {},
   "source": [
    "# 識別器の準備"
   ]
  },
  {
   "cell_type": "code",
   "execution_count": 17,
   "id": "3f0959bb",
   "metadata": {},
   "outputs": [],
   "source": [
    "class Discriminator(nn.Module):\n",
    "    def __init__(self, input_shape):\n",
    "        super().__init__()\n",
    "                \n",
    "        self.input_shape = input_shape\n",
    "        in_channels, in_height, in_width = self.input_shape\n",
    "        patch_h, patch_w = int(in_height / 2 ** 4), int(in_width / 2 ** 4)\n",
    "        self.output_shape = (1, patch_h, patch_w)\n",
    "    \n",
    "        def discriminator_block(in_filters, out_filters, first_block = False):\n",
    "            layers = []\n",
    "            layers.append(nn.Conv2d(in_filters, \n",
    "                                    out_filters, \n",
    "                                    kernel_size = 3, \n",
    "                                    stride = 1, \n",
    "                                    padding = 1))\n",
    "            if not first_block:\n",
    "                layers.append(nn.BatchNorm2d(out_filters))\n",
    "            layers.append(nn.LeakyReLU(0.2, inplace = True))\n",
    "            layers.append(nn.Conv2d(out_filters, \n",
    "                                    out_filters, \n",
    "                                    kernel_size = 3, \n",
    "                                    stride = 2, \n",
    "                                    padding = 1))\n",
    "            layers.append(nn.BatchNorm2d(out_filters))\n",
    "            layers.append(nn.LeakyReLU(0.2, inplace = True))\n",
    "            return layers\n",
    "        \n",
    "        layers = []\n",
    "        in_filters = in_channels\n",
    "        for i, out_filters in enumerate([64, 128, 256, 512]):\n",
    "            #print(discriminator_block(in_filters, out_filters,  first_block=(i == 0)))\n",
    "            layers.extend(discriminator_block(in_filters, out_filters, first_block=(i == 0)))\n",
    "            in_filters = out_filters\n",
    "        \n",
    "        layers.append(nn.Conv2d(out_filters,  1, kernel_size = 3, stride = 1,  padding = 1))\n",
    "        \n",
    "        self.model = nn.Sequential(*layers)\n",
    "    \n",
    "    def forward(self, img):\n",
    "        return self.model(img)"
   ]
  },
  {
   "cell_type": "markdown",
   "id": "fe63311b",
   "metadata": {},
   "source": [
    "# ESRGANクラスの構成"
   ]
  },
  {
   "cell_type": "code",
   "execution_count": 18,
   "id": "5d5ee8c1",
   "metadata": {},
   "outputs": [],
   "source": [
    "class ESRGAN():\n",
    "    def __init__(self, opt):\n",
    "        # 生成器・識別器の設定\n",
    "        self.generator = GeneratorRRDB(opt.channels, filters = 64, num_res_blocks = opt.residual_blocks).to(opt.device)\n",
    "        self.discriminator = Discriminator(input_shape = (opt.channels, *hr_shape)).to(opt.device)\n",
    "\n",
    "        # 特徴量抽出器の設定\n",
    "        self.feature_extractor = FeatureExtractor().to(opt.device)\n",
    "        self.feature_extractor.eval()\n",
    "        \n",
    "        # 損失関数の設定\n",
    "        self.criterion_GAN = nn.BCEWithLogitsLoss().to(opt.device)\n",
    "        self.criterion_content = nn.L1Loss().to(opt.device)\n",
    "        self.criterion_pixel = nn.L1Loss().to(opt.device)\n",
    "\n",
    "        # オプティマイザーの設定\n",
    "        self.optimizer_G = optim.Adam(self.generator.parameters(), lr = opt.lr, betas = (opt.b1, opt.b2))\n",
    "        self.optimizer_D = optim.Adam(self.discriminator.parameters(), lr = opt.lr, betas = (opt.b1, opt.b2))\n",
    "\n",
    "        # デバイスとテンソル型の定義\n",
    "        self.Tensor = torch.Tensor\n",
    "        self.dev = opt.device\n",
    "        \n",
    "    #==================================================================================\n",
    "    \n",
    "    def pre_train(self, imgs, batch_num):\n",
    "        imgs_lr = imgs['lr'].type(torch.Tensor).to(self.dev)\n",
    "        imgs_hr = imgs['hr'].type(torch.Tensor).to(self.dev)\n",
    "\n",
    "        valid = torch.tensor(np.ones((imgs_lr.size(0), *self.discriminator.output_shape)), requires_grad=False).to(self.dev)\n",
    "        fake = torch.tensor(np.zeros((imgs_lr.size(0), *self.discriminator.output_shape)), requires_grad=False).to(self.dev)\n",
    "\n",
    "        # 勾配初期化\n",
    "        self.optimizer_G.zero_grad()\n",
    "\n",
    "        # 低解像度 --> 高解像度を実行し、ピクセル単位の損失計算\n",
    "        gen_hr = self.generator(imgs_lr)\n",
    "        loss_pixel = self.criterion_pixel(gen_hr, imgs_hr)\n",
    "\n",
    "        # 画素単位の損失であるloss_pixelで事前学習を行う\n",
    "        loss_pixel.backward()\n",
    "        self.optimizer_G.step()\n",
    "        train_info = {'epoch': epoch, 'batch_num': batch_num, 'loss_pixel': loss_pixel.item()}\n",
    "        \"\"\"\n",
    "        if batch_num == 1:\n",
    "            sys.stdout.write('\\n{}'.format(train_info))\n",
    "        else:\n",
    "            sys.stdout.write('\\r{}'.format('\\t'*20))\n",
    "            sys.stdout.write('\\r{}'.format(train_info))\n",
    "        \"\"\"\n",
    "        \n",
    "        sys.stdout.write('\\r{}'.format('\\t'*20))\n",
    "        sys.stdout.write('\\r{}'.format(train_info))\n",
    "        sys.stdout.flush()\n",
    "        \n",
    "    #============================================================================\n",
    "    \n",
    "    def train(self, imgs, batch_num):\n",
    "        imgs_lr = imgs['lr'].type(self.Tensor).to(self.dev)\n",
    "        imgs_hr = imgs['hr'].type(self.Tensor).to(self.dev)\n",
    "\n",
    "        ################### \n",
    "        #####生成器の損失#####\n",
    "        ###################\n",
    "        # 正解ラベル\n",
    "        valid = torch.tensor(np.ones((imgs_lr.size(0), *self.discriminator.output_shape)), requires_grad = False).to(self.dev)\n",
    "        fake = torch.tensor(np.zeros((imgs_lr.size(0), *self.discriminator.output_shape)),requires_grad = False).to(self.dev)\n",
    "\n",
    "        # 低解像度 --> 高解像度\n",
    "        self.optimizer_G.zero_grad()\n",
    "        gen_hr = self.generator(imgs_lr)\n",
    "\n",
    "        # (1)ピクセル単位の損失計算\n",
    "        loss_pixel = self.criterion_pixel(gen_hr, imgs_hr)\n",
    "\n",
    "        # (2)Adversarial loss\n",
    "        # 本物画像と超解像画像の識別器による判定を見る\n",
    "        pred_real = self.discriminator(imgs_hr).detach()\n",
    "        pred_fake = self.discriminator(gen_hr)\n",
    "        loss_GAN = self.criterion_GAN(pred_fake - pred_real.mean(0, keepdim=True), valid)\n",
    "\n",
    "        # (3)Perceptual loss\n",
    "        #特徴量の比較、シンプルな損失関数\n",
    "        gen_feature = self.feature_extractor(gen_hr)\n",
    "        real_feature = self.feature_extractor(imgs_hr).detach()\n",
    "        loss_content = self.criterion_content(gen_feature, real_feature)\n",
    "\n",
    "        \n",
    "        loss_G = loss_content + opt.lambda_adv * loss_GAN + opt.lambda_pixel * loss_pixel\n",
    "        loss_G.backward()\n",
    "        self.optimizer_G.step()\n",
    "\n",
    "        \n",
    "        ################### \n",
    "        #####識別機の損失#####\n",
    "        ###################\n",
    "        self.optimizer_D.zero_grad()\n",
    "        pred_real = self.discriminator(imgs_hr)\n",
    "        pred_fake = self.discriminator(gen_hr.detach())\n",
    "\n",
    "        loss_real = self.criterion_GAN(pred_real - pred_fake.mean(0, keepdim=True), valid)            \n",
    "        loss_fake = self.criterion_GAN(pred_fake - pred_real.mean(0, keepdim=True), fake)    \n",
    "        loss_D = (loss_real + loss_fake) / 2\n",
    "        loss_D.backward()\n",
    "        self.optimizer_D.step()\n",
    "\n",
    "        train_info = {'epoch': epoch, 'batch_num': batch_num,  'loss_D': loss_D.item(), 'loss_G': loss_G.item(),\n",
    "                      'loss_content': loss_content.item(), 'loss_GAN': loss_GAN.item(), 'loss_pixel': loss_pixel.item(),}\n",
    "        \"\"\"\n",
    "        if batch_num == 1:\n",
    "            sys.stdout.write('\\n{}'.format(train_info))\n",
    "        else:\n",
    "            sys.stdout.write('\\r{}'.format('\\t'*20))\n",
    "            sys.stdout.write('\\r{}'.format(train_info))\n",
    "        \"\"\"\n",
    "        sys.stdout.write('\\r{}'.format('\\t'*20))\n",
    "        sys.stdout.write('\\r{}'.format(train_info))\n",
    "        sys.stdout.flush()\n",
    "\n",
    "    def save_image(self,imgs,batches_done):\n",
    "        with torch.no_grad():\n",
    "            imgs_lr = imgs[\"lr\"].type(self.Tensor).to(self.dev)\n",
    "            gen_hr = self.generator(imgs_lr)\n",
    "            gen_hr = denormalize(gen_hr)\n",
    "\n",
    "            image_batch_save_dir = osp.join(image_test_save_dir, '{:03}'.format(i))\n",
    "            gen_hr_dir = osp.join(image_batch_save_dir, \"hr_image\")\n",
    "            os.makedirs(image_batch_save_dir, exist_ok=True)\n",
    "            save_image(gen_hr, osp.join(image_batch_save_dir, \"{:09}.png\".format(batches_done)), nrow=1, normalize=False)\n",
    "        \n",
    "\n",
    "    def save_weight(self, batches_done):\n",
    "        \"\"\"\n",
    "        重みの保存\n",
    "        \"\"\"\n",
    "        generator_weight_path = osp.join(weight_save_dir, \"generator_{:08}.pth\".format(batches_done))\n",
    "        discriminator_weight_path = osp.join(weight_save_dir, \"discriminator_{:08}.pth\".format(batches_done))\n",
    "\n",
    "        torch.save(self.generator.state_dict(), generator_weight_path)\n",
    "        torch.save(self.discriminator.state_dict(), discriminator_weight_path)"
   ]
  },
  {
   "cell_type": "markdown",
   "id": "d68bc106",
   "metadata": {},
   "source": [
    "# 出力用の関数などの定義"
   ]
  },
  {
   "cell_type": "code",
   "execution_count": 19,
   "id": "7d462831",
   "metadata": {},
   "outputs": [],
   "source": [
    "def denormalize(tensors):\n",
    "    \"\"\"\n",
    "    平均と標準偏差により出力を加工\n",
    "    \"\"\"\n",
    "    for chn in range(3):\n",
    "        tensors[:, chn].mul_(std[chn]).add_(mean[chn])\n",
    "    return torch.clamp(tensors, 0, 255)\n",
    "\n",
    "def save_json(file, save_path, mode):\n",
    "    \"\"\"\n",
    "    Jsonファイルを保存\n",
    "    \"\"\"\n",
    "    with open(save_path, mode) as outfile:\n",
    "        json.dump(file, outfile, indent=4)"
   ]
  },
  {
   "cell_type": "markdown",
   "id": "b77f2a9b",
   "metadata": {},
   "source": [
    "# パラメータの準備"
   ]
  },
  {
   "cell_type": "code",
   "execution_count": 20,
   "id": "be06f9e1",
   "metadata": {},
   "outputs": [
    {
     "name": "stdout",
     "output_type": "stream",
     "text": [
      "cuda:0\n"
     ]
    }
   ],
   "source": [
    "#パラメータセット\n",
    "class Opts():\n",
    "    def __init__(self):\n",
    "        self.n_epoch = 50\n",
    "        self.residual_blocks = 17\n",
    "        self.lr = 0.0002\n",
    "        self.b1 = 0.9\n",
    "        self.b2 = 0.999\n",
    "        self.batch_size = 16\n",
    "        self.n_cpu = 8\n",
    "        self.warmup_batches = 500\n",
    "        self.lambda_adv = 5e-3\n",
    "        self.lambda_pixel = 1e-2\n",
    "        self.pretrained = False\n",
    "        self.dataset_name = 'cat'\n",
    "        self.sample_interval = 100\n",
    "        self.checkpoint_interval = 1000\n",
    "        self.hr_height = hr_const\n",
    "        self.hr_width = hr_const\n",
    "        self.channels = 3\n",
    "        self.device = torch.device('cuda:0' if torch.cuda.is_available() else 'cpu')\n",
    "        print(self.device)\n",
    "    def to_dict(self):\n",
    "        parameters = {\n",
    "            'n_epoch': self.n_epoch,\n",
    "            'hr_height': self.hr_height,\n",
    "            'residual_blocks': self.residual_blocks,\n",
    "            'lr': self.lr,\n",
    "            'b1': self.b1,\n",
    "            'b2': self.b2,\n",
    "            'batch_size': self.batch_size,\n",
    "            'n_cpu': self.n_cpu,\n",
    "            'warmup_batches': self.warmup_batches,\n",
    "            'lambda_adv': self.lambda_adv,\n",
    "            'lambda_pixel': self.lambda_pixel,\n",
    "            'pretrained': self.pretrained,\n",
    "            'dataset_name': self.dataset_name,\n",
    "            'sample_interval': self.sample_interval,\n",
    "            'checkpoint_interval': self.checkpoint_interval,\n",
    "            'hr_height': self.hr_height,\n",
    "            'hr_width': self.hr_width,\n",
    "            'channels': self.channels,\n",
    "            'device': str(self.device),\n",
    "        }\n",
    "        return parameters\n",
    "opt = Opts()\n",
    "save_json(opt.to_dict(), param_save_path, 'w')\n",
    "hr_shape = (opt.hr_height, opt.hr_height)"
   ]
  },
  {
   "cell_type": "markdown",
   "id": "1581faa0",
   "metadata": {},
   "source": [
    "# データローダーの準備"
   ]
  },
  {
   "cell_type": "code",
   "execution_count": 21,
   "id": "4e4ac9a9",
   "metadata": {},
   "outputs": [],
   "source": [
    "train_dataloader = DataLoader(\n",
    "    ImageDataset(train_dir, hr_shape = hr_shape),\n",
    "    batch_size = opt.batch_size,\n",
    "    shuffle = True,\n",
    "    num_workers = opt.n_cpu,\n",
    ")\n",
    "\n",
    "test_dataloader = DataLoader(\n",
    "    TestImageDataset(test_dir),\n",
    "    batch_size = 1,\n",
    "    shuffle = False,\n",
    "    num_workers = opt.n_cpu,\n",
    ")"
   ]
  },
  {
   "cell_type": "markdown",
   "id": "5c180e85",
   "metadata": {},
   "source": [
    "# 学習開始"
   ]
  },
  {
   "cell_type": "code",
   "execution_count": 22,
   "id": "adf52091",
   "metadata": {},
   "outputs": [],
   "source": [
    "esrgan = ESRGAN(opt)"
   ]
  },
  {
   "cell_type": "code",
   "execution_count": 23,
   "id": "097e7fa1",
   "metadata": {},
   "outputs": [
    {
     "name": "stdout",
     "output_type": "stream",
     "text": [
      "\n",
      "current epoch :  1\n",
      "{'epoch': 1, 'batch_num': 999, 'loss_D': 0.02499145880246073, 'loss_G': 0.9530349186949307, 'loss_content': 0.9277909994125366, 'loss_GAN': 4.819658363272741, 'loss_pixel': 0.1145627498626709}}}}\n",
      "current epoch :  2\n",
      "{'epoch': 2, 'batch_num': 999, 'loss_D': 0.05047074742428714, 'loss_G': 0.9071336459487345, 'loss_content': 0.8837738633155823, 'loss_GAN': 4.405306091115686, 'loss_pixel': 0.1333252191543579}}}}}}\n",
      "current epoch :  3\n",
      "{'epoch': 3, 'batch_num': 999, 'loss_D': 0.07522459701344696, 'loss_G': 0.8985897478938538, 'loss_content': 0.8762665390968323, 'loss_GAN': 4.252139349700284, 'loss_pixel': 0.10625120252370834}}}}\n",
      "current epoch :  4\n",
      "{'epoch': 4, 'batch_num': 999, 'loss_D': 0.0024322768677695157, 'loss_G': 0.8379886678377648, 'loss_content': 0.7972395420074463, 'loss_GAN': 7.896028984422182, 'loss_pixel': 0.12689809501171112}6}\n",
      "current epoch :  5\n",
      "{'epoch': 5, 'batch_num': 999, 'loss_D': 0.00016243845968615372, 'loss_G': 0.7638726389999316, 'loss_content': 0.7126888036727905, 'loss_GAN': 10.01971342200043, 'loss_pixel': 0.10852682590484619}}\n",
      "current epoch :  6\n",
      "{'epoch': 6, 'batch_num': 999, 'loss_D': 0.0006498772843694482, 'loss_G': 0.776440803488427, 'loss_content': 0.7293089628219604, 'loss_GAN': 9.213866259099776, 'loss_pixel': 0.10625094175338745}}2}\n",
      "current epoch :  7\n",
      "{'epoch': 7, 'batch_num': 999, 'loss_D': 0.00025544553562122617, 'loss_G': 0.8593477122390101, 'loss_content': 0.8096181154251099, 'loss_GAN': 9.704706676256253, 'loss_pixel': 0.12060634791851044}}\n",
      "current epoch :  8\n",
      "{'epoch': 8, 'batch_num': 999, 'loss_D': 0.002770761178627173, 'loss_G': 0.8132805146473462, 'loss_content': 0.7762386798858643, 'loss_GAN': 7.219794107805971, 'loss_pixel': 0.09428642690181732}}}}\n",
      "current epoch :  9\n",
      "{'epoch': 9, 'batch_num': 999, 'loss_D': 0.006590926111545918, 'loss_G': 0.8223884918555046, 'loss_content': 0.7887234091758728, 'loss_GAN': 6.514092517371957, 'loss_pixel': 0.10946201533079147}}}}\n",
      "current epoch :  10\n",
      "{'epoch': 10, 'batch_num': 999, 'loss_D': 0.004059785819278693, 'loss_G': 0.830218468675122, 'loss_content': 0.794579029083252, 'loss_GAN': 6.885823514072651, 'loss_pixel': 0.12103220820426941}4}}}}\n",
      "current epoch :  11\n",
      "{'epoch': 11, 'batch_num': 999, 'loss_D': 0.0061072407170613035, 'loss_G': 0.8444722862966372, 'loss_content': 0.8025608062744141, 'loss_GAN': 8.170827316232293, 'loss_pixel': 0.10573434829711914}}\n",
      "current epoch :  12\n",
      "{'epoch': 12, 'batch_num': 999, 'loss_D': 0.0031729520529323796, 'loss_G': 0.7142386339701604, 'loss_content': 0.6769074201583862, 'loss_GAN': 7.318617656899308, 'loss_pixel': 0.07381255179643631}}\n",
      "current epoch :  13\n",
      "{'epoch': 13, 'batch_num': 999, 'loss_D': 0.007346113443491345, 'loss_G': 0.7008335856366558, 'loss_content': 0.6678165197372437, 'loss_GAN': 6.406076357134234, 'loss_pixel': 0.0986684113740921}9}5}\n",
      "current epoch :  14\n",
      "{'epoch': 14, 'batch_num': 999, 'loss_D': 0.07701796098552739, 'loss_G': 0.7760751053227503, 'loss_content': 0.7504761219024658, 'loss_GAN': 4.956673928581544, 'loss_pixel': 0.081561379134655}4}}}}\n",
      "current epoch :  15\n",
      "{'epoch': 15, 'batch_num': 999, 'loss_D': 0.017185515352843822, 'loss_G': 0.8508428349433524, 'loss_content': 0.821595311164856, 'loss_GAN': 5.631655110866975, 'loss_pixel': 0.10892482101917267}}}3}\n",
      "current epoch :  16\n",
      "{'epoch': 16, 'batch_num': 999, 'loss_D': 0.1927923841699375, 'loss_G': 0.7262207581889152, 'loss_content': 0.7134492993354797, 'loss_GAN': 2.3661295928859616, 'loss_pixel': 0.0940810889005661}1}}9}\n",
      "current epoch :  17\n",
      "{'epoch': 17, 'batch_num': 999, 'loss_D': 0.06265240725236776, 'loss_G': 0.7982140314228313, 'loss_content': 0.7790665626525879, 'loss_GAN': 3.636081047327112, 'loss_pixel': 0.09670635312795639}1}}}\n",
      "current epoch :  18\n",
      "{'epoch': 18, 'batch_num': 999, 'loss_D': 0.225468731685865, 'loss_G': 0.7980984415467645, 'loss_content': 0.7851958274841309, 'loss_GAN': 2.341356171850151, 'loss_pixel': 0.11958332359790802}}}}}}}\n",
      "current epoch :  19\n",
      "{'epoch': 19, 'batch_num': 999, 'loss_D': 0.2772749726766346, 'loss_G': 0.7701970113111664, 'loss_content': 0.7579314112663269, 'loss_GAN': 2.2736223208904986, 'loss_pixel': 0.08974884450435638}}}9}\n",
      "current epoch :  20\n",
      "{'epoch': 20, 'batch_num': 999, 'loss_D': 0.9557391216940143, 'loss_G': 0.6952294811718306, 'loss_content': 0.6901249885559082, 'loss_GAN': 0.8110546901850171, 'loss_pixel': 0.10492192208766937}}}}}\n",
      "current epoch :  21\n",
      "{'epoch': 21, 'batch_num': 999, 'loss_D': 0.3452016517309957, 'loss_G': 0.8053051654506348, 'loss_content': 0.7957388162612915, 'loss_GAN': 1.6643276629199164, 'loss_pixel': 0.12447109073400497}}}}}\n",
      "current epoch :  22\n",
      "{'epoch': 22, 'batch_num': 999, 'loss_D': 0.06074666662693812, 'loss_G': 0.7450695827762929, 'loss_content': 0.7266302108764648, 'loss_GAN': 3.490084422218749, 'loss_pixel': 0.09889497607946396}6}}\n",
      "current epoch :  23\n",
      "{'epoch': 23, 'batch_num': 999, 'loss_D': 0.00989369403484245, 'loss_G': 0.7308054151795859, 'loss_content': 0.7004395127296448, 'loss_GAN': 5.917295670882941, 'loss_pixel': 0.07794240862131119}}}6}\n",
      "current epoch :  24\n",
      "{'epoch': 24, 'batch_num': 999, 'loss_D': 0.43290977745265274, 'loss_G': 0.8028053707547356, 'loss_content': 0.7933967709541321, 'loss_GAN': 1.6445439283151302, 'loss_pixel': 0.11858801543712616}8}\n",
      "current epoch :  25\n",
      "{'epoch': 25, 'batch_num': 999, 'loss_D': 0.0816822208232042, 'loss_G': 0.7841745673561389, 'loss_content': 0.7637182474136353, 'loss_GAN': 3.8957556546463508, 'loss_pixel': 0.09775416553020477}}}\n",
      "current epoch :  26\n",
      "{'epoch': 26, 'batch_num': 999, 'loss_D': 0.002308018088819243, 'loss_G': 0.753084727004254, 'loss_content': 0.7128214836120605, 'loss_GAN': 7.840445735508519, 'loss_pixel': 0.10610147565603256}}2}}\n",
      "current epoch :  27\n",
      "{'epoch': 27, 'batch_num': 999, 'loss_D': 0.006229559167656672, 'loss_G': 0.7752684904916457, 'loss_content': 0.7411142587661743, 'loss_GAN': 6.59479104359194, 'loss_pixel': 0.11802765727043152}}}}}\n",
      "current epoch :  28\n",
      "{'epoch': 28, 'batch_num': 999, 'loss_D': 0.007454486014598506, 'loss_G': 0.6581732274534108, 'loss_content': 0.6265532970428467, 'loss_GAN': 6.141486229150035, 'loss_pixel': 0.09124992787837982}}}}\n",
      "current epoch :  29\n",
      "{'epoch': 29, 'batch_num': 999, 'loss_D': 0.1176673385403736, 'loss_G': 0.6506246454298228, 'loss_content': 0.6311829686164856, 'loss_GAN': 3.717690279832337, 'loss_pixel': 0.0853225439786911}}7}}7}\n",
      "current epoch :  30\n",
      "{'epoch': 30, 'batch_num': 999, 'loss_D': 0.09630092043981725, 'loss_G': 0.7624682293925467, 'loss_content': 0.7396817207336426, 'loss_GAN': 4.347433940508113, 'loss_pixel': 0.10493390262126923}1}}}\n",
      "current epoch :  31\n",
      "{'epoch': 31, 'batch_num': 999, 'loss_D': 0.04185594193660702, 'loss_G': 0.7039375788990767, 'loss_content': 0.6822919845581055, 'loss_GAN': 4.111419445693212, 'loss_pixel': 0.10884971916675568}}}}\n",
      "current epoch :  32\n",
      "{'epoch': 32, 'batch_num': 999, 'loss_D': 0.03819850865528617, 'loss_G': 0.6864508790489836, 'loss_content': 0.6630842685699463, 'loss_GAN': 4.487909647907877, 'loss_pixel': 0.09270622581243515}}}}}\n",
      "current epoch :  33\n",
      "{'epoch': 33, 'batch_num': 999, 'loss_D': 0.1385130937105945, 'loss_G': 0.7302724410724893, 'loss_content': 0.7143727540969849, 'loss_GAN': 2.976088951175523, 'loss_pixel': 0.10192422568798065}}}}}}\n",
      "current epoch :  34\n",
      "{'epoch': 34, 'batch_num': 999, 'loss_D': 0.08053063178584519, 'loss_G': 0.6781217427700404, 'loss_content': 0.6596682071685791, 'loss_GAN': 3.4854822514508075, 'loss_pixel': 0.1026124358177185}5}}}\n",
      "current epoch :  35\n",
      "{'epoch': 35, 'batch_num': 999, 'loss_D': 0.020709074285450074, 'loss_G': 0.7237270728376646, 'loss_content': 0.6986836791038513, 'loss_GAN': 4.786457310783639, 'loss_pixel': 0.11111071705818176}}}}\n",
      "current epoch :  36\n",
      "{'epoch': 36, 'batch_num': 999, 'loss_D': 0.5685673808140604, 'loss_G': 0.6207669813452265, 'loss_content': 0.6118022799491882, 'loss_GAN': 1.5931793169300037, 'loss_pixel': 0.09988048672676086}}}}}\n",
      "current epoch :  37\n",
      "{'epoch': 37, 'batch_num': 999, 'loss_D': 0.0013046040482210816, 'loss_G': 0.6308143946847148, 'loss_content': 0.5906601548194885, 'loss_GAN': 7.87027241973607, 'loss_pixel': 0.08028777688741684}6}}\n",
      "current epoch :  38\n"
     ]
    },
    {
     "name": "stdout",
     "output_type": "stream",
     "text": [
      "{'epoch': 38, 'batch_num': 999, 'loss_D': 0.08748236421455058, 'loss_G': 0.6547391521518816, 'loss_content': 0.6372362375259399, 'loss_GAN': 3.326710588443074, 'loss_pixel': 0.08693616837263107}6}}}\n",
      "current epoch :  39\n",
      "{'epoch': 39, 'batch_num': 999, 'loss_D': 0.06314885156047935, 'loss_G': 0.7383007730915776, 'loss_content': 0.697236955165863, 'loss_GAN': 7.973049210377163, 'loss_pixel': 0.11985718458890915}23}}}\n",
      "current epoch :  40\n",
      "{'epoch': 40, 'batch_num': 999, 'loss_D': 0.010372030576885922, 'loss_G': 0.7504492440032204, 'loss_content': 0.7167840600013733, 'loss_GAN': 6.516064810648376, 'loss_pixel': 0.10848599672317505}}}}\n",
      "current epoch :  41\n",
      "{'epoch': 41, 'batch_num': 999, 'loss_D': 0.003053087491426013, 'loss_G': 0.7594229220915535, 'loss_content': 0.7157421112060547, 'loss_GAN': 8.473323644882921, 'loss_pixel': 0.13141927123069763}}}}\n",
      "current epoch :  42\n",
      "{'epoch': 42, 'batch_num': 999, 'loss_D': 0.00466359841341872, 'loss_G': 0.6125866900511955, 'loss_content': 0.5770354270935059, 'loss_GAN': 6.958224053251248, 'loss_pixel': 0.07601427286863327}2}}}\n",
      "current epoch :  43\n",
      "{'epoch': 43, 'batch_num': 999, 'loss_D': 0.07939582787510975, 'loss_G': 0.720468061582328, 'loss_content': 0.6995702981948853, 'loss_GAN': 3.9890286656381932, 'loss_pixel': 0.09526200592517853}}}2}\n",
      "current epoch :  44\n",
      "{'epoch': 44, 'batch_num': 999, 'loss_D': 0.002967778700196878, 'loss_G': 0.7065795553483808, 'loss_content': 0.6693904995918274, 'loss_GAN': 7.21862228789913, 'loss_pixel': 0.1095944344997406}}}}}}\n",
      "current epoch :  45\n",
      "{'epoch': 45, 'batch_num': 999, 'loss_D': 0.0002854122116323892, 'loss_G': 0.6587373668221708, 'loss_content': 0.6021519303321838, 'loss_GAN': 11.152666069305456, 'loss_pixel': 0.08221061527729034}}\n",
      "current epoch :  46\n",
      "{'epoch': 46, 'batch_num': 999, 'loss_D': 3.5069681901148814e-05, 'loss_G': 0.7233770410675898, 'loss_content': 0.6596722602844238, 'loss_GAN': 12.532007347911001, 'loss_pixel': 0.10447441041469574}\n",
      "current epoch :  47\n",
      "{'epoch': 47, 'batch_num': 999, 'loss_D': 0.004632170645027039, 'loss_G': 0.777871844936761, 'loss_content': 0.7409065961837769, 'loss_GAN': 7.2005034183418095, 'loss_pixel': 0.09627316892147064}3}}\n",
      "current epoch :  48\n",
      "{'epoch': 48, 'batch_num': 999, 'loss_D': 4.7405853585195945e-05, 'loss_G': 0.7474322644483498, 'loss_content': 0.683984100818634, 'loss_GAN': 12.491983607452632, 'loss_pixel': 0.09882456064224243}}\n",
      "current epoch :  49\n",
      "{'epoch': 49, 'batch_num': 999, 'loss_D': 0.00011996978311800723, 'loss_G': 0.686528290105309, 'loss_content': 0.6331648230552673, 'loss_GAN': 10.51064406200791, 'loss_pixel': 0.08102467656135559}8}\n",
      "current epoch :  50\n",
      "{'epoch': 50, 'batch_num': 999, 'loss_D': 0.00014064286009913326, 'loss_G': 0.6851754049136028, 'loss_content': 0.6287363767623901, 'loss_GAN': 11.075169529182935, 'loss_pixel': 0.10631804913282394}"
     ]
    }
   ],
   "source": [
    "for epoch in range(1, opt.n_epoch + 1):\n",
    "    print(\"\\ncurrent epoch : \", epoch)\n",
    "    for batch_num, imgs in enumerate(train_dataloader):\n",
    "        if batch_num < 1000:\n",
    "            batches_done = (epoch - 1) * len(train_dataloader) + batch_num\n",
    "            # 事前学習\n",
    "            if batches_done <= opt.warmup_batches:#500\n",
    "                esrgan.pre_train(imgs, batch_num)\n",
    "            # メイン学習\n",
    "            else:\n",
    "                esrgan.train(imgs, batch_num)\n",
    "            \"\"\"\n",
    "            # 高解像度の生成画像の保存\n",
    "            if batches_done % opt.sample_interval == 0:\n",
    "                for i, imgs in enumerate(test_dataloader):\n",
    "                    esrgan.save_image(imgs, batches_done)\n",
    "            \"\"\"\n",
    "            if batches_done % opt.sample_interval == 0:\n",
    "                for i, imgs in enumerate(test_dataloader):\n",
    "                    esrgan.save_image(imgs,batches_done)\n",
    "            # 学習した重みの保存\n",
    "            if batches_done % opt.checkpoint_interval == 0:\n",
    "                esrgan.save_weight(batches_done)\n",
    "        else:\n",
    "            continue"
   ]
  },
  {
   "cell_type": "markdown",
   "id": "1c85dcb6",
   "metadata": {},
   "source": [
    "# GANの準備"
   ]
  },
  {
   "cell_type": "code",
   "execution_count": 24,
   "id": "30dc2197",
   "metadata": {},
   "outputs": [
    {
     "name": "stdout",
     "output_type": "stream",
     "text": [
      "\n"
     ]
    }
   ],
   "source": [
    "esrgan = GeneratorRRDB(3, filters = 64, num_res_blocks = 17).to(\"cuda:0\")\n",
    "esrgan.load_state_dict(torch.load(\"./params/generator_00101000.pth\"))\n",
    "esrgan.to(\"cpu\")\n",
    "for p in esrgan.parameters():\n",
    "    p.requires_grad = False\n",
    "print()"
   ]
  },
  {
   "cell_type": "code",
   "execution_count": 25,
   "id": "0dbdf7d5",
   "metadata": {},
   "outputs": [],
   "source": [
    "batch_size = 64\n",
    "dev = \"cuda:0\""
   ]
  },
  {
   "cell_type": "code",
   "execution_count": 26,
   "id": "5355bced",
   "metadata": {},
   "outputs": [],
   "source": [
    "nz = 100\n",
    "ngf = 32\n",
    "#(100,1,1) --> (3,64,64)\n",
    "class GNet(nn.Module):\n",
    "    def __init__(self):\n",
    "        super().__init__()\n",
    "        self.main = nn.Sequential(\n",
    "            nn.ConvTranspose2d(nz,ngf*8,4,1,0,bias=False),\n",
    "            nn.BatchNorm2d(ngf*8),\n",
    "            nn.ReLU(inplace=True),\n",
    "            nn.ConvTranspose2d(ngf*8,ngf*4,4,2,1,bias=False),\n",
    "            nn.BatchNorm2d(ngf*4),\n",
    "            nn.ReLU(inplace=True),\n",
    "            nn.ConvTranspose2d(ngf*4,ngf*2,4,2,1,bias=False),\n",
    "            nn.BatchNorm2d(ngf*2),\n",
    "            nn.ReLU(inplace=True),\n",
    "            nn.ConvTranspose2d(ngf*2,ngf*1,4,2,1,bias=False),\n",
    "            nn.BatchNorm2d(ngf*1),\n",
    "            nn.ReLU(inplace=True),\n",
    "            nn.ConvTranspose2d(ngf*1,3,4,2,1,bias=True),\n",
    "            nn.Tanh()\n",
    "            )\n",
    "    def forward(self,x):\n",
    "        out = self.main(x)\n",
    "        return out"
   ]
  },
  {
   "cell_type": "code",
   "execution_count": 27,
   "id": "569a2a6b",
   "metadata": {},
   "outputs": [],
   "source": [
    "ndf=32\n",
    "#(3,64,64) --> (1)\n",
    "class DNet(nn.Module):\n",
    "    def __init__(self):\n",
    "        super().__init__()\n",
    "        self.main = nn.Sequential(\n",
    "            nn.Conv2d(3,ndf,4,2,1,bias=False),\n",
    "            nn.LeakyReLU(0.2,inplace=True),\n",
    "            nn.Conv2d(ndf,ndf*2,4,2,1,bias=False),\n",
    "            nn.BatchNorm2d(ndf*2),\n",
    "            nn.LeakyReLU(0.2,inplace=True),\n",
    "            nn.Conv2d(ndf*2,ndf*4,4,2,1,bias=False),\n",
    "            nn.BatchNorm2d(ndf*4),\n",
    "            nn.LeakyReLU(0.2,inplace=True),\n",
    "            nn.Conv2d(ndf*4,ndf*8,4,2,1,bias=False),\n",
    "            nn.BatchNorm2d(ndf*8),\n",
    "            nn.LeakyReLU(0.2,inplace=True),\n",
    "            nn.Conv2d(ndf*8,1,4,1,0,bias=True)\n",
    "            )\n",
    "\n",
    "    def forward(self,x):\n",
    "        out = self.main(x)\n",
    "        return out.squeeze()"
   ]
  },
  {
   "cell_type": "code",
   "execution_count": 28,
   "id": "2ad4196a",
   "metadata": {},
   "outputs": [],
   "source": [
    "d = DNet().to(dev)\n",
    "g = GNet().to(dev)\n",
    "\n",
    "opt_d = optim.Adam(d.parameters(),lr=0.0002,betas=(0.5,0.999))\n",
    "opt_g = optim.Adam(g.parameters(),lr=0.0002,betas=(0.5,0.999))\n",
    "\n",
    "ones = torch.ones(batch_size).to(dev)\n",
    "zeros = torch.zeros(batch_size).to(dev)\n",
    "\n",
    "loss_f = nn.BCEWithLogitsLoss()\n",
    "\n",
    "fixed_z = torch.randn(64,nz,1,1).to(dev)"
   ]
  },
  {
   "cell_type": "code",
   "execution_count": 29,
   "id": "6da229a8",
   "metadata": {},
   "outputs": [],
   "source": [
    "from statistics import mean\n",
    "\n",
    "def train_dcgan(g,d,opt_g,opt_d,loader):\n",
    "    log_loss_g = []\n",
    "    log_loss_d = []\n",
    "    \n",
    "    for real_img  in tqdm(loader):\n",
    "        #save_image(real_img[0],\"./data_tmp/tmp.jpg\")\n",
    "        real_img = real_img[\"lr\"]\n",
    "        batch_len = len(real_img)\n",
    "        #print(real_img.size())\n",
    "        real_img = real_img.to(dev)\n",
    "        z = torch.randn(batch_len,nz,1,1).to(dev)\n",
    "        #------------------------------------------------------------------------------------------------------------------\n",
    "        fake_img = g(z)                                                         #フェイクイメージの作成\n",
    "        fake_img_tensor = fake_img.detach()                  #フェイクイメージを計算グラフから分離\n",
    "        out = d.forward(fake_img)                                      #フェイクイメージの判定\n",
    "        loss_g = loss_f(out, ones[:batch_len])                 #フェイク画像の損失計算 as 本物\n",
    "        log_loss_g.append(loss_g.item())                        #\n",
    "        d.zero_grad() , g.zero_grad()                               #勾配初期化\n",
    "        loss_g.backward()                                                  #生成機の逆伝搬\n",
    "        opt_g.step()                                                           #生成機の更新\n",
    "        #------------------------------------------------------------------------------------------------------------------\n",
    "        real_out = d.forward(real_img)                                       #本物画像の判定\n",
    "        loss_d_real = loss_f(real_out,ones[:batch_len])         #本物画像の損失計算\n",
    "\n",
    "        fake_img = fake_img_tensor                                          #\n",
    "        fake_out = d.forward(fake_img_tensor)                      #\n",
    "        loss_d_fake = loss_f(fake_out, zeros[:batch_len])    #フェイク画像の損失計算 as フェイク\n",
    "\n",
    "        loss_d = loss_d_real + loss_d_fake\n",
    "        log_loss_d.append(loss_d.item())\n",
    "        d.zero_grad(),g.zero_grad()                                         #勾配初期化\n",
    "        loss_d.backward()                                                          #判別機の逆伝搬\n",
    "        opt_d.step()                                                                   #判別機の更新\n",
    "        #------------------------------------------------------------------------------------------------------------------\n",
    "    return mean(log_loss_g),mean(log_loss_d)"
   ]
  },
  {
   "cell_type": "code",
   "execution_count": 30,
   "id": "0305a82a",
   "metadata": {},
   "outputs": [],
   "source": [
    "if not os.path.exists(\"data\"):\n",
    "    os.mkdir(\"data\")\n",
    "if not os.path.exists(\"data2\"):\n",
    "    os.mkdir(\"data2\")\n",
    "if not os.path.exists(\"data_tmp\"):\n",
    "    os.mkdir(\"data_tmp\")"
   ]
  },
  {
   "cell_type": "code",
   "execution_count": 31,
   "id": "b09b85aa",
   "metadata": {},
   "outputs": [
    {
     "name": "stderr",
     "output_type": "stream",
     "text": [
      "\r",
      "  0%|          | 0/2047 [00:00<?, ?it/s]"
     ]
    },
    {
     "name": "stdout",
     "output_type": "stream",
     "text": [
      "current epoch :  0\n"
     ]
    },
    {
     "name": "stderr",
     "output_type": "stream",
     "text": [
      "100%|██████████| 2047/2047 [00:54<00:00, 37.78it/s]\n",
      "  0%|          | 0/2047 [00:00<?, ?it/s]"
     ]
    },
    {
     "name": "stdout",
     "output_type": "stream",
     "text": [
      "runtime =  76.60332942008972 sec\n",
      "expected remaining time =  15244 sec : 254 minute\n",
      "current epoch :  1\n"
     ]
    },
    {
     "name": "stderr",
     "output_type": "stream",
     "text": [
      "100%|██████████| 2047/2047 [00:54<00:00, 37.84it/s]\n",
      "  0%|          | 0/2047 [00:00<?, ?it/s]"
     ]
    },
    {
     "name": "stdout",
     "output_type": "stream",
     "text": [
      "runtime =  76.18837594985962 sec\n",
      "expected remaining time =  15126 sec : 252 minute\n",
      "current epoch :  2\n"
     ]
    },
    {
     "name": "stderr",
     "output_type": "stream",
     "text": [
      "100%|██████████| 2047/2047 [00:54<00:00, 37.44it/s]\n",
      "  0%|          | 0/2047 [00:00<?, ?it/s]"
     ]
    },
    {
     "name": "stdout",
     "output_type": "stream",
     "text": [
      "runtime =  75.48704433441162 sec\n",
      "expected remaining time =  14990 sec : 249 minute\n",
      "current epoch :  3\n"
     ]
    },
    {
     "name": "stderr",
     "output_type": "stream",
     "text": [
      "100%|██████████| 2047/2047 [00:54<00:00, 37.77it/s]\n",
      "  0%|          | 0/2047 [00:00<?, ?it/s]"
     ]
    },
    {
     "name": "stdout",
     "output_type": "stream",
     "text": [
      "runtime =  74.93388557434082 sec\n",
      "expected remaining time =  14857 sec : 247 minute\n",
      "current epoch :  4\n"
     ]
    },
    {
     "name": "stderr",
     "output_type": "stream",
     "text": [
      "100%|██████████| 2047/2047 [00:52<00:00, 38.74it/s]\n",
      "  0%|          | 0/2047 [00:00<?, ?it/s]"
     ]
    },
    {
     "name": "stdout",
     "output_type": "stream",
     "text": [
      "runtime =  74.33900117874146 sec\n",
      "expected remaining time =  14724 sec : 245 minute\n",
      "current epoch :  5\n"
     ]
    },
    {
     "name": "stderr",
     "output_type": "stream",
     "text": [
      "100%|██████████| 2047/2047 [00:53<00:00, 37.97it/s]\n",
      "  0%|          | 0/2047 [00:00<?, ?it/s]"
     ]
    },
    {
     "name": "stdout",
     "output_type": "stream",
     "text": [
      "runtime =  76.34305787086487 sec\n",
      "expected remaining time =  14675 sec : 244 minute\n",
      "current epoch :  6\n"
     ]
    },
    {
     "name": "stderr",
     "output_type": "stream",
     "text": [
      "100%|██████████| 2047/2047 [00:54<00:00, 37.73it/s]\n",
      "  0%|          | 0/2047 [00:00<?, ?it/s]"
     ]
    },
    {
     "name": "stdout",
     "output_type": "stream",
     "text": [
      "runtime =  74.81297659873962 sec\n",
      "expected remaining time =  14577 sec : 242 minute\n",
      "current epoch :  7\n"
     ]
    },
    {
     "name": "stderr",
     "output_type": "stream",
     "text": [
      "100%|██████████| 2047/2047 [00:53<00:00, 37.93it/s]\n",
      "  0%|          | 0/2047 [00:00<?, ?it/s]"
     ]
    },
    {
     "name": "stdout",
     "output_type": "stream",
     "text": [
      "runtime =  75.21408462524414 sec\n",
      "expected remaining time =  14494 sec : 241 minute\n",
      "current epoch :  8\n"
     ]
    },
    {
     "name": "stderr",
     "output_type": "stream",
     "text": [
      "100%|██████████| 2047/2047 [00:53<00:00, 38.07it/s]\n",
      "  0%|          | 0/2047 [00:00<?, ?it/s]"
     ]
    },
    {
     "name": "stdout",
     "output_type": "stream",
     "text": [
      "runtime =  75.89020991325378 sec\n",
      "expected remaining time =  14427 sec : 240 minute\n",
      "current epoch :  9\n"
     ]
    },
    {
     "name": "stderr",
     "output_type": "stream",
     "text": [
      "100%|██████████| 2047/2047 [00:53<00:00, 38.02it/s]\n",
      "  0%|          | 0/2047 [00:00<?, ?it/s]"
     ]
    },
    {
     "name": "stdout",
     "output_type": "stream",
     "text": [
      "runtime =  75.91139459609985 sec\n",
      "expected remaining time =  14358 sec : 239 minute\n",
      "current epoch :  10\n"
     ]
    },
    {
     "name": "stderr",
     "output_type": "stream",
     "text": [
      "100%|██████████| 2047/2047 [00:54<00:00, 37.84it/s]\n",
      "  0%|          | 0/2047 [00:00<?, ?it/s]"
     ]
    },
    {
     "name": "stdout",
     "output_type": "stream",
     "text": [
      "runtime =  74.73224520683289 sec\n",
      "expected remaining time =  14268 sec : 237 minute\n",
      "current epoch :  11\n"
     ]
    },
    {
     "name": "stderr",
     "output_type": "stream",
     "text": [
      "100%|██████████| 2047/2047 [00:54<00:00, 37.82it/s]\n",
      "  0%|          | 0/2047 [00:00<?, ?it/s]"
     ]
    },
    {
     "name": "stdout",
     "output_type": "stream",
     "text": [
      "runtime =  74.8126928806305 sec\n",
      "expected remaining time =  14182 sec : 236 minute\n",
      "current epoch :  12\n"
     ]
    },
    {
     "name": "stderr",
     "output_type": "stream",
     "text": [
      "100%|██████████| 2047/2047 [00:53<00:00, 38.40it/s]\n",
      "  0%|          | 0/2047 [00:00<?, ?it/s]"
     ]
    },
    {
     "name": "stdout",
     "output_type": "stream",
     "text": [
      "runtime =  74.96896290779114 sec\n",
      "expected remaining time =  14100 sec : 235 minute\n",
      "current epoch :  13\n"
     ]
    },
    {
     "name": "stderr",
     "output_type": "stream",
     "text": [
      "100%|██████████| 2047/2047 [00:53<00:00, 38.15it/s]\n",
      "  0%|          | 0/2047 [00:00<?, ?it/s]"
     ]
    },
    {
     "name": "stdout",
     "output_type": "stream",
     "text": [
      "runtime =  75.49866652488708 sec\n",
      "expected remaining time =  14026 sec : 233 minute\n",
      "current epoch :  14\n"
     ]
    },
    {
     "name": "stderr",
     "output_type": "stream",
     "text": [
      "100%|██████████| 2047/2047 [00:53<00:00, 38.50it/s]\n",
      "  0%|          | 0/2047 [00:00<?, ?it/s]"
     ]
    },
    {
     "name": "stdout",
     "output_type": "stream",
     "text": [
      "runtime =  73.69672846794128 sec\n",
      "expected remaining time =  13929 sec : 232 minute\n",
      "current epoch :  15\n"
     ]
    },
    {
     "name": "stderr",
     "output_type": "stream",
     "text": [
      "100%|██████████| 2047/2047 [00:53<00:00, 38.08it/s]\n",
      "  0%|          | 0/2047 [00:00<?, ?it/s]"
     ]
    },
    {
     "name": "stdout",
     "output_type": "stream",
     "text": [
      "runtime =  74.40579891204834 sec\n",
      "expected remaining time =  13844 sec : 230 minute\n",
      "current epoch :  16\n"
     ]
    },
    {
     "name": "stderr",
     "output_type": "stream",
     "text": [
      "100%|██████████| 2047/2047 [00:53<00:00, 38.28it/s]\n",
      "  0%|          | 0/2047 [00:00<?, ?it/s]"
     ]
    },
    {
     "name": "stdout",
     "output_type": "stream",
     "text": [
      "runtime =  74.97468423843384 sec\n",
      "expected remaining time =  13766 sec : 229 minute\n",
      "current epoch :  17\n"
     ]
    },
    {
     "name": "stderr",
     "output_type": "stream",
     "text": [
      "100%|██████████| 2047/2047 [00:52<00:00, 38.79it/s]\n",
      "  0%|          | 0/2047 [00:00<?, ?it/s]"
     ]
    },
    {
     "name": "stdout",
     "output_type": "stream",
     "text": [
      "runtime =  74.73162174224854 sec\n",
      "expected remaining time =  13685 sec : 228 minute\n",
      "current epoch :  18\n"
     ]
    },
    {
     "name": "stderr",
     "output_type": "stream",
     "text": [
      "100%|██████████| 2047/2047 [00:54<00:00, 37.66it/s]\n",
      "  0%|          | 0/2047 [00:00<?, ?it/s]"
     ]
    },
    {
     "name": "stdout",
     "output_type": "stream",
     "text": [
      "runtime =  75.18484091758728 sec\n",
      "expected remaining time =  13610 sec : 226 minute\n",
      "current epoch :  19\n"
     ]
    },
    {
     "name": "stderr",
     "output_type": "stream",
     "text": [
      "100%|██████████| 2047/2047 [00:54<00:00, 37.56it/s]\n",
      "  0%|          | 0/2047 [00:00<?, ?it/s]"
     ]
    },
    {
     "name": "stdout",
     "output_type": "stream",
     "text": [
      "runtime =  75.18066000938416 sec\n",
      "expected remaining time =  13535 sec : 225 minute\n",
      "current epoch :  20\n"
     ]
    },
    {
     "name": "stderr",
     "output_type": "stream",
     "text": [
      "100%|██████████| 2047/2047 [00:54<00:00, 37.27it/s]\n",
      "  0%|          | 0/2047 [00:00<?, ?it/s]"
     ]
    },
    {
     "name": "stdout",
     "output_type": "stream",
     "text": [
      "runtime =  76.94636726379395 sec\n",
      "expected remaining time =  13474 sec : 224 minute\n",
      "current epoch :  21\n"
     ]
    },
    {
     "name": "stderr",
     "output_type": "stream",
     "text": [
      "100%|██████████| 2047/2047 [00:53<00:00, 37.99it/s]\n",
      "  0%|          | 0/2047 [00:00<?, ?it/s]"
     ]
    },
    {
     "name": "stdout",
     "output_type": "stream",
     "text": [
      "runtime =  75.92551183700562 sec\n",
      "expected remaining time =  13404 sec : 223 minute\n",
      "current epoch :  22\n"
     ]
    },
    {
     "name": "stderr",
     "output_type": "stream",
     "text": [
      "100%|██████████| 2047/2047 [00:53<00:00, 38.26it/s]\n",
      "  0%|          | 0/2047 [00:00<?, ?it/s]"
     ]
    },
    {
     "name": "stdout",
     "output_type": "stream",
     "text": [
      "runtime =  74.31790280342102 sec\n",
      "expected remaining time =  13321 sec : 222 minute\n",
      "current epoch :  23\n"
     ]
    },
    {
     "name": "stderr",
     "output_type": "stream",
     "text": [
      "100%|██████████| 2047/2047 [00:55<00:00, 37.18it/s]\n",
      "  0%|          | 0/2047 [00:00<?, ?it/s]"
     ]
    },
    {
     "name": "stdout",
     "output_type": "stream",
     "text": [
      "runtime =  75.99867367744446 sec\n",
      "expected remaining time =  13252 sec : 220 minute\n",
      "current epoch :  24\n"
     ]
    },
    {
     "name": "stderr",
     "output_type": "stream",
     "text": [
      "100%|██████████| 2047/2047 [00:53<00:00, 38.18it/s]\n",
      "  0%|          | 0/2047 [00:00<?, ?it/s]"
     ]
    },
    {
     "name": "stdout",
     "output_type": "stream",
     "text": [
      "runtime =  75.7699966430664 sec\n",
      "expected remaining time =  13180 sec : 219 minute\n",
      "current epoch :  25\n"
     ]
    },
    {
     "name": "stderr",
     "output_type": "stream",
     "text": [
      "100%|██████████| 2047/2047 [00:53<00:00, 38.31it/s]\n",
      "  0%|          | 0/2047 [00:00<?, ?it/s]"
     ]
    },
    {
     "name": "stdout",
     "output_type": "stream",
     "text": [
      "runtime =  74.88212418556213 sec\n",
      "expected remaining time =  13101 sec : 218 minute\n",
      "current epoch :  26\n"
     ]
    },
    {
     "name": "stderr",
     "output_type": "stream",
     "text": [
      "100%|██████████| 2047/2047 [00:54<00:00, 37.79it/s]\n",
      "  0%|          | 0/2047 [00:00<?, ?it/s]"
     ]
    },
    {
     "name": "stdout",
     "output_type": "stream",
     "text": [
      "runtime =  74.8057861328125 sec\n",
      "expected remaining time =  13023 sec : 217 minute\n",
      "current epoch :  27\n"
     ]
    },
    {
     "name": "stderr",
     "output_type": "stream",
     "text": [
      "100%|██████████| 2047/2047 [00:53<00:00, 38.13it/s]\n",
      "  0%|          | 0/2047 [00:00<?, ?it/s]"
     ]
    },
    {
     "name": "stdout",
     "output_type": "stream",
     "text": [
      "runtime =  74.83475017547607 sec\n",
      "expected remaining time =  12945 sec : 215 minute\n",
      "current epoch :  28\n"
     ]
    },
    {
     "name": "stderr",
     "output_type": "stream",
     "text": [
      "100%|██████████| 2047/2047 [00:54<00:00, 37.78it/s]\n",
      "  0%|          | 0/2047 [00:00<?, ?it/s]"
     ]
    },
    {
     "name": "stdout",
     "output_type": "stream",
     "text": [
      "runtime =  76.32032680511475 sec\n",
      "expected remaining time =  12876 sec : 214 minute\n",
      "current epoch :  29\n"
     ]
    },
    {
     "name": "stderr",
     "output_type": "stream",
     "text": [
      "100%|██████████| 2047/2047 [00:53<00:00, 38.08it/s]\n",
      "  0%|          | 0/2047 [00:00<?, ?it/s]"
     ]
    },
    {
     "name": "stdout",
     "output_type": "stream",
     "text": [
      "runtime =  74.878577709198 sec\n",
      "expected remaining time =  12798 sec : 213 minute\n",
      "current epoch :  30\n"
     ]
    },
    {
     "name": "stderr",
     "output_type": "stream",
     "text": [
      "100%|██████████| 2047/2047 [00:52<00:00, 38.78it/s]\n",
      "  0%|          | 0/2047 [00:00<?, ?it/s]"
     ]
    },
    {
     "name": "stdout",
     "output_type": "stream",
     "text": [
      "runtime =  73.52047657966614 sec\n",
      "expected remaining time =  12713 sec : 211 minute\n",
      "current epoch :  31\n"
     ]
    },
    {
     "name": "stderr",
     "output_type": "stream",
     "text": [
      "100%|██████████| 2047/2047 [00:53<00:00, 37.92it/s]\n",
      "  0%|          | 0/2047 [00:00<?, ?it/s]"
     ]
    },
    {
     "name": "stdout",
     "output_type": "stream",
     "text": [
      "runtime =  74.86727023124695 sec\n",
      "expected remaining time =  12636 sec : 210 minute\n",
      "current epoch :  32\n"
     ]
    },
    {
     "name": "stderr",
     "output_type": "stream",
     "text": [
      "100%|██████████| 2047/2047 [00:53<00:00, 38.38it/s]\n",
      "  0%|          | 0/2047 [00:00<?, ?it/s]"
     ]
    },
    {
     "name": "stdout",
     "output_type": "stream",
     "text": [
      "runtime =  75.48713278770447 sec\n",
      "expected remaining time =  12562 sec : 209 minute\n",
      "current epoch :  33\n"
     ]
    },
    {
     "name": "stderr",
     "output_type": "stream",
     "text": [
      "100%|██████████| 2047/2047 [00:53<00:00, 38.18it/s]\n",
      "  0%|          | 0/2047 [00:00<?, ?it/s]"
     ]
    },
    {
     "name": "stdout",
     "output_type": "stream",
     "text": [
      "runtime =  75.04845237731934 sec\n",
      "expected remaining time =  12486 sec : 208 minute\n",
      "current epoch :  34\n"
     ]
    },
    {
     "name": "stderr",
     "output_type": "stream",
     "text": [
      "100%|██████████| 2047/2047 [00:52<00:00, 38.70it/s]\n",
      "  0%|          | 0/2047 [00:00<?, ?it/s]"
     ]
    },
    {
     "name": "stdout",
     "output_type": "stream",
     "text": [
      "runtime =  73.45948123931885 sec\n",
      "expected remaining time =  12403 sec : 206 minute\n",
      "current epoch :  35\n"
     ]
    },
    {
     "name": "stderr",
     "output_type": "stream",
     "text": [
      "100%|██████████| 2047/2047 [00:53<00:00, 38.31it/s]\n",
      "  0%|          | 0/2047 [00:00<?, ?it/s]"
     ]
    },
    {
     "name": "stdout",
     "output_type": "stream",
     "text": [
      "runtime =  73.9977433681488 sec\n",
      "expected remaining time =  12322 sec : 205 minute\n",
      "current epoch :  36\n"
     ]
    },
    {
     "name": "stderr",
     "output_type": "stream",
     "text": [
      "100%|██████████| 2047/2047 [00:53<00:00, 38.09it/s]\n",
      "  0%|          | 0/2047 [00:00<?, ?it/s]"
     ]
    },
    {
     "name": "stdout",
     "output_type": "stream",
     "text": [
      "runtime =  76.59629225730896 sec\n",
      "expected remaining time =  12253 sec : 204 minute\n",
      "current epoch :  37\n"
     ]
    },
    {
     "name": "stderr",
     "output_type": "stream",
     "text": [
      "100%|██████████| 2047/2047 [00:53<00:00, 37.95it/s]\n",
      "  0%|          | 0/2047 [00:00<?, ?it/s]"
     ]
    },
    {
     "name": "stdout",
     "output_type": "stream",
     "text": [
      "runtime =  75.56187415122986 sec\n",
      "expected remaining time =  12180 sec : 203 minute\n",
      "current epoch :  38\n"
     ]
    },
    {
     "name": "stderr",
     "output_type": "stream",
     "text": [
      "100%|██████████| 2047/2047 [00:53<00:00, 38.09it/s]\n",
      "  0%|          | 0/2047 [00:00<?, ?it/s]"
     ]
    },
    {
     "name": "stdout",
     "output_type": "stream",
     "text": [
      "runtime =  74.40118837356567 sec\n",
      "expected remaining time =  12101 sec : 201 minute\n",
      "current epoch :  39\n"
     ]
    },
    {
     "name": "stderr",
     "output_type": "stream",
     "text": [
      "100%|██████████| 2047/2047 [00:53<00:00, 38.24it/s]\n",
      "  0%|          | 0/2047 [00:00<?, ?it/s]"
     ]
    },
    {
     "name": "stdout",
     "output_type": "stream",
     "text": [
      "runtime =  74.43310236930847 sec\n",
      "expected remaining time =  12023 sec : 200 minute\n",
      "current epoch :  40\n"
     ]
    },
    {
     "name": "stderr",
     "output_type": "stream",
     "text": [
      "100%|██████████| 2047/2047 [00:53<00:00, 38.17it/s]\n",
      "  0%|          | 0/2047 [00:00<?, ?it/s]"
     ]
    },
    {
     "name": "stdout",
     "output_type": "stream",
     "text": [
      "runtime =  75.67383623123169 sec\n",
      "expected remaining time =  11950 sec : 199 minute\n",
      "current epoch :  41\n"
     ]
    },
    {
     "name": "stderr",
     "output_type": "stream",
     "text": [
      "100%|██████████| 2047/2047 [00:53<00:00, 38.53it/s]\n",
      "  0%|          | 0/2047 [00:00<?, ?it/s]"
     ]
    },
    {
     "name": "stdout",
     "output_type": "stream",
     "text": [
      "runtime =  74.8947765827179 sec\n",
      "expected remaining time =  11874 sec : 197 minute\n",
      "current epoch :  42\n"
     ]
    },
    {
     "name": "stderr",
     "output_type": "stream",
     "text": [
      "100%|██████████| 2047/2047 [00:53<00:00, 38.16it/s]\n",
      "  0%|          | 0/2047 [00:00<?, ?it/s]"
     ]
    },
    {
     "name": "stdout",
     "output_type": "stream",
     "text": [
      "runtime =  74.74103546142578 sec\n",
      "expected remaining time =  11797 sec : 196 minute\n",
      "current epoch :  43\n"
     ]
    },
    {
     "name": "stderr",
     "output_type": "stream",
     "text": [
      "100%|██████████| 2047/2047 [00:54<00:00, 37.78it/s]\n",
      "  0%|          | 0/2047 [00:00<?, ?it/s]"
     ]
    },
    {
     "name": "stdout",
     "output_type": "stream",
     "text": [
      "runtime =  75.20230460166931 sec\n",
      "expected remaining time =  11722 sec : 195 minute\n",
      "current epoch :  44\n"
     ]
    },
    {
     "name": "stderr",
     "output_type": "stream",
     "text": [
      "100%|██████████| 2047/2047 [00:53<00:00, 38.09it/s]\n",
      "  0%|          | 0/2047 [00:00<?, ?it/s]"
     ]
    },
    {
     "name": "stdout",
     "output_type": "stream",
     "text": [
      "runtime =  75.85534191131592 sec\n",
      "expected remaining time =  11650 sec : 194 minute\n",
      "current epoch :  45\n"
     ]
    },
    {
     "name": "stderr",
     "output_type": "stream",
     "text": [
      "100%|██████████| 2047/2047 [00:53<00:00, 38.15it/s]\n",
      "  0%|          | 0/2047 [00:00<?, ?it/s]"
     ]
    },
    {
     "name": "stdout",
     "output_type": "stream",
     "text": [
      "runtime =  75.05534219741821 sec\n",
      "expected remaining time =  11574 sec : 192 minute\n",
      "current epoch :  46\n"
     ]
    },
    {
     "name": "stderr",
     "output_type": "stream",
     "text": [
      "100%|██████████| 2047/2047 [00:53<00:00, 38.36it/s]\n",
      "  0%|          | 0/2047 [00:00<?, ?it/s]"
     ]
    },
    {
     "name": "stdout",
     "output_type": "stream",
     "text": [
      "runtime =  73.92623281478882 sec\n",
      "expected remaining time =  11495 sec : 191 minute\n",
      "current epoch :  47\n"
     ]
    },
    {
     "name": "stderr",
     "output_type": "stream",
     "text": [
      "100%|██████████| 2047/2047 [00:53<00:00, 38.07it/s]\n",
      "  0%|          | 0/2047 [00:00<?, ?it/s]"
     ]
    },
    {
     "name": "stdout",
     "output_type": "stream",
     "text": [
      "runtime =  74.52812790870667 sec\n",
      "expected remaining time =  11418 sec : 190 minute\n",
      "current epoch :  48\n"
     ]
    },
    {
     "name": "stderr",
     "output_type": "stream",
     "text": [
      "100%|██████████| 2047/2047 [00:53<00:00, 38.08it/s]\n",
      "  0%|          | 0/2047 [00:00<?, ?it/s]"
     ]
    },
    {
     "name": "stdout",
     "output_type": "stream",
     "text": [
      "runtime =  75.66732144355774 sec\n",
      "expected remaining time =  11345 sec : 189 minute\n",
      "current epoch :  49\n"
     ]
    },
    {
     "name": "stderr",
     "output_type": "stream",
     "text": [
      "100%|██████████| 2047/2047 [00:54<00:00, 37.69it/s]\n",
      "  0%|          | 0/2047 [00:00<?, ?it/s]"
     ]
    },
    {
     "name": "stdout",
     "output_type": "stream",
     "text": [
      "runtime =  75.62999773025513 sec\n",
      "expected remaining time =  11271 sec : 187 minute\n",
      "current epoch :  50\n"
     ]
    },
    {
     "name": "stderr",
     "output_type": "stream",
     "text": [
      "100%|██████████| 2047/2047 [00:53<00:00, 38.54it/s]\n",
      "  0%|          | 0/2047 [00:00<?, ?it/s]"
     ]
    },
    {
     "name": "stdout",
     "output_type": "stream",
     "text": [
      "runtime =  73.87914061546326 sec\n",
      "expected remaining time =  11192 sec : 186 minute\n",
      "current epoch :  51\n"
     ]
    },
    {
     "name": "stderr",
     "output_type": "stream",
     "text": [
      "100%|██████████| 2047/2047 [00:53<00:00, 38.16it/s]\n",
      "  0%|          | 0/2047 [00:00<?, ?it/s]"
     ]
    },
    {
     "name": "stdout",
     "output_type": "stream",
     "text": [
      "runtime =  74.30161571502686 sec\n",
      "expected remaining time =  11115 sec : 185 minute\n",
      "current epoch :  52\n"
     ]
    },
    {
     "name": "stderr",
     "output_type": "stream",
     "text": [
      "100%|██████████| 2047/2047 [00:54<00:00, 37.64it/s]\n",
      "  0%|          | 0/2047 [00:00<?, ?it/s]"
     ]
    },
    {
     "name": "stdout",
     "output_type": "stream",
     "text": [
      "runtime =  76.70125770568848 sec\n",
      "expected remaining time =  11044 sec : 184 minute\n",
      "current epoch :  53\n"
     ]
    },
    {
     "name": "stderr",
     "output_type": "stream",
     "text": [
      "100%|██████████| 2047/2047 [00:53<00:00, 38.43it/s]\n",
      "  0%|          | 0/2047 [00:00<?, ?it/s]"
     ]
    },
    {
     "name": "stdout",
     "output_type": "stream",
     "text": [
      "runtime =  74.46799921989441 sec\n",
      "expected remaining time =  10967 sec : 182 minute\n",
      "current epoch :  54\n"
     ]
    },
    {
     "name": "stderr",
     "output_type": "stream",
     "text": [
      "100%|██████████| 2047/2047 [00:54<00:00, 37.87it/s]\n",
      "  0%|          | 0/2047 [00:00<?, ?it/s]"
     ]
    },
    {
     "name": "stdout",
     "output_type": "stream",
     "text": [
      "runtime =  75.0064389705658 sec\n",
      "expected remaining time =  10892 sec : 181 minute\n",
      "current epoch :  55\n"
     ]
    },
    {
     "name": "stderr",
     "output_type": "stream",
     "text": [
      "100%|██████████| 2047/2047 [00:53<00:00, 38.08it/s]\n",
      "  0%|          | 0/2047 [00:00<?, ?it/s]"
     ]
    },
    {
     "name": "stdout",
     "output_type": "stream",
     "text": [
      "runtime =  74.48415327072144 sec\n",
      "expected remaining time =  10815 sec : 180 minute\n",
      "current epoch :  56\n"
     ]
    },
    {
     "name": "stderr",
     "output_type": "stream",
     "text": [
      "100%|██████████| 2047/2047 [00:53<00:00, 38.20it/s]\n",
      "  0%|          | 0/2047 [00:00<?, ?it/s]"
     ]
    },
    {
     "name": "stdout",
     "output_type": "stream",
     "text": [
      "runtime =  75.73116517066956 sec\n",
      "expected remaining time =  10741 sec : 179 minute\n",
      "current epoch :  57\n"
     ]
    },
    {
     "name": "stderr",
     "output_type": "stream",
     "text": [
      "100%|██████████| 2047/2047 [00:54<00:00, 37.59it/s]\n",
      "  0%|          | 0/2047 [00:00<?, ?it/s]"
     ]
    },
    {
     "name": "stdout",
     "output_type": "stream",
     "text": [
      "runtime =  75.66641545295715 sec\n",
      "expected remaining time =  10668 sec : 177 minute\n",
      "current epoch :  58\n"
     ]
    },
    {
     "name": "stderr",
     "output_type": "stream",
     "text": [
      "100%|██████████| 2047/2047 [00:53<00:00, 38.31it/s]\n",
      "  0%|          | 0/2047 [00:00<?, ?it/s]"
     ]
    },
    {
     "name": "stdout",
     "output_type": "stream",
     "text": [
      "runtime =  74.17899370193481 sec\n",
      "expected remaining time =  10590 sec : 176 minute\n",
      "current epoch :  59\n"
     ]
    },
    {
     "name": "stderr",
     "output_type": "stream",
     "text": [
      "100%|██████████| 2047/2047 [00:53<00:00, 38.15it/s]\n",
      "  0%|          | 0/2047 [00:00<?, ?it/s]"
     ]
    },
    {
     "name": "stdout",
     "output_type": "stream",
     "text": [
      "runtime =  74.47159790992737 sec\n",
      "expected remaining time =  10514 sec : 175 minute\n",
      "current epoch :  60\n"
     ]
    },
    {
     "name": "stderr",
     "output_type": "stream",
     "text": [
      "100%|██████████| 2047/2047 [00:53<00:00, 38.09it/s]\n",
      "  0%|          | 0/2047 [00:00<?, ?it/s]"
     ]
    },
    {
     "name": "stdout",
     "output_type": "stream",
     "text": [
      "runtime =  75.74818301200867 sec\n",
      "expected remaining time =  10440 sec : 174 minute\n",
      "current epoch :  61\n"
     ]
    },
    {
     "name": "stderr",
     "output_type": "stream",
     "text": [
      "100%|██████████| 2047/2047 [00:53<00:00, 38.21it/s]\n",
      "  0%|          | 0/2047 [00:00<?, ?it/s]"
     ]
    },
    {
     "name": "stdout",
     "output_type": "stream",
     "text": [
      "runtime =  74.98466920852661 sec\n",
      "expected remaining time =  10365 sec : 172 minute\n",
      "current epoch :  62\n"
     ]
    },
    {
     "name": "stderr",
     "output_type": "stream",
     "text": [
      "100%|██████████| 2047/2047 [00:52<00:00, 38.92it/s]\n",
      "  0%|          | 0/2047 [00:00<?, ?it/s]"
     ]
    },
    {
     "name": "stdout",
     "output_type": "stream",
     "text": [
      "runtime =  73.58919596672058 sec\n",
      "expected remaining time =  10286 sec : 171 minute\n",
      "current epoch :  63\n"
     ]
    },
    {
     "name": "stderr",
     "output_type": "stream",
     "text": [
      "100%|██████████| 2047/2047 [00:53<00:00, 38.03it/s]\n",
      "  0%|          | 0/2047 [00:00<?, ?it/s]"
     ]
    },
    {
     "name": "stdout",
     "output_type": "stream",
     "text": [
      "runtime =  74.45492386817932 sec\n",
      "expected remaining time =  10210 sec : 170 minute\n",
      "current epoch :  64\n"
     ]
    },
    {
     "name": "stderr",
     "output_type": "stream",
     "text": [
      "100%|██████████| 2047/2047 [00:53<00:00, 38.46it/s]\n",
      "  0%|          | 0/2047 [00:00<?, ?it/s]"
     ]
    },
    {
     "name": "stdout",
     "output_type": "stream",
     "text": [
      "runtime =  74.62950205802917 sec\n",
      "expected remaining time =  10134 sec : 168 minute\n",
      "current epoch :  65\n"
     ]
    },
    {
     "name": "stderr",
     "output_type": "stream",
     "text": [
      "100%|██████████| 2047/2047 [00:53<00:00, 38.34it/s]\n",
      "  0%|          | 0/2047 [00:00<?, ?it/s]"
     ]
    },
    {
     "name": "stdout",
     "output_type": "stream",
     "text": [
      "runtime =  75.65270829200745 sec\n",
      "expected remaining time =  10060 sec : 167 minute\n",
      "current epoch :  66\n"
     ]
    },
    {
     "name": "stderr",
     "output_type": "stream",
     "text": [
      "100%|██████████| 2047/2047 [00:53<00:00, 38.20it/s]\n",
      "  0%|          | 0/2047 [00:00<?, ?it/s]"
     ]
    },
    {
     "name": "stdout",
     "output_type": "stream",
     "text": [
      "runtime =  74.19389295578003 sec\n",
      "expected remaining time =  9983 sec : 166 minute\n",
      "current epoch :  67\n"
     ]
    },
    {
     "name": "stderr",
     "output_type": "stream",
     "text": [
      "100%|██████████| 2047/2047 [00:52<00:00, 38.85it/s]\n",
      "  0%|          | 0/2047 [00:00<?, ?it/s]"
     ]
    },
    {
     "name": "stdout",
     "output_type": "stream",
     "text": [
      "runtime =  73.51878547668457 sec\n",
      "expected remaining time =  9905 sec : 165 minute\n",
      "current epoch :  68\n"
     ]
    },
    {
     "name": "stderr",
     "output_type": "stream",
     "text": [
      "100%|██████████| 2047/2047 [00:53<00:00, 38.29it/s]\n",
      "  0%|          | 0/2047 [00:00<?, ?it/s]"
     ]
    },
    {
     "name": "stdout",
     "output_type": "stream",
     "text": [
      "runtime =  74.69264721870422 sec\n",
      "expected remaining time =  9829 sec : 163 minute\n",
      "current epoch :  69\n"
     ]
    },
    {
     "name": "stderr",
     "output_type": "stream",
     "text": [
      "100%|██████████| 2047/2047 [00:53<00:00, 38.00it/s]\n",
      "  0%|          | 0/2047 [00:00<?, ?it/s]"
     ]
    },
    {
     "name": "stdout",
     "output_type": "stream",
     "text": [
      "runtime =  76.408611536026 sec\n",
      "expected remaining time =  9757 sec : 162 minute\n",
      "current epoch :  70\n"
     ]
    },
    {
     "name": "stderr",
     "output_type": "stream",
     "text": [
      "100%|██████████| 2047/2047 [00:52<00:00, 38.96it/s]\n",
      "  0%|          | 0/2047 [00:00<?, ?it/s]"
     ]
    },
    {
     "name": "stdout",
     "output_type": "stream",
     "text": [
      "runtime =  73.1982102394104 sec\n",
      "expected remaining time =  9678 sec : 161 minute\n",
      "current epoch :  71\n"
     ]
    },
    {
     "name": "stderr",
     "output_type": "stream",
     "text": [
      "100%|██████████| 2047/2047 [00:53<00:00, 38.39it/s]\n",
      "  0%|          | 0/2047 [00:00<?, ?it/s]"
     ]
    },
    {
     "name": "stdout",
     "output_type": "stream",
     "text": [
      "runtime =  73.94693350791931 sec\n",
      "expected remaining time =  9601 sec : 160 minute\n",
      "current epoch :  72\n"
     ]
    },
    {
     "name": "stderr",
     "output_type": "stream",
     "text": [
      "100%|██████████| 2047/2047 [00:53<00:00, 38.32it/s]\n",
      "  0%|          | 0/2047 [00:00<?, ?it/s]"
     ]
    },
    {
     "name": "stdout",
     "output_type": "stream",
     "text": [
      "runtime =  74.67852997779846 sec\n",
      "expected remaining time =  9526 sec : 158 minute\n",
      "current epoch :  73\n"
     ]
    },
    {
     "name": "stderr",
     "output_type": "stream",
     "text": [
      "100%|██████████| 2047/2047 [00:53<00:00, 38.21it/s]\n",
      "  0%|          | 0/2047 [00:00<?, ?it/s]"
     ]
    },
    {
     "name": "stdout",
     "output_type": "stream",
     "text": [
      "runtime =  75.768474817276 sec\n",
      "expected remaining time =  9452 sec : 157 minute\n",
      "current epoch :  74\n"
     ]
    },
    {
     "name": "stderr",
     "output_type": "stream",
     "text": [
      "100%|██████████| 2047/2047 [00:53<00:00, 37.94it/s]\n",
      "  0%|          | 0/2047 [00:00<?, ?it/s]"
     ]
    },
    {
     "name": "stdout",
     "output_type": "stream",
     "text": [
      "runtime =  75.09815573692322 sec\n",
      "expected remaining time =  9377 sec : 156 minute\n",
      "current epoch :  75\n"
     ]
    },
    {
     "name": "stderr",
     "output_type": "stream",
     "text": [
      "100%|██████████| 2047/2047 [00:53<00:00, 38.09it/s]\n",
      "  0%|          | 0/2047 [00:00<?, ?it/s]"
     ]
    },
    {
     "name": "stdout",
     "output_type": "stream",
     "text": [
      "runtime =  74.30336713790894 sec\n",
      "expected remaining time =  9301 sec : 155 minute\n",
      "current epoch :  76\n"
     ]
    },
    {
     "name": "stderr",
     "output_type": "stream",
     "text": [
      "100%|██████████| 2047/2047 [00:52<00:00, 38.72it/s]\n",
      "  0%|          | 0/2047 [00:00<?, ?it/s]"
     ]
    },
    {
     "name": "stdout",
     "output_type": "stream",
     "text": [
      "runtime =  73.47157669067383 sec\n",
      "expected remaining time =  9223 sec : 153 minute\n",
      "current epoch :  77\n"
     ]
    },
    {
     "name": "stderr",
     "output_type": "stream",
     "text": [
      "100%|██████████| 2047/2047 [00:53<00:00, 38.02it/s]\n",
      "  0%|          | 0/2047 [00:00<?, ?it/s]"
     ]
    },
    {
     "name": "stdout",
     "output_type": "stream",
     "text": [
      "runtime =  75.8456289768219 sec\n",
      "expected remaining time =  9150 sec : 152 minute\n",
      "current epoch :  78\n"
     ]
    },
    {
     "name": "stderr",
     "output_type": "stream",
     "text": [
      "100%|██████████| 2047/2047 [00:54<00:00, 37.49it/s]\n",
      "  0%|          | 0/2047 [00:00<?, ?it/s]"
     ]
    },
    {
     "name": "stdout",
     "output_type": "stream",
     "text": [
      "runtime =  75.14414668083191 sec\n",
      "expected remaining time =  9075 sec : 151 minute\n",
      "current epoch :  79\n"
     ]
    },
    {
     "name": "stderr",
     "output_type": "stream",
     "text": [
      "100%|██████████| 2047/2047 [00:53<00:00, 38.46it/s]\n",
      "  0%|          | 0/2047 [00:00<?, ?it/s]"
     ]
    },
    {
     "name": "stdout",
     "output_type": "stream",
     "text": [
      "runtime =  74.02532601356506 sec\n",
      "expected remaining time =  8999 sec : 149 minute\n",
      "current epoch :  80\n"
     ]
    },
    {
     "name": "stderr",
     "output_type": "stream",
     "text": [
      "100%|██████████| 2047/2047 [00:53<00:00, 38.14it/s]\n",
      "  0%|          | 0/2047 [00:00<?, ?it/s]"
     ]
    },
    {
     "name": "stdout",
     "output_type": "stream",
     "text": [
      "runtime =  74.23735404014587 sec\n",
      "expected remaining time =  8922 sec : 148 minute\n",
      "current epoch :  81\n"
     ]
    },
    {
     "name": "stderr",
     "output_type": "stream",
     "text": [
      "100%|██████████| 2047/2047 [00:53<00:00, 38.38it/s]\n",
      "  0%|          | 0/2047 [00:00<?, ?it/s]"
     ]
    },
    {
     "name": "stdout",
     "output_type": "stream",
     "text": [
      "runtime =  75.74045944213867 sec\n",
      "expected remaining time =  8849 sec : 147 minute\n",
      "current epoch :  82\n"
     ]
    },
    {
     "name": "stderr",
     "output_type": "stream",
     "text": [
      "100%|██████████| 2047/2047 [00:53<00:00, 38.53it/s]\n",
      "  0%|          | 0/2047 [00:00<?, ?it/s]"
     ]
    },
    {
     "name": "stdout",
     "output_type": "stream",
     "text": [
      "runtime =  74.04431676864624 sec\n",
      "expected remaining time =  8772 sec : 146 minute\n",
      "current epoch :  83\n"
     ]
    },
    {
     "name": "stderr",
     "output_type": "stream",
     "text": [
      "100%|██████████| 2047/2047 [00:53<00:00, 37.94it/s]\n",
      "  0%|          | 0/2047 [00:00<?, ?it/s]"
     ]
    },
    {
     "name": "stdout",
     "output_type": "stream",
     "text": [
      "runtime =  74.67379331588745 sec\n",
      "expected remaining time =  8697 sec : 144 minute\n",
      "current epoch :  84\n"
     ]
    },
    {
     "name": "stderr",
     "output_type": "stream",
     "text": [
      "100%|██████████| 2047/2047 [00:53<00:00, 38.10it/s]\n",
      "  0%|          | 0/2047 [00:00<?, ?it/s]"
     ]
    },
    {
     "name": "stdout",
     "output_type": "stream",
     "text": [
      "runtime =  74.456538438797 sec\n",
      "expected remaining time =  8621 sec : 143 minute\n",
      "current epoch :  85\n"
     ]
    },
    {
     "name": "stderr",
     "output_type": "stream",
     "text": [
      "100%|██████████| 2047/2047 [00:53<00:00, 38.23it/s]\n",
      "  0%|          | 0/2047 [00:00<?, ?it/s]"
     ]
    },
    {
     "name": "stdout",
     "output_type": "stream",
     "text": [
      "runtime =  75.63410663604736 sec\n",
      "expected remaining time =  8547 sec : 142 minute\n",
      "current epoch :  86\n"
     ]
    },
    {
     "name": "stderr",
     "output_type": "stream",
     "text": [
      "100%|██████████| 2047/2047 [00:52<00:00, 38.66it/s]\n",
      "  0%|          | 0/2047 [00:00<?, ?it/s]"
     ]
    },
    {
     "name": "stdout",
     "output_type": "stream",
     "text": [
      "runtime =  73.78241348266602 sec\n",
      "expected remaining time =  8471 sec : 141 minute\n",
      "current epoch :  87\n"
     ]
    },
    {
     "name": "stderr",
     "output_type": "stream",
     "text": [
      "100%|██████████| 2047/2047 [00:53<00:00, 38.59it/s]\n",
      "  0%|          | 0/2047 [00:00<?, ?it/s]"
     ]
    },
    {
     "name": "stdout",
     "output_type": "stream",
     "text": [
      "runtime =  73.95081615447998 sec\n",
      "expected remaining time =  8394 sec : 139 minute\n",
      "current epoch :  88\n"
     ]
    },
    {
     "name": "stderr",
     "output_type": "stream",
     "text": [
      "100%|██████████| 2047/2047 [00:53<00:00, 38.29it/s]\n",
      "  0%|          | 0/2047 [00:00<?, ?it/s]"
     ]
    },
    {
     "name": "stdout",
     "output_type": "stream",
     "text": [
      "runtime =  74.02050304412842 sec\n",
      "expected remaining time =  8318 sec : 138 minute\n",
      "current epoch :  89\n"
     ]
    },
    {
     "name": "stderr",
     "output_type": "stream",
     "text": [
      "100%|██████████| 2047/2047 [00:53<00:00, 38.26it/s]\n",
      "  0%|          | 0/2047 [00:00<?, ?it/s]"
     ]
    },
    {
     "name": "stdout",
     "output_type": "stream",
     "text": [
      "runtime =  76.21700143814087 sec\n",
      "expected remaining time =  8245 sec : 137 minute\n",
      "current epoch :  90\n"
     ]
    },
    {
     "name": "stderr",
     "output_type": "stream",
     "text": [
      "100%|██████████| 2047/2047 [00:55<00:00, 37.10it/s]\n",
      "  0%|          | 0/2047 [00:00<?, ?it/s]"
     ]
    },
    {
     "name": "stdout",
     "output_type": "stream",
     "text": [
      "runtime =  76.11678886413574 sec\n",
      "expected remaining time =  8171 sec : 136 minute\n",
      "current epoch :  91\n"
     ]
    },
    {
     "name": "stderr",
     "output_type": "stream",
     "text": [
      "100%|██████████| 2047/2047 [00:53<00:00, 38.03it/s]\n",
      "  0%|          | 0/2047 [00:00<?, ?it/s]"
     ]
    },
    {
     "name": "stdout",
     "output_type": "stream",
     "text": [
      "runtime =  75.04558992385864 sec\n",
      "expected remaining time =  8096 sec : 134 minute\n",
      "current epoch :  92\n"
     ]
    },
    {
     "name": "stderr",
     "output_type": "stream",
     "text": [
      "100%|██████████| 2047/2047 [00:53<00:00, 38.01it/s]\n",
      "  0%|          | 0/2047 [00:00<?, ?it/s]"
     ]
    },
    {
     "name": "stdout",
     "output_type": "stream",
     "text": [
      "runtime =  74.42318153381348 sec\n",
      "expected remaining time =  8021 sec : 133 minute\n",
      "current epoch :  93\n"
     ]
    },
    {
     "name": "stderr",
     "output_type": "stream",
     "text": [
      "100%|██████████| 2047/2047 [00:54<00:00, 37.84it/s]\n",
      "  0%|          | 0/2047 [00:00<?, ?it/s]"
     ]
    },
    {
     "name": "stdout",
     "output_type": "stream",
     "text": [
      "runtime =  76.04427361488342 sec\n",
      "expected remaining time =  7947 sec : 132 minute\n",
      "current epoch :  94\n"
     ]
    },
    {
     "name": "stderr",
     "output_type": "stream",
     "text": [
      "100%|██████████| 2047/2047 [00:54<00:00, 37.91it/s]\n",
      "  0%|          | 0/2047 [00:00<?, ?it/s]"
     ]
    },
    {
     "name": "stdout",
     "output_type": "stream",
     "text": [
      "runtime =  74.64321732521057 sec\n",
      "expected remaining time =  7872 sec : 131 minute\n",
      "current epoch :  95\n"
     ]
    },
    {
     "name": "stderr",
     "output_type": "stream",
     "text": [
      "100%|██████████| 2047/2047 [00:52<00:00, 38.65it/s]\n",
      "  0%|          | 0/2047 [00:00<?, ?it/s]"
     ]
    },
    {
     "name": "stdout",
     "output_type": "stream",
     "text": [
      "runtime =  73.60929298400879 sec\n",
      "expected remaining time =  7795 sec : 129 minute\n",
      "current epoch :  96\n"
     ]
    },
    {
     "name": "stderr",
     "output_type": "stream",
     "text": [
      "100%|██████████| 2047/2047 [00:53<00:00, 38.33it/s]\n",
      "  0%|          | 0/2047 [00:00<?, ?it/s]"
     ]
    },
    {
     "name": "stdout",
     "output_type": "stream",
     "text": [
      "runtime =  74.30671262741089 sec\n",
      "expected remaining time =  7720 sec : 128 minute\n",
      "current epoch :  97\n"
     ]
    },
    {
     "name": "stderr",
     "output_type": "stream",
     "text": [
      "100%|██████████| 2047/2047 [00:53<00:00, 38.07it/s]\n",
      "  0%|          | 0/2047 [00:00<?, ?it/s]"
     ]
    },
    {
     "name": "stdout",
     "output_type": "stream",
     "text": [
      "runtime =  75.79903221130371 sec\n",
      "expected remaining time =  7645 sec : 127 minute\n",
      "current epoch :  98\n"
     ]
    },
    {
     "name": "stderr",
     "output_type": "stream",
     "text": [
      "100%|██████████| 2047/2047 [00:52<00:00, 38.70it/s]\n",
      "  0%|          | 0/2047 [00:00<?, ?it/s]"
     ]
    },
    {
     "name": "stdout",
     "output_type": "stream",
     "text": [
      "runtime =  73.71295118331909 sec\n",
      "expected remaining time =  7569 sec : 126 minute\n",
      "current epoch :  99\n"
     ]
    },
    {
     "name": "stderr",
     "output_type": "stream",
     "text": [
      "100%|██████████| 2047/2047 [00:53<00:00, 38.17it/s]\n",
      "  0%|          | 0/2047 [00:00<?, ?it/s]"
     ]
    },
    {
     "name": "stdout",
     "output_type": "stream",
     "text": [
      "runtime =  74.09351849555969 sec\n",
      "expected remaining time =  7493 sec : 124 minute\n",
      "current epoch :  100\n"
     ]
    },
    {
     "name": "stderr",
     "output_type": "stream",
     "text": [
      "100%|██████████| 2047/2047 [00:53<00:00, 38.44it/s]\n",
      "  0%|          | 0/2047 [00:00<?, ?it/s]"
     ]
    },
    {
     "name": "stdout",
     "output_type": "stream",
     "text": [
      "runtime =  73.79670238494873 sec\n",
      "expected remaining time =  7417 sec : 123 minute\n",
      "current epoch :  101\n"
     ]
    },
    {
     "name": "stderr",
     "output_type": "stream",
     "text": [
      "100%|██████████| 2047/2047 [00:53<00:00, 38.20it/s]\n",
      "  0%|          | 0/2047 [00:00<?, ?it/s]"
     ]
    },
    {
     "name": "stdout",
     "output_type": "stream",
     "text": [
      "runtime =  75.55321264266968 sec\n",
      "expected remaining time =  7343 sec : 122 minute\n",
      "current epoch :  102\n"
     ]
    },
    {
     "name": "stderr",
     "output_type": "stream",
     "text": [
      "100%|██████████| 2047/2047 [00:53<00:00, 38.29it/s]\n",
      "  0%|          | 0/2047 [00:00<?, ?it/s]"
     ]
    },
    {
     "name": "stdout",
     "output_type": "stream",
     "text": [
      "runtime =  74.412672996521 sec\n",
      "expected remaining time =  7268 sec : 121 minute\n",
      "current epoch :  103\n"
     ]
    },
    {
     "name": "stderr",
     "output_type": "stream",
     "text": [
      "100%|██████████| 2047/2047 [00:53<00:00, 38.27it/s]\n",
      "  0%|          | 0/2047 [00:00<?, ?it/s]"
     ]
    },
    {
     "name": "stdout",
     "output_type": "stream",
     "text": [
      "runtime =  74.21781158447266 sec\n",
      "expected remaining time =  7192 sec : 119 minute\n",
      "current epoch :  104\n"
     ]
    },
    {
     "name": "stderr",
     "output_type": "stream",
     "text": [
      "100%|██████████| 2047/2047 [00:54<00:00, 37.79it/s]\n",
      "  0%|          | 0/2047 [00:00<?, ?it/s]"
     ]
    },
    {
     "name": "stdout",
     "output_type": "stream",
     "text": [
      "runtime =  75.32959818840027 sec\n",
      "expected remaining time =  7117 sec : 118 minute\n",
      "current epoch :  105\n"
     ]
    },
    {
     "name": "stderr",
     "output_type": "stream",
     "text": [
      "100%|██████████| 2047/2047 [00:54<00:00, 37.87it/s]\n",
      "  0%|          | 0/2047 [00:00<?, ?it/s]"
     ]
    },
    {
     "name": "stdout",
     "output_type": "stream",
     "text": [
      "runtime =  76.08117699623108 sec\n",
      "expected remaining time =  7044 sec : 117 minute\n",
      "current epoch :  106\n"
     ]
    },
    {
     "name": "stderr",
     "output_type": "stream",
     "text": [
      "100%|██████████| 2047/2047 [00:52<00:00, 39.04it/s]\n",
      "  0%|          | 0/2047 [00:00<?, ?it/s]"
     ]
    },
    {
     "name": "stdout",
     "output_type": "stream",
     "text": [
      "runtime =  73.55179619789124 sec\n",
      "expected remaining time =  6967 sec : 116 minute\n",
      "current epoch :  107\n"
     ]
    },
    {
     "name": "stderr",
     "output_type": "stream",
     "text": [
      "100%|██████████| 2047/2047 [00:53<00:00, 38.41it/s]\n",
      "  0%|          | 0/2047 [00:00<?, ?it/s]"
     ]
    },
    {
     "name": "stdout",
     "output_type": "stream",
     "text": [
      "runtime =  74.00707244873047 sec\n",
      "expected remaining time =  6892 sec : 114 minute\n",
      "current epoch :  108\n"
     ]
    },
    {
     "name": "stderr",
     "output_type": "stream",
     "text": [
      "100%|██████████| 2047/2047 [00:53<00:00, 38.25it/s]\n",
      "  0%|          | 0/2047 [00:00<?, ?it/s]"
     ]
    },
    {
     "name": "stdout",
     "output_type": "stream",
     "text": [
      "runtime =  74.4693489074707 sec\n",
      "expected remaining time =  6816 sec : 113 minute\n",
      "current epoch :  109\n"
     ]
    },
    {
     "name": "stderr",
     "output_type": "stream",
     "text": [
      "100%|██████████| 2047/2047 [00:53<00:00, 38.20it/s]\n",
      "  0%|          | 0/2047 [00:00<?, ?it/s]"
     ]
    },
    {
     "name": "stdout",
     "output_type": "stream",
     "text": [
      "runtime =  75.48621702194214 sec\n",
      "expected remaining time =  6742 sec : 112 minute\n",
      "current epoch :  110\n"
     ]
    },
    {
     "name": "stderr",
     "output_type": "stream",
     "text": [
      "100%|██████████| 2047/2047 [00:54<00:00, 37.82it/s]\n",
      "  0%|          | 0/2047 [00:00<?, ?it/s]"
     ]
    },
    {
     "name": "stdout",
     "output_type": "stream",
     "text": [
      "runtime =  75.52874445915222 sec\n",
      "expected remaining time =  6668 sec : 111 minute\n",
      "current epoch :  111\n"
     ]
    },
    {
     "name": "stderr",
     "output_type": "stream",
     "text": [
      "100%|██████████| 2047/2047 [00:53<00:00, 37.91it/s]\n",
      "  0%|          | 0/2047 [00:00<?, ?it/s]"
     ]
    },
    {
     "name": "stdout",
     "output_type": "stream",
     "text": [
      "runtime =  74.54217720031738 sec\n",
      "expected remaining time =  6592 sec : 109 minute\n",
      "current epoch :  112\n"
     ]
    },
    {
     "name": "stderr",
     "output_type": "stream",
     "text": [
      "100%|██████████| 2047/2047 [00:54<00:00, 37.50it/s]\n",
      "  0%|          | 0/2047 [00:00<?, ?it/s]"
     ]
    },
    {
     "name": "stdout",
     "output_type": "stream",
     "text": [
      "runtime =  75.2715048789978 sec\n",
      "expected remaining time =  6518 sec : 108 minute\n",
      "current epoch :  113\n"
     ]
    },
    {
     "name": "stderr",
     "output_type": "stream",
     "text": [
      "100%|██████████| 2047/2047 [00:53<00:00, 38.53it/s]\n",
      "  0%|          | 0/2047 [00:00<?, ?it/s]"
     ]
    },
    {
     "name": "stdout",
     "output_type": "stream",
     "text": [
      "runtime =  75.21805930137634 sec\n",
      "expected remaining time =  6443 sec : 107 minute\n",
      "current epoch :  114\n"
     ]
    },
    {
     "name": "stderr",
     "output_type": "stream",
     "text": [
      "100%|██████████| 2047/2047 [00:53<00:00, 38.09it/s]\n",
      "  0%|          | 0/2047 [00:00<?, ?it/s]"
     ]
    },
    {
     "name": "stdout",
     "output_type": "stream",
     "text": [
      "runtime =  75.12057304382324 sec\n",
      "expected remaining time =  6368 sec : 106 minute\n",
      "current epoch :  115\n"
     ]
    },
    {
     "name": "stderr",
     "output_type": "stream",
     "text": [
      "100%|██████████| 2047/2047 [00:53<00:00, 38.12it/s]\n",
      "  0%|          | 0/2047 [00:00<?, ?it/s]"
     ]
    },
    {
     "name": "stdout",
     "output_type": "stream",
     "text": [
      "runtime =  74.22512626647949 sec\n",
      "expected remaining time =  6293 sec : 104 minute\n",
      "current epoch :  116\n"
     ]
    },
    {
     "name": "stderr",
     "output_type": "stream",
     "text": [
      "100%|██████████| 2047/2047 [00:53<00:00, 38.13it/s]\n",
      "  0%|          | 0/2047 [00:00<?, ?it/s]"
     ]
    },
    {
     "name": "stdout",
     "output_type": "stream",
     "text": [
      "runtime =  74.30858063697815 sec\n",
      "expected remaining time =  6217 sec : 103 minute\n",
      "current epoch :  117\n"
     ]
    },
    {
     "name": "stderr",
     "output_type": "stream",
     "text": [
      "100%|██████████| 2047/2047 [00:53<00:00, 38.28it/s]\n",
      "  0%|          | 0/2047 [00:00<?, ?it/s]"
     ]
    },
    {
     "name": "stdout",
     "output_type": "stream",
     "text": [
      "runtime =  75.04757976531982 sec\n",
      "expected remaining time =  6143 sec : 102 minute\n",
      "current epoch :  118\n"
     ]
    },
    {
     "name": "stderr",
     "output_type": "stream",
     "text": [
      "100%|██████████| 2047/2047 [00:53<00:00, 37.98it/s]\n",
      "  0%|          | 0/2047 [00:00<?, ?it/s]"
     ]
    },
    {
     "name": "stdout",
     "output_type": "stream",
     "text": [
      "runtime =  75.84806180000305 sec\n",
      "expected remaining time =  6068 sec : 101 minute\n",
      "current epoch :  119\n"
     ]
    },
    {
     "name": "stderr",
     "output_type": "stream",
     "text": [
      "100%|██████████| 2047/2047 [00:53<00:00, 38.56it/s]\n",
      "  0%|          | 0/2047 [00:00<?, ?it/s]"
     ]
    },
    {
     "name": "stdout",
     "output_type": "stream",
     "text": [
      "runtime =  73.71766495704651 sec\n",
      "expected remaining time =  5993 sec : 99 minute\n",
      "current epoch :  120\n"
     ]
    },
    {
     "name": "stderr",
     "output_type": "stream",
     "text": [
      "100%|██████████| 2047/2047 [00:52<00:00, 38.83it/s]\n",
      "  0%|          | 0/2047 [00:00<?, ?it/s]"
     ]
    },
    {
     "name": "stdout",
     "output_type": "stream",
     "text": [
      "runtime =  73.3267171382904 sec\n",
      "expected remaining time =  5917 sec : 98 minute\n",
      "current epoch :  121\n"
     ]
    },
    {
     "name": "stderr",
     "output_type": "stream",
     "text": [
      "100%|██████████| 2047/2047 [00:52<00:00, 38.72it/s]\n",
      "  0%|          | 0/2047 [00:00<?, ?it/s]"
     ]
    },
    {
     "name": "stdout",
     "output_type": "stream",
     "text": [
      "runtime =  73.60347437858582 sec\n",
      "expected remaining time =  5841 sec : 97 minute\n",
      "current epoch :  122\n"
     ]
    },
    {
     "name": "stderr",
     "output_type": "stream",
     "text": [
      "100%|██████████| 2047/2047 [00:52<00:00, 38.89it/s]\n",
      "  0%|          | 0/2047 [00:00<?, ?it/s]"
     ]
    },
    {
     "name": "stdout",
     "output_type": "stream",
     "text": [
      "runtime =  74.72995114326477 sec\n",
      "expected remaining time =  5766 sec : 96 minute\n",
      "current epoch :  123\n"
     ]
    },
    {
     "name": "stderr",
     "output_type": "stream",
     "text": [
      "100%|██████████| 2047/2047 [00:53<00:00, 38.55it/s]\n",
      "  0%|          | 0/2047 [00:00<?, ?it/s]"
     ]
    },
    {
     "name": "stdout",
     "output_type": "stream",
     "text": [
      "runtime =  73.96661591529846 sec\n",
      "expected remaining time =  5690 sec : 94 minute\n",
      "current epoch :  124\n"
     ]
    },
    {
     "name": "stderr",
     "output_type": "stream",
     "text": [
      "100%|██████████| 2047/2047 [00:53<00:00, 38.38it/s]\n",
      "  0%|          | 0/2047 [00:00<?, ?it/s]"
     ]
    },
    {
     "name": "stdout",
     "output_type": "stream",
     "text": [
      "runtime =  74.4010260105133 sec\n",
      "expected remaining time =  5615 sec : 93 minute\n",
      "current epoch :  125\n"
     ]
    },
    {
     "name": "stderr",
     "output_type": "stream",
     "text": [
      "100%|██████████| 2047/2047 [00:53<00:00, 38.18it/s]\n",
      "  0%|          | 0/2047 [00:00<?, ?it/s]"
     ]
    },
    {
     "name": "stdout",
     "output_type": "stream",
     "text": [
      "runtime =  74.33611106872559 sec\n",
      "expected remaining time =  5540 sec : 92 minute\n",
      "current epoch :  126\n"
     ]
    },
    {
     "name": "stderr",
     "output_type": "stream",
     "text": [
      "100%|██████████| 2047/2047 [00:53<00:00, 38.11it/s]\n",
      "  0%|          | 0/2047 [00:00<?, ?it/s]"
     ]
    },
    {
     "name": "stdout",
     "output_type": "stream",
     "text": [
      "runtime =  76.06237077713013 sec\n",
      "expected remaining time =  5466 sec : 91 minute\n",
      "current epoch :  127\n"
     ]
    },
    {
     "name": "stderr",
     "output_type": "stream",
     "text": [
      "100%|██████████| 2047/2047 [00:54<00:00, 37.41it/s]\n",
      "  0%|          | 0/2047 [00:00<?, ?it/s]"
     ]
    },
    {
     "name": "stdout",
     "output_type": "stream",
     "text": [
      "runtime =  75.2978184223175 sec\n",
      "expected remaining time =  5391 sec : 89 minute\n",
      "current epoch :  128\n"
     ]
    },
    {
     "name": "stderr",
     "output_type": "stream",
     "text": [
      "100%|██████████| 2047/2047 [00:54<00:00, 37.67it/s]\n",
      "  0%|          | 0/2047 [00:00<?, ?it/s]"
     ]
    },
    {
     "name": "stdout",
     "output_type": "stream",
     "text": [
      "runtime =  74.96711325645447 sec\n",
      "expected remaining time =  5316 sec : 88 minute\n",
      "current epoch :  129\n"
     ]
    },
    {
     "name": "stderr",
     "output_type": "stream",
     "text": [
      "100%|██████████| 2047/2047 [00:52<00:00, 38.64it/s]\n",
      "  0%|          | 0/2047 [00:00<?, ?it/s]"
     ]
    },
    {
     "name": "stdout",
     "output_type": "stream",
     "text": [
      "runtime =  74.00231075286865 sec\n",
      "expected remaining time =  5241 sec : 87 minute\n",
      "current epoch :  130\n"
     ]
    },
    {
     "name": "stderr",
     "output_type": "stream",
     "text": [
      "100%|██████████| 2047/2047 [00:54<00:00, 37.67it/s]\n",
      "  0%|          | 0/2047 [00:00<?, ?it/s]"
     ]
    },
    {
     "name": "stdout",
     "output_type": "stream",
     "text": [
      "runtime =  76.50355100631714 sec\n",
      "expected remaining time =  5167 sec : 86 minute\n",
      "current epoch :  131\n"
     ]
    },
    {
     "name": "stderr",
     "output_type": "stream",
     "text": [
      "100%|██████████| 2047/2047 [00:53<00:00, 38.15it/s]\n",
      "  0%|          | 0/2047 [00:00<?, ?it/s]"
     ]
    },
    {
     "name": "stdout",
     "output_type": "stream",
     "text": [
      "runtime =  74.26866960525513 sec\n",
      "expected remaining time =  5092 sec : 84 minute\n",
      "current epoch :  132\n"
     ]
    },
    {
     "name": "stderr",
     "output_type": "stream",
     "text": [
      "100%|██████████| 2047/2047 [00:53<00:00, 38.24it/s]\n",
      "  0%|          | 0/2047 [00:00<?, ?it/s]"
     ]
    },
    {
     "name": "stdout",
     "output_type": "stream",
     "text": [
      "runtime =  74.32440757751465 sec\n",
      "expected remaining time =  5017 sec : 83 minute\n",
      "current epoch :  133\n"
     ]
    },
    {
     "name": "stderr",
     "output_type": "stream",
     "text": [
      "100%|██████████| 2047/2047 [00:52<00:00, 38.90it/s]\n",
      "  0%|          | 0/2047 [00:00<?, ?it/s]"
     ]
    },
    {
     "name": "stdout",
     "output_type": "stream",
     "text": [
      "runtime =  73.41126489639282 sec\n",
      "expected remaining time =  4941 sec : 82 minute\n",
      "current epoch :  134\n"
     ]
    },
    {
     "name": "stderr",
     "output_type": "stream",
     "text": [
      "100%|██████████| 2047/2047 [00:52<00:00, 39.22it/s]\n",
      "  0%|          | 0/2047 [00:00<?, ?it/s]"
     ]
    },
    {
     "name": "stdout",
     "output_type": "stream",
     "text": [
      "runtime =  74.80272197723389 sec\n",
      "expected remaining time =  4866 sec : 81 minute\n",
      "current epoch :  135\n"
     ]
    },
    {
     "name": "stderr",
     "output_type": "stream",
     "text": [
      "100%|██████████| 2047/2047 [00:55<00:00, 36.96it/s]\n",
      "  0%|          | 0/2047 [00:00<?, ?it/s]"
     ]
    },
    {
     "name": "stdout",
     "output_type": "stream",
     "text": [
      "runtime =  76.05203366279602 sec\n",
      "expected remaining time =  4792 sec : 79 minute\n",
      "current epoch :  136\n"
     ]
    },
    {
     "name": "stderr",
     "output_type": "stream",
     "text": [
      "100%|██████████| 2047/2047 [00:54<00:00, 37.66it/s]\n",
      "  0%|          | 0/2047 [00:00<?, ?it/s]"
     ]
    },
    {
     "name": "stdout",
     "output_type": "stream",
     "text": [
      "runtime =  75.3280439376831 sec\n",
      "expected remaining time =  4717 sec : 78 minute\n",
      "current epoch :  137\n"
     ]
    },
    {
     "name": "stderr",
     "output_type": "stream",
     "text": [
      "100%|██████████| 2047/2047 [00:53<00:00, 37.98it/s]\n",
      "  0%|          | 0/2047 [00:00<?, ?it/s]"
     ]
    },
    {
     "name": "stdout",
     "output_type": "stream",
     "text": [
      "runtime =  74.65243649482727 sec\n",
      "expected remaining time =  4642 sec : 77 minute\n",
      "current epoch :  138\n"
     ]
    },
    {
     "name": "stderr",
     "output_type": "stream",
     "text": [
      "100%|██████████| 2047/2047 [00:53<00:00, 38.48it/s]\n",
      "  0%|          | 0/2047 [00:00<?, ?it/s]"
     ]
    },
    {
     "name": "stdout",
     "output_type": "stream",
     "text": [
      "runtime =  75.12393999099731 sec\n",
      "expected remaining time =  4567 sec : 76 minute\n",
      "current epoch :  139\n"
     ]
    },
    {
     "name": "stderr",
     "output_type": "stream",
     "text": [
      "100%|██████████| 2047/2047 [00:53<00:00, 38.52it/s]\n",
      "  0%|          | 0/2047 [00:00<?, ?it/s]"
     ]
    },
    {
     "name": "stdout",
     "output_type": "stream",
     "text": [
      "runtime =  73.7986810207367 sec\n",
      "expected remaining time =  4492 sec : 74 minute\n",
      "current epoch :  140\n"
     ]
    },
    {
     "name": "stderr",
     "output_type": "stream",
     "text": [
      "100%|██████████| 2047/2047 [00:54<00:00, 37.88it/s]\n",
      "  0%|          | 0/2047 [00:00<?, ?it/s]"
     ]
    },
    {
     "name": "stdout",
     "output_type": "stream",
     "text": [
      "runtime =  74.64689993858337 sec\n",
      "expected remaining time =  4417 sec : 73 minute\n",
      "current epoch :  141\n"
     ]
    },
    {
     "name": "stderr",
     "output_type": "stream",
     "text": [
      "100%|██████████| 2047/2047 [00:53<00:00, 38.45it/s]\n",
      "  0%|          | 0/2047 [00:00<?, ?it/s]"
     ]
    },
    {
     "name": "stdout",
     "output_type": "stream",
     "text": [
      "runtime =  73.9184467792511 sec\n",
      "expected remaining time =  4342 sec : 72 minute\n",
      "current epoch :  142\n"
     ]
    },
    {
     "name": "stderr",
     "output_type": "stream",
     "text": [
      "100%|██████████| 2047/2047 [00:53<00:00, 38.23it/s]\n",
      "  0%|          | 0/2047 [00:00<?, ?it/s]"
     ]
    },
    {
     "name": "stdout",
     "output_type": "stream",
     "text": [
      "runtime =  75.54258370399475 sec\n",
      "expected remaining time =  4267 sec : 71 minute\n",
      "current epoch :  143\n"
     ]
    },
    {
     "name": "stderr",
     "output_type": "stream",
     "text": [
      "100%|██████████| 2047/2047 [00:53<00:00, 38.48it/s]\n",
      "  0%|          | 0/2047 [00:00<?, ?it/s]"
     ]
    },
    {
     "name": "stdout",
     "output_type": "stream",
     "text": [
      "runtime =  73.7729709148407 sec\n",
      "expected remaining time =  4192 sec : 69 minute\n",
      "current epoch :  144\n"
     ]
    },
    {
     "name": "stderr",
     "output_type": "stream",
     "text": [
      "100%|██████████| 2047/2047 [00:53<00:00, 38.59it/s]\n",
      "  0%|          | 0/2047 [00:00<?, ?it/s]"
     ]
    },
    {
     "name": "stdout",
     "output_type": "stream",
     "text": [
      "runtime =  74.14465141296387 sec\n",
      "expected remaining time =  4117 sec : 68 minute\n",
      "current epoch :  145\n"
     ]
    },
    {
     "name": "stderr",
     "output_type": "stream",
     "text": [
      "100%|██████████| 2047/2047 [00:53<00:00, 38.19it/s]\n",
      "  0%|          | 0/2047 [00:00<?, ?it/s]"
     ]
    },
    {
     "name": "stdout",
     "output_type": "stream",
     "text": [
      "runtime =  74.32988977432251 sec\n",
      "expected remaining time =  4042 sec : 67 minute\n",
      "current epoch :  146\n"
     ]
    },
    {
     "name": "stderr",
     "output_type": "stream",
     "text": [
      "100%|██████████| 2047/2047 [00:52<00:00, 38.63it/s]\n",
      "  0%|          | 0/2047 [00:00<?, ?it/s]"
     ]
    },
    {
     "name": "stdout",
     "output_type": "stream",
     "text": [
      "runtime =  75.15398478507996 sec\n",
      "expected remaining time =  3967 sec : 66 minute\n",
      "current epoch :  147\n"
     ]
    },
    {
     "name": "stderr",
     "output_type": "stream",
     "text": [
      "100%|██████████| 2047/2047 [00:52<00:00, 38.79it/s]\n",
      "  0%|          | 0/2047 [00:00<?, ?it/s]"
     ]
    },
    {
     "name": "stdout",
     "output_type": "stream",
     "text": [
      "runtime =  74.28118205070496 sec\n",
      "expected remaining time =  3892 sec : 64 minute\n",
      "current epoch :  148\n"
     ]
    },
    {
     "name": "stderr",
     "output_type": "stream",
     "text": [
      "100%|██████████| 2047/2047 [00:53<00:00, 38.62it/s]\n",
      "  0%|          | 0/2047 [00:00<?, ?it/s]"
     ]
    },
    {
     "name": "stdout",
     "output_type": "stream",
     "text": [
      "runtime =  73.58251190185547 sec\n",
      "expected remaining time =  3817 sec : 63 minute\n",
      "current epoch :  149\n"
     ]
    },
    {
     "name": "stderr",
     "output_type": "stream",
     "text": [
      "100%|██████████| 2047/2047 [00:53<00:00, 38.20it/s]\n",
      "  0%|          | 0/2047 [00:00<?, ?it/s]"
     ]
    },
    {
     "name": "stdout",
     "output_type": "stream",
     "text": [
      "runtime =  74.24095368385315 sec\n",
      "expected remaining time =  3742 sec : 62 minute\n",
      "current epoch :  150\n"
     ]
    },
    {
     "name": "stderr",
     "output_type": "stream",
     "text": [
      "100%|██████████| 2047/2047 [00:53<00:00, 38.40it/s]\n",
      "  0%|          | 0/2047 [00:00<?, ?it/s]"
     ]
    },
    {
     "name": "stdout",
     "output_type": "stream",
     "text": [
      "runtime =  75.39680695533752 sec\n",
      "expected remaining time =  3667 sec : 61 minute\n",
      "current epoch :  151\n"
     ]
    },
    {
     "name": "stderr",
     "output_type": "stream",
     "text": [
      "100%|██████████| 2047/2047 [00:53<00:00, 37.98it/s]\n",
      "  0%|          | 0/2047 [00:00<?, ?it/s]"
     ]
    },
    {
     "name": "stdout",
     "output_type": "stream",
     "text": [
      "runtime =  75.42318964004517 sec\n",
      "expected remaining time =  3592 sec : 59 minute\n",
      "current epoch :  152\n"
     ]
    },
    {
     "name": "stderr",
     "output_type": "stream",
     "text": [
      "100%|██████████| 2047/2047 [00:53<00:00, 38.09it/s]\n",
      "  0%|          | 0/2047 [00:00<?, ?it/s]"
     ]
    },
    {
     "name": "stdout",
     "output_type": "stream",
     "text": [
      "runtime =  74.26143383979797 sec\n",
      "expected remaining time =  3517 sec : 58 minute\n",
      "current epoch :  153\n"
     ]
    },
    {
     "name": "stderr",
     "output_type": "stream",
     "text": [
      "100%|██████████| 2047/2047 [00:53<00:00, 38.32it/s]\n",
      "  0%|          | 0/2047 [00:00<?, ?it/s]"
     ]
    },
    {
     "name": "stdout",
     "output_type": "stream",
     "text": [
      "runtime =  74.22092175483704 sec\n",
      "expected remaining time =  3442 sec : 57 minute\n",
      "current epoch :  154\n"
     ]
    },
    {
     "name": "stderr",
     "output_type": "stream",
     "text": [
      "100%|██████████| 2047/2047 [00:53<00:00, 38.07it/s]\n",
      "  0%|          | 0/2047 [00:00<?, ?it/s]"
     ]
    },
    {
     "name": "stdout",
     "output_type": "stream",
     "text": [
      "runtime =  75.88554334640503 sec\n",
      "expected remaining time =  3368 sec : 56 minute\n",
      "current epoch :  155\n"
     ]
    },
    {
     "name": "stderr",
     "output_type": "stream",
     "text": [
      "100%|██████████| 2047/2047 [00:53<00:00, 38.60it/s]\n",
      "  0%|          | 0/2047 [00:00<?, ?it/s]"
     ]
    },
    {
     "name": "stdout",
     "output_type": "stream",
     "text": [
      "runtime =  74.72854948043823 sec\n",
      "expected remaining time =  3293 sec : 54 minute\n",
      "current epoch :  156\n"
     ]
    },
    {
     "name": "stderr",
     "output_type": "stream",
     "text": [
      "100%|██████████| 2047/2047 [00:53<00:00, 38.23it/s]\n",
      "  0%|          | 0/2047 [00:00<?, ?it/s]"
     ]
    },
    {
     "name": "stdout",
     "output_type": "stream",
     "text": [
      "runtime =  74.03588700294495 sec\n",
      "expected remaining time =  3218 sec : 53 minute\n",
      "current epoch :  157\n"
     ]
    },
    {
     "name": "stderr",
     "output_type": "stream",
     "text": [
      "100%|██████████| 2047/2047 [00:53<00:00, 37.96it/s]\n",
      "  0%|          | 0/2047 [00:00<?, ?it/s]"
     ]
    },
    {
     "name": "stdout",
     "output_type": "stream",
     "text": [
      "runtime =  74.46082878112793 sec\n",
      "expected remaining time =  3143 sec : 52 minute\n",
      "current epoch :  158\n"
     ]
    },
    {
     "name": "stderr",
     "output_type": "stream",
     "text": [
      "100%|██████████| 2047/2047 [00:53<00:00, 38.52it/s]\n",
      "  0%|          | 0/2047 [00:00<?, ?it/s]"
     ]
    },
    {
     "name": "stdout",
     "output_type": "stream",
     "text": [
      "runtime =  74.47276282310486 sec\n",
      "expected remaining time =  3068 sec : 51 minute\n",
      "current epoch :  159\n"
     ]
    },
    {
     "name": "stderr",
     "output_type": "stream",
     "text": [
      "100%|██████████| 2047/2047 [00:53<00:00, 37.94it/s]\n",
      "  0%|          | 0/2047 [00:00<?, ?it/s]"
     ]
    },
    {
     "name": "stdout",
     "output_type": "stream",
     "text": [
      "runtime =  76.14203143119812 sec\n",
      "expected remaining time =  2993 sec : 49 minute\n",
      "current epoch :  160\n"
     ]
    },
    {
     "name": "stderr",
     "output_type": "stream",
     "text": [
      "100%|██████████| 2047/2047 [00:53<00:00, 38.60it/s]\n",
      "  0%|          | 0/2047 [00:00<?, ?it/s]"
     ]
    },
    {
     "name": "stdout",
     "output_type": "stream",
     "text": [
      "runtime =  74.17583441734314 sec\n",
      "expected remaining time =  2918 sec : 48 minute\n",
      "current epoch :  161\n"
     ]
    },
    {
     "name": "stderr",
     "output_type": "stream",
     "text": [
      "100%|██████████| 2047/2047 [00:53<00:00, 38.10it/s]\n",
      "  0%|          | 0/2047 [00:00<?, ?it/s]"
     ]
    },
    {
     "name": "stdout",
     "output_type": "stream",
     "text": [
      "runtime =  74.8751277923584 sec\n",
      "expected remaining time =  2843 sec : 47 minute\n",
      "current epoch :  162\n"
     ]
    },
    {
     "name": "stderr",
     "output_type": "stream",
     "text": [
      "100%|██████████| 2047/2047 [00:52<00:00, 38.76it/s]\n",
      "  0%|          | 0/2047 [00:00<?, ?it/s]"
     ]
    },
    {
     "name": "stdout",
     "output_type": "stream",
     "text": [
      "runtime =  74.24942064285278 sec\n",
      "expected remaining time =  2768 sec : 46 minute\n",
      "current epoch :  163\n"
     ]
    },
    {
     "name": "stderr",
     "output_type": "stream",
     "text": [
      "100%|██████████| 2047/2047 [00:53<00:00, 38.55it/s]\n",
      "  0%|          | 0/2047 [00:00<?, ?it/s]"
     ]
    },
    {
     "name": "stdout",
     "output_type": "stream",
     "text": [
      "runtime =  75.40352606773376 sec\n",
      "expected remaining time =  2694 sec : 44 minute\n",
      "current epoch :  164\n"
     ]
    },
    {
     "name": "stderr",
     "output_type": "stream",
     "text": [
      "100%|██████████| 2047/2047 [00:53<00:00, 38.49it/s]\n",
      "  0%|          | 0/2047 [00:00<?, ?it/s]"
     ]
    },
    {
     "name": "stdout",
     "output_type": "stream",
     "text": [
      "runtime =  73.73883724212646 sec\n",
      "expected remaining time =  2619 sec : 43 minute\n",
      "current epoch :  165\n"
     ]
    },
    {
     "name": "stderr",
     "output_type": "stream",
     "text": [
      "100%|██████████| 2047/2047 [00:53<00:00, 38.02it/s]\n",
      "  0%|          | 0/2047 [00:00<?, ?it/s]"
     ]
    },
    {
     "name": "stdout",
     "output_type": "stream",
     "text": [
      "runtime =  74.76179957389832 sec\n",
      "expected remaining time =  2544 sec : 42 minute\n",
      "current epoch :  166\n"
     ]
    },
    {
     "name": "stderr",
     "output_type": "stream",
     "text": [
      "100%|██████████| 2047/2047 [00:53<00:00, 38.03it/s]\n",
      "  0%|          | 0/2047 [00:00<?, ?it/s]"
     ]
    },
    {
     "name": "stdout",
     "output_type": "stream",
     "text": [
      "runtime =  75.533456325531 sec\n",
      "expected remaining time =  2469 sec : 41 minute\n",
      "current epoch :  167\n"
     ]
    },
    {
     "name": "stderr",
     "output_type": "stream",
     "text": [
      "100%|██████████| 2047/2047 [00:53<00:00, 38.22it/s]\n",
      "  0%|          | 0/2047 [00:00<?, ?it/s]"
     ]
    },
    {
     "name": "stdout",
     "output_type": "stream",
     "text": [
      "runtime =  75.76638507843018 sec\n",
      "expected remaining time =  2395 sec : 39 minute\n",
      "current epoch :  168\n"
     ]
    },
    {
     "name": "stderr",
     "output_type": "stream",
     "text": [
      "100%|██████████| 2047/2047 [00:53<00:00, 38.00it/s]\n",
      "  0%|          | 0/2047 [00:00<?, ?it/s]"
     ]
    },
    {
     "name": "stdout",
     "output_type": "stream",
     "text": [
      "runtime =  74.4313576221466 sec\n",
      "expected remaining time =  2320 sec : 38 minute\n",
      "current epoch :  169\n"
     ]
    },
    {
     "name": "stderr",
     "output_type": "stream",
     "text": [
      "100%|██████████| 2047/2047 [00:52<00:00, 38.72it/s]\n",
      "  0%|          | 0/2047 [00:00<?, ?it/s]"
     ]
    },
    {
     "name": "stdout",
     "output_type": "stream",
     "text": [
      "runtime =  73.7386839389801 sec\n",
      "expected remaining time =  2245 sec : 37 minute\n",
      "current epoch :  170\n"
     ]
    },
    {
     "name": "stderr",
     "output_type": "stream",
     "text": [
      "100%|██████████| 2047/2047 [00:53<00:00, 38.10it/s]\n",
      "  0%|          | 0/2047 [00:00<?, ?it/s]"
     ]
    },
    {
     "name": "stdout",
     "output_type": "stream",
     "text": [
      "runtime =  74.90255808830261 sec\n",
      "expected remaining time =  2170 sec : 36 minute\n",
      "current epoch :  171\n"
     ]
    },
    {
     "name": "stderr",
     "output_type": "stream",
     "text": [
      "100%|██████████| 2047/2047 [00:52<00:00, 38.85it/s]\n",
      "  0%|          | 0/2047 [00:00<?, ?it/s]"
     ]
    },
    {
     "name": "stdout",
     "output_type": "stream",
     "text": [
      "runtime =  75.23295283317566 sec\n",
      "expected remaining time =  2095 sec : 34 minute\n",
      "current epoch :  172\n"
     ]
    },
    {
     "name": "stderr",
     "output_type": "stream",
     "text": [
      "100%|██████████| 2047/2047 [00:53<00:00, 38.39it/s]\n",
      "  0%|          | 0/2047 [00:00<?, ?it/s]"
     ]
    },
    {
     "name": "stdout",
     "output_type": "stream",
     "text": [
      "runtime =  73.90875005722046 sec\n",
      "expected remaining time =  2020 sec : 33 minute\n",
      "current epoch :  173\n"
     ]
    },
    {
     "name": "stderr",
     "output_type": "stream",
     "text": [
      "100%|██████████| 2047/2047 [00:53<00:00, 38.22it/s]\n",
      "  0%|          | 0/2047 [00:00<?, ?it/s]"
     ]
    },
    {
     "name": "stdout",
     "output_type": "stream",
     "text": [
      "runtime =  74.25623393058777 sec\n",
      "expected remaining time =  1945 sec : 32 minute\n",
      "current epoch :  174\n"
     ]
    },
    {
     "name": "stderr",
     "output_type": "stream",
     "text": [
      "100%|██████████| 2047/2047 [00:53<00:00, 37.99it/s]\n",
      "  0%|          | 0/2047 [00:00<?, ?it/s]"
     ]
    },
    {
     "name": "stdout",
     "output_type": "stream",
     "text": [
      "runtime =  74.54656100273132 sec\n",
      "expected remaining time =  1870 sec : 31 minute\n",
      "current epoch :  175\n"
     ]
    },
    {
     "name": "stderr",
     "output_type": "stream",
     "text": [
      "100%|██████████| 2047/2047 [00:53<00:00, 38.20it/s]\n",
      "  0%|          | 0/2047 [00:00<?, ?it/s]"
     ]
    },
    {
     "name": "stdout",
     "output_type": "stream",
     "text": [
      "runtime =  75.7741129398346 sec\n",
      "expected remaining time =  1795 sec : 29 minute\n",
      "current epoch :  176\n"
     ]
    },
    {
     "name": "stderr",
     "output_type": "stream",
     "text": [
      "100%|██████████| 2047/2047 [00:54<00:00, 37.83it/s]\n",
      "  0%|          | 0/2047 [00:00<?, ?it/s]"
     ]
    },
    {
     "name": "stdout",
     "output_type": "stream",
     "text": [
      "runtime =  75.01765942573547 sec\n",
      "expected remaining time =  1721 sec : 28 minute\n",
      "current epoch :  177\n"
     ]
    },
    {
     "name": "stderr",
     "output_type": "stream",
     "text": [
      "100%|██████████| 2047/2047 [00:54<00:00, 37.75it/s]\n",
      "  0%|          | 0/2047 [00:00<?, ?it/s]"
     ]
    },
    {
     "name": "stdout",
     "output_type": "stream",
     "text": [
      "runtime =  74.76275062561035 sec\n",
      "expected remaining time =  1646 sec : 27 minute\n",
      "current epoch :  178\n"
     ]
    },
    {
     "name": "stderr",
     "output_type": "stream",
     "text": [
      "100%|██████████| 2047/2047 [00:54<00:00, 37.24it/s]\n",
      "  0%|          | 0/2047 [00:00<?, ?it/s]"
     ]
    },
    {
     "name": "stdout",
     "output_type": "stream",
     "text": [
      "runtime =  75.67738771438599 sec\n",
      "expected remaining time =  1571 sec : 26 minute\n",
      "current epoch :  179\n"
     ]
    },
    {
     "name": "stderr",
     "output_type": "stream",
     "text": [
      "100%|██████████| 2047/2047 [00:54<00:00, 37.82it/s]\n",
      "  0%|          | 0/2047 [00:00<?, ?it/s]"
     ]
    },
    {
     "name": "stdout",
     "output_type": "stream",
     "text": [
      "runtime =  76.09634590148926 sec\n",
      "expected remaining time =  1496 sec : 24 minute\n",
      "current epoch :  180\n"
     ]
    },
    {
     "name": "stderr",
     "output_type": "stream",
     "text": [
      "100%|██████████| 2047/2047 [00:53<00:00, 38.37it/s]\n",
      "  0%|          | 0/2047 [00:00<?, ?it/s]"
     ]
    },
    {
     "name": "stdout",
     "output_type": "stream",
     "text": [
      "runtime =  74.01197814941406 sec\n",
      "expected remaining time =  1421 sec : 23 minute\n",
      "current epoch :  181\n"
     ]
    },
    {
     "name": "stderr",
     "output_type": "stream",
     "text": [
      "100%|██████████| 2047/2047 [00:53<00:00, 38.14it/s]\n",
      "  0%|          | 0/2047 [00:00<?, ?it/s]"
     ]
    },
    {
     "name": "stdout",
     "output_type": "stream",
     "text": [
      "runtime =  74.1747670173645 sec\n",
      "expected remaining time =  1347 sec : 22 minute\n",
      "current epoch :  182\n"
     ]
    },
    {
     "name": "stderr",
     "output_type": "stream",
     "text": [
      "100%|██████████| 2047/2047 [00:53<00:00, 38.39it/s]\n",
      "  0%|          | 0/2047 [00:00<?, ?it/s]"
     ]
    },
    {
     "name": "stdout",
     "output_type": "stream",
     "text": [
      "runtime =  73.85468769073486 sec\n",
      "expected remaining time =  1272 sec : 21 minute\n",
      "current epoch :  183\n"
     ]
    },
    {
     "name": "stderr",
     "output_type": "stream",
     "text": [
      "100%|██████████| 2047/2047 [00:52<00:00, 38.71it/s]\n",
      "  0%|          | 0/2047 [00:00<?, ?it/s]"
     ]
    },
    {
     "name": "stdout",
     "output_type": "stream",
     "text": [
      "runtime =  74.91398191452026 sec\n",
      "expected remaining time =  1197 sec : 19 minute\n",
      "current epoch :  184\n"
     ]
    },
    {
     "name": "stderr",
     "output_type": "stream",
     "text": [
      "100%|██████████| 2047/2047 [00:53<00:00, 37.91it/s]\n",
      "  0%|          | 0/2047 [00:00<?, ?it/s]"
     ]
    },
    {
     "name": "stdout",
     "output_type": "stream",
     "text": [
      "runtime =  74.58842873573303 sec\n",
      "expected remaining time =  1122 sec : 18 minute\n",
      "current epoch :  185\n"
     ]
    },
    {
     "name": "stderr",
     "output_type": "stream",
     "text": [
      "100%|██████████| 2047/2047 [00:53<00:00, 38.21it/s]\n",
      "  0%|          | 0/2047 [00:00<?, ?it/s]"
     ]
    },
    {
     "name": "stdout",
     "output_type": "stream",
     "text": [
      "runtime =  74.35384106636047 sec\n",
      "expected remaining time =  1047 sec : 17 minute\n",
      "current epoch :  186\n"
     ]
    },
    {
     "name": "stderr",
     "output_type": "stream",
     "text": [
      "100%|██████████| 2047/2047 [00:53<00:00, 38.46it/s]\n",
      "  0%|          | 0/2047 [00:00<?, ?it/s]"
     ]
    },
    {
     "name": "stdout",
     "output_type": "stream",
     "text": [
      "runtime =  74.18313360214233 sec\n",
      "expected remaining time =  972 sec : 16 minute\n",
      "current epoch :  187\n"
     ]
    },
    {
     "name": "stderr",
     "output_type": "stream",
     "text": [
      "100%|██████████| 2047/2047 [00:53<00:00, 38.43it/s]\n",
      "  0%|          | 0/2047 [00:00<?, ?it/s]"
     ]
    },
    {
     "name": "stdout",
     "output_type": "stream",
     "text": [
      "runtime =  75.6280128955841 sec\n",
      "expected remaining time =  897 sec : 14 minute\n",
      "current epoch :  188\n"
     ]
    },
    {
     "name": "stderr",
     "output_type": "stream",
     "text": [
      "100%|██████████| 2047/2047 [00:53<00:00, 38.05it/s]\n",
      "  0%|          | 0/2047 [00:00<?, ?it/s]"
     ]
    },
    {
     "name": "stdout",
     "output_type": "stream",
     "text": [
      "runtime =  74.33859753608704 sec\n",
      "expected remaining time =  823 sec : 13 minute\n",
      "current epoch :  189\n"
     ]
    },
    {
     "name": "stderr",
     "output_type": "stream",
     "text": [
      "100%|██████████| 2047/2047 [00:53<00:00, 38.00it/s]\n",
      "  0%|          | 0/2047 [00:00<?, ?it/s]"
     ]
    },
    {
     "name": "stdout",
     "output_type": "stream",
     "text": [
      "runtime =  74.35191774368286 sec\n",
      "expected remaining time =  748 sec : 12 minute\n",
      "current epoch :  190\n"
     ]
    },
    {
     "name": "stderr",
     "output_type": "stream",
     "text": [
      "100%|██████████| 2047/2047 [00:53<00:00, 38.19it/s]\n",
      "  0%|          | 0/2047 [00:00<?, ?it/s]"
     ]
    },
    {
     "name": "stdout",
     "output_type": "stream",
     "text": [
      "runtime =  75.04703998565674 sec\n",
      "expected remaining time =  673 sec : 11 minute\n",
      "current epoch :  191\n"
     ]
    },
    {
     "name": "stderr",
     "output_type": "stream",
     "text": [
      "100%|██████████| 2047/2047 [00:53<00:00, 38.58it/s]\n",
      "  0%|          | 0/2047 [00:00<?, ?it/s]"
     ]
    },
    {
     "name": "stdout",
     "output_type": "stream",
     "text": [
      "runtime =  75.26585960388184 sec\n",
      "expected remaining time =  598 sec : 9 minute\n",
      "current epoch :  192\n"
     ]
    },
    {
     "name": "stderr",
     "output_type": "stream",
     "text": [
      "100%|██████████| 2047/2047 [00:53<00:00, 38.07it/s]\n",
      "  0%|          | 0/2047 [00:00<?, ?it/s]"
     ]
    },
    {
     "name": "stdout",
     "output_type": "stream",
     "text": [
      "runtime =  74.28626561164856 sec\n",
      "expected remaining time =  523 sec : 8 minute\n",
      "current epoch :  193\n"
     ]
    },
    {
     "name": "stderr",
     "output_type": "stream",
     "text": [
      "100%|██████████| 2047/2047 [00:53<00:00, 38.06it/s]\n",
      "  0%|          | 0/2047 [00:00<?, ?it/s]"
     ]
    },
    {
     "name": "stdout",
     "output_type": "stream",
     "text": [
      "runtime =  74.46448755264282 sec\n",
      "expected remaining time =  448 sec : 7 minute\n",
      "current epoch :  194\n"
     ]
    },
    {
     "name": "stderr",
     "output_type": "stream",
     "text": [
      "100%|██████████| 2047/2047 [00:54<00:00, 37.67it/s]\n",
      "  0%|          | 0/2047 [00:00<?, ?it/s]"
     ]
    },
    {
     "name": "stdout",
     "output_type": "stream",
     "text": [
      "runtime =  75.13378739356995 sec\n",
      "expected remaining time =  374 sec : 6 minute\n",
      "current epoch :  195\n"
     ]
    },
    {
     "name": "stderr",
     "output_type": "stream",
     "text": [
      "100%|██████████| 2047/2047 [00:53<00:00, 38.28it/s]\n",
      "  0%|          | 0/2047 [00:00<?, ?it/s]"
     ]
    },
    {
     "name": "stdout",
     "output_type": "stream",
     "text": [
      "runtime =  75.43287229537964 sec\n",
      "expected remaining time =  299 sec : 4 minute\n",
      "current epoch :  196\n"
     ]
    },
    {
     "name": "stderr",
     "output_type": "stream",
     "text": [
      "100%|██████████| 2047/2047 [00:53<00:00, 38.57it/s]\n",
      "  0%|          | 0/2047 [00:00<?, ?it/s]"
     ]
    },
    {
     "name": "stdout",
     "output_type": "stream",
     "text": [
      "runtime =  73.76459527015686 sec\n",
      "expected remaining time =  224 sec : 3 minute\n",
      "current epoch :  197\n"
     ]
    },
    {
     "name": "stderr",
     "output_type": "stream",
     "text": [
      "100%|██████████| 2047/2047 [00:53<00:00, 38.27it/s]\n",
      "  0%|          | 0/2047 [00:00<?, ?it/s]"
     ]
    },
    {
     "name": "stdout",
     "output_type": "stream",
     "text": [
      "runtime =  74.19910740852356 sec\n",
      "expected remaining time =  149 sec : 2 minute\n",
      "current epoch :  198\n"
     ]
    },
    {
     "name": "stderr",
     "output_type": "stream",
     "text": [
      "100%|██████████| 2047/2047 [00:53<00:00, 38.53it/s]\n",
      "  0%|          | 0/2047 [00:00<?, ?it/s]"
     ]
    },
    {
     "name": "stdout",
     "output_type": "stream",
     "text": [
      "runtime =  74.44593024253845 sec\n",
      "expected remaining time =  74 sec : 1 minute\n",
      "current epoch :  199\n"
     ]
    },
    {
     "name": "stderr",
     "output_type": "stream",
     "text": [
      "100%|██████████| 2047/2047 [00:55<00:00, 36.85it/s]\n"
     ]
    },
    {
     "name": "stdout",
     "output_type": "stream",
     "text": [
      "runtime =  77.63209342956543 sec\n",
      "expected remaining time =  0 sec : 0 minute\n"
     ]
    }
   ],
   "source": [
    "import time\n",
    "\n",
    "total_time=0.0\n",
    "average_time=0.0\n",
    "iter_epoch=200\n",
    "\n",
    "\n",
    "for epoch in range(iter_epoch):\n",
    "    t_start =time.time()\n",
    "    print(\"current epoch : \",epoch)\n",
    "    #=====================================================================================\n",
    "    train_dcgan(g,d,opt_g,opt_d,train_dataloader)\n",
    "    if epoch%1==0:\n",
    "        torch.save(g.state_dict(),\"./data/g_{:03d}.prm\".format(epoch),pickle_protocol=4)\n",
    "        torch.save(d.state_dict(),\"./data/d_{:03d}.prm\".format(epoch),pickle_protocol=4)\n",
    "        generated_img_tmp = g(fixed_z).to(\"cpu\")\n",
    "        generated_img = esrgan(generated_img_tmp)\n",
    "        #g = g.to(dev)\n",
    "        save_image(generated_img,\"./data/{:03d}.jpg\".format(epoch))\n",
    "        save_image(generated_img_tmp,\"./data2/{:03d}.jpg\".format(epoch))\n",
    "        del generated_img_tmp, generated_img\n",
    "    #=====================================================================================\n",
    "    t_finish=time.time()\n",
    "    total_time+=t_finish-t_start\n",
    "    average_time=total_time/(epoch+1)\n",
    "    print(\"runtime = \",t_finish-t_start,\"sec\")\n",
    "    print(\"expected remaining time = \",int(average_time*(iter_epoch-(epoch+1))),\"sec\",\":\",int(average_time*(iter_epoch-(epoch+1))/60),\"minute\")\n",
    "    \n",
    "\n",
    "\n",
    "files = sorted(glob('./data/*.jpg'))  \n",
    "images = list(map(lambda file : Image.open(file) , files))\n",
    "images[0].save('generating_process.gif' , save_all = True , append_images = images[1:] , duration = 200 , loop = 0)"
   ]
  }
 ],
 "metadata": {
  "kernelspec": {
   "display_name": "Python 3",
   "language": "python",
   "name": "python3"
  },
  "language_info": {
   "codemirror_mode": {
    "name": "ipython",
    "version": 3
   },
   "file_extension": ".py",
   "mimetype": "text/x-python",
   "name": "python",
   "nbconvert_exporter": "python",
   "pygments_lexer": "ipython3",
   "version": "3.8.3"
  }
 },
 "nbformat": 4,
 "nbformat_minor": 5
}

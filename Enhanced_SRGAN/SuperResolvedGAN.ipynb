{
 "cells": [
  {
   "cell_type": "code",
   "execution_count": 1,
   "id": "167cee4b",
   "metadata": {},
   "outputs": [],
   "source": [
    "import os\n",
    "import numpy as np\n",
    "from PIL import Image\n",
    "import torch\n",
    "import torch.nn as nn\n",
    "import torch.nn.functional as F\n",
    "from torch.utils.data import Dataset\n",
    "from torchvision.models import vgg19\n",
    "import torchvision.transforms as transforms\n",
    "import os.path as osp\n",
    "from glob import glob\n",
    "import shutil\n",
    "from tqdm import tqdm\n",
    "\n",
    "import cv2\n",
    "import matplotlib.pyplot as plt\n",
    "import pandas as pd\n",
    "import numpy as np\n",
    "\n",
    "from sklearn.model_selection import train_test_split\n",
    "\n",
    "import sys\n",
    "import json\n",
    "import random\n",
    "\n",
    "from torch import optim\n",
    "from torch.utils.data import DataLoader\n",
    "from torch.autograd import Variable\n",
    "#from torch.utils.tensorboard import SummaryWriter\n",
    "from torchvision.utils import save_image"
   ]
  },
  {
   "cell_type": "code",
   "execution_count": 2,
   "id": "c40ade54",
   "metadata": {},
   "outputs": [
    {
     "data": {
      "text/plain": [
       "'\\nディレクトリ 構成\\nroot\\n    | - input\\n    |        | - annotation\\n    |        | - cat_face\\n    |                   | - demo\\n    |                   | - test\\n    |                   | - train\\n    |        | - images\\n    |                   | - cat\\n    |\\n    | - outputs\\n\\n'"
      ]
     },
     "execution_count": 2,
     "metadata": {},
     "output_type": "execute_result"
    }
   ],
   "source": [
    "\"\"\"\n",
    "ディレクトリ 構成\n",
    "root\n",
    "    | - input\n",
    "    |        | - annotation\n",
    "    |        | - cat_face\n",
    "    |                   | - demo\n",
    "    |                   | - test\n",
    "    |                   | - train\n",
    "    |        | - images\n",
    "    |                   | - cat\n",
    "    |\n",
    "    | - outputs\n",
    "\n",
    "\"\"\""
   ]
  },
  {
   "cell_type": "code",
   "execution_count": null,
   "id": "93b38492",
   "metadata": {},
   "outputs": [],
   "source": []
  },
  {
   "cell_type": "markdown",
   "id": "5064fa6c",
   "metadata": {},
   "source": [
    "# データのダウンロード"
   ]
  },
  {
   "cell_type": "code",
   "execution_count": 3,
   "id": "b999c5c9",
   "metadata": {},
   "outputs": [
    {
     "data": {
      "text/plain": [
       "'\\n#!wget http://www.robots.ox.ac.uk/~vgg/data/flowers/102/102flowers.tgz\\n!tar xf 102flowers.tgz\\n!mkdir oxford-102\\n!mkdir oxford-102-train\\n!mkdir oxford-102-test\\n!mkdir params\\n!mkdir oxford-102/jpg\\n!mv jpg/*.jpg oxford-102/jpg\\n!cp ./oxford-102/jpg/image_0000[1-5].jpg ./oxford-102-test/\\n'"
      ]
     },
     "execution_count": 3,
     "metadata": {},
     "output_type": "execute_result"
    }
   ],
   "source": [
    "\"\"\"\n",
    "#!wget http://www.robots.ox.ac.uk/~vgg/data/flowers/102/102flowers.tgz\n",
    "!tar xf 102flowers.tgz\n",
    "!mkdir oxford-102\n",
    "!mkdir oxford-102-train\n",
    "!mkdir oxford-102-test\n",
    "!mkdir params\n",
    "!mkdir oxford-102/jpg\n",
    "!mv jpg/*.jpg oxford-102/jpg\n",
    "!cp ./oxford-102/jpg/image_0000[1-5].jpg ./oxford-102-test/\n",
    "\"\"\""
   ]
  },
  {
   "cell_type": "code",
   "execution_count": 4,
   "id": "79ec0271",
   "metadata": {},
   "outputs": [],
   "source": [
    "image_dir = \"./oxford-102/jpg/\"\n",
    "train_dir = \"./oxford-102-train\"\n",
    "test_dir = \"./oxford-102-test\""
   ]
  },
  {
   "cell_type": "code",
   "execution_count": 5,
   "id": "ceff1d8f",
   "metadata": {},
   "outputs": [
    {
     "name": "stdout",
     "output_type": "stream",
     "text": [
      "mkdir: ディレクトリ `./output' を作成できません: ファイルが存在します\r\n"
     ]
    }
   ],
   "source": [
    "weight_save_dir = \"./params/\"\n",
    "param_save_path = osp.join(\"./params/\", 'param.json')\n",
    "!mkdir ./output\n",
    "image_test_save_dir = \"./output\""
   ]
  },
  {
   "cell_type": "code",
   "execution_count": null,
   "id": "fb5ffe29",
   "metadata": {},
   "outputs": [],
   "source": []
  },
  {
   "cell_type": "code",
   "execution_count": 6,
   "id": "cbb3e345",
   "metadata": {},
   "outputs": [],
   "source": [
    "random_crop_times = 4\n",
    "hr_const = 256\n",
    "# クロップする画像のサイズ\n",
    "crop_size = (hr_const, hr_const)\n",
    "dataset_name = 'cat_face'"
   ]
  },
  {
   "cell_type": "code",
   "execution_count": 7,
   "id": "9e7d491d",
   "metadata": {},
   "outputs": [],
   "source": [
    "#データクロップ用の関数\n",
    "def random_crop(image, crop_size):\n",
    "    h, w, _ = image.shape\n",
    "\n",
    "    top = np.random.randint(0, h - crop_size[0])\n",
    "    left = np.random.randint(0, w - crop_size[1])\n",
    "\n",
    "    bottom = top + crop_size[0]\n",
    "    right = left + crop_size[1]\n",
    "\n",
    "    image = image[top:bottom, left:right, :]\n",
    "    return image"
   ]
  },
  {
   "cell_type": "markdown",
   "id": "028c7084",
   "metadata": {},
   "source": [
    "## 猫の名前からテスト用とデモ用を取り出す。"
   ]
  },
  {
   "cell_type": "code",
   "execution_count": 8,
   "id": "b8c7ed4a",
   "metadata": {},
   "outputs": [
    {
     "data": {
      "text/plain": [
       "'image_00001'"
      ]
     },
     "execution_count": 8,
     "metadata": {},
     "output_type": "execute_result"
    }
   ],
   "source": [
    "\"image_{:05}\".format(1)"
   ]
  },
  {
   "cell_type": "markdown",
   "id": "664c6560",
   "metadata": {},
   "source": [
    "## 上で分離した訓練用のデータに対し、クロップを適用してデータを加工・増量する。"
   ]
  },
  {
   "cell_type": "code",
   "execution_count": null,
   "id": "d586e78d",
   "metadata": {},
   "outputs": [],
   "source": [
    "#\"\"\"\n",
    "# 学習に用いる画像\n",
    "lst = [ \"image_{:05}\".format(i) for i in range(1,8189)]\n",
    "cropped_image_save_path = \"./oxford-102-train\"\n",
    "\n",
    "for item in tqdm(lst, total=len(lst)):\n",
    "    image_name = '{}.jpg'.format(item)\n",
    "    image_path = osp.join(image_dir, image_name)\n",
    "    image = cv2.imread(image_path)\n",
    "    h, w, _ = image.shape\n",
    "    # 画像のサイズが小さい時は対象から除外する。\n",
    "    if (h < crop_size[0]) | (w < crop_size[1]):\n",
    "        print('{} size is invalid. h: {},  w: {}'.format(image_name, h, w))\n",
    "        continue\n",
    "    #ランダムクロップ分だけ作る\n",
    "    for num in range(random_crop_times):\n",
    "        cropped_image = random_crop(image, crop_size=crop_size)\n",
    "        image_save_name = '{}_{:03}.jpg'.format(item, num)\n",
    "        cropped_image_save_path = osp.join(train_dir, image_save_name)\n",
    "        os.makedirs(osp.dirname(cropped_image_save_path), exist_ok=True)\n",
    "        cv2.imwrite(cropped_image_save_path, cropped_image)\n",
    "#\"\"\""
   ]
  },
  {
   "cell_type": "markdown",
   "id": "9d93500b",
   "metadata": {},
   "source": [
    "## テスト用とデモ用の画像を専用のディレクトリに移しておく。"
   ]
  },
  {
   "cell_type": "code",
   "execution_count": null,
   "id": "3639cd76",
   "metadata": {
    "scrolled": true
   },
   "outputs": [],
   "source": []
  },
  {
   "cell_type": "code",
   "execution_count": null,
   "id": "a8108719",
   "metadata": {},
   "outputs": [],
   "source": []
  },
  {
   "cell_type": "code",
   "execution_count": 9,
   "id": "1a27330a",
   "metadata": {},
   "outputs": [],
   "source": [
    "mean = np.array([0.485, 0.456, 0.406])\n",
    "std = np.array([0.229, 0.224, 0.225])"
   ]
  },
  {
   "cell_type": "code",
   "execution_count": 10,
   "id": "aed07241",
   "metadata": {},
   "outputs": [],
   "source": [
    "class ImageDataset(Dataset):\n",
    "    \"\"\"\n",
    "    学習のためのDatasetクラス\n",
    "    32×32の低解像度の本物画像と、128×128の本物画像を出力する\n",
    "    \"\"\"\n",
    "    def __init__(self, dataset_dir, hr_shape):\n",
    "        hr_height, hr_width = hr_shape\n",
    "        \n",
    "        # 低解像度の画像を取得するための処理\n",
    "        self.lr_transform = transforms.Compose([\n",
    "            transforms.Resize((hr_height // 4, hr_height // 4), Image.BICUBIC),\n",
    "            transforms.ToTensor(),\n",
    "            transforms.Normalize(mean, std)])\n",
    "\n",
    "        # 高像度の画像を取得するための処理\n",
    "        self.hr_transform = transforms.Compose([\n",
    "            transforms.Resize((hr_height, hr_height), Image.BICUBIC),\n",
    "            transforms.ToTensor(),\n",
    "            transforms.Normalize(mean, std)])\n",
    "        \n",
    "        self.files = sorted(glob(osp.join(dataset_dir, '*')))\n",
    "    \n",
    "    def __getitem__(self, index):\n",
    "        img = Image.open(self.files[index % len(self.files)])\n",
    "        img_lr = self.lr_transform(img)\n",
    "        img_hr = self.hr_transform(img)\n",
    "        \n",
    "        return {'lr': img_lr, 'hr': img_hr}\n",
    "    \n",
    "    def __len__(self):\n",
    "        return len(self.files)"
   ]
  },
  {
   "cell_type": "code",
   "execution_count": 11,
   "id": "0ed52264",
   "metadata": {},
   "outputs": [],
   "source": [
    "class TestImageDataset(Dataset):\n",
    "    def __init__(self, dataset_dir):\n",
    "        self.hr_transform = transforms.Compose([transforms.ToTensor(),transforms.Normalize(mean, std)])\n",
    "        self.files = sorted(glob(osp.join(dataset_dir, '*')))\n",
    "    \n",
    "    def lr_transform(self, img, img_size):\n",
    "        img_width, img_height = img_size\n",
    "        self.__lr_transform = transforms.Compose([\n",
    "            transforms.Resize((img_height // 4, \n",
    "                               img_width // 4), \n",
    "                               Image.BICUBIC),\n",
    "            transforms.ToTensor(),\n",
    "            transforms.Normalize(mean, std)])\n",
    "        img = self.__lr_transform(img)\n",
    "        return img\n",
    "            \n",
    "    def __getitem__(self, index):\n",
    "        img = Image.open(self.files[index % len(self.files)])\n",
    "        img_size = img.size\n",
    "        img_lr = self.lr_transform(img, img_size)\n",
    "        img_hr = self.hr_transform(img)        \n",
    "        return {'lr': img_lr, 'hr': img_hr}\n",
    "    \n",
    "    def __len__(self):\n",
    "        return len(self.files)"
   ]
  },
  {
   "cell_type": "markdown",
   "id": "89df15a5",
   "metadata": {},
   "source": [
    "# parts of ESRGAN"
   ]
  },
  {
   "cell_type": "markdown",
   "id": "72e74591",
   "metadata": {},
   "source": [
    "## 生成器の準備"
   ]
  },
  {
   "cell_type": "markdown",
   "id": "de93ab35",
   "metadata": {},
   "source": [
    "## Dense Residual Blockの構築"
   ]
  },
  {
   "cell_type": "code",
   "execution_count": 12,
   "id": "322e54c5",
   "metadata": {},
   "outputs": [],
   "source": [
    "\n",
    "class DenseResidualBlock(nn.Module):\n",
    "    def __init__(self, filters, res_scale = 0.2):\n",
    "        super().__init__()\n",
    "        self.res_scale = res_scale\n",
    "        \n",
    "        def block(in_features, non_linearity = True):\n",
    "            layers = [nn.Conv2d(in_features, filters, 3, 1, 1, bias = True)]\n",
    "            if non_linearity:\n",
    "                layers += [nn.LeakyReLU()]\n",
    "            return nn.Sequential(*layers)\n",
    "    \n",
    "        self.b1 = block(in_features = 1 * filters)\n",
    "        self.b2 = block(in_features = 2 * filters)\n",
    "        self.b3 = block(in_features = 3 * filters)\n",
    "        self.b4 = block(in_features = 4 * filters)\n",
    "        self.b5 = block(in_features = 5 * filters, non_linearity = False)\n",
    "        self.blocks = [self.b1, self.b2, self.b3, self.b4, self.b5]\n",
    "    \n",
    "    def forward(self, x):\n",
    "        inputs = x\n",
    "        for block in self.blocks:\n",
    "            out = block(inputs)\n",
    "            inputs = torch.cat([inputs, out], dim = 1)\n",
    "        return out.mul(self.res_scale) + x"
   ]
  },
  {
   "cell_type": "code",
   "execution_count": null,
   "id": "603511e7",
   "metadata": {},
   "outputs": [],
   "source": [
    "# サイズの確認\n",
    "x = torch.randn(10, 64, 5, 5)\n",
    "D = DenseResidualBlock(filters = 64)\n",
    "D(x).shape"
   ]
  },
  {
   "cell_type": "markdown",
   "id": "72574ecd",
   "metadata": {},
   "source": [
    "## Residual in Residual Blockの構築"
   ]
  },
  {
   "cell_type": "code",
   "execution_count": 13,
   "id": "72871a09",
   "metadata": {},
   "outputs": [],
   "source": [
    "# residual-blockの再帰\n",
    "class ResidualInResidualDenseBlock(nn.Module):\n",
    "    def __init__(self, filters, res_scale=0.2):\n",
    "        super().__init__()\n",
    "        self.res_scale = res_scale\n",
    "        self.dense_blocks = nn.Sequential(\n",
    "            DenseResidualBlock(filters), \n",
    "            DenseResidualBlock(filters), \n",
    "            DenseResidualBlock(filters)\n",
    "        )\n",
    "    \n",
    "    def forward(self, x):\n",
    "        return self.dense_blocks(x).mul(self.res_scale) + x"
   ]
  },
  {
   "cell_type": "code",
   "execution_count": null,
   "id": "48f1538e",
   "metadata": {},
   "outputs": [],
   "source": [
    "# サイズの確認\n",
    "DD = ResidualInResidualDenseBlock(filters = 64)\n",
    "DD(x).shape"
   ]
  },
  {
   "cell_type": "markdown",
   "id": "30403f9a",
   "metadata": {},
   "source": [
    "## 構築してきたパーツを組み合わせて生成器を構築"
   ]
  },
  {
   "cell_type": "code",
   "execution_count": 14,
   "id": "4f46d321",
   "metadata": {},
   "outputs": [],
   "source": [
    "\"\"\"\n",
    "Conv2D\n",
    "RinRD-Block\n",
    "     .\n",
    "     .\n",
    "RinRD-Block\n",
    "Conv2D\n",
    "|---------------|\n",
    "|Conve2D     |\n",
    "|LeaklyReLU |\n",
    "|Pixelshuffle |\n",
    "|---------------|\n",
    "     .\n",
    "     .\n",
    "|---------------|\n",
    "|Conve2D     |\n",
    "|LeaklyReLU |\n",
    "|Pixelshuffle |\n",
    "|---------------|\n",
    "Conv2D\n",
    "LeaklyReLU\n",
    "Conv2D\n",
    "\"\"\"\n",
    "\n",
    "class GeneratorRRDB(nn.Module):\n",
    "    def __init__(self, channels, filters = 64, num_res_blocks = 16, num_upsample = 2):\n",
    "        super().__init__()\n",
    "        \n",
    "        self.conv1 = nn.Conv2d(channels, filters, kernel_size = 3, stride = 1, padding = 1)\n",
    "        self.res_blocks = nn.Sequential(*[ResidualInResidualDenseBlock(filters)  for _ in range(num_res_blocks)])\n",
    "        self.conv2 = nn.Conv2d(filters, filters, kernel_size = 3, stride = 1, padding = 1)\n",
    "        \n",
    "        upsample_layers = []\n",
    "        \n",
    "        for _ in range(num_upsample):\n",
    "            upsample_layers += [\n",
    "                nn.Conv2d(filters, filters * 4, kernel_size = 3, stride = 1, padding = 1),\n",
    "                nn.LeakyReLU(),\n",
    "                nn.PixelShuffle(upscale_factor = 2),\n",
    "            ]\n",
    "        self.upsampling = nn.Sequential(*upsample_layers)\n",
    "        self.conv3 = nn.Sequential(\n",
    "            nn.Conv2d(filters, filters, kernel_size = 3, stride = 1, padding = 1),\n",
    "            nn.LeakyReLU(),\n",
    "            nn.Conv2d(filters, channels, kernel_size = 3, stride = 1, padding = 1),\n",
    "        )\n",
    "    \n",
    "    def forward(self, x):\n",
    "        out1 = self.conv1(x)\n",
    "        #print(1,out1.shape)\n",
    "        out = self.res_blocks(out1)\n",
    "        #print(2,out.shape)\n",
    "        out2 = self.conv2(out)\n",
    "        #print(3,out2.shape)\n",
    "        out = torch.add(out1, out2)\n",
    "        #print(4,out.shape)\n",
    "        out = self.upsampling(out)\n",
    "        #print(5,out.shape)\n",
    "        out = self.conv3(out)\n",
    "        #print(6,out.shape)\n",
    "        return out"
   ]
  },
  {
   "cell_type": "code",
   "execution_count": null,
   "id": "d8996458",
   "metadata": {},
   "outputs": [],
   "source": [
    "# サイズの確認\n",
    "# ex : (10,3,32,32) --> (10, 3, 128, 128)\n",
    "y = torch.randn(10,3,32,32)\n",
    "DDD = GeneratorRRDB(3, filters = 64, num_res_blocks = 23)\n",
    "DDD(y).shape"
   ]
  },
  {
   "cell_type": "markdown",
   "id": "562ac851",
   "metadata": {},
   "source": [
    "## 特徴量抽出層"
   ]
  },
  {
   "cell_type": "code",
   "execution_count": null,
   "id": "b8c84f9d",
   "metadata": {},
   "outputs": [],
   "source": [
    "class FeatureExtractor(nn.Module):\n",
    "    \"\"\"\n",
    "    vgg19を応用した特徴量抽出器\n",
    "    \"\"\"\n",
    "    def __init__(self):\n",
    "        super().__init__()\n",
    "        vgg19_model = vgg19(pretrained = True)\n",
    "        self.vgg19_54 = nn.Sequential(*list(vgg19_model.features.children())[:35])\n",
    "\n",
    "    def forward(self, x):\n",
    "        return self.vgg19_54(x)"
   ]
  },
  {
   "cell_type": "code",
   "execution_count": null,
   "id": "3ddd6bb9",
   "metadata": {},
   "outputs": [],
   "source": [
    "# ex : (10, 3, 128, 128) --> (10, 512, 8,8)\n",
    "y = torch.randn(10,3,32,32)\n",
    "FE = FeatureExtractor()\n",
    "FE(y).shape"
   ]
  },
  {
   "cell_type": "code",
   "execution_count": null,
   "id": "6e697c66",
   "metadata": {},
   "outputs": [],
   "source": [
    "y = torch.randn(10,3,32,32)\n",
    "(y-y.mean(0, keepdim=True)).shape"
   ]
  },
  {
   "cell_type": "markdown",
   "id": "191e0a40",
   "metadata": {},
   "source": [
    "## 識別器の準備"
   ]
  },
  {
   "cell_type": "code",
   "execution_count": null,
   "id": "a064b7d7",
   "metadata": {},
   "outputs": [],
   "source": [
    "class Discriminator(nn.Module):\n",
    "    def __init__(self, input_shape):\n",
    "        super().__init__()\n",
    "                \n",
    "        self.input_shape = input_shape\n",
    "        in_channels, in_height, in_width = self.input_shape\n",
    "        patch_h, patch_w = int(in_height / 2 ** 4), int(in_width / 2 ** 4)\n",
    "        self.output_shape = (1, patch_h, patch_w)\n",
    "    \n",
    "        def discriminator_block(in_filters, out_filters, first_block = False):\n",
    "            layers = []\n",
    "            layers.append(nn.Conv2d(in_filters, \n",
    "                                    out_filters, \n",
    "                                    kernel_size = 3, \n",
    "                                    stride = 1, \n",
    "                                    padding = 1))\n",
    "            if not first_block:\n",
    "                layers.append(nn.BatchNorm2d(out_filters))\n",
    "            layers.append(nn.LeakyReLU(0.2, inplace = True))\n",
    "            layers.append(nn.Conv2d(out_filters, \n",
    "                                    out_filters, \n",
    "                                    kernel_size = 3, \n",
    "                                    stride = 2, \n",
    "                                    padding = 1))\n",
    "            layers.append(nn.BatchNorm2d(out_filters))\n",
    "            layers.append(nn.LeakyReLU(0.2, inplace = True))\n",
    "            return layers\n",
    "        \n",
    "        layers = []\n",
    "        in_filters = in_channels\n",
    "        for i, out_filters in enumerate([64, 128, 256, 512]):\n",
    "            #print(discriminator_block(in_filters, out_filters,  first_block=(i == 0)))\n",
    "            layers.extend(discriminator_block(in_filters, out_filters, first_block=(i == 0)))\n",
    "            in_filters = out_filters\n",
    "        \n",
    "        layers.append(nn.Conv2d(out_filters,  1, kernel_size = 3, stride = 1,  padding = 1))\n",
    "        \n",
    "        self.model = nn.Sequential(*layers)\n",
    "    \n",
    "    def forward(self, img):\n",
    "        return self.model(img)"
   ]
  },
  {
   "cell_type": "markdown",
   "id": "e8248246",
   "metadata": {},
   "source": [
    "## 構築してきたパーツを組み合わせてESRGANを構築"
   ]
  },
  {
   "cell_type": "code",
   "execution_count": null,
   "id": "5e354b6e",
   "metadata": {},
   "outputs": [],
   "source": [
    "class ESRGAN():\n",
    "    def __init__(self, opt):\n",
    "        # 生成器・識別器の設定\n",
    "        self.generator = GeneratorRRDB(opt.channels, filters = 64, num_res_blocks = opt.residual_blocks).to(opt.device)\n",
    "        self.discriminator = Discriminator(input_shape = (opt.channels, *hr_shape)).to(opt.device)\n",
    "\n",
    "        # 特徴量抽出器の設定\n",
    "        self.feature_extractor = FeatureExtractor().to(opt.device)\n",
    "        self.feature_extractor.eval()\n",
    "        \n",
    "        # 損失関数の設定\n",
    "        self.criterion_GAN = nn.BCEWithLogitsLoss().to(opt.device)\n",
    "        self.criterion_content = nn.L1Loss().to(opt.device)\n",
    "        self.criterion_pixel = nn.L1Loss().to(opt.device)\n",
    "\n",
    "        # オプティマイザーの設定\n",
    "        self.optimizer_G = optim.Adam(self.generator.parameters(), lr = opt.lr, betas = (opt.b1, opt.b2))\n",
    "        self.optimizer_D = optim.Adam(self.discriminator.parameters(), lr = opt.lr, betas = (opt.b1, opt.b2))\n",
    "\n",
    "        # デバイスとテンソル型の定義\n",
    "        self.Tensor = torch.Tensor\n",
    "        self.dev = opt.device\n",
    "        \n",
    "    #==================================================================================\n",
    "    \n",
    "    def pre_train(self, imgs, batch_num):\n",
    "        imgs_lr = imgs['lr'].type(torch.Tensor).to(self.dev)\n",
    "        imgs_hr = imgs['hr'].type(torch.Tensor).to(self.dev)\n",
    "\n",
    "        valid = torch.tensor(np.ones((imgs_lr.size(0), *self.discriminator.output_shape)), requires_grad=False).to(self.dev)\n",
    "        fake = torch.tensor(np.zeros((imgs_lr.size(0), *self.discriminator.output_shape)), requires_grad=False).to(self.dev)\n",
    "\n",
    "        # 勾配初期化\n",
    "        self.optimizer_G.zero_grad()\n",
    "\n",
    "        # 低解像度 --> 高解像度を実行し、ピクセル単位の損失計算\n",
    "        gen_hr = self.generator(imgs_lr)\n",
    "        loss_pixel = self.criterion_pixel(gen_hr, imgs_hr)\n",
    "\n",
    "        # 画素単位の損失であるloss_pixelで事前学習を行う\n",
    "        loss_pixel.backward()\n",
    "        self.optimizer_G.step()\n",
    "        train_info = {'epoch': epoch, 'batch_num': batch_num, 'loss_pixel': loss_pixel.item()}\n",
    "        \"\"\"\n",
    "        if batch_num == 1:\n",
    "            sys.stdout.write('\\n{}'.format(train_info))\n",
    "        else:\n",
    "            sys.stdout.write('\\r{}'.format('\\t'*20))\n",
    "            sys.stdout.write('\\r{}'.format(train_info))\n",
    "        \"\"\"\n",
    "        \n",
    "        sys.stdout.write('\\r{}'.format('\\t'*20))\n",
    "        sys.stdout.write('\\r{}'.format(train_info))\n",
    "        sys.stdout.flush()\n",
    "        \n",
    "    #============================================================================\n",
    "    \n",
    "    def train(self, imgs, batch_num):\n",
    "        imgs_lr = imgs['lr'].type(self.Tensor).to(self.dev)\n",
    "        imgs_hr = imgs['hr'].type(self.Tensor).to(self.dev)\n",
    "\n",
    "        ################### \n",
    "        #####生成器の損失#####\n",
    "        ###################\n",
    "        # 正解ラベル\n",
    "        valid = torch.tensor(np.ones((imgs_lr.size(0), *self.discriminator.output_shape)), requires_grad = False).to(self.dev)\n",
    "        fake = torch.tensor(np.zeros((imgs_lr.size(0), *self.discriminator.output_shape)),requires_grad = False).to(self.dev)\n",
    "\n",
    "        # 低解像度 --> 高解像度\n",
    "        self.optimizer_G.zero_grad()\n",
    "        gen_hr = self.generator(imgs_lr)\n",
    "\n",
    "        # (1)ピクセル単位の損失計算\n",
    "        loss_pixel = self.criterion_pixel(gen_hr, imgs_hr)\n",
    "\n",
    "        # (2)Adversarial loss\n",
    "        # 本物画像と超解像画像の識別器による判定を見る\n",
    "        pred_real = self.discriminator(imgs_hr).detach()\n",
    "        pred_fake = self.discriminator(gen_hr)\n",
    "        loss_GAN = self.criterion_GAN(pred_fake - pred_real.mean(0, keepdim=True), valid)\n",
    "\n",
    "        # (3)Perceptual loss\n",
    "        #特徴量の比較、シンプルな損失関数\n",
    "        gen_feature = self.feature_extractor(gen_hr)\n",
    "        real_feature = self.feature_extractor(imgs_hr).detach()\n",
    "        loss_content = self.criterion_content(gen_feature, real_feature)\n",
    "\n",
    "        \n",
    "        loss_G = loss_content + opt.lambda_adv * loss_GAN + opt.lambda_pixel * loss_pixel\n",
    "        loss_G.backward()\n",
    "        self.optimizer_G.step()\n",
    "\n",
    "        \n",
    "        ################### \n",
    "        #####識別機の損失#####\n",
    "        ###################\n",
    "        self.optimizer_D.zero_grad()\n",
    "        pred_real = self.discriminator(imgs_hr)\n",
    "        pred_fake = self.discriminator(gen_hr.detach())\n",
    "\n",
    "        loss_real = self.criterion_GAN(pred_real - pred_fake.mean(0, keepdim=True), valid)            \n",
    "        loss_fake = self.criterion_GAN(pred_fake - pred_real.mean(0, keepdim=True), fake)    \n",
    "        loss_D = (loss_real + loss_fake) / 2\n",
    "        loss_D.backward()\n",
    "        self.optimizer_D.step()\n",
    "\n",
    "        train_info = {'epoch': epoch, 'batch_num': batch_num,  'loss_D': loss_D.item(), 'loss_G': loss_G.item(),\n",
    "                      'loss_content': loss_content.item(), 'loss_GAN': loss_GAN.item(), 'loss_pixel': loss_pixel.item(),}\n",
    "        \"\"\"\n",
    "        if batch_num == 1:\n",
    "            sys.stdout.write('\\n{}'.format(train_info))\n",
    "        else:\n",
    "            sys.stdout.write('\\r{}'.format('\\t'*20))\n",
    "            sys.stdout.write('\\r{}'.format(train_info))\n",
    "        \"\"\"\n",
    "        sys.stdout.write('\\r{}'.format('\\t'*20))\n",
    "        sys.stdout.write('\\r{}'.format(train_info))\n",
    "        sys.stdout.flush()\n",
    "\n",
    "    def save_image(self,imgs,batches_done):\n",
    "        with torch.no_grad():\n",
    "            imgs_lr = imgs[\"lr\"].type(self.Tensor).to(self.dev)\n",
    "            gen_hr = self.generator(imgs_lr)\n",
    "            gen_hr = denormalize(gen_hr)\n",
    "\n",
    "            image_batch_save_dir = osp.join(image_test_save_dir, '{:03}'.format(i))\n",
    "            gen_hr_dir = osp.join(image_batch_save_dir, \"hr_image\")\n",
    "            os.makedirs(image_batch_save_dir, exist_ok=True)\n",
    "            save_image(gen_hr, osp.join(image_batch_save_dir, \"{:09}.png\".format(batches_done)), nrow=1, normalize=False)\n",
    "        \n",
    "\n",
    "    def save_weight(self, batches_done):\n",
    "        \"\"\"\n",
    "        重みの保存\n",
    "        \"\"\"\n",
    "        generator_weight_path = osp.join(weight_save_dir, \"generator_{:08}.pth\".format(batches_done))\n",
    "        discriminator_weight_path = osp.join(weight_save_dir, \"discriminator_{:08}.pth\".format(batches_done))\n",
    "\n",
    "        torch.save(self.generator.state_dict(), generator_weight_path)\n",
    "        torch.save(self.discriminator.state_dict(), discriminator_weight_path)"
   ]
  },
  {
   "cell_type": "code",
   "execution_count": 15,
   "id": "51cf74fb",
   "metadata": {},
   "outputs": [],
   "source": [
    "def denormalize(tensors):\n",
    "    \"\"\"\n",
    "    平均と標準偏差を使ってデータ値の加工\n",
    "    \"\"\"\n",
    "    for c in range(3):\n",
    "        tensors[:, c].mul_(std[c]).add_(mean[c])\n",
    "    return torch.clamp(tensors, 0, 255)"
   ]
  },
  {
   "cell_type": "code",
   "execution_count": 16,
   "id": "2d402bdf",
   "metadata": {},
   "outputs": [],
   "source": [
    "def save_json(file, save_path, mode):\n",
    "    \"\"\"Jsonファイルを保存\n",
    "    \"\"\"\n",
    "    with open(save_path, mode) as outfile:\n",
    "        json.dump(file, outfile, indent=4)"
   ]
  },
  {
   "cell_type": "code",
   "execution_count": 17,
   "id": "126179dc",
   "metadata": {},
   "outputs": [
    {
     "name": "stdout",
     "output_type": "stream",
     "text": [
      "cuda:0\n"
     ]
    }
   ],
   "source": [
    "class Opts():\n",
    "    def __init__(self):\n",
    "        self.n_epoch = 50\n",
    "        self.residual_blocks = 17\n",
    "        self.lr = 0.0002\n",
    "        self.b1 = 0.9\n",
    "        self.b2 = 0.999\n",
    "        self.batch_size = 16\n",
    "        self.n_cpu = 8\n",
    "        self.warmup_batches = 500\n",
    "        self.lambda_adv = 5e-3\n",
    "        self.lambda_pixel = 1e-2\n",
    "        self.pretrained = False\n",
    "        self.dataset_name = 'cat'\n",
    "        self.sample_interval = 100\n",
    "        self.checkpoint_interval = 1000\n",
    "        self.hr_height = hr_const\n",
    "        self.hr_width = hr_const\n",
    "        self.channels = 3\n",
    "        self.device = torch.device('cuda:0' if torch.cuda.is_available() else 'cpu')\n",
    "        print(self.device)\n",
    "    def to_dict(self):\n",
    "        parameters = {\n",
    "            'n_epoch': self.n_epoch,\n",
    "            'hr_height': self.hr_height,\n",
    "            'residual_blocks': self.residual_blocks,\n",
    "            'lr': self.lr,\n",
    "            'b1': self.b1,\n",
    "            'b2': self.b2,\n",
    "            'batch_size': self.batch_size,\n",
    "            'n_cpu': self.n_cpu,\n",
    "            'warmup_batches': self.warmup_batches,\n",
    "            'lambda_adv': self.lambda_adv,\n",
    "            'lambda_pixel': self.lambda_pixel,\n",
    "            'pretrained': self.pretrained,\n",
    "            'dataset_name': self.dataset_name,\n",
    "            'sample_interval': self.sample_interval,\n",
    "            'checkpoint_interval': self.checkpoint_interval,\n",
    "            'hr_height': self.hr_height,\n",
    "            'hr_width': self.hr_width,\n",
    "            'channels': self.channels,\n",
    "            'device': str(self.device),\n",
    "        }\n",
    "        return parameters\n",
    "opt = Opts()\n",
    "save_json(opt.to_dict(), param_save_path, 'w')"
   ]
  },
  {
   "cell_type": "code",
   "execution_count": 18,
   "id": "209ca563",
   "metadata": {},
   "outputs": [],
   "source": [
    "hr_shape = (opt.hr_height, opt.hr_height)\n",
    "#hr_shape = (256,256)"
   ]
  },
  {
   "cell_type": "code",
   "execution_count": 19,
   "id": "03615b37",
   "metadata": {},
   "outputs": [],
   "source": [
    "train_dataloader = DataLoader(\n",
    "    ImageDataset(train_dir, hr_shape = hr_shape),\n",
    "    batch_size = opt.batch_size,\n",
    "    shuffle = True,\n",
    "    num_workers = opt.n_cpu,\n",
    ")\n",
    "test_dataloader = DataLoader(\n",
    "    TestImageDataset(test_dir),\n",
    "    batch_size = 1,\n",
    "    shuffle = False,\n",
    "    num_workers = opt.n_cpu,\n",
    ")"
   ]
  },
  {
   "cell_type": "code",
   "execution_count": null,
   "id": "158a4007",
   "metadata": {},
   "outputs": [],
   "source": [
    "esrgan = ESRGAN(opt)"
   ]
  },
  {
   "cell_type": "code",
   "execution_count": null,
   "id": "a11a08a3",
   "metadata": {},
   "outputs": [],
   "source": [
    "for epoch in range(1, opt.n_epoch + 1):\n",
    "    print(\"\\ncurrent epoch : \", epoch)\n",
    "    for batch_num, imgs in enumerate(train_dataloader):\n",
    "        if batch_num < 1000:\n",
    "            batches_done = (epoch - 1) * len(train_dataloader) + batch_num\n",
    "            # 事前学習\n",
    "            if batches_done <= opt.warmup_batches:#500\n",
    "                esrgan.pre_train(imgs, batch_num)\n",
    "            # メイン学習\n",
    "            else:\n",
    "                esrgan.train(imgs, batch_num)\n",
    "            \"\"\"\n",
    "            # 高解像度の生成画像の保存\n",
    "            if batches_done % opt.sample_interval == 0:\n",
    "                for i, imgs in enumerate(test_dataloader):\n",
    "                    esrgan.save_image(imgs, batches_done)\n",
    "            \"\"\"\n",
    "            if batches_done % opt.sample_interval == 0:\n",
    "                for i, imgs in enumerate(test_dataloader):\n",
    "                    esrgan.save_image(imgs,batches_done)\n",
    "            # 学習した重みの保存\n",
    "            if batches_done % opt.checkpoint_interval == 0:\n",
    "                esrgan.save_weight(batches_done)\n",
    "        else:\n",
    "            continue"
   ]
  },
  {
   "cell_type": "code",
   "execution_count": null,
   "id": "7d3c3f39",
   "metadata": {},
   "outputs": [],
   "source": []
  },
  {
   "cell_type": "code",
   "execution_count": 20,
   "id": "e4df7a48",
   "metadata": {},
   "outputs": [
    {
     "data": {
      "text/plain": [
       "GeneratorRRDB(\n",
       "  (conv1): Conv2d(3, 64, kernel_size=(3, 3), stride=(1, 1), padding=(1, 1))\n",
       "  (res_blocks): Sequential(\n",
       "    (0): ResidualInResidualDenseBlock(\n",
       "      (dense_blocks): Sequential(\n",
       "        (0): DenseResidualBlock(\n",
       "          (b1): Sequential(\n",
       "            (0): Conv2d(64, 64, kernel_size=(3, 3), stride=(1, 1), padding=(1, 1))\n",
       "            (1): LeakyReLU(negative_slope=0.01)\n",
       "          )\n",
       "          (b2): Sequential(\n",
       "            (0): Conv2d(128, 64, kernel_size=(3, 3), stride=(1, 1), padding=(1, 1))\n",
       "            (1): LeakyReLU(negative_slope=0.01)\n",
       "          )\n",
       "          (b3): Sequential(\n",
       "            (0): Conv2d(192, 64, kernel_size=(3, 3), stride=(1, 1), padding=(1, 1))\n",
       "            (1): LeakyReLU(negative_slope=0.01)\n",
       "          )\n",
       "          (b4): Sequential(\n",
       "            (0): Conv2d(256, 64, kernel_size=(3, 3), stride=(1, 1), padding=(1, 1))\n",
       "            (1): LeakyReLU(negative_slope=0.01)\n",
       "          )\n",
       "          (b5): Sequential(\n",
       "            (0): Conv2d(320, 64, kernel_size=(3, 3), stride=(1, 1), padding=(1, 1))\n",
       "          )\n",
       "        )\n",
       "        (1): DenseResidualBlock(\n",
       "          (b1): Sequential(\n",
       "            (0): Conv2d(64, 64, kernel_size=(3, 3), stride=(1, 1), padding=(1, 1))\n",
       "            (1): LeakyReLU(negative_slope=0.01)\n",
       "          )\n",
       "          (b2): Sequential(\n",
       "            (0): Conv2d(128, 64, kernel_size=(3, 3), stride=(1, 1), padding=(1, 1))\n",
       "            (1): LeakyReLU(negative_slope=0.01)\n",
       "          )\n",
       "          (b3): Sequential(\n",
       "            (0): Conv2d(192, 64, kernel_size=(3, 3), stride=(1, 1), padding=(1, 1))\n",
       "            (1): LeakyReLU(negative_slope=0.01)\n",
       "          )\n",
       "          (b4): Sequential(\n",
       "            (0): Conv2d(256, 64, kernel_size=(3, 3), stride=(1, 1), padding=(1, 1))\n",
       "            (1): LeakyReLU(negative_slope=0.01)\n",
       "          )\n",
       "          (b5): Sequential(\n",
       "            (0): Conv2d(320, 64, kernel_size=(3, 3), stride=(1, 1), padding=(1, 1))\n",
       "          )\n",
       "        )\n",
       "        (2): DenseResidualBlock(\n",
       "          (b1): Sequential(\n",
       "            (0): Conv2d(64, 64, kernel_size=(3, 3), stride=(1, 1), padding=(1, 1))\n",
       "            (1): LeakyReLU(negative_slope=0.01)\n",
       "          )\n",
       "          (b2): Sequential(\n",
       "            (0): Conv2d(128, 64, kernel_size=(3, 3), stride=(1, 1), padding=(1, 1))\n",
       "            (1): LeakyReLU(negative_slope=0.01)\n",
       "          )\n",
       "          (b3): Sequential(\n",
       "            (0): Conv2d(192, 64, kernel_size=(3, 3), stride=(1, 1), padding=(1, 1))\n",
       "            (1): LeakyReLU(negative_slope=0.01)\n",
       "          )\n",
       "          (b4): Sequential(\n",
       "            (0): Conv2d(256, 64, kernel_size=(3, 3), stride=(1, 1), padding=(1, 1))\n",
       "            (1): LeakyReLU(negative_slope=0.01)\n",
       "          )\n",
       "          (b5): Sequential(\n",
       "            (0): Conv2d(320, 64, kernel_size=(3, 3), stride=(1, 1), padding=(1, 1))\n",
       "          )\n",
       "        )\n",
       "      )\n",
       "    )\n",
       "    (1): ResidualInResidualDenseBlock(\n",
       "      (dense_blocks): Sequential(\n",
       "        (0): DenseResidualBlock(\n",
       "          (b1): Sequential(\n",
       "            (0): Conv2d(64, 64, kernel_size=(3, 3), stride=(1, 1), padding=(1, 1))\n",
       "            (1): LeakyReLU(negative_slope=0.01)\n",
       "          )\n",
       "          (b2): Sequential(\n",
       "            (0): Conv2d(128, 64, kernel_size=(3, 3), stride=(1, 1), padding=(1, 1))\n",
       "            (1): LeakyReLU(negative_slope=0.01)\n",
       "          )\n",
       "          (b3): Sequential(\n",
       "            (0): Conv2d(192, 64, kernel_size=(3, 3), stride=(1, 1), padding=(1, 1))\n",
       "            (1): LeakyReLU(negative_slope=0.01)\n",
       "          )\n",
       "          (b4): Sequential(\n",
       "            (0): Conv2d(256, 64, kernel_size=(3, 3), stride=(1, 1), padding=(1, 1))\n",
       "            (1): LeakyReLU(negative_slope=0.01)\n",
       "          )\n",
       "          (b5): Sequential(\n",
       "            (0): Conv2d(320, 64, kernel_size=(3, 3), stride=(1, 1), padding=(1, 1))\n",
       "          )\n",
       "        )\n",
       "        (1): DenseResidualBlock(\n",
       "          (b1): Sequential(\n",
       "            (0): Conv2d(64, 64, kernel_size=(3, 3), stride=(1, 1), padding=(1, 1))\n",
       "            (1): LeakyReLU(negative_slope=0.01)\n",
       "          )\n",
       "          (b2): Sequential(\n",
       "            (0): Conv2d(128, 64, kernel_size=(3, 3), stride=(1, 1), padding=(1, 1))\n",
       "            (1): LeakyReLU(negative_slope=0.01)\n",
       "          )\n",
       "          (b3): Sequential(\n",
       "            (0): Conv2d(192, 64, kernel_size=(3, 3), stride=(1, 1), padding=(1, 1))\n",
       "            (1): LeakyReLU(negative_slope=0.01)\n",
       "          )\n",
       "          (b4): Sequential(\n",
       "            (0): Conv2d(256, 64, kernel_size=(3, 3), stride=(1, 1), padding=(1, 1))\n",
       "            (1): LeakyReLU(negative_slope=0.01)\n",
       "          )\n",
       "          (b5): Sequential(\n",
       "            (0): Conv2d(320, 64, kernel_size=(3, 3), stride=(1, 1), padding=(1, 1))\n",
       "          )\n",
       "        )\n",
       "        (2): DenseResidualBlock(\n",
       "          (b1): Sequential(\n",
       "            (0): Conv2d(64, 64, kernel_size=(3, 3), stride=(1, 1), padding=(1, 1))\n",
       "            (1): LeakyReLU(negative_slope=0.01)\n",
       "          )\n",
       "          (b2): Sequential(\n",
       "            (0): Conv2d(128, 64, kernel_size=(3, 3), stride=(1, 1), padding=(1, 1))\n",
       "            (1): LeakyReLU(negative_slope=0.01)\n",
       "          )\n",
       "          (b3): Sequential(\n",
       "            (0): Conv2d(192, 64, kernel_size=(3, 3), stride=(1, 1), padding=(1, 1))\n",
       "            (1): LeakyReLU(negative_slope=0.01)\n",
       "          )\n",
       "          (b4): Sequential(\n",
       "            (0): Conv2d(256, 64, kernel_size=(3, 3), stride=(1, 1), padding=(1, 1))\n",
       "            (1): LeakyReLU(negative_slope=0.01)\n",
       "          )\n",
       "          (b5): Sequential(\n",
       "            (0): Conv2d(320, 64, kernel_size=(3, 3), stride=(1, 1), padding=(1, 1))\n",
       "          )\n",
       "        )\n",
       "      )\n",
       "    )\n",
       "    (2): ResidualInResidualDenseBlock(\n",
       "      (dense_blocks): Sequential(\n",
       "        (0): DenseResidualBlock(\n",
       "          (b1): Sequential(\n",
       "            (0): Conv2d(64, 64, kernel_size=(3, 3), stride=(1, 1), padding=(1, 1))\n",
       "            (1): LeakyReLU(negative_slope=0.01)\n",
       "          )\n",
       "          (b2): Sequential(\n",
       "            (0): Conv2d(128, 64, kernel_size=(3, 3), stride=(1, 1), padding=(1, 1))\n",
       "            (1): LeakyReLU(negative_slope=0.01)\n",
       "          )\n",
       "          (b3): Sequential(\n",
       "            (0): Conv2d(192, 64, kernel_size=(3, 3), stride=(1, 1), padding=(1, 1))\n",
       "            (1): LeakyReLU(negative_slope=0.01)\n",
       "          )\n",
       "          (b4): Sequential(\n",
       "            (0): Conv2d(256, 64, kernel_size=(3, 3), stride=(1, 1), padding=(1, 1))\n",
       "            (1): LeakyReLU(negative_slope=0.01)\n",
       "          )\n",
       "          (b5): Sequential(\n",
       "            (0): Conv2d(320, 64, kernel_size=(3, 3), stride=(1, 1), padding=(1, 1))\n",
       "          )\n",
       "        )\n",
       "        (1): DenseResidualBlock(\n",
       "          (b1): Sequential(\n",
       "            (0): Conv2d(64, 64, kernel_size=(3, 3), stride=(1, 1), padding=(1, 1))\n",
       "            (1): LeakyReLU(negative_slope=0.01)\n",
       "          )\n",
       "          (b2): Sequential(\n",
       "            (0): Conv2d(128, 64, kernel_size=(3, 3), stride=(1, 1), padding=(1, 1))\n",
       "            (1): LeakyReLU(negative_slope=0.01)\n",
       "          )\n",
       "          (b3): Sequential(\n",
       "            (0): Conv2d(192, 64, kernel_size=(3, 3), stride=(1, 1), padding=(1, 1))\n",
       "            (1): LeakyReLU(negative_slope=0.01)\n",
       "          )\n",
       "          (b4): Sequential(\n",
       "            (0): Conv2d(256, 64, kernel_size=(3, 3), stride=(1, 1), padding=(1, 1))\n",
       "            (1): LeakyReLU(negative_slope=0.01)\n",
       "          )\n",
       "          (b5): Sequential(\n",
       "            (0): Conv2d(320, 64, kernel_size=(3, 3), stride=(1, 1), padding=(1, 1))\n",
       "          )\n",
       "        )\n",
       "        (2): DenseResidualBlock(\n",
       "          (b1): Sequential(\n",
       "            (0): Conv2d(64, 64, kernel_size=(3, 3), stride=(1, 1), padding=(1, 1))\n",
       "            (1): LeakyReLU(negative_slope=0.01)\n",
       "          )\n",
       "          (b2): Sequential(\n",
       "            (0): Conv2d(128, 64, kernel_size=(3, 3), stride=(1, 1), padding=(1, 1))\n",
       "            (1): LeakyReLU(negative_slope=0.01)\n",
       "          )\n",
       "          (b3): Sequential(\n",
       "            (0): Conv2d(192, 64, kernel_size=(3, 3), stride=(1, 1), padding=(1, 1))\n",
       "            (1): LeakyReLU(negative_slope=0.01)\n",
       "          )\n",
       "          (b4): Sequential(\n",
       "            (0): Conv2d(256, 64, kernel_size=(3, 3), stride=(1, 1), padding=(1, 1))\n",
       "            (1): LeakyReLU(negative_slope=0.01)\n",
       "          )\n",
       "          (b5): Sequential(\n",
       "            (0): Conv2d(320, 64, kernel_size=(3, 3), stride=(1, 1), padding=(1, 1))\n",
       "          )\n",
       "        )\n",
       "      )\n",
       "    )\n",
       "    (3): ResidualInResidualDenseBlock(\n",
       "      (dense_blocks): Sequential(\n",
       "        (0): DenseResidualBlock(\n",
       "          (b1): Sequential(\n",
       "            (0): Conv2d(64, 64, kernel_size=(3, 3), stride=(1, 1), padding=(1, 1))\n",
       "            (1): LeakyReLU(negative_slope=0.01)\n",
       "          )\n",
       "          (b2): Sequential(\n",
       "            (0): Conv2d(128, 64, kernel_size=(3, 3), stride=(1, 1), padding=(1, 1))\n",
       "            (1): LeakyReLU(negative_slope=0.01)\n",
       "          )\n",
       "          (b3): Sequential(\n",
       "            (0): Conv2d(192, 64, kernel_size=(3, 3), stride=(1, 1), padding=(1, 1))\n",
       "            (1): LeakyReLU(negative_slope=0.01)\n",
       "          )\n",
       "          (b4): Sequential(\n",
       "            (0): Conv2d(256, 64, kernel_size=(3, 3), stride=(1, 1), padding=(1, 1))\n",
       "            (1): LeakyReLU(negative_slope=0.01)\n",
       "          )\n",
       "          (b5): Sequential(\n",
       "            (0): Conv2d(320, 64, kernel_size=(3, 3), stride=(1, 1), padding=(1, 1))\n",
       "          )\n",
       "        )\n",
       "        (1): DenseResidualBlock(\n",
       "          (b1): Sequential(\n",
       "            (0): Conv2d(64, 64, kernel_size=(3, 3), stride=(1, 1), padding=(1, 1))\n",
       "            (1): LeakyReLU(negative_slope=0.01)\n",
       "          )\n",
       "          (b2): Sequential(\n",
       "            (0): Conv2d(128, 64, kernel_size=(3, 3), stride=(1, 1), padding=(1, 1))\n",
       "            (1): LeakyReLU(negative_slope=0.01)\n",
       "          )\n",
       "          (b3): Sequential(\n",
       "            (0): Conv2d(192, 64, kernel_size=(3, 3), stride=(1, 1), padding=(1, 1))\n",
       "            (1): LeakyReLU(negative_slope=0.01)\n",
       "          )\n",
       "          (b4): Sequential(\n",
       "            (0): Conv2d(256, 64, kernel_size=(3, 3), stride=(1, 1), padding=(1, 1))\n",
       "            (1): LeakyReLU(negative_slope=0.01)\n",
       "          )\n",
       "          (b5): Sequential(\n",
       "            (0): Conv2d(320, 64, kernel_size=(3, 3), stride=(1, 1), padding=(1, 1))\n",
       "          )\n",
       "        )\n",
       "        (2): DenseResidualBlock(\n",
       "          (b1): Sequential(\n",
       "            (0): Conv2d(64, 64, kernel_size=(3, 3), stride=(1, 1), padding=(1, 1))\n",
       "            (1): LeakyReLU(negative_slope=0.01)\n",
       "          )\n",
       "          (b2): Sequential(\n",
       "            (0): Conv2d(128, 64, kernel_size=(3, 3), stride=(1, 1), padding=(1, 1))\n",
       "            (1): LeakyReLU(negative_slope=0.01)\n",
       "          )\n",
       "          (b3): Sequential(\n",
       "            (0): Conv2d(192, 64, kernel_size=(3, 3), stride=(1, 1), padding=(1, 1))\n",
       "            (1): LeakyReLU(negative_slope=0.01)\n",
       "          )\n",
       "          (b4): Sequential(\n",
       "            (0): Conv2d(256, 64, kernel_size=(3, 3), stride=(1, 1), padding=(1, 1))\n",
       "            (1): LeakyReLU(negative_slope=0.01)\n",
       "          )\n",
       "          (b5): Sequential(\n",
       "            (0): Conv2d(320, 64, kernel_size=(3, 3), stride=(1, 1), padding=(1, 1))\n",
       "          )\n",
       "        )\n",
       "      )\n",
       "    )\n",
       "    (4): ResidualInResidualDenseBlock(\n",
       "      (dense_blocks): Sequential(\n",
       "        (0): DenseResidualBlock(\n",
       "          (b1): Sequential(\n",
       "            (0): Conv2d(64, 64, kernel_size=(3, 3), stride=(1, 1), padding=(1, 1))\n",
       "            (1): LeakyReLU(negative_slope=0.01)\n",
       "          )\n",
       "          (b2): Sequential(\n",
       "            (0): Conv2d(128, 64, kernel_size=(3, 3), stride=(1, 1), padding=(1, 1))\n",
       "            (1): LeakyReLU(negative_slope=0.01)\n",
       "          )\n",
       "          (b3): Sequential(\n",
       "            (0): Conv2d(192, 64, kernel_size=(3, 3), stride=(1, 1), padding=(1, 1))\n",
       "            (1): LeakyReLU(negative_slope=0.01)\n",
       "          )\n",
       "          (b4): Sequential(\n",
       "            (0): Conv2d(256, 64, kernel_size=(3, 3), stride=(1, 1), padding=(1, 1))\n",
       "            (1): LeakyReLU(negative_slope=0.01)\n",
       "          )\n",
       "          (b5): Sequential(\n",
       "            (0): Conv2d(320, 64, kernel_size=(3, 3), stride=(1, 1), padding=(1, 1))\n",
       "          )\n",
       "        )\n",
       "        (1): DenseResidualBlock(\n",
       "          (b1): Sequential(\n",
       "            (0): Conv2d(64, 64, kernel_size=(3, 3), stride=(1, 1), padding=(1, 1))\n",
       "            (1): LeakyReLU(negative_slope=0.01)\n",
       "          )\n",
       "          (b2): Sequential(\n",
       "            (0): Conv2d(128, 64, kernel_size=(3, 3), stride=(1, 1), padding=(1, 1))\n",
       "            (1): LeakyReLU(negative_slope=0.01)\n",
       "          )\n",
       "          (b3): Sequential(\n",
       "            (0): Conv2d(192, 64, kernel_size=(3, 3), stride=(1, 1), padding=(1, 1))\n",
       "            (1): LeakyReLU(negative_slope=0.01)\n",
       "          )\n",
       "          (b4): Sequential(\n",
       "            (0): Conv2d(256, 64, kernel_size=(3, 3), stride=(1, 1), padding=(1, 1))\n",
       "            (1): LeakyReLU(negative_slope=0.01)\n",
       "          )\n",
       "          (b5): Sequential(\n",
       "            (0): Conv2d(320, 64, kernel_size=(3, 3), stride=(1, 1), padding=(1, 1))\n",
       "          )\n",
       "        )\n",
       "        (2): DenseResidualBlock(\n",
       "          (b1): Sequential(\n",
       "            (0): Conv2d(64, 64, kernel_size=(3, 3), stride=(1, 1), padding=(1, 1))\n",
       "            (1): LeakyReLU(negative_slope=0.01)\n",
       "          )\n",
       "          (b2): Sequential(\n",
       "            (0): Conv2d(128, 64, kernel_size=(3, 3), stride=(1, 1), padding=(1, 1))\n",
       "            (1): LeakyReLU(negative_slope=0.01)\n",
       "          )\n",
       "          (b3): Sequential(\n",
       "            (0): Conv2d(192, 64, kernel_size=(3, 3), stride=(1, 1), padding=(1, 1))\n",
       "            (1): LeakyReLU(negative_slope=0.01)\n",
       "          )\n",
       "          (b4): Sequential(\n",
       "            (0): Conv2d(256, 64, kernel_size=(3, 3), stride=(1, 1), padding=(1, 1))\n",
       "            (1): LeakyReLU(negative_slope=0.01)\n",
       "          )\n",
       "          (b5): Sequential(\n",
       "            (0): Conv2d(320, 64, kernel_size=(3, 3), stride=(1, 1), padding=(1, 1))\n",
       "          )\n",
       "        )\n",
       "      )\n",
       "    )\n",
       "    (5): ResidualInResidualDenseBlock(\n",
       "      (dense_blocks): Sequential(\n",
       "        (0): DenseResidualBlock(\n",
       "          (b1): Sequential(\n",
       "            (0): Conv2d(64, 64, kernel_size=(3, 3), stride=(1, 1), padding=(1, 1))\n",
       "            (1): LeakyReLU(negative_slope=0.01)\n",
       "          )\n",
       "          (b2): Sequential(\n",
       "            (0): Conv2d(128, 64, kernel_size=(3, 3), stride=(1, 1), padding=(1, 1))\n",
       "            (1): LeakyReLU(negative_slope=0.01)\n",
       "          )\n",
       "          (b3): Sequential(\n",
       "            (0): Conv2d(192, 64, kernel_size=(3, 3), stride=(1, 1), padding=(1, 1))\n",
       "            (1): LeakyReLU(negative_slope=0.01)\n",
       "          )\n",
       "          (b4): Sequential(\n",
       "            (0): Conv2d(256, 64, kernel_size=(3, 3), stride=(1, 1), padding=(1, 1))\n",
       "            (1): LeakyReLU(negative_slope=0.01)\n",
       "          )\n",
       "          (b5): Sequential(\n",
       "            (0): Conv2d(320, 64, kernel_size=(3, 3), stride=(1, 1), padding=(1, 1))\n",
       "          )\n",
       "        )\n",
       "        (1): DenseResidualBlock(\n",
       "          (b1): Sequential(\n",
       "            (0): Conv2d(64, 64, kernel_size=(3, 3), stride=(1, 1), padding=(1, 1))\n",
       "            (1): LeakyReLU(negative_slope=0.01)\n",
       "          )\n",
       "          (b2): Sequential(\n",
       "            (0): Conv2d(128, 64, kernel_size=(3, 3), stride=(1, 1), padding=(1, 1))\n",
       "            (1): LeakyReLU(negative_slope=0.01)\n",
       "          )\n",
       "          (b3): Sequential(\n",
       "            (0): Conv2d(192, 64, kernel_size=(3, 3), stride=(1, 1), padding=(1, 1))\n",
       "            (1): LeakyReLU(negative_slope=0.01)\n",
       "          )\n",
       "          (b4): Sequential(\n",
       "            (0): Conv2d(256, 64, kernel_size=(3, 3), stride=(1, 1), padding=(1, 1))\n",
       "            (1): LeakyReLU(negative_slope=0.01)\n",
       "          )\n",
       "          (b5): Sequential(\n",
       "            (0): Conv2d(320, 64, kernel_size=(3, 3), stride=(1, 1), padding=(1, 1))\n",
       "          )\n",
       "        )\n",
       "        (2): DenseResidualBlock(\n",
       "          (b1): Sequential(\n",
       "            (0): Conv2d(64, 64, kernel_size=(3, 3), stride=(1, 1), padding=(1, 1))\n",
       "            (1): LeakyReLU(negative_slope=0.01)\n",
       "          )\n",
       "          (b2): Sequential(\n",
       "            (0): Conv2d(128, 64, kernel_size=(3, 3), stride=(1, 1), padding=(1, 1))\n",
       "            (1): LeakyReLU(negative_slope=0.01)\n",
       "          )\n",
       "          (b3): Sequential(\n",
       "            (0): Conv2d(192, 64, kernel_size=(3, 3), stride=(1, 1), padding=(1, 1))\n",
       "            (1): LeakyReLU(negative_slope=0.01)\n",
       "          )\n",
       "          (b4): Sequential(\n",
       "            (0): Conv2d(256, 64, kernel_size=(3, 3), stride=(1, 1), padding=(1, 1))\n",
       "            (1): LeakyReLU(negative_slope=0.01)\n",
       "          )\n",
       "          (b5): Sequential(\n",
       "            (0): Conv2d(320, 64, kernel_size=(3, 3), stride=(1, 1), padding=(1, 1))\n",
       "          )\n",
       "        )\n",
       "      )\n",
       "    )\n",
       "    (6): ResidualInResidualDenseBlock(\n",
       "      (dense_blocks): Sequential(\n",
       "        (0): DenseResidualBlock(\n",
       "          (b1): Sequential(\n",
       "            (0): Conv2d(64, 64, kernel_size=(3, 3), stride=(1, 1), padding=(1, 1))\n",
       "            (1): LeakyReLU(negative_slope=0.01)\n",
       "          )\n",
       "          (b2): Sequential(\n",
       "            (0): Conv2d(128, 64, kernel_size=(3, 3), stride=(1, 1), padding=(1, 1))\n",
       "            (1): LeakyReLU(negative_slope=0.01)\n",
       "          )\n",
       "          (b3): Sequential(\n",
       "            (0): Conv2d(192, 64, kernel_size=(3, 3), stride=(1, 1), padding=(1, 1))\n",
       "            (1): LeakyReLU(negative_slope=0.01)\n",
       "          )\n",
       "          (b4): Sequential(\n",
       "            (0): Conv2d(256, 64, kernel_size=(3, 3), stride=(1, 1), padding=(1, 1))\n",
       "            (1): LeakyReLU(negative_slope=0.01)\n",
       "          )\n",
       "          (b5): Sequential(\n",
       "            (0): Conv2d(320, 64, kernel_size=(3, 3), stride=(1, 1), padding=(1, 1))\n",
       "          )\n",
       "        )\n",
       "        (1): DenseResidualBlock(\n",
       "          (b1): Sequential(\n",
       "            (0): Conv2d(64, 64, kernel_size=(3, 3), stride=(1, 1), padding=(1, 1))\n",
       "            (1): LeakyReLU(negative_slope=0.01)\n",
       "          )\n",
       "          (b2): Sequential(\n",
       "            (0): Conv2d(128, 64, kernel_size=(3, 3), stride=(1, 1), padding=(1, 1))\n",
       "            (1): LeakyReLU(negative_slope=0.01)\n",
       "          )\n",
       "          (b3): Sequential(\n",
       "            (0): Conv2d(192, 64, kernel_size=(3, 3), stride=(1, 1), padding=(1, 1))\n",
       "            (1): LeakyReLU(negative_slope=0.01)\n",
       "          )\n",
       "          (b4): Sequential(\n",
       "            (0): Conv2d(256, 64, kernel_size=(3, 3), stride=(1, 1), padding=(1, 1))\n",
       "            (1): LeakyReLU(negative_slope=0.01)\n",
       "          )\n",
       "          (b5): Sequential(\n",
       "            (0): Conv2d(320, 64, kernel_size=(3, 3), stride=(1, 1), padding=(1, 1))\n",
       "          )\n",
       "        )\n",
       "        (2): DenseResidualBlock(\n",
       "          (b1): Sequential(\n",
       "            (0): Conv2d(64, 64, kernel_size=(3, 3), stride=(1, 1), padding=(1, 1))\n",
       "            (1): LeakyReLU(negative_slope=0.01)\n",
       "          )\n",
       "          (b2): Sequential(\n",
       "            (0): Conv2d(128, 64, kernel_size=(3, 3), stride=(1, 1), padding=(1, 1))\n",
       "            (1): LeakyReLU(negative_slope=0.01)\n",
       "          )\n",
       "          (b3): Sequential(\n",
       "            (0): Conv2d(192, 64, kernel_size=(3, 3), stride=(1, 1), padding=(1, 1))\n",
       "            (1): LeakyReLU(negative_slope=0.01)\n",
       "          )\n",
       "          (b4): Sequential(\n",
       "            (0): Conv2d(256, 64, kernel_size=(3, 3), stride=(1, 1), padding=(1, 1))\n",
       "            (1): LeakyReLU(negative_slope=0.01)\n",
       "          )\n",
       "          (b5): Sequential(\n",
       "            (0): Conv2d(320, 64, kernel_size=(3, 3), stride=(1, 1), padding=(1, 1))\n",
       "          )\n",
       "        )\n",
       "      )\n",
       "    )\n",
       "    (7): ResidualInResidualDenseBlock(\n",
       "      (dense_blocks): Sequential(\n",
       "        (0): DenseResidualBlock(\n",
       "          (b1): Sequential(\n",
       "            (0): Conv2d(64, 64, kernel_size=(3, 3), stride=(1, 1), padding=(1, 1))\n",
       "            (1): LeakyReLU(negative_slope=0.01)\n",
       "          )\n",
       "          (b2): Sequential(\n",
       "            (0): Conv2d(128, 64, kernel_size=(3, 3), stride=(1, 1), padding=(1, 1))\n",
       "            (1): LeakyReLU(negative_slope=0.01)\n",
       "          )\n",
       "          (b3): Sequential(\n",
       "            (0): Conv2d(192, 64, kernel_size=(3, 3), stride=(1, 1), padding=(1, 1))\n",
       "            (1): LeakyReLU(negative_slope=0.01)\n",
       "          )\n",
       "          (b4): Sequential(\n",
       "            (0): Conv2d(256, 64, kernel_size=(3, 3), stride=(1, 1), padding=(1, 1))\n",
       "            (1): LeakyReLU(negative_slope=0.01)\n",
       "          )\n",
       "          (b5): Sequential(\n",
       "            (0): Conv2d(320, 64, kernel_size=(3, 3), stride=(1, 1), padding=(1, 1))\n",
       "          )\n",
       "        )\n",
       "        (1): DenseResidualBlock(\n",
       "          (b1): Sequential(\n",
       "            (0): Conv2d(64, 64, kernel_size=(3, 3), stride=(1, 1), padding=(1, 1))\n",
       "            (1): LeakyReLU(negative_slope=0.01)\n",
       "          )\n",
       "          (b2): Sequential(\n",
       "            (0): Conv2d(128, 64, kernel_size=(3, 3), stride=(1, 1), padding=(1, 1))\n",
       "            (1): LeakyReLU(negative_slope=0.01)\n",
       "          )\n",
       "          (b3): Sequential(\n",
       "            (0): Conv2d(192, 64, kernel_size=(3, 3), stride=(1, 1), padding=(1, 1))\n",
       "            (1): LeakyReLU(negative_slope=0.01)\n",
       "          )\n",
       "          (b4): Sequential(\n",
       "            (0): Conv2d(256, 64, kernel_size=(3, 3), stride=(1, 1), padding=(1, 1))\n",
       "            (1): LeakyReLU(negative_slope=0.01)\n",
       "          )\n",
       "          (b5): Sequential(\n",
       "            (0): Conv2d(320, 64, kernel_size=(3, 3), stride=(1, 1), padding=(1, 1))\n",
       "          )\n",
       "        )\n",
       "        (2): DenseResidualBlock(\n",
       "          (b1): Sequential(\n",
       "            (0): Conv2d(64, 64, kernel_size=(3, 3), stride=(1, 1), padding=(1, 1))\n",
       "            (1): LeakyReLU(negative_slope=0.01)\n",
       "          )\n",
       "          (b2): Sequential(\n",
       "            (0): Conv2d(128, 64, kernel_size=(3, 3), stride=(1, 1), padding=(1, 1))\n",
       "            (1): LeakyReLU(negative_slope=0.01)\n",
       "          )\n",
       "          (b3): Sequential(\n",
       "            (0): Conv2d(192, 64, kernel_size=(3, 3), stride=(1, 1), padding=(1, 1))\n",
       "            (1): LeakyReLU(negative_slope=0.01)\n",
       "          )\n",
       "          (b4): Sequential(\n",
       "            (0): Conv2d(256, 64, kernel_size=(3, 3), stride=(1, 1), padding=(1, 1))\n",
       "            (1): LeakyReLU(negative_slope=0.01)\n",
       "          )\n",
       "          (b5): Sequential(\n",
       "            (0): Conv2d(320, 64, kernel_size=(3, 3), stride=(1, 1), padding=(1, 1))\n",
       "          )\n",
       "        )\n",
       "      )\n",
       "    )\n",
       "    (8): ResidualInResidualDenseBlock(\n",
       "      (dense_blocks): Sequential(\n",
       "        (0): DenseResidualBlock(\n",
       "          (b1): Sequential(\n",
       "            (0): Conv2d(64, 64, kernel_size=(3, 3), stride=(1, 1), padding=(1, 1))\n",
       "            (1): LeakyReLU(negative_slope=0.01)\n",
       "          )\n",
       "          (b2): Sequential(\n",
       "            (0): Conv2d(128, 64, kernel_size=(3, 3), stride=(1, 1), padding=(1, 1))\n",
       "            (1): LeakyReLU(negative_slope=0.01)\n",
       "          )\n",
       "          (b3): Sequential(\n",
       "            (0): Conv2d(192, 64, kernel_size=(3, 3), stride=(1, 1), padding=(1, 1))\n",
       "            (1): LeakyReLU(negative_slope=0.01)\n",
       "          )\n",
       "          (b4): Sequential(\n",
       "            (0): Conv2d(256, 64, kernel_size=(3, 3), stride=(1, 1), padding=(1, 1))\n",
       "            (1): LeakyReLU(negative_slope=0.01)\n",
       "          )\n",
       "          (b5): Sequential(\n",
       "            (0): Conv2d(320, 64, kernel_size=(3, 3), stride=(1, 1), padding=(1, 1))\n",
       "          )\n",
       "        )\n",
       "        (1): DenseResidualBlock(\n",
       "          (b1): Sequential(\n",
       "            (0): Conv2d(64, 64, kernel_size=(3, 3), stride=(1, 1), padding=(1, 1))\n",
       "            (1): LeakyReLU(negative_slope=0.01)\n",
       "          )\n",
       "          (b2): Sequential(\n",
       "            (0): Conv2d(128, 64, kernel_size=(3, 3), stride=(1, 1), padding=(1, 1))\n",
       "            (1): LeakyReLU(negative_slope=0.01)\n",
       "          )\n",
       "          (b3): Sequential(\n",
       "            (0): Conv2d(192, 64, kernel_size=(3, 3), stride=(1, 1), padding=(1, 1))\n",
       "            (1): LeakyReLU(negative_slope=0.01)\n",
       "          )\n",
       "          (b4): Sequential(\n",
       "            (0): Conv2d(256, 64, kernel_size=(3, 3), stride=(1, 1), padding=(1, 1))\n",
       "            (1): LeakyReLU(negative_slope=0.01)\n",
       "          )\n",
       "          (b5): Sequential(\n",
       "            (0): Conv2d(320, 64, kernel_size=(3, 3), stride=(1, 1), padding=(1, 1))\n",
       "          )\n",
       "        )\n",
       "        (2): DenseResidualBlock(\n",
       "          (b1): Sequential(\n",
       "            (0): Conv2d(64, 64, kernel_size=(3, 3), stride=(1, 1), padding=(1, 1))\n",
       "            (1): LeakyReLU(negative_slope=0.01)\n",
       "          )\n",
       "          (b2): Sequential(\n",
       "            (0): Conv2d(128, 64, kernel_size=(3, 3), stride=(1, 1), padding=(1, 1))\n",
       "            (1): LeakyReLU(negative_slope=0.01)\n",
       "          )\n",
       "          (b3): Sequential(\n",
       "            (0): Conv2d(192, 64, kernel_size=(3, 3), stride=(1, 1), padding=(1, 1))\n",
       "            (1): LeakyReLU(negative_slope=0.01)\n",
       "          )\n",
       "          (b4): Sequential(\n",
       "            (0): Conv2d(256, 64, kernel_size=(3, 3), stride=(1, 1), padding=(1, 1))\n",
       "            (1): LeakyReLU(negative_slope=0.01)\n",
       "          )\n",
       "          (b5): Sequential(\n",
       "            (0): Conv2d(320, 64, kernel_size=(3, 3), stride=(1, 1), padding=(1, 1))\n",
       "          )\n",
       "        )\n",
       "      )\n",
       "    )\n",
       "    (9): ResidualInResidualDenseBlock(\n",
       "      (dense_blocks): Sequential(\n",
       "        (0): DenseResidualBlock(\n",
       "          (b1): Sequential(\n",
       "            (0): Conv2d(64, 64, kernel_size=(3, 3), stride=(1, 1), padding=(1, 1))\n",
       "            (1): LeakyReLU(negative_slope=0.01)\n",
       "          )\n",
       "          (b2): Sequential(\n",
       "            (0): Conv2d(128, 64, kernel_size=(3, 3), stride=(1, 1), padding=(1, 1))\n",
       "            (1): LeakyReLU(negative_slope=0.01)\n",
       "          )\n",
       "          (b3): Sequential(\n",
       "            (0): Conv2d(192, 64, kernel_size=(3, 3), stride=(1, 1), padding=(1, 1))\n",
       "            (1): LeakyReLU(negative_slope=0.01)\n",
       "          )\n",
       "          (b4): Sequential(\n",
       "            (0): Conv2d(256, 64, kernel_size=(3, 3), stride=(1, 1), padding=(1, 1))\n",
       "            (1): LeakyReLU(negative_slope=0.01)\n",
       "          )\n",
       "          (b5): Sequential(\n",
       "            (0): Conv2d(320, 64, kernel_size=(3, 3), stride=(1, 1), padding=(1, 1))\n",
       "          )\n",
       "        )\n",
       "        (1): DenseResidualBlock(\n",
       "          (b1): Sequential(\n",
       "            (0): Conv2d(64, 64, kernel_size=(3, 3), stride=(1, 1), padding=(1, 1))\n",
       "            (1): LeakyReLU(negative_slope=0.01)\n",
       "          )\n",
       "          (b2): Sequential(\n",
       "            (0): Conv2d(128, 64, kernel_size=(3, 3), stride=(1, 1), padding=(1, 1))\n",
       "            (1): LeakyReLU(negative_slope=0.01)\n",
       "          )\n",
       "          (b3): Sequential(\n",
       "            (0): Conv2d(192, 64, kernel_size=(3, 3), stride=(1, 1), padding=(1, 1))\n",
       "            (1): LeakyReLU(negative_slope=0.01)\n",
       "          )\n",
       "          (b4): Sequential(\n",
       "            (0): Conv2d(256, 64, kernel_size=(3, 3), stride=(1, 1), padding=(1, 1))\n",
       "            (1): LeakyReLU(negative_slope=0.01)\n",
       "          )\n",
       "          (b5): Sequential(\n",
       "            (0): Conv2d(320, 64, kernel_size=(3, 3), stride=(1, 1), padding=(1, 1))\n",
       "          )\n",
       "        )\n",
       "        (2): DenseResidualBlock(\n",
       "          (b1): Sequential(\n",
       "            (0): Conv2d(64, 64, kernel_size=(3, 3), stride=(1, 1), padding=(1, 1))\n",
       "            (1): LeakyReLU(negative_slope=0.01)\n",
       "          )\n",
       "          (b2): Sequential(\n",
       "            (0): Conv2d(128, 64, kernel_size=(3, 3), stride=(1, 1), padding=(1, 1))\n",
       "            (1): LeakyReLU(negative_slope=0.01)\n",
       "          )\n",
       "          (b3): Sequential(\n",
       "            (0): Conv2d(192, 64, kernel_size=(3, 3), stride=(1, 1), padding=(1, 1))\n",
       "            (1): LeakyReLU(negative_slope=0.01)\n",
       "          )\n",
       "          (b4): Sequential(\n",
       "            (0): Conv2d(256, 64, kernel_size=(3, 3), stride=(1, 1), padding=(1, 1))\n",
       "            (1): LeakyReLU(negative_slope=0.01)\n",
       "          )\n",
       "          (b5): Sequential(\n",
       "            (0): Conv2d(320, 64, kernel_size=(3, 3), stride=(1, 1), padding=(1, 1))\n",
       "          )\n",
       "        )\n",
       "      )\n",
       "    )\n",
       "    (10): ResidualInResidualDenseBlock(\n",
       "      (dense_blocks): Sequential(\n",
       "        (0): DenseResidualBlock(\n",
       "          (b1): Sequential(\n",
       "            (0): Conv2d(64, 64, kernel_size=(3, 3), stride=(1, 1), padding=(1, 1))\n",
       "            (1): LeakyReLU(negative_slope=0.01)\n",
       "          )\n",
       "          (b2): Sequential(\n",
       "            (0): Conv2d(128, 64, kernel_size=(3, 3), stride=(1, 1), padding=(1, 1))\n",
       "            (1): LeakyReLU(negative_slope=0.01)\n",
       "          )\n",
       "          (b3): Sequential(\n",
       "            (0): Conv2d(192, 64, kernel_size=(3, 3), stride=(1, 1), padding=(1, 1))\n",
       "            (1): LeakyReLU(negative_slope=0.01)\n",
       "          )\n",
       "          (b4): Sequential(\n",
       "            (0): Conv2d(256, 64, kernel_size=(3, 3), stride=(1, 1), padding=(1, 1))\n",
       "            (1): LeakyReLU(negative_slope=0.01)\n",
       "          )\n",
       "          (b5): Sequential(\n",
       "            (0): Conv2d(320, 64, kernel_size=(3, 3), stride=(1, 1), padding=(1, 1))\n",
       "          )\n",
       "        )\n",
       "        (1): DenseResidualBlock(\n",
       "          (b1): Sequential(\n",
       "            (0): Conv2d(64, 64, kernel_size=(3, 3), stride=(1, 1), padding=(1, 1))\n",
       "            (1): LeakyReLU(negative_slope=0.01)\n",
       "          )\n",
       "          (b2): Sequential(\n",
       "            (0): Conv2d(128, 64, kernel_size=(3, 3), stride=(1, 1), padding=(1, 1))\n",
       "            (1): LeakyReLU(negative_slope=0.01)\n",
       "          )\n",
       "          (b3): Sequential(\n",
       "            (0): Conv2d(192, 64, kernel_size=(3, 3), stride=(1, 1), padding=(1, 1))\n",
       "            (1): LeakyReLU(negative_slope=0.01)\n",
       "          )\n",
       "          (b4): Sequential(\n",
       "            (0): Conv2d(256, 64, kernel_size=(3, 3), stride=(1, 1), padding=(1, 1))\n",
       "            (1): LeakyReLU(negative_slope=0.01)\n",
       "          )\n",
       "          (b5): Sequential(\n",
       "            (0): Conv2d(320, 64, kernel_size=(3, 3), stride=(1, 1), padding=(1, 1))\n",
       "          )\n",
       "        )\n",
       "        (2): DenseResidualBlock(\n",
       "          (b1): Sequential(\n",
       "            (0): Conv2d(64, 64, kernel_size=(3, 3), stride=(1, 1), padding=(1, 1))\n",
       "            (1): LeakyReLU(negative_slope=0.01)\n",
       "          )\n",
       "          (b2): Sequential(\n",
       "            (0): Conv2d(128, 64, kernel_size=(3, 3), stride=(1, 1), padding=(1, 1))\n",
       "            (1): LeakyReLU(negative_slope=0.01)\n",
       "          )\n",
       "          (b3): Sequential(\n",
       "            (0): Conv2d(192, 64, kernel_size=(3, 3), stride=(1, 1), padding=(1, 1))\n",
       "            (1): LeakyReLU(negative_slope=0.01)\n",
       "          )\n",
       "          (b4): Sequential(\n",
       "            (0): Conv2d(256, 64, kernel_size=(3, 3), stride=(1, 1), padding=(1, 1))\n",
       "            (1): LeakyReLU(negative_slope=0.01)\n",
       "          )\n",
       "          (b5): Sequential(\n",
       "            (0): Conv2d(320, 64, kernel_size=(3, 3), stride=(1, 1), padding=(1, 1))\n",
       "          )\n",
       "        )\n",
       "      )\n",
       "    )\n",
       "    (11): ResidualInResidualDenseBlock(\n",
       "      (dense_blocks): Sequential(\n",
       "        (0): DenseResidualBlock(\n",
       "          (b1): Sequential(\n",
       "            (0): Conv2d(64, 64, kernel_size=(3, 3), stride=(1, 1), padding=(1, 1))\n",
       "            (1): LeakyReLU(negative_slope=0.01)\n",
       "          )\n",
       "          (b2): Sequential(\n",
       "            (0): Conv2d(128, 64, kernel_size=(3, 3), stride=(1, 1), padding=(1, 1))\n",
       "            (1): LeakyReLU(negative_slope=0.01)\n",
       "          )\n",
       "          (b3): Sequential(\n",
       "            (0): Conv2d(192, 64, kernel_size=(3, 3), stride=(1, 1), padding=(1, 1))\n",
       "            (1): LeakyReLU(negative_slope=0.01)\n",
       "          )\n",
       "          (b4): Sequential(\n",
       "            (0): Conv2d(256, 64, kernel_size=(3, 3), stride=(1, 1), padding=(1, 1))\n",
       "            (1): LeakyReLU(negative_slope=0.01)\n",
       "          )\n",
       "          (b5): Sequential(\n",
       "            (0): Conv2d(320, 64, kernel_size=(3, 3), stride=(1, 1), padding=(1, 1))\n",
       "          )\n",
       "        )\n",
       "        (1): DenseResidualBlock(\n",
       "          (b1): Sequential(\n",
       "            (0): Conv2d(64, 64, kernel_size=(3, 3), stride=(1, 1), padding=(1, 1))\n",
       "            (1): LeakyReLU(negative_slope=0.01)\n",
       "          )\n",
       "          (b2): Sequential(\n",
       "            (0): Conv2d(128, 64, kernel_size=(3, 3), stride=(1, 1), padding=(1, 1))\n",
       "            (1): LeakyReLU(negative_slope=0.01)\n",
       "          )\n",
       "          (b3): Sequential(\n",
       "            (0): Conv2d(192, 64, kernel_size=(3, 3), stride=(1, 1), padding=(1, 1))\n",
       "            (1): LeakyReLU(negative_slope=0.01)\n",
       "          )\n",
       "          (b4): Sequential(\n",
       "            (0): Conv2d(256, 64, kernel_size=(3, 3), stride=(1, 1), padding=(1, 1))\n",
       "            (1): LeakyReLU(negative_slope=0.01)\n",
       "          )\n",
       "          (b5): Sequential(\n",
       "            (0): Conv2d(320, 64, kernel_size=(3, 3), stride=(1, 1), padding=(1, 1))\n",
       "          )\n",
       "        )\n",
       "        (2): DenseResidualBlock(\n",
       "          (b1): Sequential(\n",
       "            (0): Conv2d(64, 64, kernel_size=(3, 3), stride=(1, 1), padding=(1, 1))\n",
       "            (1): LeakyReLU(negative_slope=0.01)\n",
       "          )\n",
       "          (b2): Sequential(\n",
       "            (0): Conv2d(128, 64, kernel_size=(3, 3), stride=(1, 1), padding=(1, 1))\n",
       "            (1): LeakyReLU(negative_slope=0.01)\n",
       "          )\n",
       "          (b3): Sequential(\n",
       "            (0): Conv2d(192, 64, kernel_size=(3, 3), stride=(1, 1), padding=(1, 1))\n",
       "            (1): LeakyReLU(negative_slope=0.01)\n",
       "          )\n",
       "          (b4): Sequential(\n",
       "            (0): Conv2d(256, 64, kernel_size=(3, 3), stride=(1, 1), padding=(1, 1))\n",
       "            (1): LeakyReLU(negative_slope=0.01)\n",
       "          )\n",
       "          (b5): Sequential(\n",
       "            (0): Conv2d(320, 64, kernel_size=(3, 3), stride=(1, 1), padding=(1, 1))\n",
       "          )\n",
       "        )\n",
       "      )\n",
       "    )\n",
       "    (12): ResidualInResidualDenseBlock(\n",
       "      (dense_blocks): Sequential(\n",
       "        (0): DenseResidualBlock(\n",
       "          (b1): Sequential(\n",
       "            (0): Conv2d(64, 64, kernel_size=(3, 3), stride=(1, 1), padding=(1, 1))\n",
       "            (1): LeakyReLU(negative_slope=0.01)\n",
       "          )\n",
       "          (b2): Sequential(\n",
       "            (0): Conv2d(128, 64, kernel_size=(3, 3), stride=(1, 1), padding=(1, 1))\n",
       "            (1): LeakyReLU(negative_slope=0.01)\n",
       "          )\n",
       "          (b3): Sequential(\n",
       "            (0): Conv2d(192, 64, kernel_size=(3, 3), stride=(1, 1), padding=(1, 1))\n",
       "            (1): LeakyReLU(negative_slope=0.01)\n",
       "          )\n",
       "          (b4): Sequential(\n",
       "            (0): Conv2d(256, 64, kernel_size=(3, 3), stride=(1, 1), padding=(1, 1))\n",
       "            (1): LeakyReLU(negative_slope=0.01)\n",
       "          )\n",
       "          (b5): Sequential(\n",
       "            (0): Conv2d(320, 64, kernel_size=(3, 3), stride=(1, 1), padding=(1, 1))\n",
       "          )\n",
       "        )\n",
       "        (1): DenseResidualBlock(\n",
       "          (b1): Sequential(\n",
       "            (0): Conv2d(64, 64, kernel_size=(3, 3), stride=(1, 1), padding=(1, 1))\n",
       "            (1): LeakyReLU(negative_slope=0.01)\n",
       "          )\n",
       "          (b2): Sequential(\n",
       "            (0): Conv2d(128, 64, kernel_size=(3, 3), stride=(1, 1), padding=(1, 1))\n",
       "            (1): LeakyReLU(negative_slope=0.01)\n",
       "          )\n",
       "          (b3): Sequential(\n",
       "            (0): Conv2d(192, 64, kernel_size=(3, 3), stride=(1, 1), padding=(1, 1))\n",
       "            (1): LeakyReLU(negative_slope=0.01)\n",
       "          )\n",
       "          (b4): Sequential(\n",
       "            (0): Conv2d(256, 64, kernel_size=(3, 3), stride=(1, 1), padding=(1, 1))\n",
       "            (1): LeakyReLU(negative_slope=0.01)\n",
       "          )\n",
       "          (b5): Sequential(\n",
       "            (0): Conv2d(320, 64, kernel_size=(3, 3), stride=(1, 1), padding=(1, 1))\n",
       "          )\n",
       "        )\n",
       "        (2): DenseResidualBlock(\n",
       "          (b1): Sequential(\n",
       "            (0): Conv2d(64, 64, kernel_size=(3, 3), stride=(1, 1), padding=(1, 1))\n",
       "            (1): LeakyReLU(negative_slope=0.01)\n",
       "          )\n",
       "          (b2): Sequential(\n",
       "            (0): Conv2d(128, 64, kernel_size=(3, 3), stride=(1, 1), padding=(1, 1))\n",
       "            (1): LeakyReLU(negative_slope=0.01)\n",
       "          )\n",
       "          (b3): Sequential(\n",
       "            (0): Conv2d(192, 64, kernel_size=(3, 3), stride=(1, 1), padding=(1, 1))\n",
       "            (1): LeakyReLU(negative_slope=0.01)\n",
       "          )\n",
       "          (b4): Sequential(\n",
       "            (0): Conv2d(256, 64, kernel_size=(3, 3), stride=(1, 1), padding=(1, 1))\n",
       "            (1): LeakyReLU(negative_slope=0.01)\n",
       "          )\n",
       "          (b5): Sequential(\n",
       "            (0): Conv2d(320, 64, kernel_size=(3, 3), stride=(1, 1), padding=(1, 1))\n",
       "          )\n",
       "        )\n",
       "      )\n",
       "    )\n",
       "    (13): ResidualInResidualDenseBlock(\n",
       "      (dense_blocks): Sequential(\n",
       "        (0): DenseResidualBlock(\n",
       "          (b1): Sequential(\n",
       "            (0): Conv2d(64, 64, kernel_size=(3, 3), stride=(1, 1), padding=(1, 1))\n",
       "            (1): LeakyReLU(negative_slope=0.01)\n",
       "          )\n",
       "          (b2): Sequential(\n",
       "            (0): Conv2d(128, 64, kernel_size=(3, 3), stride=(1, 1), padding=(1, 1))\n",
       "            (1): LeakyReLU(negative_slope=0.01)\n",
       "          )\n",
       "          (b3): Sequential(\n",
       "            (0): Conv2d(192, 64, kernel_size=(3, 3), stride=(1, 1), padding=(1, 1))\n",
       "            (1): LeakyReLU(negative_slope=0.01)\n",
       "          )\n",
       "          (b4): Sequential(\n",
       "            (0): Conv2d(256, 64, kernel_size=(3, 3), stride=(1, 1), padding=(1, 1))\n",
       "            (1): LeakyReLU(negative_slope=0.01)\n",
       "          )\n",
       "          (b5): Sequential(\n",
       "            (0): Conv2d(320, 64, kernel_size=(3, 3), stride=(1, 1), padding=(1, 1))\n",
       "          )\n",
       "        )\n",
       "        (1): DenseResidualBlock(\n",
       "          (b1): Sequential(\n",
       "            (0): Conv2d(64, 64, kernel_size=(3, 3), stride=(1, 1), padding=(1, 1))\n",
       "            (1): LeakyReLU(negative_slope=0.01)\n",
       "          )\n",
       "          (b2): Sequential(\n",
       "            (0): Conv2d(128, 64, kernel_size=(3, 3), stride=(1, 1), padding=(1, 1))\n",
       "            (1): LeakyReLU(negative_slope=0.01)\n",
       "          )\n",
       "          (b3): Sequential(\n",
       "            (0): Conv2d(192, 64, kernel_size=(3, 3), stride=(1, 1), padding=(1, 1))\n",
       "            (1): LeakyReLU(negative_slope=0.01)\n",
       "          )\n",
       "          (b4): Sequential(\n",
       "            (0): Conv2d(256, 64, kernel_size=(3, 3), stride=(1, 1), padding=(1, 1))\n",
       "            (1): LeakyReLU(negative_slope=0.01)\n",
       "          )\n",
       "          (b5): Sequential(\n",
       "            (0): Conv2d(320, 64, kernel_size=(3, 3), stride=(1, 1), padding=(1, 1))\n",
       "          )\n",
       "        )\n",
       "        (2): DenseResidualBlock(\n",
       "          (b1): Sequential(\n",
       "            (0): Conv2d(64, 64, kernel_size=(3, 3), stride=(1, 1), padding=(1, 1))\n",
       "            (1): LeakyReLU(negative_slope=0.01)\n",
       "          )\n",
       "          (b2): Sequential(\n",
       "            (0): Conv2d(128, 64, kernel_size=(3, 3), stride=(1, 1), padding=(1, 1))\n",
       "            (1): LeakyReLU(negative_slope=0.01)\n",
       "          )\n",
       "          (b3): Sequential(\n",
       "            (0): Conv2d(192, 64, kernel_size=(3, 3), stride=(1, 1), padding=(1, 1))\n",
       "            (1): LeakyReLU(negative_slope=0.01)\n",
       "          )\n",
       "          (b4): Sequential(\n",
       "            (0): Conv2d(256, 64, kernel_size=(3, 3), stride=(1, 1), padding=(1, 1))\n",
       "            (1): LeakyReLU(negative_slope=0.01)\n",
       "          )\n",
       "          (b5): Sequential(\n",
       "            (0): Conv2d(320, 64, kernel_size=(3, 3), stride=(1, 1), padding=(1, 1))\n",
       "          )\n",
       "        )\n",
       "      )\n",
       "    )\n",
       "    (14): ResidualInResidualDenseBlock(\n",
       "      (dense_blocks): Sequential(\n",
       "        (0): DenseResidualBlock(\n",
       "          (b1): Sequential(\n",
       "            (0): Conv2d(64, 64, kernel_size=(3, 3), stride=(1, 1), padding=(1, 1))\n",
       "            (1): LeakyReLU(negative_slope=0.01)\n",
       "          )\n",
       "          (b2): Sequential(\n",
       "            (0): Conv2d(128, 64, kernel_size=(3, 3), stride=(1, 1), padding=(1, 1))\n",
       "            (1): LeakyReLU(negative_slope=0.01)\n",
       "          )\n",
       "          (b3): Sequential(\n",
       "            (0): Conv2d(192, 64, kernel_size=(3, 3), stride=(1, 1), padding=(1, 1))\n",
       "            (1): LeakyReLU(negative_slope=0.01)\n",
       "          )\n",
       "          (b4): Sequential(\n",
       "            (0): Conv2d(256, 64, kernel_size=(3, 3), stride=(1, 1), padding=(1, 1))\n",
       "            (1): LeakyReLU(negative_slope=0.01)\n",
       "          )\n",
       "          (b5): Sequential(\n",
       "            (0): Conv2d(320, 64, kernel_size=(3, 3), stride=(1, 1), padding=(1, 1))\n",
       "          )\n",
       "        )\n",
       "        (1): DenseResidualBlock(\n",
       "          (b1): Sequential(\n",
       "            (0): Conv2d(64, 64, kernel_size=(3, 3), stride=(1, 1), padding=(1, 1))\n",
       "            (1): LeakyReLU(negative_slope=0.01)\n",
       "          )\n",
       "          (b2): Sequential(\n",
       "            (0): Conv2d(128, 64, kernel_size=(3, 3), stride=(1, 1), padding=(1, 1))\n",
       "            (1): LeakyReLU(negative_slope=0.01)\n",
       "          )\n",
       "          (b3): Sequential(\n",
       "            (0): Conv2d(192, 64, kernel_size=(3, 3), stride=(1, 1), padding=(1, 1))\n",
       "            (1): LeakyReLU(negative_slope=0.01)\n",
       "          )\n",
       "          (b4): Sequential(\n",
       "            (0): Conv2d(256, 64, kernel_size=(3, 3), stride=(1, 1), padding=(1, 1))\n",
       "            (1): LeakyReLU(negative_slope=0.01)\n",
       "          )\n",
       "          (b5): Sequential(\n",
       "            (0): Conv2d(320, 64, kernel_size=(3, 3), stride=(1, 1), padding=(1, 1))\n",
       "          )\n",
       "        )\n",
       "        (2): DenseResidualBlock(\n",
       "          (b1): Sequential(\n",
       "            (0): Conv2d(64, 64, kernel_size=(3, 3), stride=(1, 1), padding=(1, 1))\n",
       "            (1): LeakyReLU(negative_slope=0.01)\n",
       "          )\n",
       "          (b2): Sequential(\n",
       "            (0): Conv2d(128, 64, kernel_size=(3, 3), stride=(1, 1), padding=(1, 1))\n",
       "            (1): LeakyReLU(negative_slope=0.01)\n",
       "          )\n",
       "          (b3): Sequential(\n",
       "            (0): Conv2d(192, 64, kernel_size=(3, 3), stride=(1, 1), padding=(1, 1))\n",
       "            (1): LeakyReLU(negative_slope=0.01)\n",
       "          )\n",
       "          (b4): Sequential(\n",
       "            (0): Conv2d(256, 64, kernel_size=(3, 3), stride=(1, 1), padding=(1, 1))\n",
       "            (1): LeakyReLU(negative_slope=0.01)\n",
       "          )\n",
       "          (b5): Sequential(\n",
       "            (0): Conv2d(320, 64, kernel_size=(3, 3), stride=(1, 1), padding=(1, 1))\n",
       "          )\n",
       "        )\n",
       "      )\n",
       "    )\n",
       "    (15): ResidualInResidualDenseBlock(\n",
       "      (dense_blocks): Sequential(\n",
       "        (0): DenseResidualBlock(\n",
       "          (b1): Sequential(\n",
       "            (0): Conv2d(64, 64, kernel_size=(3, 3), stride=(1, 1), padding=(1, 1))\n",
       "            (1): LeakyReLU(negative_slope=0.01)\n",
       "          )\n",
       "          (b2): Sequential(\n",
       "            (0): Conv2d(128, 64, kernel_size=(3, 3), stride=(1, 1), padding=(1, 1))\n",
       "            (1): LeakyReLU(negative_slope=0.01)\n",
       "          )\n",
       "          (b3): Sequential(\n",
       "            (0): Conv2d(192, 64, kernel_size=(3, 3), stride=(1, 1), padding=(1, 1))\n",
       "            (1): LeakyReLU(negative_slope=0.01)\n",
       "          )\n",
       "          (b4): Sequential(\n",
       "            (0): Conv2d(256, 64, kernel_size=(3, 3), stride=(1, 1), padding=(1, 1))\n",
       "            (1): LeakyReLU(negative_slope=0.01)\n",
       "          )\n",
       "          (b5): Sequential(\n",
       "            (0): Conv2d(320, 64, kernel_size=(3, 3), stride=(1, 1), padding=(1, 1))\n",
       "          )\n",
       "        )\n",
       "        (1): DenseResidualBlock(\n",
       "          (b1): Sequential(\n",
       "            (0): Conv2d(64, 64, kernel_size=(3, 3), stride=(1, 1), padding=(1, 1))\n",
       "            (1): LeakyReLU(negative_slope=0.01)\n",
       "          )\n",
       "          (b2): Sequential(\n",
       "            (0): Conv2d(128, 64, kernel_size=(3, 3), stride=(1, 1), padding=(1, 1))\n",
       "            (1): LeakyReLU(negative_slope=0.01)\n",
       "          )\n",
       "          (b3): Sequential(\n",
       "            (0): Conv2d(192, 64, kernel_size=(3, 3), stride=(1, 1), padding=(1, 1))\n",
       "            (1): LeakyReLU(negative_slope=0.01)\n",
       "          )\n",
       "          (b4): Sequential(\n",
       "            (0): Conv2d(256, 64, kernel_size=(3, 3), stride=(1, 1), padding=(1, 1))\n",
       "            (1): LeakyReLU(negative_slope=0.01)\n",
       "          )\n",
       "          (b5): Sequential(\n",
       "            (0): Conv2d(320, 64, kernel_size=(3, 3), stride=(1, 1), padding=(1, 1))\n",
       "          )\n",
       "        )\n",
       "        (2): DenseResidualBlock(\n",
       "          (b1): Sequential(\n",
       "            (0): Conv2d(64, 64, kernel_size=(3, 3), stride=(1, 1), padding=(1, 1))\n",
       "            (1): LeakyReLU(negative_slope=0.01)\n",
       "          )\n",
       "          (b2): Sequential(\n",
       "            (0): Conv2d(128, 64, kernel_size=(3, 3), stride=(1, 1), padding=(1, 1))\n",
       "            (1): LeakyReLU(negative_slope=0.01)\n",
       "          )\n",
       "          (b3): Sequential(\n",
       "            (0): Conv2d(192, 64, kernel_size=(3, 3), stride=(1, 1), padding=(1, 1))\n",
       "            (1): LeakyReLU(negative_slope=0.01)\n",
       "          )\n",
       "          (b4): Sequential(\n",
       "            (0): Conv2d(256, 64, kernel_size=(3, 3), stride=(1, 1), padding=(1, 1))\n",
       "            (1): LeakyReLU(negative_slope=0.01)\n",
       "          )\n",
       "          (b5): Sequential(\n",
       "            (0): Conv2d(320, 64, kernel_size=(3, 3), stride=(1, 1), padding=(1, 1))\n",
       "          )\n",
       "        )\n",
       "      )\n",
       "    )\n",
       "    (16): ResidualInResidualDenseBlock(\n",
       "      (dense_blocks): Sequential(\n",
       "        (0): DenseResidualBlock(\n",
       "          (b1): Sequential(\n",
       "            (0): Conv2d(64, 64, kernel_size=(3, 3), stride=(1, 1), padding=(1, 1))\n",
       "            (1): LeakyReLU(negative_slope=0.01)\n",
       "          )\n",
       "          (b2): Sequential(\n",
       "            (0): Conv2d(128, 64, kernel_size=(3, 3), stride=(1, 1), padding=(1, 1))\n",
       "            (1): LeakyReLU(negative_slope=0.01)\n",
       "          )\n",
       "          (b3): Sequential(\n",
       "            (0): Conv2d(192, 64, kernel_size=(3, 3), stride=(1, 1), padding=(1, 1))\n",
       "            (1): LeakyReLU(negative_slope=0.01)\n",
       "          )\n",
       "          (b4): Sequential(\n",
       "            (0): Conv2d(256, 64, kernel_size=(3, 3), stride=(1, 1), padding=(1, 1))\n",
       "            (1): LeakyReLU(negative_slope=0.01)\n",
       "          )\n",
       "          (b5): Sequential(\n",
       "            (0): Conv2d(320, 64, kernel_size=(3, 3), stride=(1, 1), padding=(1, 1))\n",
       "          )\n",
       "        )\n",
       "        (1): DenseResidualBlock(\n",
       "          (b1): Sequential(\n",
       "            (0): Conv2d(64, 64, kernel_size=(3, 3), stride=(1, 1), padding=(1, 1))\n",
       "            (1): LeakyReLU(negative_slope=0.01)\n",
       "          )\n",
       "          (b2): Sequential(\n",
       "            (0): Conv2d(128, 64, kernel_size=(3, 3), stride=(1, 1), padding=(1, 1))\n",
       "            (1): LeakyReLU(negative_slope=0.01)\n",
       "          )\n",
       "          (b3): Sequential(\n",
       "            (0): Conv2d(192, 64, kernel_size=(3, 3), stride=(1, 1), padding=(1, 1))\n",
       "            (1): LeakyReLU(negative_slope=0.01)\n",
       "          )\n",
       "          (b4): Sequential(\n",
       "            (0): Conv2d(256, 64, kernel_size=(3, 3), stride=(1, 1), padding=(1, 1))\n",
       "            (1): LeakyReLU(negative_slope=0.01)\n",
       "          )\n",
       "          (b5): Sequential(\n",
       "            (0): Conv2d(320, 64, kernel_size=(3, 3), stride=(1, 1), padding=(1, 1))\n",
       "          )\n",
       "        )\n",
       "        (2): DenseResidualBlock(\n",
       "          (b1): Sequential(\n",
       "            (0): Conv2d(64, 64, kernel_size=(3, 3), stride=(1, 1), padding=(1, 1))\n",
       "            (1): LeakyReLU(negative_slope=0.01)\n",
       "          )\n",
       "          (b2): Sequential(\n",
       "            (0): Conv2d(128, 64, kernel_size=(3, 3), stride=(1, 1), padding=(1, 1))\n",
       "            (1): LeakyReLU(negative_slope=0.01)\n",
       "          )\n",
       "          (b3): Sequential(\n",
       "            (0): Conv2d(192, 64, kernel_size=(3, 3), stride=(1, 1), padding=(1, 1))\n",
       "            (1): LeakyReLU(negative_slope=0.01)\n",
       "          )\n",
       "          (b4): Sequential(\n",
       "            (0): Conv2d(256, 64, kernel_size=(3, 3), stride=(1, 1), padding=(1, 1))\n",
       "            (1): LeakyReLU(negative_slope=0.01)\n",
       "          )\n",
       "          (b5): Sequential(\n",
       "            (0): Conv2d(320, 64, kernel_size=(3, 3), stride=(1, 1), padding=(1, 1))\n",
       "          )\n",
       "        )\n",
       "      )\n",
       "    )\n",
       "  )\n",
       "  (conv2): Conv2d(64, 64, kernel_size=(3, 3), stride=(1, 1), padding=(1, 1))\n",
       "  (upsampling): Sequential(\n",
       "    (0): Conv2d(64, 256, kernel_size=(3, 3), stride=(1, 1), padding=(1, 1))\n",
       "    (1): LeakyReLU(negative_slope=0.01)\n",
       "    (2): PixelShuffle(upscale_factor=2)\n",
       "    (3): Conv2d(64, 256, kernel_size=(3, 3), stride=(1, 1), padding=(1, 1))\n",
       "    (4): LeakyReLU(negative_slope=0.01)\n",
       "    (5): PixelShuffle(upscale_factor=2)\n",
       "  )\n",
       "  (conv3): Sequential(\n",
       "    (0): Conv2d(64, 64, kernel_size=(3, 3), stride=(1, 1), padding=(1, 1))\n",
       "    (1): LeakyReLU(negative_slope=0.01)\n",
       "    (2): Conv2d(64, 3, kernel_size=(3, 3), stride=(1, 1), padding=(1, 1))\n",
       "  )\n",
       ")"
      ]
     },
     "execution_count": 20,
     "metadata": {},
     "output_type": "execute_result"
    }
   ],
   "source": [
    "esrgan = GeneratorRRDB(3, filters = 64, num_res_blocks = 17).to(\"cuda:0\")\n",
    "esrgan.load_state_dict(torch.load(\"./params/generator_00101000.pth\"))\n",
    "esrgan.to(\"cpu\")"
   ]
  },
  {
   "cell_type": "markdown",
   "id": "b6fb74ec",
   "metadata": {},
   "source": [
    "# Test"
   ]
  },
  {
   "cell_type": "code",
   "execution_count": null,
   "id": "3697d97d",
   "metadata": {},
   "outputs": [],
   "source": [
    "x = torch.zeros(2,3,32,32).to(dev)\n",
    "y = esrgan(x)\n",
    "print(y.shape)"
   ]
  },
  {
   "cell_type": "code",
   "execution_count": null,
   "id": "27745523",
   "metadata": {},
   "outputs": [],
   "source": []
  },
  {
   "cell_type": "code",
   "execution_count": 21,
   "id": "52969da7",
   "metadata": {},
   "outputs": [],
   "source": [
    "for p in esrgan.parameters():\n",
    "    p.requires_grad = False"
   ]
  },
  {
   "cell_type": "markdown",
   "id": "ff08deca",
   "metadata": {},
   "source": [
    "# GAN"
   ]
  },
  {
   "cell_type": "code",
   "execution_count": 22,
   "id": "80de5f30",
   "metadata": {},
   "outputs": [],
   "source": [
    "from torchvision.datasets import ImageFolder\n",
    "img_data = ImageFolder(\"./oxford-102/\",\n",
    "                     transform=transforms.Compose([transforms.Resize(400),transforms.CenterCrop(hr_const//4),transforms.ToTensor()]))\n",
    "batch_size = 64\n",
    "img_loader = DataLoader(img_data,batch_size = batch_size, shuffle = True)\n",
    "dev = \"cuda:0\""
   ]
  },
  {
   "cell_type": "code",
   "execution_count": 23,
   "id": "23bfe476",
   "metadata": {},
   "outputs": [],
   "source": [
    "nz = 100\n",
    "ngf = 32\n",
    "#(100,1,1) --> (3,32,32)\n",
    "class GNet(nn.Module):\n",
    "    def __init__(self):\n",
    "        super().__init__()\n",
    "        self.main = nn.Sequential(\n",
    "            nn.ConvTranspose2d(nz,ngf*8,4,1,0,bias=False),\n",
    "            nn.BatchNorm2d(ngf*8),\n",
    "            nn.ReLU(inplace=True),\n",
    "            nn.ConvTranspose2d(ngf*8,ngf*4,4,2,1,bias=False),\n",
    "            nn.BatchNorm2d(ngf*4),\n",
    "            nn.ReLU(inplace=True),\n",
    "            nn.ConvTranspose2d(ngf*4,ngf*2,4,2,1,bias=False),\n",
    "            nn.BatchNorm2d(ngf*2),\n",
    "            nn.ReLU(inplace=True),\n",
    "            nn.ConvTranspose2d(ngf*2,ngf*1,4,2,1,bias=False),\n",
    "            nn.BatchNorm2d(ngf*1),\n",
    "            nn.ReLU(inplace=True),\n",
    "            nn.ConvTranspose2d(ngf*1,3,4,2,1,bias=True),\n",
    "            nn.Tanh()\n",
    "            )\n",
    "    def forward(self,x):\n",
    "        out = self.main(x)\n",
    "        return out"
   ]
  },
  {
   "cell_type": "code",
   "execution_count": 24,
   "id": "43803f56",
   "metadata": {},
   "outputs": [],
   "source": [
    "ndf=32\n",
    "#(3,32,32) --> (1)\n",
    "class DNet(nn.Module):\n",
    "    def __init__(self):\n",
    "        super().__init__()\n",
    "        self.main = nn.Sequential(\n",
    "            nn.Conv2d(3,ndf,4,2,1,bias=False),\n",
    "            nn.LeakyReLU(0.2,inplace=True),\n",
    "            nn.Conv2d(ndf,ndf*2,4,2,1,bias=False),\n",
    "            nn.BatchNorm2d(ndf*2),\n",
    "            nn.LeakyReLU(0.2,inplace=True),\n",
    "            nn.Conv2d(ndf*2,ndf*4,4,2,1,bias=False),\n",
    "            nn.BatchNorm2d(ndf*4),\n",
    "            nn.LeakyReLU(0.2,inplace=True),\n",
    "            nn.Conv2d(ndf*4,ndf*8,4,2,1,bias=False),\n",
    "            nn.BatchNorm2d(ndf*8),\n",
    "            nn.LeakyReLU(0.2,inplace=True),\n",
    "            nn.Conv2d(ndf*8,1,4,1,0,bias=True)\n",
    "            )\n",
    "\n",
    "    def forward(self,x):\n",
    "        out = self.main(x)\n",
    "        return out.squeeze()\n",
    "    \n",
    "d = DNet().to(dev)\n",
    "g = GNet().to(dev)\n",
    "\n",
    "opt_d = optim.Adam(d.parameters(),lr=0.0002,betas=(0.5,0.999))\n",
    "opt_g = optim.Adam(g.parameters(),lr=0.0002,betas=(0.5,0.999))\n",
    "\n",
    "ones = torch.ones(batch_size).to(dev)\n",
    "zeros = torch.zeros(batch_size).to(dev)\n",
    "\n",
    "loss_f = nn.BCEWithLogitsLoss()\n",
    "\n",
    "fixed_z = torch.randn(64,nz,1,1).to(dev)\n",
    "#gif_z = torch.randn(1,nz,1,1).to(dev)"
   ]
  },
  {
   "cell_type": "code",
   "execution_count": 25,
   "id": "c8dca6cf",
   "metadata": {},
   "outputs": [],
   "source": [
    "from statistics import mean\n",
    "\n",
    "def train_dcgan(g,d,opt_g,opt_d,loader):\n",
    "    log_loss_g = []\n",
    "    log_loss_d = []\n",
    "    \n",
    "    for real_img  in tqdm(loader):\n",
    "        #save_image(real_img[0],\"./data_tmp/tmp.jpg\")\n",
    "        real_img = real_img[\"lr\"]\n",
    "        batch_len = len(real_img)\n",
    "        #print(real_img.size())\n",
    "        real_img = real_img.to(dev)\n",
    "        z = torch.randn(batch_len,nz,1,1).to(dev)\n",
    "        #------------------------------------------------------------------------------------------------------------------\n",
    "        fake_img = g(z)                                                         #フェイクイメージの作成\n",
    "        fake_img_tensor = fake_img.detach()                  #フェイクイメージを計算グラフから分離\n",
    "        out = d.forward(fake_img)                                      #フェイクイメージの判定\n",
    "        loss_g = loss_f(out, ones[:batch_len])                 #フェイク画像の損失計算 as 本物\n",
    "        log_loss_g.append(loss_g.item())                        #\n",
    "        d.zero_grad() , g.zero_grad()                               #勾配初期化\n",
    "        loss_g.backward()                                                  #生成機の逆伝搬\n",
    "        opt_g.step()                                                           #生成機の更新\n",
    "        #------------------------------------------------------------------------------------------------------------------\n",
    "        real_out = d.forward(real_img)                                       #本物画像の判定\n",
    "        loss_d_real = loss_f(real_out,ones[:batch_len])         #本物画像の損失計算\n",
    "\n",
    "        fake_img = fake_img_tensor                                          #\n",
    "        fake_out = d.forward(fake_img_tensor)                      #\n",
    "        loss_d_fake = loss_f(fake_out, zeros[:batch_len])    #フェイク画像の損失計算 as フェイク\n",
    "\n",
    "        loss_d = loss_d_real + loss_d_fake\n",
    "        log_loss_d.append(loss_d.item())\n",
    "        d.zero_grad(),g.zero_grad()                                         #勾配初期化\n",
    "        loss_d.backward()                                                          #判別機の逆伝搬\n",
    "        opt_d.step()                                                                   #判別機の更新\n",
    "        #------------------------------------------------------------------------------------------------------------------\n",
    "    return mean(log_loss_g),mean(log_loss_d)"
   ]
  },
  {
   "cell_type": "code",
   "execution_count": 26,
   "id": "c5719522",
   "metadata": {},
   "outputs": [],
   "source": [
    "if not os.path.exists(\"data\"):\n",
    "    os.mkdir(\"data\")\n",
    "if not os.path.exists(\"data2\"):\n",
    "    os.mkdir(\"data2\")\n",
    "if not os.path.exists(\"data_tmp\"):\n",
    "    os.mkdir(\"data_tmp\")"
   ]
  },
  {
   "cell_type": "code",
   "execution_count": 27,
   "id": "7cf0867c",
   "metadata": {},
   "outputs": [
    {
     "name": "stderr",
     "output_type": "stream",
     "text": [
      "\r",
      "  0%|          | 0/2047 [00:00<?, ?it/s]"
     ]
    },
    {
     "name": "stdout",
     "output_type": "stream",
     "text": [
      "current epoch :  0\n"
     ]
    },
    {
     "name": "stderr",
     "output_type": "stream",
     "text": [
      "100%|██████████| 2047/2047 [00:56<00:00, 36.12it/s]\n"
     ]
    },
    {
     "name": "stdout",
     "output_type": "stream",
     "text": [
      "runtime =  56.68605422973633 sec\n",
      "expected remaining time =  11280 sec : 188 minute\n"
     ]
    },
    {
     "name": "stderr",
     "output_type": "stream",
     "text": [
      "\r",
      "  0%|          | 0/2047 [00:00<?, ?it/s]"
     ]
    },
    {
     "name": "stdout",
     "output_type": "stream",
     "text": [
      "current epoch :  1\n"
     ]
    },
    {
     "name": "stderr",
     "output_type": "stream",
     "text": [
      "100%|██████████| 2047/2047 [00:55<00:00, 36.99it/s]\n"
     ]
    },
    {
     "name": "stdout",
     "output_type": "stream",
     "text": [
      "runtime =  55.35428762435913 sec\n",
      "expected remaining time =  11091 sec : 184 minute\n"
     ]
    },
    {
     "name": "stderr",
     "output_type": "stream",
     "text": [
      "\r",
      "  0%|          | 0/2047 [00:00<?, ?it/s]"
     ]
    },
    {
     "name": "stdout",
     "output_type": "stream",
     "text": [
      "current epoch :  2\n"
     ]
    },
    {
     "name": "stderr",
     "output_type": "stream",
     "text": [
      "100%|██████████| 2047/2047 [00:55<00:00, 36.89it/s]\n"
     ]
    },
    {
     "name": "stdout",
     "output_type": "stream",
     "text": [
      "runtime =  55.4928719997406 sec\n",
      "expected remaining time =  11001 sec : 183 minute\n"
     ]
    },
    {
     "name": "stderr",
     "output_type": "stream",
     "text": [
      "\r",
      "  0%|          | 0/2047 [00:00<?, ?it/s]"
     ]
    },
    {
     "name": "stdout",
     "output_type": "stream",
     "text": [
      "current epoch :  3\n"
     ]
    },
    {
     "name": "stderr",
     "output_type": "stream",
     "text": [
      "100%|██████████| 2047/2047 [00:54<00:00, 37.32it/s]\n"
     ]
    },
    {
     "name": "stdout",
     "output_type": "stream",
     "text": [
      "runtime =  54.86479926109314 sec\n",
      "expected remaining time =  10897 sec : 181 minute\n"
     ]
    },
    {
     "name": "stderr",
     "output_type": "stream",
     "text": [
      "\r",
      "  0%|          | 0/2047 [00:00<?, ?it/s]"
     ]
    },
    {
     "name": "stdout",
     "output_type": "stream",
     "text": [
      "current epoch :  4\n"
     ]
    },
    {
     "name": "stderr",
     "output_type": "stream",
     "text": [
      "100%|██████████| 2047/2047 [00:55<00:00, 37.07it/s]\n"
     ]
    },
    {
     "name": "stdout",
     "output_type": "stream",
     "text": [
      "runtime =  55.218464612960815 sec\n",
      "expected remaining time =  10827 sec : 180 minute\n"
     ]
    },
    {
     "name": "stderr",
     "output_type": "stream",
     "text": [
      "\r",
      "  0%|          | 0/2047 [00:00<?, ?it/s]"
     ]
    },
    {
     "name": "stdout",
     "output_type": "stream",
     "text": [
      "current epoch :  5\n"
     ]
    },
    {
     "name": "stderr",
     "output_type": "stream",
     "text": [
      "100%|██████████| 2047/2047 [00:54<00:00, 37.48it/s]\n"
     ]
    },
    {
     "name": "stdout",
     "output_type": "stream",
     "text": [
      "runtime =  54.632243156433105 sec\n",
      "expected remaining time =  10742 sec : 179 minute\n"
     ]
    },
    {
     "name": "stderr",
     "output_type": "stream",
     "text": [
      "\r",
      "  0%|          | 0/2047 [00:00<?, ?it/s]"
     ]
    },
    {
     "name": "stdout",
     "output_type": "stream",
     "text": [
      "current epoch :  6\n"
     ]
    },
    {
     "name": "stderr",
     "output_type": "stream",
     "text": [
      "100%|██████████| 2047/2047 [00:54<00:00, 37.62it/s]\n"
     ]
    },
    {
     "name": "stdout",
     "output_type": "stream",
     "text": [
      "runtime =  54.41776514053345 sec\n",
      "expected remaining time =  10660 sec : 177 minute\n"
     ]
    },
    {
     "name": "stderr",
     "output_type": "stream",
     "text": [
      "\r",
      "  0%|          | 0/2047 [00:00<?, ?it/s]"
     ]
    },
    {
     "name": "stdout",
     "output_type": "stream",
     "text": [
      "current epoch :  7\n"
     ]
    },
    {
     "name": "stderr",
     "output_type": "stream",
     "text": [
      "100%|██████████| 2047/2047 [00:54<00:00, 37.29it/s]\n"
     ]
    },
    {
     "name": "stdout",
     "output_type": "stream",
     "text": [
      "runtime =  54.90651202201843 sec\n",
      "expected remaining time =  10597 sec : 176 minute\n"
     ]
    },
    {
     "name": "stderr",
     "output_type": "stream",
     "text": [
      "\r",
      "  0%|          | 0/2047 [00:00<?, ?it/s]"
     ]
    },
    {
     "name": "stdout",
     "output_type": "stream",
     "text": [
      "current epoch :  8\n"
     ]
    },
    {
     "name": "stderr",
     "output_type": "stream",
     "text": [
      "100%|██████████| 2047/2047 [00:54<00:00, 37.85it/s]\n"
     ]
    },
    {
     "name": "stdout",
     "output_type": "stream",
     "text": [
      "runtime =  54.098514556884766 sec\n",
      "expected remaining time =  10519 sec : 175 minute\n"
     ]
    },
    {
     "name": "stderr",
     "output_type": "stream",
     "text": [
      "\r",
      "  0%|          | 0/2047 [00:00<?, ?it/s]"
     ]
    },
    {
     "name": "stdout",
     "output_type": "stream",
     "text": [
      "current epoch :  9\n"
     ]
    },
    {
     "name": "stderr",
     "output_type": "stream",
     "text": [
      "100%|██████████| 2047/2047 [00:54<00:00, 37.40it/s]\n"
     ]
    },
    {
     "name": "stdout",
     "output_type": "stream",
     "text": [
      "runtime =  54.73769545555115 sec\n",
      "expected remaining time =  10457 sec : 174 minute\n"
     ]
    },
    {
     "name": "stderr",
     "output_type": "stream",
     "text": [
      "\r",
      "  0%|          | 0/2047 [00:00<?, ?it/s]"
     ]
    },
    {
     "name": "stdout",
     "output_type": "stream",
     "text": [
      "current epoch :  10\n"
     ]
    },
    {
     "name": "stderr",
     "output_type": "stream",
     "text": [
      "100%|██████████| 2047/2047 [00:54<00:00, 37.82it/s]\n"
     ]
    },
    {
     "name": "stdout",
     "output_type": "stream",
     "text": [
      "runtime =  54.1345100402832 sec\n",
      "expected remaining time =  10387 sec : 173 minute\n"
     ]
    },
    {
     "name": "stderr",
     "output_type": "stream",
     "text": [
      "\r",
      "  0%|          | 0/2047 [00:00<?, ?it/s]"
     ]
    },
    {
     "name": "stdout",
     "output_type": "stream",
     "text": [
      "current epoch :  11\n"
     ]
    },
    {
     "name": "stderr",
     "output_type": "stream",
     "text": [
      "100%|██████████| 2047/2047 [00:52<00:00, 38.77it/s]\n"
     ]
    },
    {
     "name": "stdout",
     "output_type": "stream",
     "text": [
      "runtime =  52.81117010116577 sec\n",
      "expected remaining time =  10298 sec : 171 minute\n"
     ]
    },
    {
     "name": "stderr",
     "output_type": "stream",
     "text": [
      "\r",
      "  0%|          | 0/2047 [00:00<?, ?it/s]"
     ]
    },
    {
     "name": "stdout",
     "output_type": "stream",
     "text": [
      "current epoch :  12\n"
     ]
    },
    {
     "name": "stderr",
     "output_type": "stream",
     "text": [
      "100%|██████████| 2047/2047 [00:54<00:00, 37.50it/s]\n"
     ]
    },
    {
     "name": "stdout",
     "output_type": "stream",
     "text": [
      "runtime =  54.5956494808197 sec\n",
      "expected remaining time =  10241 sec : 170 minute\n"
     ]
    },
    {
     "name": "stderr",
     "output_type": "stream",
     "text": [
      "\r",
      "  0%|          | 0/2047 [00:00<?, ?it/s]"
     ]
    },
    {
     "name": "stdout",
     "output_type": "stream",
     "text": [
      "current epoch :  13\n"
     ]
    },
    {
     "name": "stderr",
     "output_type": "stream",
     "text": [
      "100%|██████████| 2047/2047 [00:53<00:00, 38.22it/s]\n"
     ]
    },
    {
     "name": "stdout",
     "output_type": "stream",
     "text": [
      "runtime =  53.56459021568298 sec\n",
      "expected remaining time =  10170 sec : 169 minute\n"
     ]
    },
    {
     "name": "stderr",
     "output_type": "stream",
     "text": [
      "\r",
      "  0%|          | 0/2047 [00:00<?, ?it/s]"
     ]
    },
    {
     "name": "stdout",
     "output_type": "stream",
     "text": [
      "current epoch :  14\n"
     ]
    },
    {
     "name": "stderr",
     "output_type": "stream",
     "text": [
      "100%|██████████| 2047/2047 [00:54<00:00, 37.90it/s]\n"
     ]
    },
    {
     "name": "stdout",
     "output_type": "stream",
     "text": [
      "runtime =  54.01160740852356 sec\n",
      "expected remaining time =  10107 sec : 168 minute\n"
     ]
    },
    {
     "name": "stderr",
     "output_type": "stream",
     "text": [
      "\r",
      "  0%|          | 0/2047 [00:00<?, ?it/s]"
     ]
    },
    {
     "name": "stdout",
     "output_type": "stream",
     "text": [
      "current epoch :  15\n"
     ]
    },
    {
     "name": "stderr",
     "output_type": "stream",
     "text": [
      "100%|██████████| 2047/2047 [00:54<00:00, 37.84it/s]\n"
     ]
    },
    {
     "name": "stdout",
     "output_type": "stream",
     "text": [
      "runtime =  54.11170840263367 sec\n",
      "expected remaining time =  10046 sec : 167 minute\n"
     ]
    },
    {
     "name": "stderr",
     "output_type": "stream",
     "text": [
      "\r",
      "  0%|          | 0/2047 [00:00<?, ?it/s]"
     ]
    },
    {
     "name": "stdout",
     "output_type": "stream",
     "text": [
      "current epoch :  16\n"
     ]
    },
    {
     "name": "stderr",
     "output_type": "stream",
     "text": [
      "100%|██████████| 2047/2047 [00:53<00:00, 38.46it/s]\n"
     ]
    },
    {
     "name": "stdout",
     "output_type": "stream",
     "text": [
      "runtime =  53.22838616371155 sec\n",
      "expected remaining time =  9977 sec : 166 minute\n"
     ]
    },
    {
     "name": "stderr",
     "output_type": "stream",
     "text": [
      "\r",
      "  0%|          | 0/2047 [00:00<?, ?it/s]"
     ]
    },
    {
     "name": "stdout",
     "output_type": "stream",
     "text": [
      "current epoch :  17\n"
     ]
    },
    {
     "name": "stderr",
     "output_type": "stream",
     "text": [
      "100%|██████████| 2047/2047 [00:54<00:00, 37.27it/s]\n"
     ]
    },
    {
     "name": "stdout",
     "output_type": "stream",
     "text": [
      "runtime =  54.933308839797974 sec\n",
      "expected remaining time =  9927 sec : 165 minute\n"
     ]
    },
    {
     "name": "stderr",
     "output_type": "stream",
     "text": [
      "\r",
      "  0%|          | 0/2047 [00:00<?, ?it/s]"
     ]
    },
    {
     "name": "stdout",
     "output_type": "stream",
     "text": [
      "current epoch :  18\n"
     ]
    },
    {
     "name": "stderr",
     "output_type": "stream",
     "text": [
      "100%|██████████| 2047/2047 [00:55<00:00, 36.98it/s]\n"
     ]
    },
    {
     "name": "stdout",
     "output_type": "stream",
     "text": [
      "runtime =  55.368277072906494 sec\n",
      "expected remaining time =  9880 sec : 164 minute\n"
     ]
    },
    {
     "name": "stderr",
     "output_type": "stream",
     "text": [
      "\r",
      "  0%|          | 0/2047 [00:00<?, ?it/s]"
     ]
    },
    {
     "name": "stdout",
     "output_type": "stream",
     "text": [
      "current epoch :  19\n"
     ]
    },
    {
     "name": "stderr",
     "output_type": "stream",
     "text": [
      "100%|██████████| 2047/2047 [00:53<00:00, 38.03it/s]\n"
     ]
    },
    {
     "name": "stdout",
     "output_type": "stream",
     "text": [
      "runtime =  53.84199285507202 sec\n",
      "expected remaining time =  9819 sec : 163 minute\n"
     ]
    },
    {
     "name": "stderr",
     "output_type": "stream",
     "text": [
      "\r",
      "  0%|          | 0/2047 [00:00<?, ?it/s]"
     ]
    },
    {
     "name": "stdout",
     "output_type": "stream",
     "text": [
      "current epoch :  20\n"
     ]
    },
    {
     "name": "stderr",
     "output_type": "stream",
     "text": [
      "100%|██████████| 2047/2047 [00:54<00:00, 37.42it/s]\n"
     ]
    },
    {
     "name": "stdout",
     "output_type": "stream",
     "text": [
      "runtime =  54.707590103149414 sec\n",
      "expected remaining time =  9765 sec : 162 minute\n"
     ]
    },
    {
     "name": "stderr",
     "output_type": "stream",
     "text": [
      "\r",
      "  0%|          | 0/2047 [00:00<?, ?it/s]"
     ]
    },
    {
     "name": "stdout",
     "output_type": "stream",
     "text": [
      "current epoch :  21\n"
     ]
    },
    {
     "name": "stderr",
     "output_type": "stream",
     "text": [
      "100%|██████████| 2047/2047 [00:55<00:00, 37.10it/s]\n"
     ]
    },
    {
     "name": "stdout",
     "output_type": "stream",
     "text": [
      "runtime =  55.18231797218323 sec\n",
      "expected remaining time =  9716 sec : 161 minute\n"
     ]
    },
    {
     "name": "stderr",
     "output_type": "stream",
     "text": [
      "\r",
      "  0%|          | 0/2047 [00:00<?, ?it/s]"
     ]
    },
    {
     "name": "stdout",
     "output_type": "stream",
     "text": [
      "current epoch :  22\n"
     ]
    },
    {
     "name": "stderr",
     "output_type": "stream",
     "text": [
      "100%|██████████| 2047/2047 [00:55<00:00, 37.11it/s]\n"
     ]
    },
    {
     "name": "stdout",
     "output_type": "stream",
     "text": [
      "runtime =  55.17454290390015 sec\n",
      "expected remaining time =  9666 sec : 161 minute\n"
     ]
    },
    {
     "name": "stderr",
     "output_type": "stream",
     "text": [
      "\r",
      "  0%|          | 0/2047 [00:00<?, ?it/s]"
     ]
    },
    {
     "name": "stdout",
     "output_type": "stream",
     "text": [
      "current epoch :  23\n"
     ]
    },
    {
     "name": "stderr",
     "output_type": "stream",
     "text": [
      "100%|██████████| 2047/2047 [00:54<00:00, 37.85it/s]\n"
     ]
    },
    {
     "name": "stdout",
     "output_type": "stream",
     "text": [
      "runtime =  54.09503793716431 sec\n",
      "expected remaining time =  9607 sec : 160 minute\n"
     ]
    },
    {
     "name": "stderr",
     "output_type": "stream",
     "text": [
      "\r",
      "  0%|          | 0/2047 [00:00<?, ?it/s]"
     ]
    },
    {
     "name": "stdout",
     "output_type": "stream",
     "text": [
      "current epoch :  24\n"
     ]
    },
    {
     "name": "stderr",
     "output_type": "stream",
     "text": [
      "100%|██████████| 2047/2047 [00:54<00:00, 37.64it/s]\n"
     ]
    },
    {
     "name": "stdout",
     "output_type": "stream",
     "text": [
      "runtime =  54.38962912559509 sec\n",
      "expected remaining time =  9551 sec : 159 minute\n"
     ]
    },
    {
     "name": "stderr",
     "output_type": "stream",
     "text": [
      "\r",
      "  0%|          | 0/2047 [00:00<?, ?it/s]"
     ]
    },
    {
     "name": "stdout",
     "output_type": "stream",
     "text": [
      "current epoch :  25\n"
     ]
    },
    {
     "name": "stderr",
     "output_type": "stream",
     "text": [
      "100%|██████████| 2047/2047 [00:54<00:00, 37.75it/s]\n"
     ]
    },
    {
     "name": "stdout",
     "output_type": "stream",
     "text": [
      "runtime =  54.238770484924316 sec\n",
      "expected remaining time =  9495 sec : 158 minute\n"
     ]
    },
    {
     "name": "stderr",
     "output_type": "stream",
     "text": [
      "\r",
      "  0%|          | 0/2047 [00:00<?, ?it/s]"
     ]
    },
    {
     "name": "stdout",
     "output_type": "stream",
     "text": [
      "current epoch :  26\n"
     ]
    },
    {
     "name": "stderr",
     "output_type": "stream",
     "text": [
      "100%|██████████| 2047/2047 [00:54<00:00, 37.28it/s]\n"
     ]
    },
    {
     "name": "stdout",
     "output_type": "stream",
     "text": [
      "runtime =  54.912288427352905 sec\n",
      "expected remaining time =  9442 sec : 157 minute\n"
     ]
    },
    {
     "name": "stderr",
     "output_type": "stream",
     "text": [
      "\r",
      "  0%|          | 0/2047 [00:00<?, ?it/s]"
     ]
    },
    {
     "name": "stdout",
     "output_type": "stream",
     "text": [
      "current epoch :  27\n"
     ]
    },
    {
     "name": "stderr",
     "output_type": "stream",
     "text": [
      "100%|██████████| 2047/2047 [00:54<00:00, 37.50it/s]\n"
     ]
    },
    {
     "name": "stdout",
     "output_type": "stream",
     "text": [
      "runtime =  54.593222856521606 sec\n",
      "expected remaining time =  9388 sec : 156 minute\n"
     ]
    },
    {
     "name": "stderr",
     "output_type": "stream",
     "text": [
      "\r",
      "  0%|          | 0/2047 [00:00<?, ?it/s]"
     ]
    },
    {
     "name": "stdout",
     "output_type": "stream",
     "text": [
      "current epoch :  28\n"
     ]
    },
    {
     "name": "stderr",
     "output_type": "stream",
     "text": [
      "100%|██████████| 2047/2047 [00:54<00:00, 37.29it/s]\n"
     ]
    },
    {
     "name": "stdout",
     "output_type": "stream",
     "text": [
      "runtime =  54.91139221191406 sec\n",
      "expected remaining time =  9335 sec : 155 minute\n"
     ]
    },
    {
     "name": "stderr",
     "output_type": "stream",
     "text": [
      "\r",
      "  0%|          | 0/2047 [00:00<?, ?it/s]"
     ]
    },
    {
     "name": "stdout",
     "output_type": "stream",
     "text": [
      "current epoch :  29\n"
     ]
    },
    {
     "name": "stderr",
     "output_type": "stream",
     "text": [
      "100%|██████████| 2047/2047 [00:54<00:00, 37.41it/s]\n"
     ]
    },
    {
     "name": "stdout",
     "output_type": "stream",
     "text": [
      "runtime =  54.723790884017944 sec\n",
      "expected remaining time =  9281 sec : 154 minute\n"
     ]
    },
    {
     "name": "stderr",
     "output_type": "stream",
     "text": [
      "\r",
      "  0%|          | 0/2047 [00:00<?, ?it/s]"
     ]
    },
    {
     "name": "stdout",
     "output_type": "stream",
     "text": [
      "current epoch :  30\n"
     ]
    },
    {
     "name": "stderr",
     "output_type": "stream",
     "text": [
      "100%|██████████| 2047/2047 [00:55<00:00, 37.08it/s]\n"
     ]
    },
    {
     "name": "stdout",
     "output_type": "stream",
     "text": [
      "runtime =  55.212308406829834 sec\n",
      "expected remaining time =  9230 sec : 153 minute\n"
     ]
    },
    {
     "name": "stderr",
     "output_type": "stream",
     "text": [
      "\r",
      "  0%|          | 0/2047 [00:00<?, ?it/s]"
     ]
    },
    {
     "name": "stdout",
     "output_type": "stream",
     "text": [
      "current epoch :  31\n"
     ]
    },
    {
     "name": "stderr",
     "output_type": "stream",
     "text": [
      "100%|██████████| 2047/2047 [00:54<00:00, 37.39it/s]\n"
     ]
    },
    {
     "name": "stdout",
     "output_type": "stream",
     "text": [
      "runtime =  54.75172448158264 sec\n",
      "expected remaining time =  9176 sec : 152 minute\n"
     ]
    },
    {
     "name": "stderr",
     "output_type": "stream",
     "text": [
      "\r",
      "  0%|          | 0/2047 [00:00<?, ?it/s]"
     ]
    },
    {
     "name": "stdout",
     "output_type": "stream",
     "text": [
      "current epoch :  32\n"
     ]
    },
    {
     "name": "stderr",
     "output_type": "stream",
     "text": [
      "100%|██████████| 2047/2047 [00:53<00:00, 37.92it/s]\n"
     ]
    },
    {
     "name": "stdout",
     "output_type": "stream",
     "text": [
      "runtime =  53.992475748062134 sec\n",
      "expected remaining time =  9118 sec : 151 minute\n"
     ]
    },
    {
     "name": "stderr",
     "output_type": "stream",
     "text": [
      "\r",
      "  0%|          | 0/2047 [00:00<?, ?it/s]"
     ]
    },
    {
     "name": "stdout",
     "output_type": "stream",
     "text": [
      "current epoch :  33\n"
     ]
    },
    {
     "name": "stderr",
     "output_type": "stream",
     "text": [
      "100%|██████████| 2047/2047 [00:53<00:00, 38.15it/s]\n"
     ]
    },
    {
     "name": "stdout",
     "output_type": "stream",
     "text": [
      "runtime =  53.66138482093811 sec\n",
      "expected remaining time =  9059 sec : 150 minute\n"
     ]
    },
    {
     "name": "stderr",
     "output_type": "stream",
     "text": [
      "\r",
      "  0%|          | 0/2047 [00:00<?, ?it/s]"
     ]
    },
    {
     "name": "stdout",
     "output_type": "stream",
     "text": [
      "current epoch :  34\n"
     ]
    },
    {
     "name": "stderr",
     "output_type": "stream",
     "text": [
      "100%|██████████| 2047/2047 [00:53<00:00, 38.01it/s]\n"
     ]
    },
    {
     "name": "stdout",
     "output_type": "stream",
     "text": [
      "runtime =  53.863736629486084 sec\n",
      "expected remaining time =  9001 sec : 150 minute\n"
     ]
    },
    {
     "name": "stderr",
     "output_type": "stream",
     "text": [
      "\r",
      "  0%|          | 0/2047 [00:00<?, ?it/s]"
     ]
    },
    {
     "name": "stdout",
     "output_type": "stream",
     "text": [
      "current epoch :  35\n"
     ]
    },
    {
     "name": "stderr",
     "output_type": "stream",
     "text": [
      "100%|██████████| 2047/2047 [00:53<00:00, 38.28it/s]\n"
     ]
    },
    {
     "name": "stdout",
     "output_type": "stream",
     "text": [
      "runtime =  53.48292112350464 sec\n",
      "expected remaining time =  8942 sec : 149 minute\n"
     ]
    },
    {
     "name": "stderr",
     "output_type": "stream",
     "text": [
      "\r",
      "  0%|          | 0/2047 [00:00<?, ?it/s]"
     ]
    },
    {
     "name": "stdout",
     "output_type": "stream",
     "text": [
      "current epoch :  36\n"
     ]
    },
    {
     "name": "stderr",
     "output_type": "stream",
     "text": [
      "100%|██████████| 2047/2047 [00:53<00:00, 38.55it/s]\n"
     ]
    },
    {
     "name": "stdout",
     "output_type": "stream",
     "text": [
      "runtime =  53.10867643356323 sec\n",
      "expected remaining time =  8881 sec : 148 minute\n"
     ]
    },
    {
     "name": "stderr",
     "output_type": "stream",
     "text": [
      "\r",
      "  0%|          | 0/2047 [00:00<?, ?it/s]"
     ]
    },
    {
     "name": "stdout",
     "output_type": "stream",
     "text": [
      "current epoch :  37\n"
     ]
    },
    {
     "name": "stderr",
     "output_type": "stream",
     "text": [
      "100%|██████████| 2047/2047 [00:53<00:00, 38.01it/s]\n"
     ]
    },
    {
     "name": "stdout",
     "output_type": "stream",
     "text": [
      "runtime =  53.859593629837036 sec\n",
      "expected remaining time =  8824 sec : 147 minute\n"
     ]
    },
    {
     "name": "stderr",
     "output_type": "stream",
     "text": [
      "\r",
      "  0%|          | 0/2047 [00:00<?, ?it/s]"
     ]
    },
    {
     "name": "stdout",
     "output_type": "stream",
     "text": [
      "current epoch :  38\n"
     ]
    },
    {
     "name": "stderr",
     "output_type": "stream",
     "text": [
      "100%|██████████| 2047/2047 [00:53<00:00, 38.15it/s]\n"
     ]
    },
    {
     "name": "stdout",
     "output_type": "stream",
     "text": [
      "runtime =  53.66917610168457 sec\n",
      "expected remaining time =  8766 sec : 146 minute\n"
     ]
    },
    {
     "name": "stderr",
     "output_type": "stream",
     "text": [
      "\r",
      "  0%|          | 0/2047 [00:00<?, ?it/s]"
     ]
    },
    {
     "name": "stdout",
     "output_type": "stream",
     "text": [
      "current epoch :  39\n"
     ]
    },
    {
     "name": "stderr",
     "output_type": "stream",
     "text": [
      "100%|██████████| 2047/2047 [00:55<00:00, 37.10it/s]\n"
     ]
    },
    {
     "name": "stdout",
     "output_type": "stream",
     "text": [
      "runtime =  55.180824995040894 sec\n",
      "expected remaining time =  8714 sec : 145 minute\n"
     ]
    },
    {
     "name": "stderr",
     "output_type": "stream",
     "text": [
      "\r",
      "  0%|          | 0/2047 [00:00<?, ?it/s]"
     ]
    },
    {
     "name": "stdout",
     "output_type": "stream",
     "text": [
      "current epoch :  40\n"
     ]
    },
    {
     "name": "stderr",
     "output_type": "stream",
     "text": [
      "100%|██████████| 2047/2047 [00:54<00:00, 37.84it/s]\n"
     ]
    },
    {
     "name": "stdout",
     "output_type": "stream",
     "text": [
      "runtime =  54.102943897247314 sec\n",
      "expected remaining time =  8659 sec : 144 minute\n"
     ]
    },
    {
     "name": "stderr",
     "output_type": "stream",
     "text": [
      "\r",
      "  0%|          | 0/2047 [00:00<?, ?it/s]"
     ]
    },
    {
     "name": "stdout",
     "output_type": "stream",
     "text": [
      "current epoch :  41\n"
     ]
    },
    {
     "name": "stderr",
     "output_type": "stream",
     "text": [
      "100%|██████████| 2047/2047 [00:54<00:00, 37.53it/s]\n"
     ]
    },
    {
     "name": "stdout",
     "output_type": "stream",
     "text": [
      "runtime =  54.55178785324097 sec\n",
      "expected remaining time =  8604 sec : 143 minute\n"
     ]
    },
    {
     "name": "stderr",
     "output_type": "stream",
     "text": [
      "\r",
      "  0%|          | 0/2047 [00:00<?, ?it/s]"
     ]
    },
    {
     "name": "stdout",
     "output_type": "stream",
     "text": [
      "current epoch :  42\n"
     ]
    },
    {
     "name": "stderr",
     "output_type": "stream",
     "text": [
      "100%|██████████| 2047/2047 [00:54<00:00, 37.59it/s]\n"
     ]
    },
    {
     "name": "stdout",
     "output_type": "stream",
     "text": [
      "runtime =  54.46657180786133 sec\n",
      "expected remaining time =  8550 sec : 142 minute\n"
     ]
    },
    {
     "name": "stderr",
     "output_type": "stream",
     "text": [
      "\r",
      "  0%|          | 0/2047 [00:00<?, ?it/s]"
     ]
    },
    {
     "name": "stdout",
     "output_type": "stream",
     "text": [
      "current epoch :  43\n"
     ]
    },
    {
     "name": "stderr",
     "output_type": "stream",
     "text": [
      "100%|██████████| 2047/2047 [00:53<00:00, 37.94it/s]\n"
     ]
    },
    {
     "name": "stdout",
     "output_type": "stream",
     "text": [
      "runtime =  53.963887214660645 sec\n",
      "expected remaining time =  8494 sec : 141 minute\n"
     ]
    },
    {
     "name": "stderr",
     "output_type": "stream",
     "text": [
      "\r",
      "  0%|          | 0/2047 [00:00<?, ?it/s]"
     ]
    },
    {
     "name": "stdout",
     "output_type": "stream",
     "text": [
      "current epoch :  44\n"
     ]
    },
    {
     "name": "stderr",
     "output_type": "stream",
     "text": [
      "100%|██████████| 2047/2047 [00:54<00:00, 37.82it/s]\n"
     ]
    },
    {
     "name": "stdout",
     "output_type": "stream",
     "text": [
      "runtime =  54.13990664482117 sec\n",
      "expected remaining time =  8438 sec : 140 minute\n"
     ]
    },
    {
     "name": "stderr",
     "output_type": "stream",
     "text": [
      "\r",
      "  0%|          | 0/2047 [00:00<?, ?it/s]"
     ]
    },
    {
     "name": "stdout",
     "output_type": "stream",
     "text": [
      "current epoch :  45\n"
     ]
    },
    {
     "name": "stderr",
     "output_type": "stream",
     "text": [
      "100%|██████████| 2047/2047 [00:53<00:00, 38.54it/s]\n"
     ]
    },
    {
     "name": "stdout",
     "output_type": "stream",
     "text": [
      "runtime =  53.12497615814209 sec\n",
      "expected remaining time =  8379 sec : 139 minute\n"
     ]
    },
    {
     "name": "stderr",
     "output_type": "stream",
     "text": [
      "\r",
      "  0%|          | 0/2047 [00:00<?, ?it/s]"
     ]
    },
    {
     "name": "stdout",
     "output_type": "stream",
     "text": [
      "current epoch :  46\n"
     ]
    },
    {
     "name": "stderr",
     "output_type": "stream",
     "text": [
      "100%|██████████| 2047/2047 [00:52<00:00, 38.68it/s]\n"
     ]
    },
    {
     "name": "stdout",
     "output_type": "stream",
     "text": [
      "runtime =  52.92608046531677 sec\n",
      "expected remaining time =  8320 sec : 138 minute\n"
     ]
    },
    {
     "name": "stderr",
     "output_type": "stream",
     "text": [
      "\r",
      "  0%|          | 0/2047 [00:00<?, ?it/s]"
     ]
    },
    {
     "name": "stdout",
     "output_type": "stream",
     "text": [
      "current epoch :  47\n"
     ]
    },
    {
     "name": "stderr",
     "output_type": "stream",
     "text": [
      "100%|██████████| 2047/2047 [00:52<00:00, 39.36it/s]\n"
     ]
    },
    {
     "name": "stdout",
     "output_type": "stream",
     "text": [
      "runtime =  52.021223068237305 sec\n",
      "expected remaining time =  8258 sec : 137 minute\n"
     ]
    },
    {
     "name": "stderr",
     "output_type": "stream",
     "text": [
      "\r",
      "  0%|          | 0/2047 [00:00<?, ?it/s]"
     ]
    },
    {
     "name": "stdout",
     "output_type": "stream",
     "text": [
      "current epoch :  48\n"
     ]
    },
    {
     "name": "stderr",
     "output_type": "stream",
     "text": [
      "100%|██████████| 2047/2047 [00:54<00:00, 37.28it/s]\n"
     ]
    },
    {
     "name": "stdout",
     "output_type": "stream",
     "text": [
      "runtime =  54.92251443862915 sec\n",
      "expected remaining time =  8206 sec : 136 minute\n"
     ]
    },
    {
     "name": "stderr",
     "output_type": "stream",
     "text": [
      "\r",
      "  0%|          | 0/2047 [00:00<?, ?it/s]"
     ]
    },
    {
     "name": "stdout",
     "output_type": "stream",
     "text": [
      "current epoch :  49\n"
     ]
    },
    {
     "name": "stderr",
     "output_type": "stream",
     "text": [
      "100%|██████████| 2047/2047 [00:53<00:00, 38.47it/s]\n"
     ]
    },
    {
     "name": "stdout",
     "output_type": "stream",
     "text": [
      "runtime =  53.22203063964844 sec\n",
      "expected remaining time =  8148 sec : 135 minute\n"
     ]
    },
    {
     "name": "stderr",
     "output_type": "stream",
     "text": [
      "\r",
      "  0%|          | 0/2047 [00:00<?, ?it/s]"
     ]
    },
    {
     "name": "stdout",
     "output_type": "stream",
     "text": [
      "current epoch :  50\n"
     ]
    },
    {
     "name": "stderr",
     "output_type": "stream",
     "text": [
      "100%|██████████| 2047/2047 [00:53<00:00, 38.39it/s]\n"
     ]
    },
    {
     "name": "stdout",
     "output_type": "stream",
     "text": [
      "runtime =  53.330730676651 sec\n",
      "expected remaining time =  8091 sec : 134 minute\n"
     ]
    },
    {
     "name": "stderr",
     "output_type": "stream",
     "text": [
      "\r",
      "  0%|          | 0/2047 [00:00<?, ?it/s]"
     ]
    },
    {
     "name": "stdout",
     "output_type": "stream",
     "text": [
      "current epoch :  51\n"
     ]
    },
    {
     "name": "stderr",
     "output_type": "stream",
     "text": [
      "100%|██████████| 2047/2047 [00:55<00:00, 36.70it/s]\n"
     ]
    },
    {
     "name": "stdout",
     "output_type": "stream",
     "text": [
      "runtime =  55.79169678688049 sec\n",
      "expected remaining time =  8041 sec : 134 minute\n"
     ]
    },
    {
     "name": "stderr",
     "output_type": "stream",
     "text": [
      "\r",
      "  0%|          | 0/2047 [00:00<?, ?it/s]"
     ]
    },
    {
     "name": "stdout",
     "output_type": "stream",
     "text": [
      "current epoch :  52\n"
     ]
    },
    {
     "name": "stderr",
     "output_type": "stream",
     "text": [
      "100%|██████████| 2047/2047 [00:54<00:00, 37.43it/s]\n"
     ]
    },
    {
     "name": "stdout",
     "output_type": "stream",
     "text": [
      "runtime =  54.70178484916687 sec\n",
      "expected remaining time =  7987 sec : 133 minute\n"
     ]
    },
    {
     "name": "stderr",
     "output_type": "stream",
     "text": [
      "\r",
      "  0%|          | 0/2047 [00:00<?, ?it/s]"
     ]
    },
    {
     "name": "stdout",
     "output_type": "stream",
     "text": [
      "current epoch :  53\n"
     ]
    },
    {
     "name": "stderr",
     "output_type": "stream",
     "text": [
      "100%|██████████| 2047/2047 [00:55<00:00, 37.00it/s]\n"
     ]
    },
    {
     "name": "stdout",
     "output_type": "stream",
     "text": [
      "runtime =  55.32994318008423 sec\n",
      "expected remaining time =  7936 sec : 132 minute\n"
     ]
    },
    {
     "name": "stderr",
     "output_type": "stream",
     "text": [
      "\r",
      "  0%|          | 0/2047 [00:00<?, ?it/s]"
     ]
    },
    {
     "name": "stdout",
     "output_type": "stream",
     "text": [
      "current epoch :  54\n"
     ]
    },
    {
     "name": "stderr",
     "output_type": "stream",
     "text": [
      "100%|██████████| 2047/2047 [00:53<00:00, 37.92it/s]\n"
     ]
    },
    {
     "name": "stdout",
     "output_type": "stream",
     "text": [
      "runtime =  53.99246573448181 sec\n",
      "expected remaining time =  7880 sec : 131 minute\n"
     ]
    },
    {
     "name": "stderr",
     "output_type": "stream",
     "text": [
      "\r",
      "  0%|          | 0/2047 [00:00<?, ?it/s]"
     ]
    },
    {
     "name": "stdout",
     "output_type": "stream",
     "text": [
      "current epoch :  55\n"
     ]
    },
    {
     "name": "stderr",
     "output_type": "stream",
     "text": [
      "100%|██████████| 2047/2047 [00:53<00:00, 37.97it/s]\n"
     ]
    },
    {
     "name": "stdout",
     "output_type": "stream",
     "text": [
      "runtime =  53.92208790779114 sec\n",
      "expected remaining time =  7825 sec : 130 minute\n"
     ]
    },
    {
     "name": "stderr",
     "output_type": "stream",
     "text": [
      "\r",
      "  0%|          | 0/2047 [00:00<?, ?it/s]"
     ]
    },
    {
     "name": "stdout",
     "output_type": "stream",
     "text": [
      "current epoch :  56\n"
     ]
    },
    {
     "name": "stderr",
     "output_type": "stream",
     "text": [
      "100%|██████████| 2047/2047 [00:55<00:00, 37.09it/s]\n"
     ]
    },
    {
     "name": "stdout",
     "output_type": "stream",
     "text": [
      "runtime =  55.20349740982056 sec\n",
      "expected remaining time =  7773 sec : 129 minute\n"
     ]
    },
    {
     "name": "stderr",
     "output_type": "stream",
     "text": [
      "\r",
      "  0%|          | 0/2047 [00:00<?, ?it/s]"
     ]
    },
    {
     "name": "stdout",
     "output_type": "stream",
     "text": [
      "current epoch :  57\n"
     ]
    },
    {
     "name": "stderr",
     "output_type": "stream",
     "text": [
      "100%|██████████| 2047/2047 [00:55<00:00, 36.95it/s]\n"
     ]
    },
    {
     "name": "stdout",
     "output_type": "stream",
     "text": [
      "runtime =  55.40675687789917 sec\n",
      "expected remaining time =  7721 sec : 128 minute\n"
     ]
    },
    {
     "name": "stderr",
     "output_type": "stream",
     "text": [
      "\r",
      "  0%|          | 0/2047 [00:00<?, ?it/s]"
     ]
    },
    {
     "name": "stdout",
     "output_type": "stream",
     "text": [
      "current epoch :  58\n"
     ]
    },
    {
     "name": "stderr",
     "output_type": "stream",
     "text": [
      "100%|██████████| 2047/2047 [00:54<00:00, 37.39it/s]\n"
     ]
    },
    {
     "name": "stdout",
     "output_type": "stream",
     "text": [
      "runtime =  54.75305247306824 sec\n",
      "expected remaining time =  7668 sec : 127 minute\n"
     ]
    },
    {
     "name": "stderr",
     "output_type": "stream",
     "text": [
      "\r",
      "  0%|          | 0/2047 [00:00<?, ?it/s]"
     ]
    },
    {
     "name": "stdout",
     "output_type": "stream",
     "text": [
      "current epoch :  59\n"
     ]
    },
    {
     "name": "stderr",
     "output_type": "stream",
     "text": [
      "100%|██████████| 2047/2047 [00:54<00:00, 37.32it/s]\n"
     ]
    },
    {
     "name": "stdout",
     "output_type": "stream",
     "text": [
      "runtime =  54.85090446472168 sec\n",
      "expected remaining time =  7614 sec : 126 minute\n"
     ]
    },
    {
     "name": "stderr",
     "output_type": "stream",
     "text": [
      "\r",
      "  0%|          | 0/2047 [00:00<?, ?it/s]"
     ]
    },
    {
     "name": "stdout",
     "output_type": "stream",
     "text": [
      "current epoch :  60\n"
     ]
    },
    {
     "name": "stderr",
     "output_type": "stream",
     "text": [
      "100%|██████████| 2047/2047 [00:54<00:00, 37.79it/s]\n"
     ]
    },
    {
     "name": "stdout",
     "output_type": "stream",
     "text": [
      "runtime =  54.1704843044281 sec\n",
      "expected remaining time =  7559 sec : 125 minute\n"
     ]
    },
    {
     "name": "stderr",
     "output_type": "stream",
     "text": [
      "\r",
      "  0%|          | 0/2047 [00:00<?, ?it/s]"
     ]
    },
    {
     "name": "stdout",
     "output_type": "stream",
     "text": [
      "current epoch :  61\n"
     ]
    },
    {
     "name": "stderr",
     "output_type": "stream",
     "text": [
      "100%|██████████| 2047/2047 [00:55<00:00, 36.76it/s]\n"
     ]
    },
    {
     "name": "stdout",
     "output_type": "stream",
     "text": [
      "runtime =  55.69063091278076 sec\n",
      "expected remaining time =  7508 sec : 125 minute\n"
     ]
    },
    {
     "name": "stderr",
     "output_type": "stream",
     "text": [
      "\r",
      "  0%|          | 0/2047 [00:00<?, ?it/s]"
     ]
    },
    {
     "name": "stdout",
     "output_type": "stream",
     "text": [
      "current epoch :  62\n"
     ]
    },
    {
     "name": "stderr",
     "output_type": "stream",
     "text": [
      "100%|██████████| 2047/2047 [00:55<00:00, 36.76it/s]\n"
     ]
    },
    {
     "name": "stdout",
     "output_type": "stream",
     "text": [
      "runtime =  55.68992900848389 sec\n",
      "expected remaining time =  7456 sec : 124 minute\n"
     ]
    },
    {
     "name": "stderr",
     "output_type": "stream",
     "text": [
      "\r",
      "  0%|          | 0/2047 [00:00<?, ?it/s]"
     ]
    },
    {
     "name": "stdout",
     "output_type": "stream",
     "text": [
      "current epoch :  63\n"
     ]
    },
    {
     "name": "stderr",
     "output_type": "stream",
     "text": [
      "100%|██████████| 2047/2047 [00:54<00:00, 37.28it/s]\n"
     ]
    },
    {
     "name": "stdout",
     "output_type": "stream",
     "text": [
      "runtime =  54.92309355735779 sec\n",
      "expected remaining time =  7403 sec : 123 minute\n"
     ]
    },
    {
     "name": "stderr",
     "output_type": "stream",
     "text": [
      "\r",
      "  0%|          | 0/2047 [00:00<?, ?it/s]"
     ]
    },
    {
     "name": "stdout",
     "output_type": "stream",
     "text": [
      "current epoch :  64\n"
     ]
    },
    {
     "name": "stderr",
     "output_type": "stream",
     "text": [
      "100%|██████████| 2047/2047 [00:55<00:00, 36.97it/s]\n"
     ]
    },
    {
     "name": "stdout",
     "output_type": "stream",
     "text": [
      "runtime =  55.3833441734314 sec\n",
      "expected remaining time =  7350 sec : 122 minute\n"
     ]
    },
    {
     "name": "stderr",
     "output_type": "stream",
     "text": [
      "\r",
      "  0%|          | 0/2047 [00:00<?, ?it/s]"
     ]
    },
    {
     "name": "stdout",
     "output_type": "stream",
     "text": [
      "current epoch :  65\n"
     ]
    },
    {
     "name": "stderr",
     "output_type": "stream",
     "text": [
      "100%|██████████| 2047/2047 [00:55<00:00, 36.84it/s]\n"
     ]
    },
    {
     "name": "stdout",
     "output_type": "stream",
     "text": [
      "runtime =  55.56681823730469 sec\n",
      "expected remaining time =  7298 sec : 121 minute\n"
     ]
    },
    {
     "name": "stderr",
     "output_type": "stream",
     "text": [
      "\r",
      "  0%|          | 0/2047 [00:00<?, ?it/s]"
     ]
    },
    {
     "name": "stdout",
     "output_type": "stream",
     "text": [
      "current epoch :  66\n"
     ]
    },
    {
     "name": "stderr",
     "output_type": "stream",
     "text": [
      "100%|██████████| 2047/2047 [00:54<00:00, 37.45it/s]\n"
     ]
    },
    {
     "name": "stdout",
     "output_type": "stream",
     "text": [
      "runtime =  54.66885733604431 sec\n",
      "expected remaining time =  7244 sec : 120 minute\n"
     ]
    },
    {
     "name": "stderr",
     "output_type": "stream",
     "text": [
      "\r",
      "  0%|          | 0/2047 [00:00<?, ?it/s]"
     ]
    },
    {
     "name": "stdout",
     "output_type": "stream",
     "text": [
      "current epoch :  67\n"
     ]
    },
    {
     "name": "stderr",
     "output_type": "stream",
     "text": [
      "100%|██████████| 2047/2047 [00:54<00:00, 37.34it/s]\n"
     ]
    },
    {
     "name": "stdout",
     "output_type": "stream",
     "text": [
      "runtime =  54.82917809486389 sec\n",
      "expected remaining time =  7190 sec : 119 minute\n"
     ]
    },
    {
     "name": "stderr",
     "output_type": "stream",
     "text": [
      "\r",
      "  0%|          | 0/2047 [00:00<?, ?it/s]"
     ]
    },
    {
     "name": "stdout",
     "output_type": "stream",
     "text": [
      "current epoch :  68\n"
     ]
    },
    {
     "name": "stderr",
     "output_type": "stream",
     "text": [
      "100%|██████████| 2047/2047 [00:56<00:00, 36.46it/s]\n"
     ]
    },
    {
     "name": "stdout",
     "output_type": "stream",
     "text": [
      "runtime =  56.15877389907837 sec\n",
      "expected remaining time =  7139 sec : 118 minute\n"
     ]
    },
    {
     "name": "stderr",
     "output_type": "stream",
     "text": [
      "\r",
      "  0%|          | 0/2047 [00:00<?, ?it/s]"
     ]
    },
    {
     "name": "stdout",
     "output_type": "stream",
     "text": [
      "current epoch :  69\n"
     ]
    },
    {
     "name": "stderr",
     "output_type": "stream",
     "text": [
      "100%|██████████| 2047/2047 [00:54<00:00, 37.22it/s]\n"
     ]
    },
    {
     "name": "stdout",
     "output_type": "stream",
     "text": [
      "runtime =  55.00367593765259 sec\n",
      "expected remaining time =  7085 sec : 118 minute\n"
     ]
    },
    {
     "name": "stderr",
     "output_type": "stream",
     "text": [
      "\r",
      "  0%|          | 0/2047 [00:00<?, ?it/s]"
     ]
    },
    {
     "name": "stdout",
     "output_type": "stream",
     "text": [
      "current epoch :  70\n"
     ]
    },
    {
     "name": "stderr",
     "output_type": "stream",
     "text": [
      "100%|██████████| 2047/2047 [00:54<00:00, 37.59it/s]\n"
     ]
    },
    {
     "name": "stdout",
     "output_type": "stream",
     "text": [
      "runtime =  54.47283697128296 sec\n",
      "expected remaining time =  7031 sec : 117 minute\n"
     ]
    },
    {
     "name": "stderr",
     "output_type": "stream",
     "text": [
      "\r",
      "  0%|          | 0/2047 [00:00<?, ?it/s]"
     ]
    },
    {
     "name": "stdout",
     "output_type": "stream",
     "text": [
      "current epoch :  71\n"
     ]
    },
    {
     "name": "stderr",
     "output_type": "stream",
     "text": [
      "100%|██████████| 2047/2047 [00:55<00:00, 37.21it/s]\n"
     ]
    },
    {
     "name": "stdout",
     "output_type": "stream",
     "text": [
      "runtime =  55.017781019210815 sec\n",
      "expected remaining time =  6977 sec : 116 minute\n"
     ]
    },
    {
     "name": "stderr",
     "output_type": "stream",
     "text": [
      "\r",
      "  0%|          | 0/2047 [00:00<?, ?it/s]"
     ]
    },
    {
     "name": "stdout",
     "output_type": "stream",
     "text": [
      "current epoch :  72\n"
     ]
    },
    {
     "name": "stderr",
     "output_type": "stream",
     "text": [
      "100%|██████████| 2047/2047 [00:54<00:00, 37.38it/s]\n"
     ]
    },
    {
     "name": "stdout",
     "output_type": "stream",
     "text": [
      "runtime =  54.76900887489319 sec\n",
      "expected remaining time =  6923 sec : 115 minute\n"
     ]
    },
    {
     "name": "stderr",
     "output_type": "stream",
     "text": [
      "\r",
      "  0%|          | 0/2047 [00:00<?, ?it/s]"
     ]
    },
    {
     "name": "stdout",
     "output_type": "stream",
     "text": [
      "current epoch :  73\n"
     ]
    },
    {
     "name": "stderr",
     "output_type": "stream",
     "text": [
      "100%|██████████| 2047/2047 [00:53<00:00, 38.13it/s]\n"
     ]
    },
    {
     "name": "stdout",
     "output_type": "stream",
     "text": [
      "runtime =  53.69317173957825 sec\n",
      "expected remaining time =  6867 sec : 114 minute\n"
     ]
    },
    {
     "name": "stderr",
     "output_type": "stream",
     "text": [
      "\r",
      "  0%|          | 0/2047 [00:00<?, ?it/s]"
     ]
    },
    {
     "name": "stdout",
     "output_type": "stream",
     "text": [
      "current epoch :  74\n"
     ]
    },
    {
     "name": "stderr",
     "output_type": "stream",
     "text": [
      "100%|██████████| 2047/2047 [00:53<00:00, 38.41it/s]\n"
     ]
    },
    {
     "name": "stdout",
     "output_type": "stream",
     "text": [
      "runtime =  53.298723459243774 sec\n",
      "expected remaining time =  6811 sec : 113 minute\n"
     ]
    },
    {
     "name": "stderr",
     "output_type": "stream",
     "text": [
      "\r",
      "  0%|          | 0/2047 [00:00<?, ?it/s]"
     ]
    },
    {
     "name": "stdout",
     "output_type": "stream",
     "text": [
      "current epoch :  75\n"
     ]
    },
    {
     "name": "stderr",
     "output_type": "stream",
     "text": [
      "100%|██████████| 2047/2047 [00:52<00:00, 38.96it/s]\n"
     ]
    },
    {
     "name": "stdout",
     "output_type": "stream",
     "text": [
      "runtime =  52.55122780799866 sec\n",
      "expected remaining time =  6753 sec : 112 minute\n"
     ]
    },
    {
     "name": "stderr",
     "output_type": "stream",
     "text": [
      "\r",
      "  0%|          | 0/2047 [00:00<?, ?it/s]"
     ]
    },
    {
     "name": "stdout",
     "output_type": "stream",
     "text": [
      "current epoch :  76\n"
     ]
    },
    {
     "name": "stderr",
     "output_type": "stream",
     "text": [
      "100%|██████████| 2047/2047 [00:53<00:00, 38.37it/s]\n"
     ]
    },
    {
     "name": "stdout",
     "output_type": "stream",
     "text": [
      "runtime =  53.35598874092102 sec\n",
      "expected remaining time =  6697 sec : 111 minute\n"
     ]
    },
    {
     "name": "stderr",
     "output_type": "stream",
     "text": [
      "\r",
      "  0%|          | 0/2047 [00:00<?, ?it/s]"
     ]
    },
    {
     "name": "stdout",
     "output_type": "stream",
     "text": [
      "current epoch :  77\n"
     ]
    },
    {
     "name": "stderr",
     "output_type": "stream",
     "text": [
      "100%|██████████| 2047/2047 [00:53<00:00, 38.23it/s]\n"
     ]
    },
    {
     "name": "stdout",
     "output_type": "stream",
     "text": [
      "runtime =  53.55406165122986 sec\n",
      "expected remaining time =  6641 sec : 110 minute\n"
     ]
    },
    {
     "name": "stderr",
     "output_type": "stream",
     "text": [
      "\r",
      "  0%|          | 0/2047 [00:00<?, ?it/s]"
     ]
    },
    {
     "name": "stdout",
     "output_type": "stream",
     "text": [
      "current epoch :  78\n"
     ]
    },
    {
     "name": "stderr",
     "output_type": "stream",
     "text": [
      "100%|██████████| 2047/2047 [00:53<00:00, 38.62it/s]\n"
     ]
    },
    {
     "name": "stdout",
     "output_type": "stream",
     "text": [
      "runtime =  53.0079550743103 sec\n",
      "expected remaining time =  6584 sec : 109 minute\n"
     ]
    },
    {
     "name": "stderr",
     "output_type": "stream",
     "text": [
      "\r",
      "  0%|          | 0/2047 [00:00<?, ?it/s]"
     ]
    },
    {
     "name": "stdout",
     "output_type": "stream",
     "text": [
      "current epoch :  79\n"
     ]
    },
    {
     "name": "stderr",
     "output_type": "stream",
     "text": [
      "100%|██████████| 2047/2047 [00:52<00:00, 38.67it/s]\n"
     ]
    },
    {
     "name": "stdout",
     "output_type": "stream",
     "text": [
      "runtime =  52.94516706466675 sec\n",
      "expected remaining time =  6528 sec : 108 minute\n"
     ]
    },
    {
     "name": "stderr",
     "output_type": "stream",
     "text": [
      "\r",
      "  0%|          | 0/2047 [00:00<?, ?it/s]"
     ]
    },
    {
     "name": "stdout",
     "output_type": "stream",
     "text": [
      "current epoch :  80\n"
     ]
    },
    {
     "name": "stderr",
     "output_type": "stream",
     "text": [
      "100%|██████████| 2047/2047 [00:53<00:00, 38.61it/s]\n"
     ]
    },
    {
     "name": "stdout",
     "output_type": "stream",
     "text": [
      "runtime =  53.02953124046326 sec\n",
      "expected remaining time =  6471 sec : 107 minute\n"
     ]
    },
    {
     "name": "stderr",
     "output_type": "stream",
     "text": [
      "\r",
      "  0%|          | 0/2047 [00:00<?, ?it/s]"
     ]
    },
    {
     "name": "stdout",
     "output_type": "stream",
     "text": [
      "current epoch :  81\n"
     ]
    },
    {
     "name": "stderr",
     "output_type": "stream",
     "text": [
      "100%|██████████| 2047/2047 [00:53<00:00, 38.12it/s]\n"
     ]
    },
    {
     "name": "stdout",
     "output_type": "stream",
     "text": [
      "runtime =  53.701881885528564 sec\n",
      "expected remaining time =  6416 sec : 106 minute\n"
     ]
    },
    {
     "name": "stderr",
     "output_type": "stream",
     "text": [
      "\r",
      "  0%|          | 0/2047 [00:00<?, ?it/s]"
     ]
    },
    {
     "name": "stdout",
     "output_type": "stream",
     "text": [
      "current epoch :  82\n"
     ]
    },
    {
     "name": "stderr",
     "output_type": "stream",
     "text": [
      "100%|██████████| 2047/2047 [00:54<00:00, 37.49it/s]\n"
     ]
    },
    {
     "name": "stdout",
     "output_type": "stream",
     "text": [
      "runtime =  54.60849666595459 sec\n",
      "expected remaining time =  6362 sec : 106 minute\n"
     ]
    },
    {
     "name": "stderr",
     "output_type": "stream",
     "text": [
      "\r",
      "  0%|          | 0/2047 [00:00<?, ?it/s]"
     ]
    },
    {
     "name": "stdout",
     "output_type": "stream",
     "text": [
      "current epoch :  83\n"
     ]
    },
    {
     "name": "stderr",
     "output_type": "stream",
     "text": [
      "100%|██████████| 2047/2047 [00:53<00:00, 38.46it/s]\n"
     ]
    },
    {
     "name": "stdout",
     "output_type": "stream",
     "text": [
      "runtime =  53.23490643501282 sec\n",
      "expected remaining time =  6306 sec : 105 minute\n"
     ]
    },
    {
     "name": "stderr",
     "output_type": "stream",
     "text": [
      "\r",
      "  0%|          | 0/2047 [00:00<?, ?it/s]"
     ]
    },
    {
     "name": "stdout",
     "output_type": "stream",
     "text": [
      "current epoch :  84\n"
     ]
    },
    {
     "name": "stderr",
     "output_type": "stream",
     "text": [
      "100%|██████████| 2047/2047 [00:52<00:00, 38.72it/s]\n"
     ]
    },
    {
     "name": "stdout",
     "output_type": "stream",
     "text": [
      "runtime =  52.86526799201965 sec\n",
      "expected remaining time =  6250 sec : 104 minute\n"
     ]
    },
    {
     "name": "stderr",
     "output_type": "stream",
     "text": [
      "\r",
      "  0%|          | 0/2047 [00:00<?, ?it/s]"
     ]
    },
    {
     "name": "stdout",
     "output_type": "stream",
     "text": [
      "current epoch :  85\n"
     ]
    },
    {
     "name": "stderr",
     "output_type": "stream",
     "text": [
      "100%|██████████| 2047/2047 [00:52<00:00, 39.06it/s]\n"
     ]
    },
    {
     "name": "stdout",
     "output_type": "stream",
     "text": [
      "runtime =  52.410969257354736 sec\n",
      "expected remaining time =  6193 sec : 103 minute\n"
     ]
    },
    {
     "name": "stderr",
     "output_type": "stream",
     "text": [
      "\r",
      "  0%|          | 0/2047 [00:00<?, ?it/s]"
     ]
    },
    {
     "name": "stdout",
     "output_type": "stream",
     "text": [
      "current epoch :  86\n"
     ]
    },
    {
     "name": "stderr",
     "output_type": "stream",
     "text": [
      "100%|██████████| 2047/2047 [00:53<00:00, 38.24it/s]\n"
     ]
    },
    {
     "name": "stdout",
     "output_type": "stream",
     "text": [
      "runtime =  53.539057970047 sec\n",
      "expected remaining time =  6137 sec : 102 minute\n"
     ]
    },
    {
     "name": "stderr",
     "output_type": "stream",
     "text": [
      "\r",
      "  0%|          | 0/2047 [00:00<?, ?it/s]"
     ]
    },
    {
     "name": "stdout",
     "output_type": "stream",
     "text": [
      "current epoch :  87\n"
     ]
    },
    {
     "name": "stderr",
     "output_type": "stream",
     "text": [
      "100%|██████████| 2047/2047 [00:52<00:00, 38.99it/s]\n"
     ]
    },
    {
     "name": "stdout",
     "output_type": "stream",
     "text": [
      "runtime =  52.511974573135376 sec\n",
      "expected remaining time =  6081 sec : 101 minute\n"
     ]
    },
    {
     "name": "stderr",
     "output_type": "stream",
     "text": [
      "\r",
      "  0%|          | 0/2047 [00:00<?, ?it/s]"
     ]
    },
    {
     "name": "stdout",
     "output_type": "stream",
     "text": [
      "current epoch :  88\n"
     ]
    },
    {
     "name": "stderr",
     "output_type": "stream",
     "text": [
      "100%|██████████| 2047/2047 [00:53<00:00, 38.56it/s]\n"
     ]
    },
    {
     "name": "stdout",
     "output_type": "stream",
     "text": [
      "runtime =  53.10345506668091 sec\n",
      "expected remaining time =  6025 sec : 100 minute\n"
     ]
    },
    {
     "name": "stderr",
     "output_type": "stream",
     "text": [
      "\r",
      "  0%|          | 0/2047 [00:00<?, ?it/s]"
     ]
    },
    {
     "name": "stdout",
     "output_type": "stream",
     "text": [
      "current epoch :  89\n"
     ]
    },
    {
     "name": "stderr",
     "output_type": "stream",
     "text": [
      "100%|██████████| 2047/2047 [00:53<00:00, 38.50it/s]\n"
     ]
    },
    {
     "name": "stdout",
     "output_type": "stream",
     "text": [
      "runtime =  53.17586970329285 sec\n",
      "expected remaining time =  5969 sec : 99 minute\n"
     ]
    },
    {
     "name": "stderr",
     "output_type": "stream",
     "text": [
      "\r",
      "  0%|          | 0/2047 [00:00<?, ?it/s]"
     ]
    },
    {
     "name": "stdout",
     "output_type": "stream",
     "text": [
      "current epoch :  90\n"
     ]
    },
    {
     "name": "stderr",
     "output_type": "stream",
     "text": [
      "100%|██████████| 2047/2047 [00:52<00:00, 38.73it/s]\n"
     ]
    },
    {
     "name": "stdout",
     "output_type": "stream",
     "text": [
      "runtime =  52.85624599456787 sec\n",
      "expected remaining time =  5913 sec : 98 minute\n"
     ]
    },
    {
     "name": "stderr",
     "output_type": "stream",
     "text": [
      "\r",
      "  0%|          | 0/2047 [00:00<?, ?it/s]"
     ]
    },
    {
     "name": "stdout",
     "output_type": "stream",
     "text": [
      "current epoch :  91\n"
     ]
    },
    {
     "name": "stderr",
     "output_type": "stream",
     "text": [
      "100%|██████████| 2047/2047 [00:53<00:00, 38.60it/s]\n"
     ]
    },
    {
     "name": "stdout",
     "output_type": "stream",
     "text": [
      "runtime =  53.04874300956726 sec\n",
      "expected remaining time =  5858 sec : 97 minute\n"
     ]
    },
    {
     "name": "stderr",
     "output_type": "stream",
     "text": [
      "\r",
      "  0%|          | 0/2047 [00:00<?, ?it/s]"
     ]
    },
    {
     "name": "stdout",
     "output_type": "stream",
     "text": [
      "current epoch :  92\n"
     ]
    },
    {
     "name": "stderr",
     "output_type": "stream",
     "text": [
      "100%|██████████| 2047/2047 [00:53<00:00, 38.31it/s]\n"
     ]
    },
    {
     "name": "stdout",
     "output_type": "stream",
     "text": [
      "runtime =  53.43649625778198 sec\n",
      "expected remaining time =  5802 sec : 96 minute\n"
     ]
    },
    {
     "name": "stderr",
     "output_type": "stream",
     "text": [
      "\r",
      "  0%|          | 0/2047 [00:00<?, ?it/s]"
     ]
    },
    {
     "name": "stdout",
     "output_type": "stream",
     "text": [
      "current epoch :  93\n"
     ]
    },
    {
     "name": "stderr",
     "output_type": "stream",
     "text": [
      "100%|██████████| 2047/2047 [00:53<00:00, 38.62it/s]\n"
     ]
    },
    {
     "name": "stdout",
     "output_type": "stream",
     "text": [
      "runtime =  53.01057291030884 sec\n",
      "expected remaining time =  5747 sec : 95 minute\n"
     ]
    },
    {
     "name": "stderr",
     "output_type": "stream",
     "text": [
      "\r",
      "  0%|          | 0/2047 [00:00<?, ?it/s]"
     ]
    },
    {
     "name": "stdout",
     "output_type": "stream",
     "text": [
      "current epoch :  94\n"
     ]
    },
    {
     "name": "stderr",
     "output_type": "stream",
     "text": [
      "100%|██████████| 2047/2047 [00:53<00:00, 37.99it/s]\n"
     ]
    },
    {
     "name": "stdout",
     "output_type": "stream",
     "text": [
      "runtime =  53.89460206031799 sec\n",
      "expected remaining time =  5692 sec : 94 minute\n"
     ]
    },
    {
     "name": "stderr",
     "output_type": "stream",
     "text": [
      "\r",
      "  0%|          | 0/2047 [00:00<?, ?it/s]"
     ]
    },
    {
     "name": "stdout",
     "output_type": "stream",
     "text": [
      "current epoch :  95\n"
     ]
    },
    {
     "name": "stderr",
     "output_type": "stream",
     "text": [
      "100%|██████████| 2047/2047 [00:53<00:00, 38.40it/s]\n"
     ]
    },
    {
     "name": "stdout",
     "output_type": "stream",
     "text": [
      "runtime =  53.3246865272522 sec\n",
      "expected remaining time =  5637 sec : 93 minute\n"
     ]
    },
    {
     "name": "stderr",
     "output_type": "stream",
     "text": [
      "\r",
      "  0%|          | 0/2047 [00:00<?, ?it/s]"
     ]
    },
    {
     "name": "stdout",
     "output_type": "stream",
     "text": [
      "current epoch :  96\n"
     ]
    },
    {
     "name": "stderr",
     "output_type": "stream",
     "text": [
      "100%|██████████| 2047/2047 [00:53<00:00, 38.56it/s]\n"
     ]
    },
    {
     "name": "stdout",
     "output_type": "stream",
     "text": [
      "runtime =  53.0979905128479 sec\n",
      "expected remaining time =  5582 sec : 93 minute\n"
     ]
    },
    {
     "name": "stderr",
     "output_type": "stream",
     "text": [
      "\r",
      "  0%|          | 0/2047 [00:00<?, ?it/s]"
     ]
    },
    {
     "name": "stdout",
     "output_type": "stream",
     "text": [
      "current epoch :  97\n"
     ]
    },
    {
     "name": "stderr",
     "output_type": "stream",
     "text": [
      "100%|██████████| 2047/2047 [00:51<00:00, 39.40it/s]\n"
     ]
    },
    {
     "name": "stdout",
     "output_type": "stream",
     "text": [
      "runtime =  51.964481592178345 sec\n",
      "expected remaining time =  5525 sec : 92 minute\n"
     ]
    },
    {
     "name": "stderr",
     "output_type": "stream",
     "text": [
      "\r",
      "  0%|          | 0/2047 [00:00<?, ?it/s]"
     ]
    },
    {
     "name": "stdout",
     "output_type": "stream",
     "text": [
      "current epoch :  98\n"
     ]
    },
    {
     "name": "stderr",
     "output_type": "stream",
     "text": [
      "100%|██████████| 2047/2047 [00:53<00:00, 38.41it/s]\n"
     ]
    },
    {
     "name": "stdout",
     "output_type": "stream",
     "text": [
      "runtime =  53.30451440811157 sec\n",
      "expected remaining time =  5470 sec : 91 minute\n"
     ]
    },
    {
     "name": "stderr",
     "output_type": "stream",
     "text": [
      "\r",
      "  0%|          | 0/2047 [00:00<?, ?it/s]"
     ]
    },
    {
     "name": "stdout",
     "output_type": "stream",
     "text": [
      "current epoch :  99\n"
     ]
    },
    {
     "name": "stderr",
     "output_type": "stream",
     "text": [
      "100%|██████████| 2047/2047 [00:53<00:00, 38.53it/s]\n"
     ]
    },
    {
     "name": "stdout",
     "output_type": "stream",
     "text": [
      "runtime =  53.132615089416504 sec\n",
      "expected remaining time =  5415 sec : 90 minute\n"
     ]
    },
    {
     "name": "stderr",
     "output_type": "stream",
     "text": [
      "\r",
      "  0%|          | 0/2047 [00:00<?, ?it/s]"
     ]
    },
    {
     "name": "stdout",
     "output_type": "stream",
     "text": [
      "current epoch :  100\n"
     ]
    },
    {
     "name": "stderr",
     "output_type": "stream",
     "text": [
      "100%|██████████| 2047/2047 [00:54<00:00, 37.45it/s]\n"
     ]
    },
    {
     "name": "stdout",
     "output_type": "stream",
     "text": [
      "runtime =  54.66817259788513 sec\n",
      "expected remaining time =  5361 sec : 89 minute\n"
     ]
    },
    {
     "name": "stderr",
     "output_type": "stream",
     "text": [
      "\r",
      "  0%|          | 0/2047 [00:00<?, ?it/s]"
     ]
    },
    {
     "name": "stdout",
     "output_type": "stream",
     "text": [
      "current epoch :  101\n"
     ]
    },
    {
     "name": "stderr",
     "output_type": "stream",
     "text": [
      "100%|██████████| 2047/2047 [00:52<00:00, 38.73it/s]\n"
     ]
    },
    {
     "name": "stdout",
     "output_type": "stream",
     "text": [
      "runtime =  52.86293268203735 sec\n",
      "expected remaining time =  5306 sec : 88 minute\n"
     ]
    },
    {
     "name": "stderr",
     "output_type": "stream",
     "text": [
      "\r",
      "  0%|          | 0/2047 [00:00<?, ?it/s]"
     ]
    },
    {
     "name": "stdout",
     "output_type": "stream",
     "text": [
      "current epoch :  102\n"
     ]
    },
    {
     "name": "stderr",
     "output_type": "stream",
     "text": [
      "100%|██████████| 2047/2047 [00:53<00:00, 38.29it/s]\n"
     ]
    },
    {
     "name": "stdout",
     "output_type": "stream",
     "text": [
      "runtime =  53.47044491767883 sec\n",
      "expected remaining time =  5251 sec : 87 minute\n"
     ]
    },
    {
     "name": "stderr",
     "output_type": "stream",
     "text": [
      "\r",
      "  0%|          | 0/2047 [00:00<?, ?it/s]"
     ]
    },
    {
     "name": "stdout",
     "output_type": "stream",
     "text": [
      "current epoch :  103\n"
     ]
    },
    {
     "name": "stderr",
     "output_type": "stream",
     "text": [
      "100%|██████████| 2047/2047 [00:53<00:00, 38.33it/s]\n"
     ]
    },
    {
     "name": "stdout",
     "output_type": "stream",
     "text": [
      "runtime =  53.420315980911255 sec\n",
      "expected remaining time =  5196 sec : 86 minute\n"
     ]
    },
    {
     "name": "stderr",
     "output_type": "stream",
     "text": [
      "\r",
      "  0%|          | 0/2047 [00:00<?, ?it/s]"
     ]
    },
    {
     "name": "stdout",
     "output_type": "stream",
     "text": [
      "current epoch :  104\n"
     ]
    },
    {
     "name": "stderr",
     "output_type": "stream",
     "text": [
      "100%|██████████| 2047/2047 [00:53<00:00, 38.59it/s]\n"
     ]
    },
    {
     "name": "stdout",
     "output_type": "stream",
     "text": [
      "runtime =  53.0481231212616 sec\n",
      "expected remaining time =  5141 sec : 85 minute\n"
     ]
    },
    {
     "name": "stderr",
     "output_type": "stream",
     "text": [
      "\r",
      "  0%|          | 0/2047 [00:00<?, ?it/s]"
     ]
    },
    {
     "name": "stdout",
     "output_type": "stream",
     "text": [
      "current epoch :  105\n"
     ]
    },
    {
     "name": "stderr",
     "output_type": "stream",
     "text": [
      "100%|██████████| 2047/2047 [00:53<00:00, 38.00it/s]\n"
     ]
    },
    {
     "name": "stdout",
     "output_type": "stream",
     "text": [
      "runtime =  53.87976336479187 sec\n",
      "expected remaining time =  5087 sec : 84 minute\n"
     ]
    },
    {
     "name": "stderr",
     "output_type": "stream",
     "text": [
      "\r",
      "  0%|          | 0/2047 [00:00<?, ?it/s]"
     ]
    },
    {
     "name": "stdout",
     "output_type": "stream",
     "text": [
      "current epoch :  106\n"
     ]
    },
    {
     "name": "stderr",
     "output_type": "stream",
     "text": [
      "100%|██████████| 2047/2047 [00:52<00:00, 38.69it/s]\n"
     ]
    },
    {
     "name": "stdout",
     "output_type": "stream",
     "text": [
      "runtime =  52.90809178352356 sec\n",
      "expected remaining time =  5032 sec : 83 minute\n"
     ]
    },
    {
     "name": "stderr",
     "output_type": "stream",
     "text": [
      "\r",
      "  0%|          | 0/2047 [00:00<?, ?it/s]"
     ]
    },
    {
     "name": "stdout",
     "output_type": "stream",
     "text": [
      "current epoch :  107\n"
     ]
    },
    {
     "name": "stderr",
     "output_type": "stream",
     "text": [
      "100%|██████████| 2047/2047 [00:53<00:00, 38.23it/s]\n"
     ]
    },
    {
     "name": "stdout",
     "output_type": "stream",
     "text": [
      "runtime =  53.54304909706116 sec\n",
      "expected remaining time =  4977 sec : 82 minute\n"
     ]
    },
    {
     "name": "stderr",
     "output_type": "stream",
     "text": [
      "\r",
      "  0%|          | 0/2047 [00:00<?, ?it/s]"
     ]
    },
    {
     "name": "stdout",
     "output_type": "stream",
     "text": [
      "current epoch :  108\n"
     ]
    },
    {
     "name": "stderr",
     "output_type": "stream",
     "text": [
      "100%|██████████| 2047/2047 [00:53<00:00, 38.38it/s]\n"
     ]
    },
    {
     "name": "stdout",
     "output_type": "stream",
     "text": [
      "runtime =  53.339951276779175 sec\n",
      "expected remaining time =  4922 sec : 82 minute\n"
     ]
    },
    {
     "name": "stderr",
     "output_type": "stream",
     "text": [
      "\r",
      "  0%|          | 0/2047 [00:00<?, ?it/s]"
     ]
    },
    {
     "name": "stdout",
     "output_type": "stream",
     "text": [
      "current epoch :  109\n"
     ]
    },
    {
     "name": "stderr",
     "output_type": "stream",
     "text": [
      "100%|██████████| 2047/2047 [00:53<00:00, 38.30it/s]\n"
     ]
    },
    {
     "name": "stdout",
     "output_type": "stream",
     "text": [
      "runtime =  53.45494556427002 sec\n",
      "expected remaining time =  4868 sec : 81 minute\n"
     ]
    },
    {
     "name": "stderr",
     "output_type": "stream",
     "text": [
      "\r",
      "  0%|          | 0/2047 [00:00<?, ?it/s]"
     ]
    },
    {
     "name": "stdout",
     "output_type": "stream",
     "text": [
      "current epoch :  110\n"
     ]
    },
    {
     "name": "stderr",
     "output_type": "stream",
     "text": [
      "100%|██████████| 2047/2047 [00:53<00:00, 38.57it/s]\n"
     ]
    },
    {
     "name": "stdout",
     "output_type": "stream",
     "text": [
      "runtime =  53.08002781867981 sec\n",
      "expected remaining time =  4813 sec : 80 minute\n"
     ]
    },
    {
     "name": "stderr",
     "output_type": "stream",
     "text": [
      "\r",
      "  0%|          | 0/2047 [00:00<?, ?it/s]"
     ]
    },
    {
     "name": "stdout",
     "output_type": "stream",
     "text": [
      "current epoch :  111\n"
     ]
    },
    {
     "name": "stderr",
     "output_type": "stream",
     "text": [
      "100%|██████████| 2047/2047 [00:53<00:00, 38.47it/s]\n"
     ]
    },
    {
     "name": "stdout",
     "output_type": "stream",
     "text": [
      "runtime =  53.224215030670166 sec\n",
      "expected remaining time =  4758 sec : 79 minute\n"
     ]
    },
    {
     "name": "stderr",
     "output_type": "stream",
     "text": [
      "\r",
      "  0%|          | 0/2047 [00:00<?, ?it/s]"
     ]
    },
    {
     "name": "stdout",
     "output_type": "stream",
     "text": [
      "current epoch :  112\n"
     ]
    },
    {
     "name": "stderr",
     "output_type": "stream",
     "text": [
      "100%|██████████| 2047/2047 [00:53<00:00, 38.37it/s]\n"
     ]
    },
    {
     "name": "stdout",
     "output_type": "stream",
     "text": [
      "runtime =  53.35719037055969 sec\n",
      "expected remaining time =  4703 sec : 78 minute\n"
     ]
    },
    {
     "name": "stderr",
     "output_type": "stream",
     "text": [
      "\r",
      "  0%|          | 0/2047 [00:00<?, ?it/s]"
     ]
    },
    {
     "name": "stdout",
     "output_type": "stream",
     "text": [
      "current epoch :  113\n"
     ]
    },
    {
     "name": "stderr",
     "output_type": "stream",
     "text": [
      "100%|██████████| 2047/2047 [00:53<00:00, 38.22it/s]\n"
     ]
    },
    {
     "name": "stdout",
     "output_type": "stream",
     "text": [
      "runtime =  53.56715750694275 sec\n",
      "expected remaining time =  4649 sec : 77 minute\n"
     ]
    },
    {
     "name": "stderr",
     "output_type": "stream",
     "text": [
      "\r",
      "  0%|          | 0/2047 [00:00<?, ?it/s]"
     ]
    },
    {
     "name": "stdout",
     "output_type": "stream",
     "text": [
      "current epoch :  114\n"
     ]
    },
    {
     "name": "stderr",
     "output_type": "stream",
     "text": [
      "100%|██████████| 2047/2047 [00:53<00:00, 38.03it/s]\n"
     ]
    },
    {
     "name": "stdout",
     "output_type": "stream",
     "text": [
      "runtime =  53.83413481712341 sec\n",
      "expected remaining time =  4595 sec : 76 minute\n"
     ]
    },
    {
     "name": "stderr",
     "output_type": "stream",
     "text": [
      "\r",
      "  0%|          | 0/2047 [00:00<?, ?it/s]"
     ]
    },
    {
     "name": "stdout",
     "output_type": "stream",
     "text": [
      "current epoch :  115\n"
     ]
    },
    {
     "name": "stderr",
     "output_type": "stream",
     "text": [
      "100%|██████████| 2047/2047 [00:53<00:00, 38.29it/s]\n"
     ]
    },
    {
     "name": "stdout",
     "output_type": "stream",
     "text": [
      "runtime =  53.46772122383118 sec\n",
      "expected remaining time =  4540 sec : 75 minute\n"
     ]
    },
    {
     "name": "stderr",
     "output_type": "stream",
     "text": [
      "\r",
      "  0%|          | 0/2047 [00:00<?, ?it/s]"
     ]
    },
    {
     "name": "stdout",
     "output_type": "stream",
     "text": [
      "current epoch :  116\n"
     ]
    },
    {
     "name": "stderr",
     "output_type": "stream",
     "text": [
      "100%|██████████| 2047/2047 [00:53<00:00, 38.21it/s]\n"
     ]
    },
    {
     "name": "stdout",
     "output_type": "stream",
     "text": [
      "runtime =  53.5847806930542 sec\n",
      "expected remaining time =  4486 sec : 74 minute\n"
     ]
    },
    {
     "name": "stderr",
     "output_type": "stream",
     "text": [
      "\r",
      "  0%|          | 0/2047 [00:00<?, ?it/s]"
     ]
    },
    {
     "name": "stdout",
     "output_type": "stream",
     "text": [
      "current epoch :  117\n"
     ]
    },
    {
     "name": "stderr",
     "output_type": "stream",
     "text": [
      "100%|██████████| 2047/2047 [00:53<00:00, 38.39it/s]\n"
     ]
    },
    {
     "name": "stdout",
     "output_type": "stream",
     "text": [
      "runtime =  53.31902360916138 sec\n",
      "expected remaining time =  4431 sec : 73 minute\n"
     ]
    },
    {
     "name": "stderr",
     "output_type": "stream",
     "text": [
      "\r",
      "  0%|          | 0/2047 [00:00<?, ?it/s]"
     ]
    },
    {
     "name": "stdout",
     "output_type": "stream",
     "text": [
      "current epoch :  118\n"
     ]
    },
    {
     "name": "stderr",
     "output_type": "stream",
     "text": [
      "100%|██████████| 2047/2047 [00:52<00:00, 38.66it/s]\n"
     ]
    },
    {
     "name": "stdout",
     "output_type": "stream",
     "text": [
      "runtime =  52.96636462211609 sec\n",
      "expected remaining time =  4377 sec : 72 minute\n"
     ]
    },
    {
     "name": "stderr",
     "output_type": "stream",
     "text": [
      "\r",
      "  0%|          | 0/2047 [00:00<?, ?it/s]"
     ]
    },
    {
     "name": "stdout",
     "output_type": "stream",
     "text": [
      "current epoch :  119\n"
     ]
    },
    {
     "name": "stderr",
     "output_type": "stream",
     "text": [
      "100%|██████████| 2047/2047 [00:53<00:00, 37.94it/s]\n"
     ]
    },
    {
     "name": "stdout",
     "output_type": "stream",
     "text": [
      "runtime =  53.9650502204895 sec\n",
      "expected remaining time =  4322 sec : 72 minute\n"
     ]
    },
    {
     "name": "stderr",
     "output_type": "stream",
     "text": [
      "\r",
      "  0%|          | 0/2047 [00:00<?, ?it/s]"
     ]
    },
    {
     "name": "stdout",
     "output_type": "stream",
     "text": [
      "current epoch :  120\n"
     ]
    },
    {
     "name": "stderr",
     "output_type": "stream",
     "text": [
      "100%|██████████| 2047/2047 [00:53<00:00, 37.97it/s]\n"
     ]
    },
    {
     "name": "stdout",
     "output_type": "stream",
     "text": [
      "runtime =  53.91427254676819 sec\n",
      "expected remaining time =  4268 sec : 71 minute\n"
     ]
    },
    {
     "name": "stderr",
     "output_type": "stream",
     "text": [
      "\r",
      "  0%|          | 0/2047 [00:00<?, ?it/s]"
     ]
    },
    {
     "name": "stdout",
     "output_type": "stream",
     "text": [
      "current epoch :  121\n"
     ]
    },
    {
     "name": "stderr",
     "output_type": "stream",
     "text": [
      "100%|██████████| 2047/2047 [00:53<00:00, 38.14it/s]\n"
     ]
    },
    {
     "name": "stdout",
     "output_type": "stream",
     "text": [
      "runtime =  53.668251276016235 sec\n",
      "expected remaining time =  4214 sec : 70 minute\n"
     ]
    },
    {
     "name": "stderr",
     "output_type": "stream",
     "text": [
      "\r",
      "  0%|          | 0/2047 [00:00<?, ?it/s]"
     ]
    },
    {
     "name": "stdout",
     "output_type": "stream",
     "text": [
      "current epoch :  122\n"
     ]
    },
    {
     "name": "stderr",
     "output_type": "stream",
     "text": [
      "100%|██████████| 2047/2047 [00:53<00:00, 38.53it/s]\n"
     ]
    },
    {
     "name": "stdout",
     "output_type": "stream",
     "text": [
      "runtime =  53.13909840583801 sec\n",
      "expected remaining time =  4159 sec : 69 minute\n"
     ]
    },
    {
     "name": "stderr",
     "output_type": "stream",
     "text": [
      "\r",
      "  0%|          | 0/2047 [00:00<?, ?it/s]"
     ]
    },
    {
     "name": "stdout",
     "output_type": "stream",
     "text": [
      "current epoch :  123\n"
     ]
    },
    {
     "name": "stderr",
     "output_type": "stream",
     "text": [
      "100%|██████████| 2047/2047 [00:52<00:00, 38.80it/s]\n"
     ]
    },
    {
     "name": "stdout",
     "output_type": "stream",
     "text": [
      "runtime =  52.77311372756958 sec\n",
      "expected remaining time =  4105 sec : 68 minute\n"
     ]
    },
    {
     "name": "stderr",
     "output_type": "stream",
     "text": [
      "\r",
      "  0%|          | 0/2047 [00:00<?, ?it/s]"
     ]
    },
    {
     "name": "stdout",
     "output_type": "stream",
     "text": [
      "current epoch :  124\n"
     ]
    },
    {
     "name": "stderr",
     "output_type": "stream",
     "text": [
      "100%|██████████| 2047/2047 [00:52<00:00, 39.02it/s]\n"
     ]
    },
    {
     "name": "stdout",
     "output_type": "stream",
     "text": [
      "runtime =  52.47173571586609 sec\n",
      "expected remaining time =  4050 sec : 67 minute\n"
     ]
    },
    {
     "name": "stderr",
     "output_type": "stream",
     "text": [
      "\r",
      "  0%|          | 0/2047 [00:00<?, ?it/s]"
     ]
    },
    {
     "name": "stdout",
     "output_type": "stream",
     "text": [
      "current epoch :  125\n"
     ]
    },
    {
     "name": "stderr",
     "output_type": "stream",
     "text": [
      "100%|██████████| 2047/2047 [00:53<00:00, 38.17it/s]\n"
     ]
    },
    {
     "name": "stdout",
     "output_type": "stream",
     "text": [
      "runtime =  53.63289022445679 sec\n",
      "expected remaining time =  3996 sec : 66 minute\n"
     ]
    },
    {
     "name": "stderr",
     "output_type": "stream",
     "text": [
      "\r",
      "  0%|          | 0/2047 [00:00<?, ?it/s]"
     ]
    },
    {
     "name": "stdout",
     "output_type": "stream",
     "text": [
      "current epoch :  126\n"
     ]
    },
    {
     "name": "stderr",
     "output_type": "stream",
     "text": [
      "100%|██████████| 2047/2047 [00:53<00:00, 38.38it/s]\n"
     ]
    },
    {
     "name": "stdout",
     "output_type": "stream",
     "text": [
      "runtime =  53.349374771118164 sec\n",
      "expected remaining time =  3941 sec : 65 minute\n"
     ]
    },
    {
     "name": "stderr",
     "output_type": "stream",
     "text": [
      "\r",
      "  0%|          | 0/2047 [00:00<?, ?it/s]"
     ]
    },
    {
     "name": "stdout",
     "output_type": "stream",
     "text": [
      "current epoch :  127\n"
     ]
    },
    {
     "name": "stderr",
     "output_type": "stream",
     "text": [
      "100%|██████████| 2047/2047 [00:52<00:00, 38.65it/s]\n"
     ]
    },
    {
     "name": "stdout",
     "output_type": "stream",
     "text": [
      "runtime =  52.96210479736328 sec\n",
      "expected remaining time =  3887 sec : 64 minute\n"
     ]
    },
    {
     "name": "stderr",
     "output_type": "stream",
     "text": [
      "\r",
      "  0%|          | 0/2047 [00:00<?, ?it/s]"
     ]
    },
    {
     "name": "stdout",
     "output_type": "stream",
     "text": [
      "current epoch :  128\n"
     ]
    },
    {
     "name": "stderr",
     "output_type": "stream",
     "text": [
      "100%|██████████| 2047/2047 [00:53<00:00, 38.40it/s]\n"
     ]
    },
    {
     "name": "stdout",
     "output_type": "stream",
     "text": [
      "runtime =  53.309080839157104 sec\n",
      "expected remaining time =  3832 sec : 63 minute\n"
     ]
    },
    {
     "name": "stderr",
     "output_type": "stream",
     "text": [
      "\r",
      "  0%|          | 0/2047 [00:00<?, ?it/s]"
     ]
    },
    {
     "name": "stdout",
     "output_type": "stream",
     "text": [
      "current epoch :  129\n"
     ]
    },
    {
     "name": "stderr",
     "output_type": "stream",
     "text": [
      "100%|██████████| 2047/2047 [00:53<00:00, 38.61it/s]\n"
     ]
    },
    {
     "name": "stdout",
     "output_type": "stream",
     "text": [
      "runtime =  53.03487777709961 sec\n",
      "expected remaining time =  3778 sec : 62 minute\n"
     ]
    },
    {
     "name": "stderr",
     "output_type": "stream",
     "text": [
      "\r",
      "  0%|          | 0/2047 [00:00<?, ?it/s]"
     ]
    },
    {
     "name": "stdout",
     "output_type": "stream",
     "text": [
      "current epoch :  130\n"
     ]
    },
    {
     "name": "stderr",
     "output_type": "stream",
     "text": [
      "100%|██████████| 2047/2047 [00:53<00:00, 38.14it/s]\n"
     ]
    },
    {
     "name": "stdout",
     "output_type": "stream",
     "text": [
      "runtime =  53.68079710006714 sec\n",
      "expected remaining time =  3724 sec : 62 minute\n"
     ]
    },
    {
     "name": "stderr",
     "output_type": "stream",
     "text": [
      "\r",
      "  0%|          | 0/2047 [00:00<?, ?it/s]"
     ]
    },
    {
     "name": "stdout",
     "output_type": "stream",
     "text": [
      "current epoch :  131\n"
     ]
    },
    {
     "name": "stderr",
     "output_type": "stream",
     "text": [
      "100%|██████████| 2047/2047 [00:53<00:00, 38.06it/s]\n"
     ]
    },
    {
     "name": "stdout",
     "output_type": "stream",
     "text": [
      "runtime =  53.781121015548706 sec\n",
      "expected remaining time =  3670 sec : 61 minute\n"
     ]
    },
    {
     "name": "stderr",
     "output_type": "stream",
     "text": [
      "\r",
      "  0%|          | 0/2047 [00:00<?, ?it/s]"
     ]
    },
    {
     "name": "stdout",
     "output_type": "stream",
     "text": [
      "current epoch :  132\n"
     ]
    },
    {
     "name": "stderr",
     "output_type": "stream",
     "text": [
      "100%|██████████| 2047/2047 [00:53<00:00, 37.98it/s]\n"
     ]
    },
    {
     "name": "stdout",
     "output_type": "stream",
     "text": [
      "runtime =  53.90377354621887 sec\n",
      "expected remaining time =  3616 sec : 60 minute\n"
     ]
    },
    {
     "name": "stderr",
     "output_type": "stream",
     "text": [
      "\r",
      "  0%|          | 0/2047 [00:00<?, ?it/s]"
     ]
    },
    {
     "name": "stdout",
     "output_type": "stream",
     "text": [
      "current epoch :  133\n"
     ]
    },
    {
     "name": "stderr",
     "output_type": "stream",
     "text": [
      "100%|██████████| 2047/2047 [00:53<00:00, 38.30it/s]\n"
     ]
    },
    {
     "name": "stdout",
     "output_type": "stream",
     "text": [
      "runtime =  53.462849617004395 sec\n",
      "expected remaining time =  3561 sec : 59 minute\n"
     ]
    },
    {
     "name": "stderr",
     "output_type": "stream",
     "text": [
      "\r",
      "  0%|          | 0/2047 [00:00<?, ?it/s]"
     ]
    },
    {
     "name": "stdout",
     "output_type": "stream",
     "text": [
      "current epoch :  134\n"
     ]
    },
    {
     "name": "stderr",
     "output_type": "stream",
     "text": [
      "100%|██████████| 2047/2047 [00:52<00:00, 38.63it/s]\n"
     ]
    },
    {
     "name": "stdout",
     "output_type": "stream",
     "text": [
      "runtime =  52.9954469203949 sec\n",
      "expected remaining time =  3507 sec : 58 minute\n"
     ]
    },
    {
     "name": "stderr",
     "output_type": "stream",
     "text": [
      "\r",
      "  0%|          | 0/2047 [00:00<?, ?it/s]"
     ]
    },
    {
     "name": "stdout",
     "output_type": "stream",
     "text": [
      "current epoch :  135\n"
     ]
    },
    {
     "name": "stderr",
     "output_type": "stream",
     "text": [
      "100%|██████████| 2047/2047 [00:52<00:00, 38.66it/s]\n"
     ]
    },
    {
     "name": "stdout",
     "output_type": "stream",
     "text": [
      "runtime =  52.95542669296265 sec\n",
      "expected remaining time =  3452 sec : 57 minute\n"
     ]
    },
    {
     "name": "stderr",
     "output_type": "stream",
     "text": [
      "\r",
      "  0%|          | 0/2047 [00:00<?, ?it/s]"
     ]
    },
    {
     "name": "stdout",
     "output_type": "stream",
     "text": [
      "current epoch :  136\n"
     ]
    },
    {
     "name": "stderr",
     "output_type": "stream",
     "text": [
      "100%|██████████| 2047/2047 [00:53<00:00, 38.42it/s]\n"
     ]
    },
    {
     "name": "stdout",
     "output_type": "stream",
     "text": [
      "runtime =  53.28408932685852 sec\n",
      "expected remaining time =  3398 sec : 56 minute\n"
     ]
    },
    {
     "name": "stderr",
     "output_type": "stream",
     "text": [
      "\r",
      "  0%|          | 0/2047 [00:00<?, ?it/s]"
     ]
    },
    {
     "name": "stdout",
     "output_type": "stream",
     "text": [
      "current epoch :  137\n"
     ]
    },
    {
     "name": "stderr",
     "output_type": "stream",
     "text": [
      "100%|██████████| 2047/2047 [00:54<00:00, 37.80it/s]\n"
     ]
    },
    {
     "name": "stdout",
     "output_type": "stream",
     "text": [
      "runtime =  54.16818976402283 sec\n",
      "expected remaining time =  3344 sec : 55 minute\n"
     ]
    },
    {
     "name": "stderr",
     "output_type": "stream",
     "text": [
      "\r",
      "  0%|          | 0/2047 [00:00<?, ?it/s]"
     ]
    },
    {
     "name": "stdout",
     "output_type": "stream",
     "text": [
      "current epoch :  138\n"
     ]
    },
    {
     "name": "stderr",
     "output_type": "stream",
     "text": [
      "100%|██████████| 2047/2047 [00:52<00:00, 38.80it/s]\n"
     ]
    },
    {
     "name": "stdout",
     "output_type": "stream",
     "text": [
      "runtime =  52.76704716682434 sec\n",
      "expected remaining time =  3290 sec : 54 minute\n"
     ]
    },
    {
     "name": "stderr",
     "output_type": "stream",
     "text": [
      "\r",
      "  0%|          | 0/2047 [00:00<?, ?it/s]"
     ]
    },
    {
     "name": "stdout",
     "output_type": "stream",
     "text": [
      "current epoch :  139\n"
     ]
    },
    {
     "name": "stderr",
     "output_type": "stream",
     "text": [
      "100%|██████████| 2047/2047 [00:54<00:00, 37.78it/s]\n"
     ]
    },
    {
     "name": "stdout",
     "output_type": "stream",
     "text": [
      "runtime =  54.1822509765625 sec\n",
      "expected remaining time =  3236 sec : 53 minute\n"
     ]
    },
    {
     "name": "stderr",
     "output_type": "stream",
     "text": [
      "\r",
      "  0%|          | 0/2047 [00:00<?, ?it/s]"
     ]
    },
    {
     "name": "stdout",
     "output_type": "stream",
     "text": [
      "current epoch :  140\n"
     ]
    },
    {
     "name": "stderr",
     "output_type": "stream",
     "text": [
      "100%|██████████| 2047/2047 [00:52<00:00, 38.82it/s]\n"
     ]
    },
    {
     "name": "stdout",
     "output_type": "stream",
     "text": [
      "runtime =  52.74682903289795 sec\n",
      "expected remaining time =  3182 sec : 53 minute\n"
     ]
    },
    {
     "name": "stderr",
     "output_type": "stream",
     "text": [
      "\r",
      "  0%|          | 0/2047 [00:00<?, ?it/s]"
     ]
    },
    {
     "name": "stdout",
     "output_type": "stream",
     "text": [
      "current epoch :  141\n"
     ]
    },
    {
     "name": "stderr",
     "output_type": "stream",
     "text": [
      "100%|██████████| 2047/2047 [00:52<00:00, 39.34it/s]\n"
     ]
    },
    {
     "name": "stdout",
     "output_type": "stream",
     "text": [
      "runtime =  52.05100464820862 sec\n",
      "expected remaining time =  3127 sec : 52 minute\n"
     ]
    },
    {
     "name": "stderr",
     "output_type": "stream",
     "text": [
      "\r",
      "  0%|          | 0/2047 [00:00<?, ?it/s]"
     ]
    },
    {
     "name": "stdout",
     "output_type": "stream",
     "text": [
      "current epoch :  142\n"
     ]
    },
    {
     "name": "stderr",
     "output_type": "stream",
     "text": [
      "100%|██████████| 2047/2047 [00:53<00:00, 38.01it/s]\n"
     ]
    },
    {
     "name": "stdout",
     "output_type": "stream",
     "text": [
      "runtime =  53.855600357055664 sec\n",
      "expected remaining time =  3073 sec : 51 minute\n"
     ]
    },
    {
     "name": "stderr",
     "output_type": "stream",
     "text": [
      "\r",
      "  0%|          | 0/2047 [00:00<?, ?it/s]"
     ]
    },
    {
     "name": "stdout",
     "output_type": "stream",
     "text": [
      "current epoch :  143\n"
     ]
    },
    {
     "name": "stderr",
     "output_type": "stream",
     "text": [
      "100%|██████████| 2047/2047 [00:53<00:00, 38.55it/s]\n"
     ]
    },
    {
     "name": "stdout",
     "output_type": "stream",
     "text": [
      "runtime =  53.10473322868347 sec\n",
      "expected remaining time =  3019 sec : 50 minute\n"
     ]
    },
    {
     "name": "stderr",
     "output_type": "stream",
     "text": [
      "\r",
      "  0%|          | 0/2047 [00:00<?, ?it/s]"
     ]
    },
    {
     "name": "stdout",
     "output_type": "stream",
     "text": [
      "current epoch :  144\n"
     ]
    },
    {
     "name": "stderr",
     "output_type": "stream",
     "text": [
      "100%|██████████| 2047/2047 [00:53<00:00, 38.23it/s]\n"
     ]
    },
    {
     "name": "stdout",
     "output_type": "stream",
     "text": [
      "runtime =  53.54701066017151 sec\n",
      "expected remaining time =  2965 sec : 49 minute\n"
     ]
    },
    {
     "name": "stderr",
     "output_type": "stream",
     "text": [
      "\r",
      "  0%|          | 0/2047 [00:00<?, ?it/s]"
     ]
    },
    {
     "name": "stdout",
     "output_type": "stream",
     "text": [
      "current epoch :  145\n"
     ]
    },
    {
     "name": "stderr",
     "output_type": "stream",
     "text": [
      "100%|██████████| 2047/2047 [00:52<00:00, 38.67it/s]\n"
     ]
    },
    {
     "name": "stdout",
     "output_type": "stream",
     "text": [
      "runtime =  52.936683654785156 sec\n",
      "expected remaining time =  2910 sec : 48 minute\n"
     ]
    },
    {
     "name": "stderr",
     "output_type": "stream",
     "text": [
      "\r",
      "  0%|          | 0/2047 [00:00<?, ?it/s]"
     ]
    },
    {
     "name": "stdout",
     "output_type": "stream",
     "text": [
      "current epoch :  146\n"
     ]
    },
    {
     "name": "stderr",
     "output_type": "stream",
     "text": [
      "100%|██████████| 2047/2047 [00:54<00:00, 37.59it/s]\n"
     ]
    },
    {
     "name": "stdout",
     "output_type": "stream",
     "text": [
      "runtime =  54.465893507003784 sec\n",
      "expected remaining time =  2857 sec : 47 minute\n"
     ]
    },
    {
     "name": "stderr",
     "output_type": "stream",
     "text": [
      "\r",
      "  0%|          | 0/2047 [00:00<?, ?it/s]"
     ]
    },
    {
     "name": "stdout",
     "output_type": "stream",
     "text": [
      "current epoch :  147\n"
     ]
    },
    {
     "name": "stderr",
     "output_type": "stream",
     "text": [
      "100%|██████████| 2047/2047 [00:53<00:00, 38.34it/s]\n"
     ]
    },
    {
     "name": "stdout",
     "output_type": "stream",
     "text": [
      "runtime =  53.40782928466797 sec\n",
      "expected remaining time =  2803 sec : 46 minute\n"
     ]
    },
    {
     "name": "stderr",
     "output_type": "stream",
     "text": [
      "\r",
      "  0%|          | 0/2047 [00:00<?, ?it/s]"
     ]
    },
    {
     "name": "stdout",
     "output_type": "stream",
     "text": [
      "current epoch :  148\n"
     ]
    },
    {
     "name": "stderr",
     "output_type": "stream",
     "text": [
      "100%|██████████| 2047/2047 [00:52<00:00, 38.90it/s]\n"
     ]
    },
    {
     "name": "stdout",
     "output_type": "stream",
     "text": [
      "runtime =  52.62426471710205 sec\n",
      "expected remaining time =  2748 sec : 45 minute\n"
     ]
    },
    {
     "name": "stderr",
     "output_type": "stream",
     "text": [
      "\r",
      "  0%|          | 0/2047 [00:00<?, ?it/s]"
     ]
    },
    {
     "name": "stdout",
     "output_type": "stream",
     "text": [
      "current epoch :  149\n"
     ]
    },
    {
     "name": "stderr",
     "output_type": "stream",
     "text": [
      "100%|██████████| 2047/2047 [00:54<00:00, 37.48it/s]\n"
     ]
    },
    {
     "name": "stdout",
     "output_type": "stream",
     "text": [
      "runtime =  54.62202429771423 sec\n",
      "expected remaining time =  2695 sec : 44 minute\n"
     ]
    },
    {
     "name": "stderr",
     "output_type": "stream",
     "text": [
      "\r",
      "  0%|          | 0/2047 [00:00<?, ?it/s]"
     ]
    },
    {
     "name": "stdout",
     "output_type": "stream",
     "text": [
      "current epoch :  150\n"
     ]
    },
    {
     "name": "stderr",
     "output_type": "stream",
     "text": [
      "100%|██████████| 2047/2047 [00:52<00:00, 38.85it/s]\n"
     ]
    },
    {
     "name": "stdout",
     "output_type": "stream",
     "text": [
      "runtime =  52.689878702163696 sec\n",
      "expected remaining time =  2640 sec : 44 minute\n"
     ]
    },
    {
     "name": "stderr",
     "output_type": "stream",
     "text": [
      "\r",
      "  0%|          | 0/2047 [00:00<?, ?it/s]"
     ]
    },
    {
     "name": "stdout",
     "output_type": "stream",
     "text": [
      "current epoch :  151\n"
     ]
    },
    {
     "name": "stderr",
     "output_type": "stream",
     "text": [
      "100%|██████████| 2047/2047 [00:53<00:00, 38.33it/s]\n"
     ]
    },
    {
     "name": "stdout",
     "output_type": "stream",
     "text": [
      "runtime =  53.41001844406128 sec\n",
      "expected remaining time =  2586 sec : 43 minute\n"
     ]
    },
    {
     "name": "stderr",
     "output_type": "stream",
     "text": [
      "\r",
      "  0%|          | 0/2047 [00:00<?, ?it/s]"
     ]
    },
    {
     "name": "stdout",
     "output_type": "stream",
     "text": [
      "current epoch :  152\n"
     ]
    },
    {
     "name": "stderr",
     "output_type": "stream",
     "text": [
      "100%|██████████| 2047/2047 [00:52<00:00, 39.19it/s]\n"
     ]
    },
    {
     "name": "stdout",
     "output_type": "stream",
     "text": [
      "runtime =  52.23854207992554 sec\n",
      "expected remaining time =  2532 sec : 42 minute\n"
     ]
    },
    {
     "name": "stderr",
     "output_type": "stream",
     "text": [
      "\r",
      "  0%|          | 0/2047 [00:00<?, ?it/s]"
     ]
    },
    {
     "name": "stdout",
     "output_type": "stream",
     "text": [
      "current epoch :  153\n"
     ]
    },
    {
     "name": "stderr",
     "output_type": "stream",
     "text": [
      "100%|██████████| 2047/2047 [00:53<00:00, 38.15it/s]\n"
     ]
    },
    {
     "name": "stdout",
     "output_type": "stream",
     "text": [
      "runtime =  53.66167664527893 sec\n",
      "expected remaining time =  2478 sec : 41 minute\n"
     ]
    },
    {
     "name": "stderr",
     "output_type": "stream",
     "text": [
      "\r",
      "  0%|          | 0/2047 [00:00<?, ?it/s]"
     ]
    },
    {
     "name": "stdout",
     "output_type": "stream",
     "text": [
      "current epoch :  154\n"
     ]
    },
    {
     "name": "stderr",
     "output_type": "stream",
     "text": [
      "100%|██████████| 2047/2047 [00:52<00:00, 38.76it/s]\n"
     ]
    },
    {
     "name": "stdout",
     "output_type": "stream",
     "text": [
      "runtime =  52.819095611572266 sec\n",
      "expected remaining time =  2424 sec : 40 minute\n"
     ]
    },
    {
     "name": "stderr",
     "output_type": "stream",
     "text": [
      "\r",
      "  0%|          | 0/2047 [00:00<?, ?it/s]"
     ]
    },
    {
     "name": "stdout",
     "output_type": "stream",
     "text": [
      "current epoch :  155\n"
     ]
    },
    {
     "name": "stderr",
     "output_type": "stream",
     "text": [
      "100%|██████████| 2047/2047 [00:53<00:00, 38.12it/s]\n"
     ]
    },
    {
     "name": "stdout",
     "output_type": "stream",
     "text": [
      "runtime =  53.706480979919434 sec\n",
      "expected remaining time =  2370 sec : 39 minute\n"
     ]
    },
    {
     "name": "stderr",
     "output_type": "stream",
     "text": [
      "\r",
      "  0%|          | 0/2047 [00:00<?, ?it/s]"
     ]
    },
    {
     "name": "stdout",
     "output_type": "stream",
     "text": [
      "current epoch :  156\n"
     ]
    },
    {
     "name": "stderr",
     "output_type": "stream",
     "text": [
      "100%|██████████| 2047/2047 [00:52<00:00, 38.66it/s]\n"
     ]
    },
    {
     "name": "stdout",
     "output_type": "stream",
     "text": [
      "runtime =  52.95649862289429 sec\n",
      "expected remaining time =  2316 sec : 38 minute\n"
     ]
    },
    {
     "name": "stderr",
     "output_type": "stream",
     "text": [
      "\r",
      "  0%|          | 0/2047 [00:00<?, ?it/s]"
     ]
    },
    {
     "name": "stdout",
     "output_type": "stream",
     "text": [
      "current epoch :  157\n"
     ]
    },
    {
     "name": "stderr",
     "output_type": "stream",
     "text": [
      "100%|██████████| 2047/2047 [00:52<00:00, 39.23it/s]\n"
     ]
    },
    {
     "name": "stdout",
     "output_type": "stream",
     "text": [
      "runtime =  52.18588161468506 sec\n",
      "expected remaining time =  2261 sec : 37 minute\n"
     ]
    },
    {
     "name": "stderr",
     "output_type": "stream",
     "text": [
      "\r",
      "  0%|          | 0/2047 [00:00<?, ?it/s]"
     ]
    },
    {
     "name": "stdout",
     "output_type": "stream",
     "text": [
      "current epoch :  158\n"
     ]
    },
    {
     "name": "stderr",
     "output_type": "stream",
     "text": [
      "100%|██████████| 2047/2047 [00:52<00:00, 39.10it/s]\n"
     ]
    },
    {
     "name": "stdout",
     "output_type": "stream",
     "text": [
      "runtime =  52.357303619384766 sec\n",
      "expected remaining time =  2207 sec : 36 minute\n"
     ]
    },
    {
     "name": "stderr",
     "output_type": "stream",
     "text": [
      "\r",
      "  0%|          | 0/2047 [00:00<?, ?it/s]"
     ]
    },
    {
     "name": "stdout",
     "output_type": "stream",
     "text": [
      "current epoch :  159\n"
     ]
    },
    {
     "name": "stderr",
     "output_type": "stream",
     "text": [
      "100%|██████████| 2047/2047 [00:52<00:00, 39.01it/s]\n"
     ]
    },
    {
     "name": "stdout",
     "output_type": "stream",
     "text": [
      "runtime =  52.48251700401306 sec\n",
      "expected remaining time =  2153 sec : 35 minute\n"
     ]
    },
    {
     "name": "stderr",
     "output_type": "stream",
     "text": [
      "\r",
      "  0%|          | 0/2047 [00:00<?, ?it/s]"
     ]
    },
    {
     "name": "stdout",
     "output_type": "stream",
     "text": [
      "current epoch :  160\n"
     ]
    },
    {
     "name": "stderr",
     "output_type": "stream",
     "text": [
      "100%|██████████| 2047/2047 [00:53<00:00, 38.60it/s]\n"
     ]
    },
    {
     "name": "stdout",
     "output_type": "stream",
     "text": [
      "runtime =  53.03030300140381 sec\n",
      "expected remaining time =  2099 sec : 34 minute\n"
     ]
    },
    {
     "name": "stderr",
     "output_type": "stream",
     "text": [
      "\r",
      "  0%|          | 0/2047 [00:00<?, ?it/s]"
     ]
    },
    {
     "name": "stdout",
     "output_type": "stream",
     "text": [
      "current epoch :  161\n"
     ]
    },
    {
     "name": "stderr",
     "output_type": "stream",
     "text": [
      "100%|██████████| 2047/2047 [00:53<00:00, 38.54it/s]\n"
     ]
    },
    {
     "name": "stdout",
     "output_type": "stream",
     "text": [
      "runtime =  53.11544704437256 sec\n",
      "expected remaining time =  2045 sec : 34 minute\n"
     ]
    },
    {
     "name": "stderr",
     "output_type": "stream",
     "text": [
      "\r",
      "  0%|          | 0/2047 [00:00<?, ?it/s]"
     ]
    },
    {
     "name": "stdout",
     "output_type": "stream",
     "text": [
      "current epoch :  162\n"
     ]
    },
    {
     "name": "stderr",
     "output_type": "stream",
     "text": [
      "100%|██████████| 2047/2047 [00:53<00:00, 38.17it/s]\n"
     ]
    },
    {
     "name": "stdout",
     "output_type": "stream",
     "text": [
      "runtime =  53.64231300354004 sec\n",
      "expected remaining time =  1991 sec : 33 minute\n"
     ]
    },
    {
     "name": "stderr",
     "output_type": "stream",
     "text": [
      "\r",
      "  0%|          | 0/2047 [00:00<?, ?it/s]"
     ]
    },
    {
     "name": "stdout",
     "output_type": "stream",
     "text": [
      "current epoch :  163\n"
     ]
    },
    {
     "name": "stderr",
     "output_type": "stream",
     "text": [
      "100%|██████████| 2047/2047 [00:53<00:00, 38.55it/s]\n"
     ]
    },
    {
     "name": "stdout",
     "output_type": "stream",
     "text": [
      "runtime =  53.11044645309448 sec\n",
      "expected remaining time =  1937 sec : 32 minute\n"
     ]
    },
    {
     "name": "stderr",
     "output_type": "stream",
     "text": [
      "\r",
      "  0%|          | 0/2047 [00:00<?, ?it/s]"
     ]
    },
    {
     "name": "stdout",
     "output_type": "stream",
     "text": [
      "current epoch :  164\n"
     ]
    },
    {
     "name": "stderr",
     "output_type": "stream",
     "text": [
      "100%|██████████| 2047/2047 [00:52<00:00, 38.81it/s]\n"
     ]
    },
    {
     "name": "stdout",
     "output_type": "stream",
     "text": [
      "runtime =  52.74509859085083 sec\n",
      "expected remaining time =  1883 sec : 31 minute\n"
     ]
    },
    {
     "name": "stderr",
     "output_type": "stream",
     "text": [
      "\r",
      "  0%|          | 0/2047 [00:00<?, ?it/s]"
     ]
    },
    {
     "name": "stdout",
     "output_type": "stream",
     "text": [
      "current epoch :  165\n"
     ]
    },
    {
     "name": "stderr",
     "output_type": "stream",
     "text": [
      "100%|██████████| 2047/2047 [00:53<00:00, 38.45it/s]\n"
     ]
    },
    {
     "name": "stdout",
     "output_type": "stream",
     "text": [
      "runtime =  53.24551582336426 sec\n",
      "expected remaining time =  1829 sec : 30 minute\n"
     ]
    },
    {
     "name": "stderr",
     "output_type": "stream",
     "text": [
      "\r",
      "  0%|          | 0/2047 [00:00<?, ?it/s]"
     ]
    },
    {
     "name": "stdout",
     "output_type": "stream",
     "text": [
      "current epoch :  166\n"
     ]
    },
    {
     "name": "stderr",
     "output_type": "stream",
     "text": [
      "100%|██████████| 2047/2047 [00:52<00:00, 38.98it/s]\n"
     ]
    },
    {
     "name": "stdout",
     "output_type": "stream",
     "text": [
      "runtime =  52.512885332107544 sec\n",
      "expected remaining time =  1775 sec : 29 minute\n"
     ]
    },
    {
     "name": "stderr",
     "output_type": "stream",
     "text": [
      "\r",
      "  0%|          | 0/2047 [00:00<?, ?it/s]"
     ]
    },
    {
     "name": "stdout",
     "output_type": "stream",
     "text": [
      "current epoch :  167\n"
     ]
    },
    {
     "name": "stderr",
     "output_type": "stream",
     "text": [
      "100%|██████████| 2047/2047 [00:53<00:00, 38.33it/s]\n"
     ]
    },
    {
     "name": "stdout",
     "output_type": "stream",
     "text": [
      "runtime =  53.41865253448486 sec\n",
      "expected remaining time =  1721 sec : 28 minute\n"
     ]
    },
    {
     "name": "stderr",
     "output_type": "stream",
     "text": [
      "\r",
      "  0%|          | 0/2047 [00:00<?, ?it/s]"
     ]
    },
    {
     "name": "stdout",
     "output_type": "stream",
     "text": [
      "current epoch :  168\n"
     ]
    },
    {
     "name": "stderr",
     "output_type": "stream",
     "text": [
      "100%|██████████| 2047/2047 [00:52<00:00, 38.82it/s]\n"
     ]
    },
    {
     "name": "stdout",
     "output_type": "stream",
     "text": [
      "runtime =  52.74603772163391 sec\n",
      "expected remaining time =  1667 sec : 27 minute\n"
     ]
    },
    {
     "name": "stderr",
     "output_type": "stream",
     "text": [
      "\r",
      "  0%|          | 0/2047 [00:00<?, ?it/s]"
     ]
    },
    {
     "name": "stdout",
     "output_type": "stream",
     "text": [
      "current epoch :  169\n"
     ]
    },
    {
     "name": "stderr",
     "output_type": "stream",
     "text": [
      "100%|██████████| 2047/2047 [00:54<00:00, 37.68it/s]\n"
     ]
    },
    {
     "name": "stdout",
     "output_type": "stream",
     "text": [
      "runtime =  54.32466125488281 sec\n",
      "expected remaining time =  1613 sec : 26 minute\n"
     ]
    },
    {
     "name": "stderr",
     "output_type": "stream",
     "text": [
      "\r",
      "  0%|          | 0/2047 [00:00<?, ?it/s]"
     ]
    },
    {
     "name": "stdout",
     "output_type": "stream",
     "text": [
      "current epoch :  170\n"
     ]
    },
    {
     "name": "stderr",
     "output_type": "stream",
     "text": [
      "100%|██████████| 2047/2047 [00:52<00:00, 38.96it/s]\n"
     ]
    },
    {
     "name": "stdout",
     "output_type": "stream",
     "text": [
      "runtime =  52.54910850524902 sec\n",
      "expected remaining time =  1559 sec : 25 minute\n"
     ]
    },
    {
     "name": "stderr",
     "output_type": "stream",
     "text": [
      "\r",
      "  0%|          | 0/2047 [00:00<?, ?it/s]"
     ]
    },
    {
     "name": "stdout",
     "output_type": "stream",
     "text": [
      "current epoch :  171\n"
     ]
    },
    {
     "name": "stderr",
     "output_type": "stream",
     "text": [
      "100%|██████████| 2047/2047 [00:54<00:00, 37.86it/s]\n"
     ]
    },
    {
     "name": "stdout",
     "output_type": "stream",
     "text": [
      "runtime =  54.07499146461487 sec\n",
      "expected remaining time =  1506 sec : 25 minute\n"
     ]
    },
    {
     "name": "stderr",
     "output_type": "stream",
     "text": [
      "\r",
      "  0%|          | 0/2047 [00:00<?, ?it/s]"
     ]
    },
    {
     "name": "stdout",
     "output_type": "stream",
     "text": [
      "current epoch :  172\n"
     ]
    },
    {
     "name": "stderr",
     "output_type": "stream",
     "text": [
      "100%|██████████| 2047/2047 [00:55<00:00, 36.87it/s]\n"
     ]
    },
    {
     "name": "stdout",
     "output_type": "stream",
     "text": [
      "runtime =  55.53730821609497 sec\n",
      "expected remaining time =  1452 sec : 24 minute\n"
     ]
    },
    {
     "name": "stderr",
     "output_type": "stream",
     "text": [
      "\r",
      "  0%|          | 0/2047 [00:00<?, ?it/s]"
     ]
    },
    {
     "name": "stdout",
     "output_type": "stream",
     "text": [
      "current epoch :  173\n"
     ]
    },
    {
     "name": "stderr",
     "output_type": "stream",
     "text": [
      "100%|██████████| 2047/2047 [00:52<00:00, 38.99it/s]\n"
     ]
    },
    {
     "name": "stdout",
     "output_type": "stream",
     "text": [
      "runtime =  52.501383543014526 sec\n",
      "expected remaining time =  1398 sec : 23 minute\n"
     ]
    },
    {
     "name": "stderr",
     "output_type": "stream",
     "text": [
      "\r",
      "  0%|          | 0/2047 [00:00<?, ?it/s]"
     ]
    },
    {
     "name": "stdout",
     "output_type": "stream",
     "text": [
      "current epoch :  174\n"
     ]
    },
    {
     "name": "stderr",
     "output_type": "stream",
     "text": [
      "100%|██████████| 2047/2047 [00:53<00:00, 38.59it/s]\n"
     ]
    },
    {
     "name": "stdout",
     "output_type": "stream",
     "text": [
      "runtime =  53.05550742149353 sec\n",
      "expected remaining time =  1344 sec : 22 minute\n"
     ]
    },
    {
     "name": "stderr",
     "output_type": "stream",
     "text": [
      "\r",
      "  0%|          | 0/2047 [00:00<?, ?it/s]"
     ]
    },
    {
     "name": "stdout",
     "output_type": "stream",
     "text": [
      "current epoch :  175\n"
     ]
    },
    {
     "name": "stderr",
     "output_type": "stream",
     "text": [
      "100%|██████████| 2047/2047 [00:53<00:00, 38.40it/s]\n"
     ]
    },
    {
     "name": "stdout",
     "output_type": "stream",
     "text": [
      "runtime =  53.30738663673401 sec\n",
      "expected remaining time =  1290 sec : 21 minute\n"
     ]
    },
    {
     "name": "stderr",
     "output_type": "stream",
     "text": [
      "\r",
      "  0%|          | 0/2047 [00:00<?, ?it/s]"
     ]
    },
    {
     "name": "stdout",
     "output_type": "stream",
     "text": [
      "current epoch :  176\n"
     ]
    },
    {
     "name": "stderr",
     "output_type": "stream",
     "text": [
      "100%|██████████| 2047/2047 [00:53<00:00, 38.22it/s]\n"
     ]
    },
    {
     "name": "stdout",
     "output_type": "stream",
     "text": [
      "runtime =  53.57560920715332 sec\n",
      "expected remaining time =  1237 sec : 20 minute\n"
     ]
    },
    {
     "name": "stderr",
     "output_type": "stream",
     "text": [
      "\r",
      "  0%|          | 0/2047 [00:00<?, ?it/s]"
     ]
    },
    {
     "name": "stdout",
     "output_type": "stream",
     "text": [
      "current epoch :  177\n"
     ]
    },
    {
     "name": "stderr",
     "output_type": "stream",
     "text": [
      "100%|██████████| 2047/2047 [00:53<00:00, 37.99it/s]\n"
     ]
    },
    {
     "name": "stdout",
     "output_type": "stream",
     "text": [
      "runtime =  53.88811993598938 sec\n",
      "expected remaining time =  1183 sec : 19 minute\n"
     ]
    },
    {
     "name": "stderr",
     "output_type": "stream",
     "text": [
      "\r",
      "  0%|          | 0/2047 [00:00<?, ?it/s]"
     ]
    },
    {
     "name": "stdout",
     "output_type": "stream",
     "text": [
      "current epoch :  178\n"
     ]
    },
    {
     "name": "stderr",
     "output_type": "stream",
     "text": [
      "100%|██████████| 2047/2047 [00:53<00:00, 38.04it/s]\n"
     ]
    },
    {
     "name": "stdout",
     "output_type": "stream",
     "text": [
      "runtime =  53.82120180130005 sec\n",
      "expected remaining time =  1129 sec : 18 minute\n"
     ]
    },
    {
     "name": "stderr",
     "output_type": "stream",
     "text": [
      "\r",
      "  0%|          | 0/2047 [00:00<?, ?it/s]"
     ]
    },
    {
     "name": "stdout",
     "output_type": "stream",
     "text": [
      "current epoch :  179\n"
     ]
    },
    {
     "name": "stderr",
     "output_type": "stream",
     "text": [
      "100%|██████████| 2047/2047 [00:53<00:00, 38.49it/s]\n"
     ]
    },
    {
     "name": "stdout",
     "output_type": "stream",
     "text": [
      "runtime =  53.20048260688782 sec\n",
      "expected remaining time =  1075 sec : 17 minute\n"
     ]
    },
    {
     "name": "stderr",
     "output_type": "stream",
     "text": [
      "\r",
      "  0%|          | 0/2047 [00:00<?, ?it/s]"
     ]
    },
    {
     "name": "stdout",
     "output_type": "stream",
     "text": [
      "current epoch :  180\n"
     ]
    },
    {
     "name": "stderr",
     "output_type": "stream",
     "text": [
      "100%|██████████| 2047/2047 [00:54<00:00, 37.53it/s]\n"
     ]
    },
    {
     "name": "stdout",
     "output_type": "stream",
     "text": [
      "runtime =  54.555978775024414 sec\n",
      "expected remaining time =  1021 sec : 17 minute\n"
     ]
    },
    {
     "name": "stderr",
     "output_type": "stream",
     "text": [
      "\r",
      "  0%|          | 0/2047 [00:00<?, ?it/s]"
     ]
    },
    {
     "name": "stdout",
     "output_type": "stream",
     "text": [
      "current epoch :  181\n"
     ]
    },
    {
     "name": "stderr",
     "output_type": "stream",
     "text": [
      "100%|██████████| 2047/2047 [00:52<00:00, 39.08it/s]\n"
     ]
    },
    {
     "name": "stdout",
     "output_type": "stream",
     "text": [
      "runtime =  52.385721921920776 sec\n",
      "expected remaining time =  968 sec : 16 minute\n"
     ]
    },
    {
     "name": "stderr",
     "output_type": "stream",
     "text": [
      "\r",
      "  0%|          | 0/2047 [00:00<?, ?it/s]"
     ]
    },
    {
     "name": "stdout",
     "output_type": "stream",
     "text": [
      "current epoch :  182\n"
     ]
    },
    {
     "name": "stderr",
     "output_type": "stream",
     "text": [
      "100%|██████████| 2047/2047 [00:53<00:00, 38.07it/s]\n"
     ]
    },
    {
     "name": "stdout",
     "output_type": "stream",
     "text": [
      "runtime =  53.775893688201904 sec\n",
      "expected remaining time =  914 sec : 15 minute\n"
     ]
    },
    {
     "name": "stderr",
     "output_type": "stream",
     "text": [
      "\r",
      "  0%|          | 0/2047 [00:00<?, ?it/s]"
     ]
    },
    {
     "name": "stdout",
     "output_type": "stream",
     "text": [
      "current epoch :  183\n"
     ]
    },
    {
     "name": "stderr",
     "output_type": "stream",
     "text": [
      "100%|██████████| 2047/2047 [00:53<00:00, 38.60it/s]\n"
     ]
    },
    {
     "name": "stdout",
     "output_type": "stream",
     "text": [
      "runtime =  53.03929376602173 sec\n",
      "expected remaining time =  860 sec : 14 minute\n"
     ]
    },
    {
     "name": "stderr",
     "output_type": "stream",
     "text": [
      "\r",
      "  0%|          | 0/2047 [00:00<?, ?it/s]"
     ]
    },
    {
     "name": "stdout",
     "output_type": "stream",
     "text": [
      "current epoch :  184\n"
     ]
    },
    {
     "name": "stderr",
     "output_type": "stream",
     "text": [
      "100%|██████████| 2047/2047 [00:53<00:00, 38.55it/s]\n"
     ]
    },
    {
     "name": "stdout",
     "output_type": "stream",
     "text": [
      "runtime =  53.116087913513184 sec\n",
      "expected remaining time =  806 sec : 13 minute\n"
     ]
    },
    {
     "name": "stderr",
     "output_type": "stream",
     "text": [
      "\r",
      "  0%|          | 0/2047 [00:00<?, ?it/s]"
     ]
    },
    {
     "name": "stdout",
     "output_type": "stream",
     "text": [
      "current epoch :  185\n"
     ]
    },
    {
     "name": "stderr",
     "output_type": "stream",
     "text": [
      "100%|██████████| 2047/2047 [00:52<00:00, 38.69it/s]\n"
     ]
    },
    {
     "name": "stdout",
     "output_type": "stream",
     "text": [
      "runtime =  52.925132751464844 sec\n",
      "expected remaining time =  752 sec : 12 minute\n"
     ]
    },
    {
     "name": "stderr",
     "output_type": "stream",
     "text": [
      "\r",
      "  0%|          | 0/2047 [00:00<?, ?it/s]"
     ]
    },
    {
     "name": "stdout",
     "output_type": "stream",
     "text": [
      "current epoch :  186\n"
     ]
    },
    {
     "name": "stderr",
     "output_type": "stream",
     "text": [
      "100%|██████████| 2047/2047 [00:52<00:00, 39.22it/s]\n"
     ]
    },
    {
     "name": "stdout",
     "output_type": "stream",
     "text": [
      "runtime =  52.202178716659546 sec\n",
      "expected remaining time =  698 sec : 11 minute\n"
     ]
    },
    {
     "name": "stderr",
     "output_type": "stream",
     "text": [
      "\r",
      "  0%|          | 0/2047 [00:00<?, ?it/s]"
     ]
    },
    {
     "name": "stdout",
     "output_type": "stream",
     "text": [
      "current epoch :  187\n"
     ]
    },
    {
     "name": "stderr",
     "output_type": "stream",
     "text": [
      "100%|██████████| 2047/2047 [00:53<00:00, 38.12it/s]\n"
     ]
    },
    {
     "name": "stdout",
     "output_type": "stream",
     "text": [
      "runtime =  53.69845795631409 sec\n",
      "expected remaining time =  645 sec : 10 minute\n"
     ]
    },
    {
     "name": "stderr",
     "output_type": "stream",
     "text": [
      "\r",
      "  0%|          | 0/2047 [00:00<?, ?it/s]"
     ]
    },
    {
     "name": "stdout",
     "output_type": "stream",
     "text": [
      "current epoch :  188\n"
     ]
    },
    {
     "name": "stderr",
     "output_type": "stream",
     "text": [
      "100%|██████████| 2047/2047 [00:53<00:00, 38.09it/s]\n"
     ]
    },
    {
     "name": "stdout",
     "output_type": "stream",
     "text": [
      "runtime =  53.75487542152405 sec\n",
      "expected remaining time =  591 sec : 9 minute\n"
     ]
    },
    {
     "name": "stderr",
     "output_type": "stream",
     "text": [
      "\r",
      "  0%|          | 0/2047 [00:00<?, ?it/s]"
     ]
    },
    {
     "name": "stdout",
     "output_type": "stream",
     "text": [
      "current epoch :  189\n"
     ]
    },
    {
     "name": "stderr",
     "output_type": "stream",
     "text": [
      "100%|██████████| 2047/2047 [00:53<00:00, 38.24it/s]\n"
     ]
    },
    {
     "name": "stdout",
     "output_type": "stream",
     "text": [
      "runtime =  53.540772914886475 sec\n",
      "expected remaining time =  537 sec : 8 minute\n"
     ]
    },
    {
     "name": "stderr",
     "output_type": "stream",
     "text": [
      "\r",
      "  0%|          | 0/2047 [00:00<?, ?it/s]"
     ]
    },
    {
     "name": "stdout",
     "output_type": "stream",
     "text": [
      "current epoch :  190\n"
     ]
    },
    {
     "name": "stderr",
     "output_type": "stream",
     "text": [
      "100%|██████████| 2047/2047 [00:53<00:00, 38.21it/s]\n"
     ]
    },
    {
     "name": "stdout",
     "output_type": "stream",
     "text": [
      "runtime =  53.59064030647278 sec\n",
      "expected remaining time =  483 sec : 8 minute\n"
     ]
    },
    {
     "name": "stderr",
     "output_type": "stream",
     "text": [
      "\r",
      "  0%|          | 0/2047 [00:00<?, ?it/s]"
     ]
    },
    {
     "name": "stdout",
     "output_type": "stream",
     "text": [
      "current epoch :  191\n"
     ]
    },
    {
     "name": "stderr",
     "output_type": "stream",
     "text": [
      "100%|██████████| 2047/2047 [00:53<00:00, 38.42it/s]\n"
     ]
    },
    {
     "name": "stdout",
     "output_type": "stream",
     "text": [
      "runtime =  53.28841972351074 sec\n",
      "expected remaining time =  430 sec : 7 minute\n"
     ]
    },
    {
     "name": "stderr",
     "output_type": "stream",
     "text": [
      "\r",
      "  0%|          | 0/2047 [00:00<?, ?it/s]"
     ]
    },
    {
     "name": "stdout",
     "output_type": "stream",
     "text": [
      "current epoch :  192\n"
     ]
    },
    {
     "name": "stderr",
     "output_type": "stream",
     "text": [
      "100%|██████████| 2047/2047 [00:53<00:00, 38.38it/s]\n"
     ]
    },
    {
     "name": "stdout",
     "output_type": "stream",
     "text": [
      "runtime =  53.33629083633423 sec\n",
      "expected remaining time =  376 sec : 6 minute\n"
     ]
    },
    {
     "name": "stderr",
     "output_type": "stream",
     "text": [
      "\r",
      "  0%|          | 0/2047 [00:00<?, ?it/s]"
     ]
    },
    {
     "name": "stdout",
     "output_type": "stream",
     "text": [
      "current epoch :  193\n"
     ]
    },
    {
     "name": "stderr",
     "output_type": "stream",
     "text": [
      "100%|██████████| 2047/2047 [00:52<00:00, 38.75it/s]\n"
     ]
    },
    {
     "name": "stdout",
     "output_type": "stream",
     "text": [
      "runtime =  52.83329963684082 sec\n",
      "expected remaining time =  322 sec : 5 minute\n"
     ]
    },
    {
     "name": "stderr",
     "output_type": "stream",
     "text": [
      "\r",
      "  0%|          | 0/2047 [00:00<?, ?it/s]"
     ]
    },
    {
     "name": "stdout",
     "output_type": "stream",
     "text": [
      "current epoch :  194\n"
     ]
    },
    {
     "name": "stderr",
     "output_type": "stream",
     "text": [
      "100%|██████████| 2047/2047 [00:53<00:00, 38.11it/s]\n"
     ]
    },
    {
     "name": "stdout",
     "output_type": "stream",
     "text": [
      "runtime =  53.71681332588196 sec\n",
      "expected remaining time =  268 sec : 4 minute\n"
     ]
    },
    {
     "name": "stderr",
     "output_type": "stream",
     "text": [
      "\r",
      "  0%|          | 0/2047 [00:00<?, ?it/s]"
     ]
    },
    {
     "name": "stdout",
     "output_type": "stream",
     "text": [
      "current epoch :  195\n"
     ]
    },
    {
     "name": "stderr",
     "output_type": "stream",
     "text": [
      "100%|██████████| 2047/2047 [00:52<00:00, 38.77it/s]\n"
     ]
    },
    {
     "name": "stdout",
     "output_type": "stream",
     "text": [
      "runtime =  52.812968015670776 sec\n",
      "expected remaining time =  214 sec : 3 minute\n"
     ]
    },
    {
     "name": "stderr",
     "output_type": "stream",
     "text": [
      "\r",
      "  0%|          | 0/2047 [00:00<?, ?it/s]"
     ]
    },
    {
     "name": "stdout",
     "output_type": "stream",
     "text": [
      "current epoch :  196\n"
     ]
    },
    {
     "name": "stderr",
     "output_type": "stream",
     "text": [
      "100%|██████████| 2047/2047 [00:53<00:00, 38.48it/s]\n"
     ]
    },
    {
     "name": "stdout",
     "output_type": "stream",
     "text": [
      "runtime =  53.20714545249939 sec\n",
      "expected remaining time =  161 sec : 2 minute\n"
     ]
    },
    {
     "name": "stderr",
     "output_type": "stream",
     "text": [
      "\r",
      "  0%|          | 0/2047 [00:00<?, ?it/s]"
     ]
    },
    {
     "name": "stdout",
     "output_type": "stream",
     "text": [
      "current epoch :  197\n"
     ]
    },
    {
     "name": "stderr",
     "output_type": "stream",
     "text": [
      "100%|██████████| 2047/2047 [00:52<00:00, 39.14it/s]\n"
     ]
    },
    {
     "name": "stdout",
     "output_type": "stream",
     "text": [
      "runtime =  52.311509132385254 sec\n",
      "expected remaining time =  107 sec : 1 minute\n"
     ]
    },
    {
     "name": "stderr",
     "output_type": "stream",
     "text": [
      "\r",
      "  0%|          | 0/2047 [00:00<?, ?it/s]"
     ]
    },
    {
     "name": "stdout",
     "output_type": "stream",
     "text": [
      "current epoch :  198\n"
     ]
    },
    {
     "name": "stderr",
     "output_type": "stream",
     "text": [
      "100%|██████████| 2047/2047 [00:54<00:00, 37.68it/s]\n"
     ]
    },
    {
     "name": "stdout",
     "output_type": "stream",
     "text": [
      "runtime =  54.33315396308899 sec\n",
      "expected remaining time =  53 sec : 0 minute\n"
     ]
    },
    {
     "name": "stderr",
     "output_type": "stream",
     "text": [
      "\r",
      "  0%|          | 0/2047 [00:00<?, ?it/s]"
     ]
    },
    {
     "name": "stdout",
     "output_type": "stream",
     "text": [
      "current epoch :  199\n"
     ]
    },
    {
     "name": "stderr",
     "output_type": "stream",
     "text": [
      "100%|██████████| 2047/2047 [00:54<00:00, 37.89it/s]\n"
     ]
    },
    {
     "name": "stdout",
     "output_type": "stream",
     "text": [
      "runtime =  54.03066825866699 sec\n",
      "expected remaining time =  0 sec : 0 minute\n"
     ]
    }
   ],
   "source": [
    "import time\n",
    "\n",
    "total_time=0.0\n",
    "average_time=0.0\n",
    "iter_epoch=200\n",
    "\n",
    "\n",
    "for epoch in range(iter_epoch):\n",
    "    t_start =time.time()\n",
    "    print(\"current epoch : \",epoch)\n",
    "    train_dcgan(g,d,opt_g,opt_d,train_dataloader)\n",
    "    t_finish=time.time()\n",
    "    total_time+=t_finish-t_start\n",
    "    average_time=total_time/(epoch+1)\n",
    "    print(\"runtime = \",t_finish-t_start,\"sec\")\n",
    "    print(\"expected remaining time = \",int(average_time*(iter_epoch-(epoch+1))),\"sec\",\":\",int(average_time*(iter_epoch-(epoch+1))/60),\"minute\")\n",
    "    #gif_data.append(g(gif_z))\n",
    "    if epoch%1==0:\n",
    "        torch.save(g.state_dict(),\"./data/g_{:03d}.prm\".format(epoch),pickle_protocol=4)\n",
    "        torch.save(d.state_dict(),\"./data/d_{:03d}.prm\".format(epoch),pickle_protocol=4)\n",
    "        generated_img_tmp = g(fixed_z).to(\"cpu\")\n",
    "        generated_img = esrgan(generated_img_tmp)\n",
    "        #g = g.to(dev)\n",
    "        save_image(generated_img,\"./data/{:03d}.jpg\".format(epoch))\n",
    "        save_image(generated_img_tmp,\"./data2/{:03d}.jpg\".format(epoch))\n",
    "        del generated_img_tmp, generated_img\n",
    "\n",
    "\n",
    "files = sorted(glob('./data/*.jpg'))  \n",
    "images = list(map(lambda file : Image.open(file) , files))\n",
    "images[0].save('generating_process.gif' , save_all = True , append_images = images[1:] , duration = 200 , loop = 0)"
   ]
  },
  {
   "cell_type": "code",
   "execution_count": null,
   "id": "50536e41",
   "metadata": {},
   "outputs": [],
   "source": []
  },
  {
   "cell_type": "code",
   "execution_count": null,
   "id": "5e8bccfd",
   "metadata": {},
   "outputs": [],
   "source": []
  },
  {
   "cell_type": "code",
   "execution_count": null,
   "id": "28270712",
   "metadata": {},
   "outputs": [],
   "source": []
  },
  {
   "cell_type": "code",
   "execution_count": null,
   "id": "50f80b67",
   "metadata": {},
   "outputs": [],
   "source": []
  },
  {
   "cell_type": "code",
   "execution_count": null,
   "id": "bec8ada5",
   "metadata": {},
   "outputs": [],
   "source": []
  },
  {
   "cell_type": "code",
   "execution_count": null,
   "id": "f3cfe7ff",
   "metadata": {},
   "outputs": [],
   "source": []
  },
  {
   "cell_type": "code",
   "execution_count": null,
   "id": "f73696d9",
   "metadata": {},
   "outputs": [],
   "source": []
  },
  {
   "cell_type": "code",
   "execution_count": null,
   "id": "4585b7aa",
   "metadata": {},
   "outputs": [],
   "source": []
  },
  {
   "cell_type": "code",
   "execution_count": null,
   "id": "75215bfb",
   "metadata": {},
   "outputs": [],
   "source": []
  },
  {
   "cell_type": "code",
   "execution_count": null,
   "id": "64b5e1c0",
   "metadata": {},
   "outputs": [],
   "source": [
    "#del esrgan"
   ]
  },
  {
   "cell_type": "code",
   "execution_count": null,
   "id": "3309421e",
   "metadata": {},
   "outputs": [],
   "source": [
    "#esrgan = GeneratorRRDB(3, filters = 64, num_res_blocks = 17).to(\"cuda:0\")\n",
    "#esrgan.load_state_dict(torch.load(\"./params/generator_00101000.pth\"))"
   ]
  },
  {
   "cell_type": "code",
   "execution_count": null,
   "id": "b28c000c",
   "metadata": {},
   "outputs": [],
   "source": [
    "batch_size = 64\n",
    "dev = \"cuda:0\""
   ]
  },
  {
   "cell_type": "code",
   "execution_count": null,
   "id": "e74f77ec",
   "metadata": {},
   "outputs": [],
   "source": [
    "nz = 100\n",
    "ngf = 32\n",
    "class GNet(nn.Module):\n",
    "    def __init__(self):\n",
    "        super().__init__()\n",
    "        self.main = nn.Sequential(\n",
    "            nn.ConvTranspose2d(nz,ngf*4,4,1,0,bias=False),\n",
    "            nn.BatchNorm2d(ngf*4),\n",
    "            nn.ReLU(inplace=True),\n",
    "            nn.ConvTranspose2d(ngf*4,ngf*2,4,2,1,bias=False),\n",
    "            nn.BatchNorm2d(ngf*2),\n",
    "            nn.ReLU(inplace=True),\n",
    "            nn.ConvTranspose2d(ngf*2,ngf*1,4,2,1,bias=False),\n",
    "            nn.BatchNorm2d(ngf*1),\n",
    "            nn.ReLU(inplace=True),\n",
    "            nn.ConvTranspose2d(ngf*1,3,4,2,1,bias=True),\n",
    "            nn.Tanh()\n",
    "            )\n",
    "\n",
    "    def forward(self,x):\n",
    "        out = self.main(x)\n",
    "        return out"
   ]
  },
  {
   "cell_type": "code",
   "execution_count": null,
   "id": "728de1c1",
   "metadata": {},
   "outputs": [],
   "source": [
    "ndf=32\n",
    "#(3,64,64)\n",
    "class DNet(nn.Module):\n",
    "    def __init__(self):\n",
    "        super().__init__()\n",
    "        self.main = nn.Sequential(\n",
    "            nn.Conv2d(3,ndf,4,2,1,bias=False),\n",
    "            nn.LeakyReLU(0.2,inplace=True),\n",
    "            nn.Conv2d(ndf,ndf*2,4,2,1,bias=False),\n",
    "            nn.BatchNorm2d(ndf*2),\n",
    "            nn.LeakyReLU(0.2,inplace=True),\n",
    "            nn.Conv2d(ndf*2,ndf*4,4,2,1,bias=False),\n",
    "            nn.BatchNorm2d(ndf*4),\n",
    "            nn.LeakyReLU(0.2,inplace=True),\n",
    "            nn.Conv2d(ndf*4,ndf*8,4,2,1,bias=False),\n",
    "            nn.BatchNorm2d(ndf*8),\n",
    "            nn.LeakyReLU(0.2,inplace=True),###\n",
    "            nn.Conv2d(ndf*8,ndf*8,4,2,1,bias=False),\n",
    "            nn.BatchNorm2d(ndf*8),\n",
    "            nn.LeakyReLU(0.2,inplace=True),\n",
    "            nn.Conv2d(ndf*8,1,4,1,0,bias=True)\n",
    "            )\n",
    "\n",
    "    def forward(self,x):\n",
    "        out = self.main(x)\n",
    "        return out.squeeze()\n",
    "    \n",
    "d = DNet().to(dev)\n",
    "g = GNet().to(dev)\n",
    "\n",
    "opt_d = optim.Adam(d.parameters(),lr=0.0002,betas=(0.5,0.999))\n",
    "opt_g = optim.Adam(g.parameters(),lr=0.0002,betas=(0.5,0.999))\n",
    "\n",
    "ones = torch.ones(batch_size).to(dev)\n",
    "zeros = torch.zeros(batch_size).to(dev)\n",
    "\n",
    "loss_f = nn.BCEWithLogitsLoss()\n",
    "\n",
    "fixed_z = torch.randn(8,nz,1,1).to(dev)\n",
    "#gif_z = torch.randn(1,nz,1,1).to(dev)"
   ]
  },
  {
   "cell_type": "code",
   "execution_count": null,
   "id": "40f5d776",
   "metadata": {},
   "outputs": [],
   "source": []
  },
  {
   "cell_type": "code",
   "execution_count": null,
   "id": "e4d1de99",
   "metadata": {},
   "outputs": [],
   "source": [
    "def train_dcgan(g,d,opt_g,opt_d,loader):\n",
    "    #log_loss_g = []\n",
    "    #log_loss_d = []\n",
    "    \n",
    "    for real_img in tqdm(loader):\n",
    "        #real_lr = real_img[\"lr\"]\n",
    "        real_hr = real_img[\"hr\"]\n",
    "        batch_len = len(real_hr)\n",
    "        #print(real_img.size())\n",
    "        real_hr = real_hr.to(dev)\n",
    "        z = torch.randn(batch_len,nz,1,1).to(dev)\n",
    "        #------------------------------------------------------------------------------------------------------------------\n",
    "        fake_img = esrgan.generator(g(z))                                                         #フェイクイメージの作成\n",
    "        fake_img_tensor = fake_img.detach()                  #フェイクイメージを計算グラフから分離\n",
    "        out = d.forward(fake_img)                                      #フェイクイメージの判定\n",
    "        loss_g = loss_f(out, ones[:batch_len])                 #フェイク画像の損失計算 as 本物\n",
    "        #log_loss_g.append(loss_g.item())                        #\n",
    "        d.zero_grad() , g.zero_grad()                               #勾配初期化\n",
    "        loss_g.backward()                                                  #生成機の逆伝搬\n",
    "        opt_g.step()                                                           #生成機の更新\n",
    "        #------------------------------------------------------------------------------------------------------------------\n",
    "        real_out = d.forward(real_hr)                                       #本物画像の判定\n",
    "        loss_d_real = loss_f(real_out,ones[:batch_len])         #本物画像の損失計算\n",
    "\n",
    "        fake_img = fake_img_tensor                                          #\n",
    "        fake_out = d.forward(fake_img_tensor)                      #\n",
    "        loss_d_fake = loss_f(fake_out, zeros[:batch_len])    #フェイク画像の損失計算 as フェイク\n",
    "\n",
    "        loss_d = loss_d_real + loss_d_fake\n",
    "        #log_loss_d.append(loss_d.item())\n",
    "        d.zero_grad(),g.zero_grad()                                         #勾配初期化\n",
    "        loss_d.backward()                                                          #判別機の逆伝搬\n",
    "        opt_d.step()                                                                   #判別機の更新\n",
    "        #------------------------------------------------------------------------------------------------------------------\n",
    "    return loss_g,loss_d"
   ]
  },
  {
   "cell_type": "code",
   "execution_count": null,
   "id": "0281bf6d",
   "metadata": {},
   "outputs": [],
   "source": [
    "if not os.path.exists(\"data-test\"):\n",
    "    os.mkdir(\"data-test\")\n",
    "if not os.path.exists(\"data2-test\"):\n",
    "    os.mkdir(\"data2-test\")"
   ]
  },
  {
   "cell_type": "code",
   "execution_count": null,
   "id": "e84ba470",
   "metadata": {},
   "outputs": [],
   "source": [
    "import time\n",
    "\n",
    "total_time=0.0\n",
    "average_time=0.0\n",
    "iter_epoch=200\n",
    "\n",
    "\n",
    "for epoch in range(iter_epoch):\n",
    "    t_start =time.time()\n",
    "    print(\"current epoch : \",epoch)\n",
    "    train_dcgan(g,d,opt_g,opt_d,train_dataloader)\n",
    "    t_finish=time.time()\n",
    "    total_time+=t_finish-t_start\n",
    "    average_time=total_time/(epoch+1)\n",
    "    print(\"runtime = \",t_finish-t_start,\"sec\")\n",
    "    print(\"expected remaining time = \",int(average_time*(iter_epoch-(epoch+1))),\"sec\",\":\",int(average_time*(iter_epoch-(epoch+1))/60),\"minute\")\n",
    "    #gif_data.append(g(gif_z))\n",
    "    if epoch%1==0:\n",
    "        torch.save(g.state_dict(),\"./data-test/g_{:03d}.prm\".format(epoch),pickle_protocol=4)\n",
    "        torch.save(d.state_dict(),\"./data-test/d_{:03d}.prm\".format(epoch),pickle_protocol=4)\n",
    "        generated_img = esrgan.generator(g(fixed_z))\n",
    "        #generated_img = esrgan.generator(generated_img_tmp)\n",
    "        #g = g.to(dev)\n",
    "        save_image(generated_img,\"./data-test/{:03d}.jpg\".format(epoch))\n",
    "        #save_image(generated_img_tmp,\"./data2-test/{:03d}.jpg\".format(epoch))\n",
    "        del generated_img\n",
    "\n",
    "\n",
    "files = sorted(glob('./data-test/*.jpg'))  \n",
    "images = list(map(lambda file : Image.open(file) , files))\n",
    "images[0].save('generating_process2.gif' , save_all = True , append_images = images[1:] , duration = 200 , loop = 0)"
   ]
  },
  {
   "cell_type": "code",
   "execution_count": null,
   "id": "578d9abc",
   "metadata": {},
   "outputs": [],
   "source": []
  },
  {
   "cell_type": "code",
   "execution_count": null,
   "id": "97d82657",
   "metadata": {},
   "outputs": [],
   "source": []
  },
  {
   "cell_type": "code",
   "execution_count": null,
   "id": "63172213",
   "metadata": {},
   "outputs": [],
   "source": []
  }
 ],
 "metadata": {
  "kernelspec": {
   "display_name": "Python 3",
   "language": "python",
   "name": "python3"
  },
  "language_info": {
   "codemirror_mode": {
    "name": "ipython",
    "version": 3
   },
   "file_extension": ".py",
   "mimetype": "text/x-python",
   "name": "python",
   "nbconvert_exporter": "python",
   "pygments_lexer": "ipython3",
   "version": "3.8.3"
  }
 },
 "nbformat": 4,
 "nbformat_minor": 5
}

{
 "cells": [
  {
   "cell_type": "code",
   "execution_count": 1,
   "id": "e1cf8d87-f772-447b-a039-8a3b62d6ba88",
   "metadata": {},
   "outputs": [],
   "source": [
    "import torch\n",
    "from torch import nn,optim\n",
    "from torch.utils.data import Dataset,TensorDataset,DataLoader\n",
    "import tqdm\n",
    "\n",
    "import numpy as np\n",
    "\n",
    "from torchvision.datasets import ImageFolder\n",
    "from torchvision import transforms\n",
    "from torchvision.utils import save_image\n",
    "import time"
   ]
  },
  {
   "cell_type": "markdown",
   "id": "45538953-b14f-450a-b720-a7395b81c9bd",
   "metadata": {},
   "source": [
    "### imageの準備"
   ]
  },
  {
   "cell_type": "code",
   "execution_count": null,
   "id": "a1b477d5-7972-4bab-8d46-86cfa603f4ad",
   "metadata": {},
   "outputs": [],
   "source": [
    "!wget http://www.robots.ox.ac.uk/~vgg/data/flowers/102/102flowers.tgz\n",
    "!tar xf 102flowers.tgz\n",
    "!mkdir oxford-102\n",
    "!mkdir oxford-102/jpg\n",
    "!mv jpg/*.jpg oxford-102/jpg"
   ]
  },
  {
   "cell_type": "code",
   "execution_count": 2,
   "id": "cc077f52-9e57-45fb-80c4-e4144ba49665",
   "metadata": {},
   "outputs": [],
   "source": [
    "img_data=ImageFolder(\"./oxford-102/\",\n",
    "                     transform=transforms.Compose([transforms.Resize(80),transforms.CenterCrop(64),transforms.ToTensor()]))\n",
    "batch_size=64\n",
    "img_loader=DataLoader(img_data,batch_size=batch_size,shuffle=True)"
   ]
  },
  {
   "cell_type": "markdown",
   "id": "b115f28e-3857-4b1e-b3f1-90fe02ecf272",
   "metadata": {
    "tags": []
   },
   "source": [
    "### GnetとDnetの定義"
   ]
  },
  {
   "cell_type": "code",
   "execution_count": 3,
   "id": "d6f0ddd1-c995-4813-8930-15aa42d7bedb",
   "metadata": {},
   "outputs": [],
   "source": [
    "nz=100\n",
    "ngf=32\n",
    "\n",
    "class GNet(nn.Module):\n",
    "    def __init__(self):\n",
    "        super().__init__()\n",
    "        self.main=nn.Sequential(\n",
    "            nn.ConvTranspose2d(nz,ngf*8,4,1,0,bias=False),\n",
    "            nn.BatchNorm2d(ngf*8),\n",
    "            nn.ReLU(inplace=True),\n",
    "            nn.ConvTranspose2d(ngf*8,ngf*4,4,2,1,bias=False),\n",
    "            nn.BatchNorm2d(ngf*4),\n",
    "            nn.ReLU(inplace=True),\n",
    "            nn.ConvTranspose2d(ngf*4,ngf*2,4,2,1,bias=False),\n",
    "            nn.BatchNorm2d(ngf*2),\n",
    "            nn.ReLU(inplace=True),\n",
    "            nn.ConvTranspose2d(ngf*2,ngf*1,4,2,1,bias=False),\n",
    "            nn.BatchNorm2d(ngf*1),\n",
    "            nn.ReLU(inplace=True),\n",
    "            nn.ConvTranspose2d(ngf*1,3,4,2,1,bias=True),\n",
    "            nn.Tanh()\n",
    "            )\n",
    "\n",
    "    def forward(self,x):\n",
    "        out=self.main(x)\n",
    "        return out"
   ]
  },
  {
   "cell_type": "code",
   "execution_count": 4,
   "id": "5d042fdc-262d-4fc2-96f6-fde8d6767eb4",
   "metadata": {},
   "outputs": [],
   "source": [
    "ndf=32\n",
    "\n",
    "class DNet(nn.Module):\n",
    "    def __init__(self):\n",
    "        super().__init__()\n",
    "        self.main=nn.Sequential(\n",
    "            nn.Conv2d(3,ndf,4,2,1,bias=False),\n",
    "            nn.LeakyReLU(0.2,inplace=True),\n",
    "            nn.Conv2d(ndf,ndf*2,4,2,1,bias=False),\n",
    "            nn.BatchNorm2d(ndf*2),\n",
    "            nn.LeakyReLU(0.2,inplace=True),\n",
    "            nn.Conv2d(ndf*2,ndf*4,4,2,1,bias=False),\n",
    "            nn.BatchNorm2d(ndf*4),\n",
    "            nn.LeakyReLU(0.2,inplace=True),\n",
    "            nn.Conv2d(ndf*4,ndf*8,4,2,1,bias=False),\n",
    "            nn.BatchNorm2d(ndf*8),\n",
    "            nn.LeakyReLU(0.2,inplace=True),\n",
    "            nn.Conv2d(ndf*8,1,4,1,0,bias=True)\n",
    "            )\n",
    "\n",
    "    def forward(self,x):\n",
    "        out=self.main(x)\n",
    "        return out.squeeze()"
   ]
  },
  {
   "cell_type": "code",
   "execution_count": 5,
   "id": "830b5741-8f24-4dec-ab8b-65ed7b905dcd",
   "metadata": {},
   "outputs": [],
   "source": [
    "d=DNet().to(\"cuda:0\")\n",
    "g=GNet().to(\"cuda:0\")\n",
    "\n",
    "opt_d=optim.Adam(d.parameters(),lr=0.0002,betas=(0.5,0.999))\n",
    "opt_g=optim.Adam(g.parameters(),lr=0.0002,betas=(0.5,0.999))\n",
    "\n",
    "ones=torch.ones(batch_size).to(\"cuda:0\")\n",
    "zeros=torch.zeros(batch_size).to(\"cuda:0\")\n",
    "\n",
    "loss_f=nn.BCEWithLogitsLoss()\n",
    "\n",
    "fixed_z = torch.randn(batch_size,nz,1,1).to(\"cuda:0\")\n",
    "gif_z = torch.randn(1,nz,1,1).to(\"cuda:0\")"
   ]
  },
  {
   "cell_type": "markdown",
   "id": "9490ca48-2b15-4552-98d9-5c21fd7c4672",
   "metadata": {},
   "source": [
    "### 訓練関数の定義"
   ]
  },
  {
   "cell_type": "code",
   "execution_count": 6,
   "id": "fb6b3bbd-8375-433f-af8c-a28680dbe385",
   "metadata": {},
   "outputs": [],
   "source": [
    "from statistics import mean\n",
    "\n",
    "def train_dcgan(g,d,opt_g,opt_d,loader):\n",
    "    log_loss_g=[]\n",
    "    log_loss_d=[]\n",
    "    for real_img,_ in tqdm.tqdm(loader):\n",
    "        batch_len=len(real_img)\n",
    "        real_img=real_img.to(\"cuda:0\")\n",
    "        z=torch.randn(batch_len,nz,1,1).to(\"cuda:0\")\n",
    "        #fake_img=g.forward(z)\n",
    "        fake_img=g(z)\n",
    "        fake_img_tensor=fake_img.detach()\n",
    "        out=d.forward(fake_img)\n",
    "        loss_g=loss_f(out,ones[:batch_len])\n",
    "        log_loss_g.append(loss_g.item())\n",
    "        d.zero_grad(),g.zero_grad()\n",
    "        loss_g.backward()\n",
    "        opt_g.step()\n",
    "        real_out=d.forward(real_img)\n",
    "        loss_d_real=loss_f(real_out,ones[:batch_len])\n",
    "\n",
    "        fake_img=fake_img_tensor\n",
    "        fake_out=d.forward(fake_img_tensor)\n",
    "        loss_d_fake=loss_f(fake_out,zeros[:batch_len])\n",
    "\n",
    "        loss_d=loss_d_real+loss_d_fake\n",
    "        log_loss_d.append(loss_d.item())\n",
    "        d.zero_grad(),g.zero_grad()\n",
    "        loss_d.backward()\n",
    "        opt_d.step()\n",
    "\n",
    "    return mean(log_loss_g),mean(log_loss_d)"
   ]
  },
  {
   "cell_type": "markdown",
   "id": "16d5f3ae-fa76-4064-9a36-471510531db2",
   "metadata": {},
   "source": [
    "### 訓練開始"
   ]
  },
  {
   "cell_type": "code",
   "execution_count": 7,
   "id": "8d2f7585-ce94-4f0d-87e6-36626bdd625d",
   "metadata": {},
   "outputs": [],
   "source": [
    "import os\n",
    "if not os.path.exists(\"data\"):\n",
    "    os.mkdir(\"data\")"
   ]
  },
  {
   "cell_type": "code",
   "execution_count": 8,
   "id": "9dcb1e2d-58c2-411c-bca8-9987906203cf",
   "metadata": {},
   "outputs": [
    {
     "name": "stderr",
     "output_type": "stream",
     "text": [
      "\r",
      "  0%|          | 0/128 [00:00<?, ?it/s]"
     ]
    },
    {
     "name": "stdout",
     "output_type": "stream",
     "text": [
      "0\n"
     ]
    },
    {
     "name": "stderr",
     "output_type": "stream",
     "text": [
      "100%|██████████| 128/128 [00:37<00:00,  3.44it/s]\n",
      "  0%|          | 0/128 [00:00<?, ?it/s]"
     ]
    },
    {
     "name": "stdout",
     "output_type": "stream",
     "text": [
      "runtime =  37.24352288246155 sec\n",
      "expected remaining time =  707.6269347667694 sec : 11.793782246112823 minute\n",
      "1\n"
     ]
    },
    {
     "name": "stderr",
     "output_type": "stream",
     "text": [
      "100%|██████████| 128/128 [00:37<00:00,  3.41it/s]\n",
      "  0%|          | 0/128 [00:00<?, ?it/s]"
     ]
    },
    {
     "name": "stdout",
     "output_type": "stream",
     "text": [
      "runtime =  37.55651092529297 sec\n",
      "expected remaining time =  673.2003042697906 sec : 11.220005071163177 minute\n",
      "2\n"
     ]
    },
    {
     "name": "stderr",
     "output_type": "stream",
     "text": [
      "100%|██████████| 128/128 [00:36<00:00,  3.47it/s]\n",
      "  0%|          | 0/128 [00:00<?, ?it/s]"
     ]
    },
    {
     "name": "stdout",
     "output_type": "stream",
     "text": [
      "runtime =  36.93696999549866 sec\n",
      "expected remaining time =  633.1763548851013 sec : 10.552939248085021 minute\n",
      "3\n"
     ]
    },
    {
     "name": "stderr",
     "output_type": "stream",
     "text": [
      "100%|██████████| 128/128 [00:37<00:00,  3.37it/s]\n",
      "  0%|          | 0/128 [00:00<?, ?it/s]"
     ]
    },
    {
     "name": "stdout",
     "output_type": "stream",
     "text": [
      "runtime =  37.97810935974121 sec\n",
      "expected remaining time =  598.8604526519775 sec : 9.981007544199626 minute\n",
      "4\n"
     ]
    },
    {
     "name": "stderr",
     "output_type": "stream",
     "text": [
      "100%|██████████| 128/128 [00:36<00:00,  3.51it/s]\n",
      "  0%|          | 0/128 [00:00<?, ?it/s]"
     ]
    },
    {
     "name": "stdout",
     "output_type": "stream",
     "text": [
      "runtime =  36.45678663253784 sec\n",
      "expected remaining time =  558.5156993865967 sec : 9.308594989776612 minute\n",
      "5\n"
     ]
    },
    {
     "name": "stderr",
     "output_type": "stream",
     "text": [
      "100%|██████████| 128/128 [00:36<00:00,  3.48it/s]\n",
      "  0%|          | 0/128 [00:00<?, ?it/s]"
     ]
    },
    {
     "name": "stdout",
     "output_type": "stream",
     "text": [
      "runtime =  36.74644184112549 sec\n",
      "expected remaining time =  520.1427971522014 sec : 8.669046619203357 minute\n",
      "6\n"
     ]
    },
    {
     "name": "stderr",
     "output_type": "stream",
     "text": [
      "100%|██████████| 128/128 [00:37<00:00,  3.42it/s]\n",
      "  0%|          | 0/128 [00:00<?, ?it/s]"
     ]
    },
    {
     "name": "stdout",
     "output_type": "stream",
     "text": [
      "runtime =  37.4828155040741 sec\n",
      "expected remaining time =  483.60214897564475 sec : 8.060035816260745 minute\n",
      "7\n"
     ]
    },
    {
     "name": "stderr",
     "output_type": "stream",
     "text": [
      "100%|██████████| 128/128 [00:37<00:00,  3.43it/s]\n",
      "  0%|          | 0/128 [00:00<?, ?it/s]"
     ]
    },
    {
     "name": "stdout",
     "output_type": "stream",
     "text": [
      "runtime =  37.269736528396606 sec\n",
      "expected remaining time =  446.5063405036926 sec : 7.4417723417282104 minute\n",
      "8\n"
     ]
    },
    {
     "name": "stderr",
     "output_type": "stream",
     "text": [
      "100%|██████████| 128/128 [00:37<00:00,  3.40it/s]\n",
      "  0%|          | 0/128 [00:00<?, ?it/s]"
     ]
    },
    {
     "name": "stdout",
     "output_type": "stream",
     "text": [
      "runtime =  37.65589785575867 sec\n",
      "expected remaining time =  409.8438563081953 sec : 6.830730938469922 minute\n",
      "9\n"
     ]
    },
    {
     "name": "stderr",
     "output_type": "stream",
     "text": [
      "100%|██████████| 128/128 [00:38<00:00,  3.33it/s]\n",
      "  0%|          | 0/128 [00:00<?, ?it/s]"
     ]
    },
    {
     "name": "stdout",
     "output_type": "stream",
     "text": [
      "runtime =  38.4677050113678 sec\n",
      "expected remaining time =  373.7944965362549 sec : 6.229908275604248 minute\n",
      "10\n"
     ]
    },
    {
     "name": "stderr",
     "output_type": "stream",
     "text": [
      "100%|██████████| 128/128 [00:37<00:00,  3.39it/s]\n",
      "  0%|          | 0/128 [00:00<?, ?it/s]"
     ]
    },
    {
     "name": "stdout",
     "output_type": "stream",
     "text": [
      "runtime =  37.70982599258423 sec\n",
      "expected remaining time =  336.6853547963229 sec : 5.611422579938715 minute\n",
      "11\n"
     ]
    },
    {
     "name": "stderr",
     "output_type": "stream",
     "text": [
      "100%|██████████| 128/128 [00:37<00:00,  3.37it/s]\n",
      "  0%|          | 0/128 [00:00<?, ?it/s]"
     ]
    },
    {
     "name": "stdout",
     "output_type": "stream",
     "text": [
      "runtime =  37.97668123245239 sec\n",
      "expected remaining time =  299.65400250752765 sec : 4.994233375125461 minute\n",
      "12\n"
     ]
    },
    {
     "name": "stderr",
     "output_type": "stream",
     "text": [
      "100%|██████████| 128/128 [00:38<00:00,  3.30it/s]\n",
      "  0%|          | 0/128 [00:00<?, ?it/s]"
     ]
    },
    {
     "name": "stdout",
     "output_type": "stream",
     "text": [
      "runtime =  38.73290538787842 sec\n",
      "expected remaining time =  262.8844126187838 sec : 4.38140687697973 minute\n",
      "13\n"
     ]
    },
    {
     "name": "stderr",
     "output_type": "stream",
     "text": [
      "100%|██████████| 128/128 [00:37<00:00,  3.39it/s]\n",
      "  0%|          | 0/128 [00:00<?, ?it/s]"
     ]
    },
    {
     "name": "stdout",
     "output_type": "stream",
     "text": [
      "runtime =  37.71685838699341 sec\n",
      "expected remaining time =  225.39890037264144 sec : 3.7566483395440238 minute\n",
      "14\n"
     ]
    },
    {
     "name": "stderr",
     "output_type": "stream",
     "text": [
      "100%|██████████| 128/128 [00:38<00:00,  3.35it/s]\n",
      "  0%|          | 0/128 [00:00<?, ?it/s]"
     ]
    },
    {
     "name": "stdout",
     "output_type": "stream",
     "text": [
      "runtime =  38.17392015457153 sec\n",
      "expected remaining time =  188.03489589691162 sec : 3.1339149316151937 minute\n",
      "15\n"
     ]
    },
    {
     "name": "stderr",
     "output_type": "stream",
     "text": [
      "100%|██████████| 128/128 [00:36<00:00,  3.47it/s]\n",
      "  0%|          | 0/128 [00:00<?, ?it/s]"
     ]
    },
    {
     "name": "stdout",
     "output_type": "stream",
     "text": [
      "runtime =  36.88469624519348 sec\n",
      "expected remaining time =  150.2473459839821 sec : 2.5041224330663683 minute\n",
      "16\n"
     ]
    },
    {
     "name": "stderr",
     "output_type": "stream",
     "text": [
      "100%|██████████| 128/128 [00:38<00:00,  3.34it/s]\n",
      "  0%|          | 0/128 [00:00<?, ?it/s]"
     ]
    },
    {
     "name": "stdout",
     "output_type": "stream",
     "text": [
      "runtime =  38.2865355014801 sec\n",
      "expected remaining time =  112.81339754777795 sec : 1.8802232924629658 minute\n",
      "17\n"
     ]
    },
    {
     "name": "stderr",
     "output_type": "stream",
     "text": [
      "100%|██████████| 128/128 [00:37<00:00,  3.38it/s]\n",
      "  0%|          | 0/128 [00:00<?, ?it/s]"
     ]
    },
    {
     "name": "stdout",
     "output_type": "stream",
     "text": [
      "runtime =  37.87758946418762 sec\n",
      "expected remaining time =  75.23927876684401 sec : 1.2539879794474003 minute\n",
      "18\n"
     ]
    },
    {
     "name": "stderr",
     "output_type": "stream",
     "text": [
      "100%|██████████| 128/128 [00:37<00:00,  3.44it/s]\n",
      "  0%|          | 0/128 [00:00<?, ?it/s]"
     ]
    },
    {
     "name": "stdout",
     "output_type": "stream",
     "text": [
      "runtime =  37.200682163238525 sec\n",
      "expected remaining time =  37.597589003412345 sec : 0.6266264833902058 minute\n",
      "19\n"
     ]
    },
    {
     "name": "stderr",
     "output_type": "stream",
     "text": [
      "100%|██████████| 128/128 [00:36<00:00,  3.49it/s]"
     ]
    },
    {
     "name": "stdout",
     "output_type": "stream",
     "text": [
      "runtime =  36.698503255844116 sec\n",
      "expected remaining time =  0.0 sec : 0.0 minute\n"
     ]
    },
    {
     "name": "stderr",
     "output_type": "stream",
     "text": [
      "\n"
     ]
    }
   ],
   "source": [
    "total_time=0.0\n",
    "average_time=0.0\n",
    "iter_epoch=20\n",
    "\n",
    "gif_data = []\n",
    "\n",
    "for epoch in range(iter_epoch):\n",
    "    t_start=time.time()\n",
    "    print(epoch)\n",
    "    train_dcgan(g,d,opt_g,opt_d,img_loader)\n",
    "    t_finish=time.time()\n",
    "    total_time+=t_finish-t_start\n",
    "    average_time=total_time/(epoch+1)\n",
    "    print(\"runtime = \",t_finish-t_start,\"sec\")\n",
    "    print(\"expected remaining time = \",average_time*(iter_epoch-(epoch+1)),\"sec\",\":\",average_time*(iter_epoch-(epoch+1))/60,\"minute\")\n",
    "    gif_data.append(g(gif_z))\n",
    "    if epoch%10==0:\n",
    "        torch.save(g.state_dict(),\"./data/g_{:03d}.prm\".format(epoch),pickle_protocol=4)\n",
    "        torch.save(d.state_dict(),\"./data/d_{:03d}.prm\".format(epoch),pickle_protocol=4)\n",
    "        generated_img=g(fixed_z)\n",
    "        save_image(generated_img,\"./data/{:03d}.jpg\".format(epoch))"
   ]
  },
  {
   "cell_type": "code",
   "execution_count": null,
   "id": "56fa3915",
   "metadata": {},
   "outputs": [],
   "source": []
  },
  {
   "cell_type": "code",
   "execution_count": null,
   "id": "a014cc9b",
   "metadata": {},
   "outputs": [],
   "source": [
    "for image in frames[i]:\n",
    "                             ims[i].append([plt.imshow(np.asnumpy(image), animated=True)])\n",
    "                            ani = animation.ArtistAnimation(fig, ims[i], interval=50, blit=True,repeat_delay=1000)\n",
    "                            ani.save(\"./result/\"+f'{i}_{elapsed_episode[i]:03}.gif', writer=\"imagemagick\")"
   ]
  },
  {
   "cell_type": "code",
   "execution_count": 12,
   "id": "5682ca67",
   "metadata": {},
   "outputs": [
    {
     "name": "stderr",
     "output_type": "stream",
     "text": [
      "MovieWriter imagemagick unavailable; using Pillow instead.\n"
     ]
    },
    {
     "data": {
      "image/png": "[encoded data removed]",
      "text/plain": [
       "<Figure size 432x288 with 1 Axes>"
      ]
     },
     "metadata": {
      "needs_background": "light"
     },
     "output_type": "display_data"
    }
   ],
   "source": [
    "import matplotlib.pyplot as plt\n",
    "import matplotlib.animation as animation\n",
    "\n",
    "ims = []\n",
    "fig = plt.figure()\n",
    "\n",
    "for image in gif_data:\n",
    "    ims.append([plt.imshow(image[0][0].to('cpu').detach().numpy().copy(), animated=True)])\n",
    "ani = animation.ArtistAnimation(fig, ims, interval=50, blit=True,repeat_delay=1000)\n",
    "ani.save(\"./\"+f'generation_process.gif', writer=\"imagemagick\")"
   ]
  },
  {
   "cell_type": "code",
   "execution_count": null,
   "id": "4e2ebb1f",
   "metadata": {},
   "outputs": [],
   "source": []
  }
 ],
 "metadata": {
  "kernelspec": {
   "display_name": "Python 3",
   "language": "python",
   "name": "python3"
  },
  "language_info": {
   "codemirror_mode": {
    "name": "ipython",
    "version": 3
   },
   "file_extension": ".py",
   "mimetype": "text/x-python",
   "name": "python",
   "nbconvert_exporter": "python",
   "pygments_lexer": "ipython3",
   "version": "3.8.3"
  }
 },
 "nbformat": 4,
 "nbformat_minor": 5
}
